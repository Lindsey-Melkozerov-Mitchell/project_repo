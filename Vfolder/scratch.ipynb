{
 "cells": [
  {
   "cell_type": "code",
   "execution_count": 3,
   "metadata": {},
   "outputs": [],
   "source": [
    "import os\n",
    "import json\n",
    "from typing import Dict, List, Optional, Union, cast\n",
    "import requests\n",
    "import pandas as pd\n",
    "import numpy as np\n",
    "import acquire1\n",
    "import re\n",
    "import unicodedata\n",
    "import nltk\n",
    "from nltk.tokenize.toktok import ToktokTokenizer\n",
    "from nltk.corpus import stopwords\n",
    "\n",
    "from env import github_token, github_username\n"
   ]
  },
  {
   "cell_type": "markdown",
   "metadata": {},
   "source": [
    "From reading the script documentation it seems that the acquire is taken care of and pulls in a JSON data file that hold all of the data.\n",
    "\n",
    "From here I will need to import the results and see what I can do with them\n",
    "\n",
    "In reviewing the material inside of the JSON file I am going to need to declutter the script.\n",
    "- There are many free floating characters present \n",
    "- Turn this clean data into a pandas dataframe\n",
    "\n",
    "<a href=\"https://ds.codeup.com/nlp/explore/\">This chapter</a>"
   ]
  },
  {
   "cell_type": "code",
   "execution_count": 4,
   "metadata": {},
   "outputs": [
    {
     "data": {
      "text/html": [
       "<div>\n",
       "<style scoped>\n",
       "    .dataframe tbody tr th:only-of-type {\n",
       "        vertical-align: middle;\n",
       "    }\n",
       "\n",
       "    .dataframe tbody tr th {\n",
       "        vertical-align: top;\n",
       "    }\n",
       "\n",
       "    .dataframe thead th {\n",
       "        text-align: right;\n",
       "    }\n",
       "</style>\n",
       "<table border=\"1\" class=\"dataframe\">\n",
       "  <thead>\n",
       "    <tr style=\"text-align: right;\">\n",
       "      <th></th>\n",
       "      <th>repo</th>\n",
       "      <th>language</th>\n",
       "      <th>readme_contents</th>\n",
       "    </tr>\n",
       "  </thead>\n",
       "  <tbody>\n",
       "    <tr>\n",
       "      <th>0</th>\n",
       "      <td>dickreuter/Poker</td>\n",
       "      <td>Python</td>\n",
       "      <td>Deep mind pokerbot for pokerstars, partypoker ...</td>\n",
       "    </tr>\n",
       "    <tr>\n",
       "      <th>1</th>\n",
       "      <td>pokerregion/poker</td>\n",
       "      <td>Python</td>\n",
       "      <td>Poker framework for Python\\n==================...</td>\n",
       "    </tr>\n",
       "    <tr>\n",
       "      <th>2</th>\n",
       "      <td>ishikota/PyPokerEngine</td>\n",
       "      <td>Python</td>\n",
       "      <td># PyPokerEngine\\n\\n[![Build Status](https://tr...</td>\n",
       "    </tr>\n",
       "    <tr>\n",
       "      <th>3</th>\n",
       "      <td>andrewprock/pokerstove</td>\n",
       "      <td>C++</td>\n",
       "      <td>PokerStove\\n==========\\n\\n[![OpenHUB Metrics](...</td>\n",
       "    </tr>\n",
       "    <tr>\n",
       "      <th>4</th>\n",
       "      <td>mdp/JsPoker</td>\n",
       "      <td>JavaScript</td>\n",
       "      <td>![JS Poker](http://img.mdp.im.s3.amazonaws.com...</td>\n",
       "    </tr>\n",
       "    <tr>\n",
       "      <th>5</th>\n",
       "      <td>Jeremiah9000/Poker-with-Python</td>\n",
       "      <td>Python</td>\n",
       "      <td># Python Poker\\nTexas Holdem Poker made with P...</td>\n",
       "    </tr>\n",
       "    <tr>\n",
       "      <th>6</th>\n",
       "      <td>ginuerzh/poker</td>\n",
       "      <td>JavaScript</td>\n",
       "      <td>webpoker\\n========\\n\\na poker game use phaser ...</td>\n",
       "    </tr>\n",
       "    <tr>\n",
       "      <th>7</th>\n",
       "      <td>rundef/node-poker-odds-calculator</td>\n",
       "      <td>TypeScript</td>\n",
       "      <td># Poker Odds Calculator\\n\\n[![Build Status](ht...</td>\n",
       "    </tr>\n",
       "    <tr>\n",
       "      <th>8</th>\n",
       "      <td>datamllab/rlcard</td>\n",
       "      <td>Python</td>\n",
       "      <td># RLCard: A Toolkit for Reinforcement Learning...</td>\n",
       "    </tr>\n",
       "    <tr>\n",
       "      <th>9</th>\n",
       "      <td>Wizehive/firepoker</td>\n",
       "      <td>JavaScript</td>\n",
       "      <td># Agile Planning Poker® powered by Firebase an...</td>\n",
       "    </tr>\n",
       "    <tr>\n",
       "      <th>10</th>\n",
       "      <td>HHSmithy/PokerHandHistoryParser</td>\n",
       "      <td>C#</td>\n",
       "      <td>Poker Hand History Parser\\n===================...</td>\n",
       "    </tr>\n",
       "  </tbody>\n",
       "</table>\n",
       "</div>"
      ],
      "text/plain": [
       "                                 repo    language  \\\n",
       "0                    dickreuter/Poker      Python   \n",
       "1                   pokerregion/poker      Python   \n",
       "2              ishikota/PyPokerEngine      Python   \n",
       "3              andrewprock/pokerstove         C++   \n",
       "4                         mdp/JsPoker  JavaScript   \n",
       "5      Jeremiah9000/Poker-with-Python      Python   \n",
       "6                      ginuerzh/poker  JavaScript   \n",
       "7   rundef/node-poker-odds-calculator  TypeScript   \n",
       "8                    datamllab/rlcard      Python   \n",
       "9                  Wizehive/firepoker  JavaScript   \n",
       "10    HHSmithy/PokerHandHistoryParser          C#   \n",
       "\n",
       "                                      readme_contents  \n",
       "0   Deep mind pokerbot for pokerstars, partypoker ...  \n",
       "1   Poker framework for Python\\n==================...  \n",
       "2   # PyPokerEngine\\n\\n[![Build Status](https://tr...  \n",
       "3   PokerStove\\n==========\\n\\n[![OpenHUB Metrics](...  \n",
       "4   ![JS Poker](http://img.mdp.im.s3.amazonaws.com...  \n",
       "5   # Python Poker\\nTexas Holdem Poker made with P...  \n",
       "6   webpoker\\n========\\n\\na poker game use phaser ...  \n",
       "7   # Poker Odds Calculator\\n\\n[![Build Status](ht...  \n",
       "8   # RLCard: A Toolkit for Reinforcement Learning...  \n",
       "9   # Agile Planning Poker® powered by Firebase an...  \n",
       "10  Poker Hand History Parser\\n===================...  "
      ]
     },
     "execution_count": 4,
     "metadata": {},
     "output_type": "execute_result"
    }
   ],
   "source": [
    "df = pd.read_json(\"data.json\")\n",
    "df"
   ]
  },
  {
   "cell_type": "markdown",
   "metadata": {},
   "source": [
    "Restarted approach to getting all of the text formatted"
   ]
  },
  {
   "cell_type": "code",
   "execution_count": 5,
   "metadata": {},
   "outputs": [
    {
     "data": {
      "text/plain": [
       "0     Deep mind pokerbot for pokerstars, partypoker ...\n",
       "1     Poker framework for Python\\n==================...\n",
       "2     # PyPokerEngine\\n\\n[![Build Status](https://tr...\n",
       "3     PokerStove\\n==========\\n\\n[![OpenHUB Metrics](...\n",
       "4     ![JS Poker](http://img.mdp.im.s3.amazonaws.com...\n",
       "5     # Python Poker\\nTexas Holdem Poker made with P...\n",
       "6     webpoker\\n========\\n\\na poker game use phaser ...\n",
       "7     # Poker Odds Calculator\\n\\n[![Build Status](ht...\n",
       "8     # RLCard: A Toolkit for Reinforcement Learning...\n",
       "9     # Agile Planning Poker® powered by Firebase an...\n",
       "10    Poker Hand History Parser\\n===================...\n",
       "Name: readme_contents, dtype: object"
      ]
     },
     "execution_count": 5,
     "metadata": {},
     "output_type": "execute_result"
    }
   ],
   "source": [
    "df.readme_contents"
   ]
  },
  {
   "cell_type": "code",
   "execution_count": 8,
   "metadata": {},
   "outputs": [],
   "source": [
    "bd = df.readme_contents"
   ]
  },
  {
   "cell_type": "code",
   "execution_count": 6,
   "metadata": {},
   "outputs": [
    {
     "data": {
      "text/plain": [
       "pandas.core.series.Series"
      ]
     },
     "execution_count": 6,
     "metadata": {},
     "output_type": "execute_result"
    }
   ],
   "source": [
    "type(df.readme_contents)"
   ]
  },
  {
   "cell_type": "code",
   "execution_count": 9,
   "metadata": {},
   "outputs": [
    {
     "ename": "TypeError",
     "evalue": "expected string or bytes-like object",
     "output_type": "error",
     "traceback": [
      "\u001b[0;31m---------------------------------------------------------------------------\u001b[0m",
      "\u001b[0;31mTypeError\u001b[0m                                 Traceback (most recent call last)",
      "\u001b[0;32m/var/folders/cs/9mn89l_n6p3c9sq01q5f54kh0000gn/T/ipykernel_9566/3385143176.py\u001b[0m in \u001b[0;36m<module>\u001b[0;34m\u001b[0m\n\u001b[0;32m----> 1\u001b[0;31m \u001b[0mbd\u001b[0m \u001b[0;34m=\u001b[0m \u001b[0mre\u001b[0m\u001b[0;34m.\u001b[0m\u001b[0msub\u001b[0m\u001b[0;34m(\u001b[0m\u001b[0;34mr\"[^a-z0-9'\\s]\"\u001b[0m\u001b[0;34m,\u001b[0m \u001b[0;34m''\u001b[0m\u001b[0;34m,\u001b[0m \u001b[0mbd\u001b[0m\u001b[0;34m)\u001b[0m\u001b[0;34m\u001b[0m\u001b[0;34m\u001b[0m\u001b[0m\n\u001b[0m",
      "\u001b[0;32m/usr/local/anaconda3/lib/python3.9/re.py\u001b[0m in \u001b[0;36msub\u001b[0;34m(pattern, repl, string, count, flags)\u001b[0m\n\u001b[1;32m    208\u001b[0m     \u001b[0ma\u001b[0m \u001b[0mcallable\u001b[0m\u001b[0;34m,\u001b[0m \u001b[0mit\u001b[0m\u001b[0;31m'\u001b[0m\u001b[0ms\u001b[0m \u001b[0mpassed\u001b[0m \u001b[0mthe\u001b[0m \u001b[0mMatch\u001b[0m \u001b[0mobject\u001b[0m \u001b[0;32mand\u001b[0m \u001b[0mmust\u001b[0m \u001b[0;32mreturn\u001b[0m\u001b[0;34m\u001b[0m\u001b[0;34m\u001b[0m\u001b[0m\n\u001b[1;32m    209\u001b[0m     a replacement string to be used.\"\"\"\n\u001b[0;32m--> 210\u001b[0;31m     \u001b[0;32mreturn\u001b[0m \u001b[0m_compile\u001b[0m\u001b[0;34m(\u001b[0m\u001b[0mpattern\u001b[0m\u001b[0;34m,\u001b[0m \u001b[0mflags\u001b[0m\u001b[0;34m)\u001b[0m\u001b[0;34m.\u001b[0m\u001b[0msub\u001b[0m\u001b[0;34m(\u001b[0m\u001b[0mrepl\u001b[0m\u001b[0;34m,\u001b[0m \u001b[0mstring\u001b[0m\u001b[0;34m,\u001b[0m \u001b[0mcount\u001b[0m\u001b[0;34m)\u001b[0m\u001b[0;34m\u001b[0m\u001b[0;34m\u001b[0m\u001b[0m\n\u001b[0m\u001b[1;32m    211\u001b[0m \u001b[0;34m\u001b[0m\u001b[0m\n\u001b[1;32m    212\u001b[0m \u001b[0;32mdef\u001b[0m \u001b[0msubn\u001b[0m\u001b[0;34m(\u001b[0m\u001b[0mpattern\u001b[0m\u001b[0;34m,\u001b[0m \u001b[0mrepl\u001b[0m\u001b[0;34m,\u001b[0m \u001b[0mstring\u001b[0m\u001b[0;34m,\u001b[0m \u001b[0mcount\u001b[0m\u001b[0;34m=\u001b[0m\u001b[0;36m0\u001b[0m\u001b[0;34m,\u001b[0m \u001b[0mflags\u001b[0m\u001b[0;34m=\u001b[0m\u001b[0;36m0\u001b[0m\u001b[0;34m)\u001b[0m\u001b[0;34m:\u001b[0m\u001b[0;34m\u001b[0m\u001b[0;34m\u001b[0m\u001b[0m\n",
      "\u001b[0;31mTypeError\u001b[0m: expected string or bytes-like object"
     ]
    }
   ],
   "source": [
    "bd = re.sub(r\"[^a-z0-9'\\s]\", '', bd)"
   ]
  },
  {
   "cell_type": "markdown",
   "metadata": {},
   "source": [
    "Error code above indicates that re.sub can only take in string or byte-like objects:\n",
    "\n",
    "Can run through a for loop with the chnages being applied"
   ]
  },
  {
   "cell_type": "code",
   "execution_count": 11,
   "metadata": {},
   "outputs": [],
   "source": [
    "bb = df.readme_contents[0]"
   ]
  },
  {
   "cell_type": "code",
   "execution_count": 13,
   "metadata": {},
   "outputs": [
    {
     "data": {
      "text/plain": [
       "\"eep mind pokerbot for pokerstars partypoker and oker\\n\\n\\nhis pokerbot plays automatically on okerstars artypoker and  oker ny other table can be mapped as well\\nt works with image recognition montecarlo simulation and a basic genetic algorithm\\nhe mouse is moved automatically and the bot can potentially play for hours based on a large number of parameters\\n\\nou can download the binaries and run the executable directly from here\\nhttpssourceforgenetprojectspartypokerpokerstarspokerbot\\n\\nunning the bot\\n\\n\\nartypoker\\n\\n se ast orward ables\\n elect fficial artyoker table scraper\\n\\n figure docpartypokergif\\n\\nokerstars\\n\\n se oom ables\\n elect fficial oker tars table scraper\\n or okerstars you will need to make some adjustments to the client t needs to look exactly as the below in order to run it with the fficial okerstars able scraper\\n ake sure to match the card styles 4 color covered card styles and table styles\\n\\n figure docpsexamplepng\\n\\noker\\n\\nake sure your oker setup looks as follows when using it with the fficial oker able\\n\\n figure docggpk2png\\n\\n\\neneral setup\\n\\n\\nf you just want to run the bot please do the following\\n\\nnstall the binearies of the bot from here httpssourceforgenetprojectspartypokerpokerstarspokerbot\\n\\nou can then immediately run the bot t will analyze the poker client move the mouse and play in accordance\\nwith one of its preprogrammed strategies ost of the strategies are based on zoom or ast orward tables\\nou are welcome to edit and imporve any strategies to optmize the play of the bot for your needs\\n\\nn most cases it may be useful to put the poker client inside a virtual machine to avoid it from interfering\\nwith the bot lso the bot will then be able to control the mouse inside the virtual machine without blocking\\nthe whole computer\\n\\n ownload irtualbox httpswwwvirtualboxorg\\n ownload indows 10 so ile for example from here httpswwwsoftlaycomappsoperatingsystem\\n reate a new virtual box environment and use the  file as a startup\\n ake sure to give the irtualbox only 1  as the computing power is needed for the bot mainly for \\n nstall artypoker or okerstars in the virtual box environment\\n nstall the pokerbot directly onto your computer outside of the virtual box\\n n the etup select your virtual box instance instead of direct mouse control\\n oin the telegram chat by pressing the chat button\\n\\n he current version nly works on windows\\n o not obstruct the view of the table as the bot is based on image recognition\\n nly one table window should be visible\\n or best performance minimize all windows in the vm except the table window itself\\n on't use any dpi scaling in the virtualbox\\n n setup try to select your virtual machine instead of direct mouse control hat way mouse movements won't obstruct you\\n\\n\\ntrategy nalyzer\\n\\n\\n ou can see the profitability of each strategy in the strategy analyzer\\n he bar chart indicates what action types have led to wins or losses at each stage preflop flop turn and river\\n\\nooking at the stacked bar chart in more detail gives you clues how to adjust the strategy to maximize your wins\\n\\n figure docanalyzerbar2png\\n\\nnalyze individual rounds within each stage\\n\\n figure docanalyzerbar3png\\n\\nnalyze individual hands\\n\\n figure docstrategyanalyzergif\\n\\n\\ntrategy editor\\n\\n variety of factors are taken into consideration when the bot makes decisions and they can be adjusted in the strategy editor\\n\\n quity winning probability which is calculated by a montecarlo simulation\\n quity and minimum callbet value need to be on the left of the corresponding curve in order for the bot not to fold\\n arious other factors such as behaviour in the previous rounds are taken into consideration heck out the strategy editor for more details\\n over over each item to see a more detailed description\\n\\n figure docstrategy2png\\n\\n variety of other options can be edited for each strategy\\n\\n figure docstrategyeditorgif\\n\\ndvice how to improve strategies\\n\\n\\n ou will generally require at least 2000 hands played with a strategy to draw any conclusions ven better 5000 hands nything less than 1000 hands is completely random\\n est buy in more than the minimum this will improve the bots performance as it has more leeway to play or example on a 001002 table buy in more than the minimum of 2 deally start with 4 or even more\\n ook at the strategy analyzer and work your way backwards irst improve the iver play then once this is good move on to the urn then to the lop etc his is because the game is path dependent\\n f you make changes in the ranges you may need to adapt all minimum equities as it changes the equity calculation\\n ood uck\\n\\null version\\n\\n\\nhe full version allows you to\\n\\n dit and create new trategies\\n iew all trategies of all users\\n\\no purchase please follow this link ou'll then receive a password within 24 hours\\nhttpswwwpaypalcomwebappsbillingplanssubscribeplanid9105760347903736\\n\\nlternatively you can contact me via email or telegram and request a password directly and pay bitcoin to\\n1y5o4izc8pqz4yem53hit\\n\\nou can also get a free subscription if you make some meaningful contribution to the codebase\\n\\nhe easiest way to contribute is by\\n\\n dding new tables\\n dding new strategies\\n irectly add fixes to the code and create a pull request\\n\\n\\n\\napping new tables\\n\\n\\nhe bot can learn to read new tables either by using templates or by training a neural network that uses data augmentation based on the given templates\\n\\nlick here to see a ideo description how to add a new table httpswwwdropboxcomstxpbtsi1drncq4x20200531194837mp4dl0\\n\\nhe setup to add new tables looks like this\\n\\n figure docscraperpng\\n\\n pen the pokerbot and click on table setup to open the window that helps you create new tables\\n pen the poker client next to it make sure it's not dpi scaled so the pokerbot can take screenshots\\n tart with creating a new template you can do this by entering a name for your template for example okerstars 12 zoom poker lick on 'lank new'\\n ow the first think you want to do is to take a screenshot of the pokerstars window with the table ou can do this by pressing on the ake screenshot button ou should not see in the lower window a full screenshot of what is on your screen\\n he first step is now to mark the top left corner of the poker tables window which will be the point of reference for everything else that will follow o mark the top left corner you need to mark it by first clicking on the top left part of it and then on the right lower part of it once you have done this it will appear in the second window ou can save it by clicking on the save newly selected top left corner button\\n ow you can crop it by pressing on the crop from top left corner button his will discard most of the screenshot and only keep the screenshot from the top left corner and everything a few hundred pixels to the right of it and below\\n ext you will want to mark everything else in the window tart with the uttons search area ou can do this again by clicking on the top left area of the buttons and then on the bottom right area of where the buttons appear nce you are happy with the selection click on the uttons search area\\n f you hover over the buttons you will get a more detailed description of what you need to pay attention to\\n ote that you will need to take many screenshots crop them don't select the top left corner again as this you should only do once instead load it and then crop the image fter that make your selection of the different images and save them by pressing on the corresponding button ou'll need to teach it every card and every button etc\\n\\n\\nunning via python source code\\n\\n ownload pycharm communite edition as an  from here httpswwwjetbrainscompycharmdownloadsectionwindows\\n nstall python 37 or naconda python with packages from here httpswwwpythonorgdownloadsreleasepython379\\n reate an environment with conda create n poker python37 or use pycharm's functionality to create a new virtual environment heck youtube for details\\n nstall all the packages with pip install r requirementstxt\\n nstall tesserocr pip install httpsgithubcomsimonflueckigertesserocrwindowsbuildreleasesdownloadtesserocrv240tesseract400tesserocr240cp37cp37mwinamd64whl\\n ou also may need to get c runtime distributable httpsvisualstudiomicrosoftcomdownloads\\n nstall virtualbox from httpswwwvirtualboxorgwikiownloads and put the poker client into the virtual box hat way it can be controlled without having to use the mouse in your main window\\n un mainpy from pycharm after setting up the above created virtual environment as interpreter check youtube\\n\\n\\nackages and modules\\n\\n\\nmainpy entry point\\n\\npokerscraper\\n\\n\\nontains user interface and routines that help map new tables\\n\\n recognizetable unctions to recognize the different items on the table based on the created mapping\\n screenoperations arious routines such as taking screen shots cropping etc\\n tablesetup outines in relation to the gui\\n uitablesetup  user interface orresponding py file is created with makeguibat in the parent folder o edit the gui download  esigner and open the ui file\\n\\n\\npokerdecisionmaker\\n\\n\\n  decisionmakerpy he ultimate decision what action should be taken based on the input\\n  montecarlonumpy2py fast numpy based montecarlo simulation to\\n   calculate equity ot yet working correctly ome tests are failing eel free to fix them\\n  montecarlopythonpy relatively slow python based montecarlo for equity calculation upports\\n   preflop ranges for other players\\n\\npokertests\\n\\n\\n  testmontecarlonumpypy tests for the numpy montecarlo\\n  testpylintpy pylint and pydoc tests to ensure pep8 standards and static code analysis\\n\\n\\nraphical user interface gui\\n\\n\\n ownload  for open source project httpswwwqtiodownloadopensource\\n se the qt designer to edit any of the ui files in guiui\\n\\n\\next riorities\\n\\n\\n\\n   pdate tests ome are currently outdated ore tests are needed\\n   dd more strategies\\n   witch from using pytesseract to tesserocr to speed up  this should considerably speed up the bot\\n   etter nalyze the collected data to improve strategies\\n\\n\\naking fixes in the code\\n\\n\\n ixing code and making a pull request back into the originmaster\\n\\nt will be hard for one person alone to beat the world at poker hat's\\nwhy this repo aims to have a collaborative environment where models can\\nbe added and evaluated\\n\\no contribute do the following\\n\\n et ycharm and build the virtual python environment se can do pip install r requirementstxt see above\\n lone your fork to your local machine ou can do this directly from pycharm   check out from version control  git\\n dd as remote the original repository where you created the fork from and call it upstream the connection to your fork should be called origin his can be done with vcs  git  remotes\\n reate a new branch click on master at the bottom right and then click on 'new branch'\\n ake your edits\\n nsure all tests pass nder file  settings  python integrated tools switch to pytest ou can then just right click on the tests folder and run all tests ll tests need to pass ake sure to add your own tests by simply naming the funtion test \\n ake sure all the tests are passing est run pytest as described above in pycharm just right click on the tests folder and run it f a test fails you can debug the test by right clicking on it and put breakpoints or even open a console at the breakpoint httpsstackoverflowcomquestions19329601interactiveshelldebuggingwithpycharm\\n ommit your changes \\n ush your changes to your origin your fork \\n o bring your branch up to date with upstream master if it has moved on rebase onto upstream master click on your branch name at the bottom right of pycharm then click on upstreammaster then rebase onto ou may need to resolve soe conflicts nce this is done make sure to always forcepush ctrlshiftk not just push his can be done by selecting the dropdown next to push and choose forcepush important don't push and merge a rebased branch with your remote\\n reate a pull request on your githubcom to merge your branch with the upstream master\\n hen your pull request is approved it will be merged into the upstreammaster\\n lease make sure that all tests are passing including the pylint test ou can either run them locally on your machine or when you push check the travis log on github currently many are failing feel free to help fixing them\\n\\n\\n\\n\\n\\n\\no top left corner\\n\\n\\n ake sure everything looks exactly like in the picture at the top of this documentation\\n     he buttons need to look exactly like this and it needs to be in nglish and not scaled olours need to be standard\\n     ost tables are mapped to real money hey won't work with play money\\n     he poker table window has to be fully visible and cannot be scaled otherwise it won't be detected properly\\n     n artypoker when you open the table choose table options and then choose back to default size to make sure the table is in default size\\n\\n ables are mapped for fast forward and zoom games with real money se the upersonic3 table for artypoker or caught table in okerstars\\n f things still don't work consider teaching it a new table as described above\\n\\nards not recognized\\n\\n\\n ake sure everything looks exactly like in the picture at the top of this documentation\\n     ake sure to use real money ables are different for play money\\n     nsure you are seated at the position as shown in the picture above\\n     urrently the bot only works for tables with 6 players\\n\\n\\no  need to use a virtual machine\\n\\n\\n or okerstars you definitely do otherwise you will be blocked and your account will be frozen within minutes or artypoker 'm not sure ut best check the terms and conditions\\n\\n\\nnalyzing the log and reporting problems\\n\\n\\n n the folder where you installed the pokerbot there is a subfolder with the log files in log here are also screenshots in logscreenshots that may be able to help debug the problem\\n reate a issue on the link at the top of this github page httpsgithubcomdickreuterokerissues or email dickreutergmailcom\\n\\n\\nelated projects\\n\\nraining the bot by playing against itself is a separate project which can be found here\\nhttpsgithubcomdickreuterneuronpoker\""
      ]
     },
     "execution_count": 13,
     "metadata": {},
     "output_type": "execute_result"
    }
   ],
   "source": [
    "bb = re.sub(r\"[^a-z0-9'\\s]\", '', bb)\n",
    "bb"
   ]
  },
  {
   "cell_type": "code",
   "execution_count": 14,
   "metadata": {},
   "outputs": [],
   "source": [
    "# we will define a basic_clean function for a single document (one string)\n",
    "def basic_clean(string):\n",
    "    '''\n",
    "    This function takes in a string and\n",
    "    returns the string normalized.\n",
    "    '''\n",
    "    # we will normalize our data into standard NFKD unicode, feed it into an ascii encoding\n",
    "    # decode it back into UTF-8\n",
    "    string = unicodedata.normalize('NFKD', string)\\\n",
    "             .encode('ascii', 'ignore')\\\n",
    "             .decode('utf-8', 'ignore')\n",
    "    # utilize our regex substitution to remove our undesirable characters, then lowercase\n",
    "    string = re.sub(r\"[^\\w0-9'\\s]\", '', string).lower()\n",
    "    return string"
   ]
  },
  {
   "cell_type": "code",
   "execution_count": 16,
   "metadata": {},
   "outputs": [
    {
     "data": {
      "text/plain": [
       "\"eep mind pokerbot for pokerstars partypoker and oker\\n\\n\\nhis pokerbot plays automatically on okerstars artypoker and  oker ny other table can be mapped as well\\nt works with image recognition montecarlo simulation and a basic genetic algorithm\\nhe mouse is moved automatically and the bot can potentially play for hours based on a large number of parameters\\n\\nou can download the binaries and run the executable directly from here\\nhttpssourceforgenetprojectspartypokerpokerstarspokerbot\\n\\nunning the bot\\n\\n\\nartypoker\\n\\n se ast orward ables\\n elect fficial artyoker table scraper\\n\\n figure docpartypokergif\\n\\nokerstars\\n\\n se oom ables\\n elect fficial oker tars table scraper\\n or okerstars you will need to make some adjustments to the client t needs to look exactly as the below in order to run it with the fficial okerstars able scraper\\n ake sure to match the card styles 4 color covered card styles and table styles\\n\\n figure docpsexamplepng\\n\\noker\\n\\nake sure your oker setup looks as follows when using it with the fficial oker able\\n\\n figure docggpk2png\\n\\n\\neneral setup\\n\\n\\nf you just want to run the bot please do the following\\n\\nnstall the binearies of the bot from here httpssourceforgenetprojectspartypokerpokerstarspokerbot\\n\\nou can then immediately run the bot t will analyze the poker client move the mouse and play in accordance\\nwith one of its preprogrammed strategies ost of the strategies are based on zoom or ast orward tables\\nou are welcome to edit and imporve any strategies to optmize the play of the bot for your needs\\n\\nn most cases it may be useful to put the poker client inside a virtual machine to avoid it from interfering\\nwith the bot lso the bot will then be able to control the mouse inside the virtual machine without blocking\\nthe whole computer\\n\\n ownload irtualbox httpswwwvirtualboxorg\\n ownload indows 10 so ile for example from here httpswwwsoftlaycomappsoperatingsystem\\n reate a new virtual box environment and use the  file as a startup\\n ake sure to give the irtualbox only 1  as the computing power is needed for the bot mainly for \\n nstall artypoker or okerstars in the virtual box environment\\n nstall the pokerbot directly onto your computer outside of the virtual box\\n n the etup select your virtual box instance instead of direct mouse control\\n oin the telegram chat by pressing the chat button\\n\\n he current version nly works on windows\\n o not obstruct the view of the table as the bot is based on image recognition\\n nly one table window should be visible\\n or best performance minimize all windows in the vm except the table window itself\\n on't use any dpi scaling in the virtualbox\\n n setup try to select your virtual machine instead of direct mouse control hat way mouse movements won't obstruct you\\n\\n\\ntrategy nalyzer\\n\\n\\n ou can see the profitability of each strategy in the strategy analyzer\\n he bar chart indicates what action types have led to wins or losses at each stage preflop flop turn and river\\n\\nooking at the stacked bar chart in more detail gives you clues how to adjust the strategy to maximize your wins\\n\\n figure docanalyzerbar2png\\n\\nnalyze individual rounds within each stage\\n\\n figure docanalyzerbar3png\\n\\nnalyze individual hands\\n\\n figure docstrategyanalyzergif\\n\\n\\ntrategy editor\\n\\n variety of factors are taken into consideration when the bot makes decisions and they can be adjusted in the strategy editor\\n\\n quity winning probability which is calculated by a montecarlo simulation\\n quity and minimum callbet value need to be on the left of the corresponding curve in order for the bot not to fold\\n arious other factors such as behaviour in the previous rounds are taken into consideration heck out the strategy editor for more details\\n over over each item to see a more detailed description\\n\\n figure docstrategy2png\\n\\n variety of other options can be edited for each strategy\\n\\n figure docstrategyeditorgif\\n\\ndvice how to improve strategies\\n\\n\\n ou will generally require at least 2000 hands played with a strategy to draw any conclusions ven better 5000 hands nything less than 1000 hands is completely random\\n est buy in more than the minimum this will improve the bots performance as it has more leeway to play or example on a 001002 table buy in more than the minimum of 2 deally start with 4 or even more\\n ook at the strategy analyzer and work your way backwards irst improve the iver play then once this is good move on to the urn then to the lop etc his is because the game is path dependent\\n f you make changes in the ranges you may need to adapt all minimum equities as it changes the equity calculation\\n ood uck\\n\\null version\\n\\n\\nhe full version allows you to\\n\\n dit and create new trategies\\n iew all trategies of all users\\n\\no purchase please follow this link ou'll then receive a password within 24 hours\\nhttpswwwpaypalcomwebappsbillingplanssubscribeplanid9105760347903736\\n\\nlternatively you can contact me via email or telegram and request a password directly and pay bitcoin to\\n1y5o4izc8pqz4yem53hit\\n\\nou can also get a free subscription if you make some meaningful contribution to the codebase\\n\\nhe easiest way to contribute is by\\n\\n dding new tables\\n dding new strategies\\n irectly add fixes to the code and create a pull request\\n\\n\\n\\napping new tables\\n\\n\\nhe bot can learn to read new tables either by using templates or by training a neural network that uses data augmentation based on the given templates\\n\\nlick here to see a ideo description how to add a new table httpswwwdropboxcomstxpbtsi1drncq4x20200531194837mp4dl0\\n\\nhe setup to add new tables looks like this\\n\\n figure docscraperpng\\n\\n pen the pokerbot and click on table setup to open the window that helps you create new tables\\n pen the poker client next to it make sure it's not dpi scaled so the pokerbot can take screenshots\\n tart with creating a new template you can do this by entering a name for your template for example okerstars 12 zoom poker lick on 'lank new'\\n ow the first think you want to do is to take a screenshot of the pokerstars window with the table ou can do this by pressing on the ake screenshot button ou should not see in the lower window a full screenshot of what is on your screen\\n he first step is now to mark the top left corner of the poker tables window which will be the point of reference for everything else that will follow o mark the top left corner you need to mark it by first clicking on the top left part of it and then on the right lower part of it once you have done this it will appear in the second window ou can save it by clicking on the save newly selected top left corner button\\n ow you can crop it by pressing on the crop from top left corner button his will discard most of the screenshot and only keep the screenshot from the top left corner and everything a few hundred pixels to the right of it and below\\n ext you will want to mark everything else in the window tart with the uttons search area ou can do this again by clicking on the top left area of the buttons and then on the bottom right area of where the buttons appear nce you are happy with the selection click on the uttons search area\\n f you hover over the buttons you will get a more detailed description of what you need to pay attention to\\n ote that you will need to take many screenshots crop them don't select the top left corner again as this you should only do once instead load it and then crop the image fter that make your selection of the different images and save them by pressing on the corresponding button ou'll need to teach it every card and every button etc\\n\\n\\nunning via python source code\\n\\n ownload pycharm communite edition as an  from here httpswwwjetbrainscompycharmdownloadsectionwindows\\n nstall python 37 or naconda python with packages from here httpswwwpythonorgdownloadsreleasepython379\\n reate an environment with conda create n poker python37 or use pycharm's functionality to create a new virtual environment heck youtube for details\\n nstall all the packages with pip install r requirementstxt\\n nstall tesserocr pip install httpsgithubcomsimonflueckigertesserocrwindowsbuildreleasesdownloadtesserocrv240tesseract400tesserocr240cp37cp37mwinamd64whl\\n ou also may need to get c runtime distributable httpsvisualstudiomicrosoftcomdownloads\\n nstall virtualbox from httpswwwvirtualboxorgwikiownloads and put the poker client into the virtual box hat way it can be controlled without having to use the mouse in your main window\\n un mainpy from pycharm after setting up the above created virtual environment as interpreter check youtube\\n\\n\\nackages and modules\\n\\n\\nmainpy entry point\\n\\npokerscraper\\n\\n\\nontains user interface and routines that help map new tables\\n\\n recognizetable unctions to recognize the different items on the table based on the created mapping\\n screenoperations arious routines such as taking screen shots cropping etc\\n tablesetup outines in relation to the gui\\n uitablesetup  user interface orresponding py file is created with makeguibat in the parent folder o edit the gui download  esigner and open the ui file\\n\\n\\npokerdecisionmaker\\n\\n\\n  decisionmakerpy he ultimate decision what action should be taken based on the input\\n  montecarlonumpy2py fast numpy based montecarlo simulation to\\n   calculate equity ot yet working correctly ome tests are failing eel free to fix them\\n  montecarlopythonpy relatively slow python based montecarlo for equity calculation upports\\n   preflop ranges for other players\\n\\npokertests\\n\\n\\n  testmontecarlonumpypy tests for the numpy montecarlo\\n  testpylintpy pylint and pydoc tests to ensure pep8 standards and static code analysis\\n\\n\\nraphical user interface gui\\n\\n\\n ownload  for open source project httpswwwqtiodownloadopensource\\n se the qt designer to edit any of the ui files in guiui\\n\\n\\next riorities\\n\\n\\n\\n   pdate tests ome are currently outdated ore tests are needed\\n   dd more strategies\\n   witch from using pytesseract to tesserocr to speed up  this should considerably speed up the bot\\n   etter nalyze the collected data to improve strategies\\n\\n\\naking fixes in the code\\n\\n\\n ixing code and making a pull request back into the originmaster\\n\\nt will be hard for one person alone to beat the world at poker hat's\\nwhy this repo aims to have a collaborative environment where models can\\nbe added and evaluated\\n\\no contribute do the following\\n\\n et ycharm and build the virtual python environment se can do pip install r requirementstxt see above\\n lone your fork to your local machine ou can do this directly from pycharm   check out from version control  git\\n dd as remote the original repository where you created the fork from and call it upstream the connection to your fork should be called origin his can be done with vcs  git  remotes\\n reate a new branch click on master at the bottom right and then click on 'new branch'\\n ake your edits\\n nsure all tests pass nder file  settings  python integrated tools switch to pytest ou can then just right click on the tests folder and run all tests ll tests need to pass ake sure to add your own tests by simply naming the funtion test \\n ake sure all the tests are passing est run pytest as described above in pycharm just right click on the tests folder and run it f a test fails you can debug the test by right clicking on it and put breakpoints or even open a console at the breakpoint httpsstackoverflowcomquestions19329601interactiveshelldebuggingwithpycharm\\n ommit your changes \\n ush your changes to your origin your fork \\n o bring your branch up to date with upstream master if it has moved on rebase onto upstream master click on your branch name at the bottom right of pycharm then click on upstreammaster then rebase onto ou may need to resolve soe conflicts nce this is done make sure to always forcepush ctrlshiftk not just push his can be done by selecting the dropdown next to push and choose forcepush important don't push and merge a rebased branch with your remote\\n reate a pull request on your githubcom to merge your branch with the upstream master\\n hen your pull request is approved it will be merged into the upstreammaster\\n lease make sure that all tests are passing including the pylint test ou can either run them locally on your machine or when you push check the travis log on github currently many are failing feel free to help fixing them\\n\\n\\n\\n\\n\\n\\no top left corner\\n\\n\\n ake sure everything looks exactly like in the picture at the top of this documentation\\n     he buttons need to look exactly like this and it needs to be in nglish and not scaled olours need to be standard\\n     ost tables are mapped to real money hey won't work with play money\\n     he poker table window has to be fully visible and cannot be scaled otherwise it won't be detected properly\\n     n artypoker when you open the table choose table options and then choose back to default size to make sure the table is in default size\\n\\n ables are mapped for fast forward and zoom games with real money se the upersonic3 table for artypoker or caught table in okerstars\\n f things still don't work consider teaching it a new table as described above\\n\\nards not recognized\\n\\n\\n ake sure everything looks exactly like in the picture at the top of this documentation\\n     ake sure to use real money ables are different for play money\\n     nsure you are seated at the position as shown in the picture above\\n     urrently the bot only works for tables with 6 players\\n\\n\\no  need to use a virtual machine\\n\\n\\n or okerstars you definitely do otherwise you will be blocked and your account will be frozen within minutes or artypoker 'm not sure ut best check the terms and conditions\\n\\n\\nnalyzing the log and reporting problems\\n\\n\\n n the folder where you installed the pokerbot there is a subfolder with the log files in log here are also screenshots in logscreenshots that may be able to help debug the problem\\n reate a issue on the link at the top of this github page httpsgithubcomdickreuterokerissues or email dickreutergmailcom\\n\\n\\nelated projects\\n\\nraining the bot by playing against itself is a separate project which can be found here\\nhttpsgithubcomdickreuterneuronpoker\""
      ]
     },
     "execution_count": 16,
     "metadata": {},
     "output_type": "execute_result"
    }
   ],
   "source": [
    "bb = basic_clean(bb)\n",
    "bb\n",
    "#"
   ]
  },
  {
   "cell_type": "code",
   "execution_count": 18,
   "metadata": {},
   "outputs": [
    {
     "name": "stderr",
     "output_type": "stream",
     "text": [
      "[nltk_data] Downloading package words to\n",
      "[nltk_data]     /Users/lelouchlamprerouge/nltk_data...\n",
      "[nltk_data]   Unzipping corpora/words.zip.\n"
     ]
    }
   ],
   "source": [
    "nltk.download('words')\n",
    "words = set(nltk.corpus.words.words())"
   ]
  },
  {
   "cell_type": "code",
   "execution_count": 19,
   "metadata": {},
   "outputs": [
    {
     "name": "stdout",
     "output_type": "stream",
     "text": [
      "eep mind pokerbot for pokerstars partypoker and oker\n",
      "\n",
      "\n",
      "his pokerbot plays automatically on okerstars artypoker and  oker ny other table can be mapped as well\n",
      "t works with image recognition montecarlo simulation and a basic genetic algorithm\n",
      "he mouse is moved automatically and the bot can potentially play for hours based on a large number of parameters\n",
      "\n",
      "ou can download the binaries and run the executable directly from here\n",
      "httpssourceforgenetprojectspartypokerpokerstarspokerbot\n",
      "\n",
      "unning the bot\n",
      "\n",
      "\n",
      "\n"
     ]
    }
   ],
   "source": [
    "bb = unicodedata.normalize('NFKD', bb)\\\n",
    "    .encode('ascii', 'ignore')\\\n",
    "    .decode('utf-8', 'ignore')\n",
    "\n",
    "print(bb[0:500])\n"
   ]
  },
  {
   "cell_type": "code",
   "execution_count": 21,
   "metadata": {},
   "outputs": [
    {
     "data": {
      "text/plain": [
       "\"eep mind pokerbot for pokerstars partypoker and okerhis pokerbot plays automatically on okerstars artypoker and  oker ny other table can be mapped as wellt works with image recognition montecarlo simulation and a basic genetic algorithmhe mouse is moved automatically and the bot can potentially play for hours based on a large number of parametersou can download the binaries and run the executable directly from herehttpssourceforgenetprojectspartypokerpokerstarspokerbotunning the botartypoker se ast orward ables elect fficial artyoker table scraper figure docpartypokergifokerstars se oom ables elect fficial oker tars table scraper or okerstars you will need to make some adjustments to the client t needs to look exactly as the below in order to run it with the fficial okerstars able scraper ake sure to match the card styles 4 color covered card styles and table styles figure docpsexamplepngokerake sure your oker setup looks as follows when using it with the fficial oker able figure docggpk2pngeneral setupf you just want to run the bot please do the followingnstall the binearies of the bot from here httpssourceforgenetprojectspartypokerpokerstarspokerbotou can then immediately run the bot t will analyze the poker client move the mouse and play in accordancewith one of its preprogrammed strategies ost of the strategies are based on zoom or ast orward tablesou are welcome to edit and imporve any strategies to optmize the play of the bot for your needsn most cases it may be useful to put the poker client inside a virtual machine to avoid it from interferingwith the bot lso the bot will then be able to control the mouse inside the virtual machine without blockingthe whole computer ownload irtualbox httpswwwvirtualboxorg ownload indows 10 so ile for example from here httpswwwsoftlaycomappsoperatingsystem reate a new virtual box environment and use the  file as a startup ake sure to give the irtualbox only 1  as the computing power is needed for the bot mainly for  nstall artypoker or okerstars in the virtual box environment nstall the pokerbot directly onto your computer outside of the virtual box n the etup select your virtual box instance instead of direct mouse control oin the telegram chat by pressing the chat button he current version nly works on windows o not obstruct the view of the table as the bot is based on image recognition nly one table window should be visible or best performance minimize all windows in the vm except the table window itself on't use any dpi scaling in the virtualbox n setup try to select your virtual machine instead of direct mouse control hat way mouse movements won't obstruct youtrategy nalyzer ou can see the profitability of each strategy in the strategy analyzer he bar chart indicates what action types have led to wins or losses at each stage preflop flop turn and riverooking at the stacked bar chart in more detail gives you clues how to adjust the strategy to maximize your wins figure docanalyzerbar2pngnalyze individual rounds within each stage figure docanalyzerbar3pngnalyze individual hands figure docstrategyanalyzergiftrategy editor variety of factors are taken into consideration when the bot makes decisions and they can be adjusted in the strategy editor quity winning probability which is calculated by a montecarlo simulation quity and minimum callbet value need to be on the left of the corresponding curve in order for the bot not to fold arious other factors such as behaviour in the previous rounds are taken into consideration heck out the strategy editor for more details over over each item to see a more detailed description figure docstrategy2png variety of other options can be edited for each strategy figure docstrategyeditorgifdvice how to improve strategies ou will generally require at least 2000 hands played with a strategy to draw any conclusions ven better 5000 hands nything less than 1000 hands is completely random est buy in more than the minimum this will improve the bots performance as it has more leeway to play or example on a 001002 table buy in more than the minimum of 2 deally start with 4 or even more ook at the strategy analyzer and work your way backwards irst improve the iver play then once this is good move on to the urn then to the lop etc his is because the game is path dependent f you make changes in the ranges you may need to adapt all minimum equities as it changes the equity calculation ood uckull versionhe full version allows you to dit and create new trategies iew all trategies of all userso purchase please follow this link ou'll then receive a password within 24 hourshttpswwwpaypalcomwebappsbillingplanssubscribeplanid9105760347903736lternatively you can contact me via email or telegram and request a password directly and pay bitcoin to1y5o4izc8pqz4yem53hitou can also get a free subscription if you make some meaningful contribution to the codebasehe easiest way to contribute is by dding new tables dding new strategies irectly add fixes to the code and create a pull requestapping new tableshe bot can learn to read new tables either by using templates or by training a neural network that uses data augmentation based on the given templateslick here to see a ideo description how to add a new table httpswwwdropboxcomstxpbtsi1drncq4x20200531194837mp4dl0he setup to add new tables looks like this figure docscraperpng pen the pokerbot and click on table setup to open the window that helps you create new tables pen the poker client next to it make sure it's not dpi scaled so the pokerbot can take screenshots tart with creating a new template you can do this by entering a name for your template for example okerstars 12 zoom poker lick on 'lank new' ow the first think you want to do is to take a screenshot of the pokerstars window with the table ou can do this by pressing on the ake screenshot button ou should not see in the lower window a full screenshot of what is on your screen he first step is now to mark the top left corner of the poker tables window which will be the point of reference for everything else that will follow o mark the top left corner you need to mark it by first clicking on the top left part of it and then on the right lower part of it once you have done this it will appear in the second window ou can save it by clicking on the save newly selected top left corner button ow you can crop it by pressing on the crop from top left corner button his will discard most of the screenshot and only keep the screenshot from the top left corner and everything a few hundred pixels to the right of it and below ext you will want to mark everything else in the window tart with the uttons search area ou can do this again by clicking on the top left area of the buttons and then on the bottom right area of where the buttons appear nce you are happy with the selection click on the uttons search area f you hover over the buttons you will get a more detailed description of what you need to pay attention to ote that you will need to take many screenshots crop them don't select the top left corner again as this you should only do once instead load it and then crop the image fter that make your selection of the different images and save them by pressing on the corresponding button ou'll need to teach it every card and every button etcunning via python source code ownload pycharm communite edition as an  from here httpswwwjetbrainscompycharmdownloadsectionwindows nstall python 37 or naconda python with packages from here httpswwwpythonorgdownloadsreleasepython379 reate an environment with conda create n poker python37 or use pycharm's functionality to create a new virtual environment heck youtube for details nstall all the packages with pip install r requirementstxt nstall tesserocr pip install httpsgithubcomsimonflueckigertesserocrwindowsbuildreleasesdownloadtesserocrv240tesseract400tesserocr240cp37cp37mwinamd64whl ou also may need to get c runtime distributable httpsvisualstudiomicrosoftcomdownloads nstall virtualbox from httpswwwvirtualboxorgwikiownloads and put the poker client into the virtual box hat way it can be controlled without having to use the mouse in your main window un mainpy from pycharm after setting up the above created virtual environment as interpreter check youtubeackages and modulesmainpy entry pointpokerscraperontains user interface and routines that help map new tables recognizetable unctions to recognize the different items on the table based on the created mapping screenoperations arious routines such as taking screen shots cropping etc tablesetup outines in relation to the gui uitablesetup  user interface orresponding py file is created with makeguibat in the parent folder o edit the gui download  esigner and open the ui filepokerdecisionmaker  decisionmakerpy he ultimate decision what action should be taken based on the input  montecarlonumpy2py fast numpy based montecarlo simulation to   calculate equity ot yet working correctly ome tests are failing eel free to fix them  montecarlopythonpy relatively slow python based montecarlo for equity calculation upports   preflop ranges for other playerspokertests  testmontecarlonumpypy tests for the numpy montecarlo  testpylintpy pylint and pydoc tests to ensure pep8 standards and static code analysisraphical user interface gui ownload  for open source project httpswwwqtiodownloadopensource se the qt designer to edit any of the ui files in guiuiext riorities   pdate tests ome are currently outdated ore tests are needed   dd more strategies   witch from using pytesseract to tesserocr to speed up  this should considerably speed up the bot   etter nalyze the collected data to improve strategiesaking fixes in the code ixing code and making a pull request back into the originmastert will be hard for one person alone to beat the world at poker hat'swhy this repo aims to have a collaborative environment where models canbe added and evaluatedo contribute do the following et ycharm and build the virtual python environment se can do pip install r requirementstxt see above lone your fork to your local machine ou can do this directly from pycharm   check out from version control  git dd as remote the original repository where you created the fork from and call it upstream the connection to your fork should be called origin his can be done with vcs  git  remotes reate a new branch click on master at the bottom right and then click on 'new branch' ake your edits nsure all tests pass nder file  settings  python integrated tools switch to pytest ou can then just right click on the tests folder and run all tests ll tests need to pass ake sure to add your own tests by simply naming the funtion test  ake sure all the tests are passing est run pytest as described above in pycharm just right click on the tests folder and run it f a test fails you can debug the test by right clicking on it and put breakpoints or even open a console at the breakpoint httpsstackoverflowcomquestions19329601interactiveshelldebuggingwithpycharm ommit your changes  ush your changes to your origin your fork  o bring your branch up to date with upstream master if it has moved on rebase onto upstream master click on your branch name at the bottom right of pycharm then click on upstreammaster then rebase onto ou may need to resolve soe conflicts nce this is done make sure to always forcepush ctrlshiftk not just push his can be done by selecting the dropdown next to push and choose forcepush important don't push and merge a rebased branch with your remote reate a pull request on your githubcom to merge your branch with the upstream master hen your pull request is approved it will be merged into the upstreammaster lease make sure that all tests are passing including the pylint test ou can either run them locally on your machine or when you push check the travis log on github currently many are failing feel free to help fixing themo top left corner ake sure everything looks exactly like in the picture at the top of this documentation     he buttons need to look exactly like this and it needs to be in nglish and not scaled olours need to be standard     ost tables are mapped to real money hey won't work with play money     he poker table window has to be fully visible and cannot be scaled otherwise it won't be detected properly     n artypoker when you open the table choose table options and then choose back to default size to make sure the table is in default size ables are mapped for fast forward and zoom games with real money se the upersonic3 table for artypoker or caught table in okerstars f things still don't work consider teaching it a new table as described aboveards not recognized ake sure everything looks exactly like in the picture at the top of this documentation     ake sure to use real money ables are different for play money     nsure you are seated at the position as shown in the picture above     urrently the bot only works for tables with 6 playerso  need to use a virtual machine or okerstars you definitely do otherwise you will be blocked and your account will be frozen within minutes or artypoker 'm not sure ut best check the terms and conditionsnalyzing the log and reporting problems n the folder where you installed the pokerbot there is a subfolder with the log files in log here are also screenshots in logscreenshots that may be able to help debug the problem reate a issue on the link at the top of this github page httpsgithubcomdickreuterokerissues or email dickreutergmailcomelated projectsraining the bot by playing against itself is a separate project which can be found herehttpsgithubcomdickreuterneuronpoker\""
      ]
     },
     "execution_count": 21,
     "metadata": {},
     "output_type": "execute_result"
    }
   ],
   "source": [
    "bb = bb.replace(\"\\n\",\"\")\n",
    "bb"
   ]
  },
  {
   "cell_type": "markdown",
   "metadata": {},
   "source": [
    "From here I need to drop off both words not in the dictionary, and incomplete words"
   ]
  },
  {
   "cell_type": "code",
   "execution_count": 22,
   "metadata": {},
   "outputs": [
    {
     "data": {
      "text/plain": [
       "\"mind for and automatically on and other table can be as works with image recognition simulation and a basic genetic mouse is automatically and the bot can potentially play for based on a large number of can the and run the executable directly from the se ast elect table scraper figure se elect tars table scraper or you will need to make some to the client t needs to look exactly as the below in order to run it with the able scraper ake sure to match the card 4 color covered card and table figure sure your setup as when it with the able figure docggpk2pngeneral you just want to run the bot please do the the of the bot from here can then immediately run the bot t will analyze the poker client move the mouse and play in one of its of the are based on zoom or ast are welcome to edit and any to the play of the bot for your most it may be useful to put the poker client inside a virtual machine to avoid it from the bot the bot will then be able to control the mouse inside the virtual machine without whole computer 10 so for example from here a new virtual box environment and use the file as a ake sure to give the only 1 as the power is for the bot mainly for or in the virtual box environment the directly onto your computer outside of the virtual box n the select your virtual box instance instead of direct mouse control the telegram chat by pressing the chat button he current version works on o not obstruct the view of the table as the bot is based on image recognition one table window should be visible or best performance minimize all in the except the table window itself on ' t use any scaling in the n setup try to select your virtual machine instead of direct mouse control hat way mouse won ' t obstruct can see the profitability of each strategy in the strategy analyzer he bar chart what action have led to or at each stage flop turn and at the bar chart in more detail you how to adjust the strategy to maximize your figure docanalyzerbar2pngnalyze individual within each stage figure docanalyzerbar3pngnalyze individual figure editor variety of are taken into consideration when the bot and they can be in the strategy editor winning probability which is calculated by a simulation and minimum value need to be on the left of the corresponding curve in order for the bot not to fold other such as behaviour in the previous are taken into consideration heck out the strategy editor for more over over each item to see a more detailed description figure docstrategy2png variety of other can be for each strategy figure how to improve will generally require at least 2000 with a strategy to draw any better 5000 less than 1000 is completely random buy in more than the minimum this will improve the performance as it more leeway to play or example on a 001002 table buy in more than the minimum of 2 start with 4 or even more at the strategy analyzer and work your way backwards improve the play then once this is good move on to the urn then to the lop his is because the game is path dependent f you make in the you may need to adapt all minimum as it the equity calculation full version you to dit and create new all of all purchase please follow this link ' then receive a password within 24 hourshttpswwwpaypalcomwebappsbillingplanssubscribeplanid9105760347903736lternatively you can contact me via or telegram and request a password directly and pay to1y5o4izc8pqz4yem53hitou can also get a free subscription if you make some meaningful contribution to the easiest way to contribute is by new tables new add to the code and create a pull new bot can learn to read new tables either by or by training a neural network that data augmentation based on the given here to see a description how to add a new table httpswwwdropboxcomstxpbtsi1drncq4x20200531194837mp4dl0he setup to add new tables like this figure pen the and click on table setup to open the window that you create new tables pen the poker client next to it make sure it ' s not scaled so the can take tart with a new template you can do this by entering a name for your template for example 12 zoom poker lick on ' lank new ' ow the first think you want to do is to take a of the window with the table can do this by pressing on the ake button should not see in the lower window a full of what is on your screen he first step is now to mark the top left corner of the poker tables window which will be the point of reference for everything else that will follow o mark the top left corner you need to mark it by first on the top left part of it and then on the right lower part of it once you have done this it will appear in the second window can save it by on the save newly selected top left corner button ow you can crop it by pressing on the crop from top left corner button his will discard most of the and only keep the from the top left corner and everything a few hundred to the right of it and below you will want to mark everything else in the window tart with the search area can do this again by on the top left area of the buttons and then on the bottom right area of where the buttons appear you are happy with the selection click on the search area f you hover over the buttons you will get a more detailed description of what you need to pay attention to that you will need to take many crop them don ' t select the top left corner again as this you should only do once instead load it and then crop the image that make your selection of the different and save them by pressing on the corresponding button ' need to teach it every card and every button via python source code edition as an from here python 37 or python with from here httpswwwpythonorgdownloadsreleasepython379 an environment with create n poker python37 or use ' s functionality to create a new virtual environment heck for all the with pip install r pip install httpsgithubcomsimonflueckigertesserocrwindowsbuildreleasesdownloadtesserocrv240tesseract400tesserocr240cp37cp37mwinamd64whl also may need to get c distributable from and put the poker client into the virtual box hat way it can be without to use the mouse in your main window un from after setting up the above virtual environment as interpreter check and entry user interface and that help map new tables to recognize the different on the table based on the such as taking screen in relation to the user interface file is with in the parent folder o edit the and open the he ultimate decision what action should be taken based on the input montecarlonumpy2py fast based simulation to calculate equity yet working correctly are failing eel free to fix them relatively slow python based for equity calculation for other for the and to ensure pep8 and static code user interface for open source project se the designer to edit any of the in are currently outdated ore are more witch from to to speed up this should considerably speed up the bot the collected data to improve in the code code and making a pull request back into the will be hard for one person alone to beat the world at poker hat ' this to have a collaborative environment where added and contribute do the following and build the virtual python environment se can do pip install r see above lone your fork to your local machine can do this directly from check out from version control git as remote the original repository where you the fork from and call it upstream the connection to your fork should be origin his can be done with git a new branch click on master at the bottom right and then click on ' new branch ' ake your all pass file python switch to can then just right click on the folder and run all need to pass ake sure to add your own by simply naming the test ake sure all the are passing run as above in just right click on the folder and run it f a test you can the test by right on it and put or even open a console at the httpsstackoverflowcomquestions19329601interactiveshelldebuggingwithpycharm your ush your to your origin your fork o bring your branch up to date with upstream master if it on rebase onto upstream master click on your branch name at the bottom right of then click on then rebase onto may need to resolve soe this is done make sure to always not just push his can be done by the next to push and choose important don ' t push and merge a branch with your remote a pull request on your to merge your branch with the upstream master hen your pull request is it will be into the lease make sure that all are passing the test can either run them locally on your machine or when you push check the travis log on currently many are failing feel free to help fixing top left corner ake sure everything exactly like in the picture at the top of this documentation he buttons need to look exactly like this and it needs to be in and not scaled need to be standard tables are to real money hey won ' t work with play money he poker table window to be fully visible and cannot be scaled otherwise it won ' t be properly n when you open the table choose table and then choose back to default size to make sure the table is in default size are for fast forward and zoom with real money se the upersonic3 table for or caught table in f still don ' t work consider teaching it a new table as not ake sure everything exactly like in the picture at the top of this documentation ake sure to use real money are different for play money you are seated at the position as shown in the picture above the bot only works for tables with 6 need to use a virtual machine or you definitely do otherwise you will be blocked and your account will be frozen within or ' m not sure ut best check the and the log and n the folder where you the there is a with the log in log here are also in that may be able to help the problem a issue on the link at the top of this page or the bot by against itself is a separate project which can be found\""
      ]
     },
     "execution_count": 22,
     "metadata": {},
     "output_type": "execute_result"
    }
   ],
   "source": [
    "sent = bb\n",
    "\" \".join(w for w in nltk.wordpunct_tokenize(sent) \\\n",
    "         if w.lower() in words or not w.isalpha())\n",
    "# 'Io to the beach with my'"
   ]
  },
  {
   "cell_type": "code",
   "execution_count": 35,
   "metadata": {},
   "outputs": [
    {
     "data": {
      "text/plain": [
       "str"
      ]
     },
     "execution_count": 35,
     "metadata": {},
     "output_type": "execute_result"
    }
   ],
   "source": [
    "type(bb)"
   ]
  },
  {
   "cell_type": "code",
   "execution_count": 54,
   "metadata": {},
   "outputs": [
    {
     "name": "stdout",
     "output_type": "stream",
     "text": [
      "<re.Match object; span=(418, 480), match='httpssourceforgenetprojectspartypokerpokerstarspo>\n"
     ]
    }
   ],
   "source": [
    "print(re.search(r\"https\\w*\\s\", bb))"
   ]
  },
  {
   "cell_type": "code",
   "execution_count": null,
   "metadata": {},
   "outputs": [],
   "source": []
  },
  {
   "cell_type": "code",
   "execution_count": 55,
   "metadata": {},
   "outputs": [],
   "source": [
    "def show_all_matches(regexes, subject, re_length=6):\n",
    "    print('Sentence:')\n",
    "    print()\n",
    "    print('    {}'.format(subject))\n",
    "    print()\n",
    "    print(' regexp{} | matches'.format(' ' * (re_length - 6)))\n",
    "    print(' ------{} | -------'.format(' ' * (re_length - 6)))\n",
    "    for regexp in regexes:\n",
    "        fmt = ' {:<%d} | {!r}' % re_length\n",
    "        matches = re.findall(regexp, subject)\n",
    "        if len(matches) > 8:\n",
    "            matches = matches[:8] + ['...']\n",
    "        print(fmt.format(regexp, matches))\n"
   ]
  },
  {
   "cell_type": "code",
   "execution_count": 57,
   "metadata": {},
   "outputs": [
    {
     "name": "stdout",
     "output_type": "stream",
     "text": [
      "Sentence:\n",
      "\n",
      "    eep mind pokerbot for pokerstars partypoker and okerhis pokerbot plays automatically on okerstars artypoker and  oker ny other table can be mapped as wellt works with image recognition montecarlo simulation and a basic genetic algorithmhe mouse is moved automatically and the bot can potentially play for hours based on a large number of parametersou can download the binaries and run the executable directly from herehttpssourceforgenetprojectspartypokerpokerstarspokerbotunning the botartypoker se ast orward ables elect fficial artyoker table scraper figure docpartypokergifokerstars se oom ables elect fficial oker tars table scraper or okerstars you will need to make some adjustments to the client t needs to look exactly as the below in order to run it with the fficial okerstars able scraper ake sure to match the card styles 4 color covered card styles and table styles figure docpsexamplepngokerake sure your oker setup looks as follows when using it with the fficial oker able figure docggpk2pngeneral setupf you just want to run the bot please do the followingnstall the binearies of the bot from here httpssourceforgenetprojectspartypokerpokerstarspokerbotou can then immediately run the bot t will analyze the poker client move the mouse and play in accordancewith one of its preprogrammed strategies ost of the strategies are based on zoom or ast orward tablesou are welcome to edit and imporve any strategies to optmize the play of the bot for your needsn most cases it may be useful to put the poker client inside a virtual machine to avoid it from interferingwith the bot lso the bot will then be able to control the mouse inside the virtual machine without blockingthe whole computer ownload irtualbox httpswwwvirtualboxorg ownload indows 10 so ile for example from here httpswwwsoftlaycomappsoperatingsystem reate a new virtual box environment and use the  file as a startup ake sure to give the irtualbox only 1  as the computing power is needed for the bot mainly for  nstall artypoker or okerstars in the virtual box environment nstall the pokerbot directly onto your computer outside of the virtual box n the etup select your virtual box instance instead of direct mouse control oin the telegram chat by pressing the chat button he current version nly works on windows o not obstruct the view of the table as the bot is based on image recognition nly one table window should be visible or best performance minimize all windows in the vm except the table window itself on't use any dpi scaling in the virtualbox n setup try to select your virtual machine instead of direct mouse control hat way mouse movements won't obstruct youtrategy nalyzer ou can see the profitability of each strategy in the strategy analyzer he bar chart indicates what action types have led to wins or losses at each stage preflop flop turn and riverooking at the stacked bar chart in more detail gives you clues how to adjust the strategy to maximize your wins figure docanalyzerbar2pngnalyze individual rounds within each stage figure docanalyzerbar3pngnalyze individual hands figure docstrategyanalyzergiftrategy editor variety of factors are taken into consideration when the bot makes decisions and they can be adjusted in the strategy editor quity winning probability which is calculated by a montecarlo simulation quity and minimum callbet value need to be on the left of the corresponding curve in order for the bot not to fold arious other factors such as behaviour in the previous rounds are taken into consideration heck out the strategy editor for more details over over each item to see a more detailed description figure docstrategy2png variety of other options can be edited for each strategy figure docstrategyeditorgifdvice how to improve strategies ou will generally require at least 2000 hands played with a strategy to draw any conclusions ven better 5000 hands nything less than 1000 hands is completely random est buy in more than the minimum this will improve the bots performance as it has more leeway to play or example on a 001002 table buy in more than the minimum of 2 deally start with 4 or even more ook at the strategy analyzer and work your way backwards irst improve the iver play then once this is good move on to the urn then to the lop etc his is because the game is path dependent f you make changes in the ranges you may need to adapt all minimum equities as it changes the equity calculation ood uckull versionhe full version allows you to dit and create new trategies iew all trategies of all userso purchase please follow this link ou'll then receive a password within 24 hourshttpswwwpaypalcomwebappsbillingplanssubscribeplanid9105760347903736lternatively you can contact me via email or telegram and request a password directly and pay bitcoin to1y5o4izc8pqz4yem53hitou can also get a free subscription if you make some meaningful contribution to the codebasehe easiest way to contribute is by dding new tables dding new strategies irectly add fixes to the code and create a pull requestapping new tableshe bot can learn to read new tables either by using templates or by training a neural network that uses data augmentation based on the given templateslick here to see a ideo description how to add a new table httpswwwdropboxcomstxpbtsi1drncq4x20200531194837mp4dl0he setup to add new tables looks like this figure docscraperpng pen the pokerbot and click on table setup to open the window that helps you create new tables pen the poker client next to it make sure it's not dpi scaled so the pokerbot can take screenshots tart with creating a new template you can do this by entering a name for your template for example okerstars 12 zoom poker lick on 'lank new' ow the first think you want to do is to take a screenshot of the pokerstars window with the table ou can do this by pressing on the ake screenshot button ou should not see in the lower window a full screenshot of what is on your screen he first step is now to mark the top left corner of the poker tables window which will be the point of reference for everything else that will follow o mark the top left corner you need to mark it by first clicking on the top left part of it and then on the right lower part of it once you have done this it will appear in the second window ou can save it by clicking on the save newly selected top left corner button ow you can crop it by pressing on the crop from top left corner button his will discard most of the screenshot and only keep the screenshot from the top left corner and everything a few hundred pixels to the right of it and below ext you will want to mark everything else in the window tart with the uttons search area ou can do this again by clicking on the top left area of the buttons and then on the bottom right area of where the buttons appear nce you are happy with the selection click on the uttons search area f you hover over the buttons you will get a more detailed description of what you need to pay attention to ote that you will need to take many screenshots crop them don't select the top left corner again as this you should only do once instead load it and then crop the image fter that make your selection of the different images and save them by pressing on the corresponding button ou'll need to teach it every card and every button etcunning via python source code ownload pycharm communite edition as an  from here httpswwwjetbrainscompycharmdownloadsectionwindows nstall python 37 or naconda python with packages from here httpswwwpythonorgdownloadsreleasepython379 reate an environment with conda create n poker python37 or use pycharm's functionality to create a new virtual environment heck youtube for details nstall all the packages with pip install r requirementstxt nstall tesserocr pip install httpsgithubcomsimonflueckigertesserocrwindowsbuildreleasesdownloadtesserocrv240tesseract400tesserocr240cp37cp37mwinamd64whl ou also may need to get c runtime distributable httpsvisualstudiomicrosoftcomdownloads nstall virtualbox from httpswwwvirtualboxorgwikiownloads and put the poker client into the virtual box hat way it can be controlled without having to use the mouse in your main window un mainpy from pycharm after setting up the above created virtual environment as interpreter check youtubeackages and modulesmainpy entry pointpokerscraperontains user interface and routines that help map new tables recognizetable unctions to recognize the different items on the table based on the created mapping screenoperations arious routines such as taking screen shots cropping etc tablesetup outines in relation to the gui uitablesetup  user interface orresponding py file is created with makeguibat in the parent folder o edit the gui download  esigner and open the ui filepokerdecisionmaker  decisionmakerpy he ultimate decision what action should be taken based on the input  montecarlonumpy2py fast numpy based montecarlo simulation to   calculate equity ot yet working correctly ome tests are failing eel free to fix them  montecarlopythonpy relatively slow python based montecarlo for equity calculation upports   preflop ranges for other playerspokertests  testmontecarlonumpypy tests for the numpy montecarlo  testpylintpy pylint and pydoc tests to ensure pep8 standards and static code analysisraphical user interface gui ownload  for open source project httpswwwqtiodownloadopensource se the qt designer to edit any of the ui files in guiuiext riorities   pdate tests ome are currently outdated ore tests are needed   dd more strategies   witch from using pytesseract to tesserocr to speed up  this should considerably speed up the bot   etter nalyze the collected data to improve strategiesaking fixes in the code ixing code and making a pull request back into the originmastert will be hard for one person alone to beat the world at poker hat'swhy this repo aims to have a collaborative environment where models canbe added and evaluatedo contribute do the following et ycharm and build the virtual python environment se can do pip install r requirementstxt see above lone your fork to your local machine ou can do this directly from pycharm   check out from version control  git dd as remote the original repository where you created the fork from and call it upstream the connection to your fork should be called origin his can be done with vcs  git  remotes reate a new branch click on master at the bottom right and then click on 'new branch' ake your edits nsure all tests pass nder file  settings  python integrated tools switch to pytest ou can then just right click on the tests folder and run all tests ll tests need to pass ake sure to add your own tests by simply naming the funtion test  ake sure all the tests are passing est run pytest as described above in pycharm just right click on the tests folder and run it f a test fails you can debug the test by right clicking on it and put breakpoints or even open a console at the breakpoint httpsstackoverflowcomquestions19329601interactiveshelldebuggingwithpycharm ommit your changes  ush your changes to your origin your fork  o bring your branch up to date with upstream master if it has moved on rebase onto upstream master click on your branch name at the bottom right of pycharm then click on upstreammaster then rebase onto ou may need to resolve soe conflicts nce this is done make sure to always forcepush ctrlshiftk not just push his can be done by selecting the dropdown next to push and choose forcepush important don't push and merge a rebased branch with your remote reate a pull request on your githubcom to merge your branch with the upstream master hen your pull request is approved it will be merged into the upstreammaster lease make sure that all tests are passing including the pylint test ou can either run them locally on your machine or when you push check the travis log on github currently many are failing feel free to help fixing themo top left corner ake sure everything looks exactly like in the picture at the top of this documentation     he buttons need to look exactly like this and it needs to be in nglish and not scaled olours need to be standard     ost tables are mapped to real money hey won't work with play money     he poker table window has to be fully visible and cannot be scaled otherwise it won't be detected properly     n artypoker when you open the table choose table options and then choose back to default size to make sure the table is in default size ables are mapped for fast forward and zoom games with real money se the upersonic3 table for artypoker or caught table in okerstars f things still don't work consider teaching it a new table as described aboveards not recognized ake sure everything looks exactly like in the picture at the top of this documentation     ake sure to use real money ables are different for play money     nsure you are seated at the position as shown in the picture above     urrently the bot only works for tables with 6 playerso  need to use a virtual machine or okerstars you definitely do otherwise you will be blocked and your account will be frozen within minutes or artypoker 'm not sure ut best check the terms and conditionsnalyzing the log and reporting problems n the folder where you installed the pokerbot there is a subfolder with the log files in log here are also screenshots in logscreenshots that may be able to help debug the problem reate a issue on the link at the top of this github page httpsgithubcomdickreuterokerissues or email dickreutergmailcomelated projectsraining the bot by playing against itself is a separate project which can be found herehttpsgithubcomdickreuterneuronpoker\n",
      "\n",
      " regexp | matches\n",
      " ------ | -------\n",
      " https\\w*\\s | ['httpssourceforgenetprojectspartypokerpokerstarspokerbotunning ', 'httpssourceforgenetprojectspartypokerpokerstarspokerbotou ', 'httpswwwvirtualboxorg ', 'httpswwwsoftlaycomappsoperatingsystem ', 'httpswwwpaypalcomwebappsbillingplanssubscribeplanid9105760347903736lternatively ', 'httpswwwdropboxcomstxpbtsi1drncq4x20200531194837mp4dl0he ', 'httpswwwjetbrainscompycharmdownloadsectionwindows ', 'httpswwwpythonorgdownloadsreleasepython379 ', '...']\n"
     ]
    }
   ],
   "source": [
    "show_all_matches([r\"https\\w*\\s\"], bb)"
   ]
  },
  {
   "cell_type": "markdown",
   "metadata": {},
   "source": [
    "So from here I can find specifically the https website code,\n",
    "\n",
    "that would be semantics some of these misspelled words could clue us in on where to go next"
   ]
  },
  {
   "cell_type": "code",
   "execution_count": null,
   "metadata": {},
   "outputs": [],
   "source": []
  },
  {
   "cell_type": "code",
   "execution_count": null,
   "metadata": {},
   "outputs": [],
   "source": []
  },
  {
   "cell_type": "code",
   "execution_count": null,
   "metadata": {},
   "outputs": [],
   "source": []
  },
  {
   "cell_type": "code",
   "execution_count": null,
   "metadata": {},
   "outputs": [],
   "source": []
  },
  {
   "cell_type": "code",
   "execution_count": null,
   "metadata": {},
   "outputs": [],
   "source": []
  },
  {
   "cell_type": "code",
   "execution_count": null,
   "metadata": {},
   "outputs": [],
   "source": []
  },
  {
   "cell_type": "code",
   "execution_count": null,
   "metadata": {},
   "outputs": [],
   "source": []
  },
  {
   "cell_type": "code",
   "execution_count": null,
   "metadata": {},
   "outputs": [],
   "source": []
  },
  {
   "cell_type": "code",
   "execution_count": null,
   "metadata": {},
   "outputs": [],
   "source": []
  },
  {
   "cell_type": "code",
   "execution_count": null,
   "metadata": {},
   "outputs": [],
   "source": []
  },
  {
   "cell_type": "code",
   "execution_count": null,
   "metadata": {},
   "outputs": [],
   "source": []
  },
  {
   "cell_type": "code",
   "execution_count": null,
   "metadata": {},
   "outputs": [],
   "source": []
  },
  {
   "cell_type": "markdown",
   "metadata": {},
   "source": [
    "Snippets from the explore chapter both in the circulumn and excercise review"
   ]
  },
  {
   "cell_type": "code",
   "execution_count": null,
   "metadata": {},
   "outputs": [],
   "source": [
    "ADDITIONAL_STOPWORDS = ['r', 'u', '2', 'ltgt']\n",
    "\n",
    "def clean(text):\n",
    "    'A simple function to cleanup text data'\n",
    "    wnl = nltk.stem.WordNetLemmatizer()\n",
    "    stopwords = nltk.corpus.stopwords.words('english') + ADDITIONAL_STOPWORDS\n",
    "    text = (unicodedata.normalize('NFKD', text)\n",
    "             .encode('ascii', 'ignore')\n",
    "             .decode('utf-8', 'ignore')\n",
    "             .lower())\n",
    "    words = re.sub(r'[^\\w\\s]', '', text).split()\n",
    "    return [wnl.lemmatize(word) for word in words if word not in stopwords]"
   ]
  },
  {
   "cell_type": "code",
   "execution_count": null,
   "metadata": {},
   "outputs": [],
   "source": [
    "def clean(readme_contents):\n",
    "    'A simple function to cleanup text data'\n",
    "    wnl = nltk.stem.WordNetLemmatizer()\n",
    "    stopwords = nltk.corpus.stopwords.words('english')\n",
    "    readme_contents = (unicodedata.normalize('NFKD', readme_contents)\n",
    "             .encode('ascii', 'ignore')\n",
    "             .decode('utf-8', 'ignore')\n",
    "             .lower())\n",
    "    words = re.sub(r'[^\\w\\s]', '', text).split()\n",
    "    return [wnl.lemmatize(word) for word in words if word not in stopwords]"
   ]
  },
  {
   "cell_type": "code",
   "execution_count": null,
   "metadata": {},
   "outputs": [],
   "source": [
    "df.head(3)"
   ]
  },
  {
   "cell_type": "markdown",
   "metadata": {},
   "source": [
    "Ryan Mcall referenced his <a href=\"https://github.com/CodeupClassroom/jemison-nlp-exercises/blob/main/prepare_exercises.ipynb\">exercise </a>"
   ]
  },
  {
   "cell_type": "code",
   "execution_count": null,
   "metadata": {},
   "outputs": [],
   "source": [
    "df = clean(df)"
   ]
  },
  {
   "cell_type": "code",
   "execution_count": null,
   "metadata": {},
   "outputs": [],
   "source": [
    "# we will define a basic_clean function for a single document (one string)\n",
    "def basic_clean(string):\n",
    "    '''\n",
    "    This function takes in a string and\n",
    "    returns the string normalized.\n",
    "    '''\n",
    "    # we will normalize our data into standard NFKD unicode, feed it into an ascii encoding\n",
    "    # decode it back into UTF-8\n",
    "    string = unicodedata.normalize('NFKD', string)\\\n",
    "             .encode('ascii', 'ignore')\\\n",
    "             .decode('utf-8', 'ignore')\n",
    "    # utilize our regex substitution to remove our undesirable characters, then lowercase\n",
    "    string = re.sub(r\"[^\\w0-9'\\s]\", '', string).lower()\n",
    "    return string"
   ]
  },
  {
   "cell_type": "code",
   "execution_count": null,
   "metadata": {},
   "outputs": [],
   "source": [
    "def tokenize(string):\n",
    "    '''\n",
    "    This function takes in a string and\n",
    "    returns a tokenized string.\n",
    "    '''\n",
    "    # make our tokenizer, taken from nltk's ToktokTokenizer\n",
    "    tokenizer = nltk.tokenize.ToktokTokenizer()\n",
    "    # apply our tokenizer's tokenization to the string being input, ensure it returns a string\n",
    "    string = tokenizer.tokenize(string, return_str = True)\n",
    "    \n",
    "    return string\n"
   ]
  },
  {
   "cell_type": "code",
   "execution_count": null,
   "metadata": {},
   "outputs": [],
   "source": [
    "\n",
    "\n",
    "def stem(string):\n",
    "    '''\n",
    "    This function takes in a string and\n",
    "    returns a string with words stemmed.\n",
    "    '''\n",
    "    # create our stemming object\n",
    "    ps = nltk.porter.PorterStemmer()\n",
    "    # use a list comprehension => stem each word for each word inside of the entire document,\n",
    "    # split by the default, which are single spaces\n",
    "    stems = [ps.stem(word) for word in string.split()]\n",
    "    # glue it back together with spaces, as it was before\n",
    "    string = ' '.join(stems)\n",
    "    \n",
    "    return string\n",
    "\n"
   ]
  },
  {
   "cell_type": "code",
   "execution_count": null,
   "metadata": {},
   "outputs": [],
   "source": [
    "def lemmatize(string):\n",
    "    '''\n",
    "    This function takes in string for and\n",
    "    returns a string with words lemmatized.\n",
    "    '''\n",
    "    # create our lemmatizer object\n",
    "    wnl = nltk.stem.WordNetLemmatizer()\n",
    "    # use a list comprehension to lemmatize each word\n",
    "    # string.split() => output a list of every token inside of the document\n",
    "    lemmas = [wnl.lemmatize(word) for word in string.split()]\n",
    "    # glue the lemmas back together by the strings we split on\n",
    "    string = ' '.join(lemmas)\n",
    "    #return the altered document\n",
    "    return string"
   ]
  },
  {
   "cell_type": "code",
   "execution_count": null,
   "metadata": {},
   "outputs": [],
   "source": [
    "def remove_stopwords(string, extra_words = [], exclude_words = []):\n",
    "    '''\n",
    "    This function takes in a string, optional extra_words and exclude_words parameters\n",
    "    with default empty lists and returns a string.\n",
    "    '''\n",
    "    # assign our stopwords from nltk into stopword_list\n",
    "    stopword_list = stopwords.words('english')\n",
    "    # utilizing set casting, i will remove any excluded stopwords\n",
    "    stopword_list = set(stopword_list) - set(exclude_words)\n",
    "    # add in any extra words to my stopwords set using a union\n",
    "    stopword_list = stopword_list.union(set(extra_words))\n",
    "    # split our document by spaces\n",
    "    words = string.split()\n",
    "    # every word in our document, as long as that word is not in our stopwords\n",
    "    filtered_words = [word for word in words if word not in stopword_list]\n",
    "    # glue it back together with spaces, as it was so it shall be\n",
    "    string_without_stopwords = ' '.join(filtered_words)\n",
    "    # return the document back\n",
    "    return string_without_stopwords"
   ]
  },
  {
   "cell_type": "code",
   "execution_count": null,
   "metadata": {},
   "outputs": [],
   "source": []
  }
 ],
 "metadata": {
  "kernelspec": {
   "display_name": "Python 3.9.7 ('base')",
   "language": "python",
   "name": "python3"
  },
  "language_info": {
   "codemirror_mode": {
    "name": "ipython",
    "version": 3
   },
   "file_extension": ".py",
   "mimetype": "text/x-python",
   "name": "python",
   "nbconvert_exporter": "python",
   "pygments_lexer": "ipython3",
   "version": "3.9.7"
  },
  "orig_nbformat": 4,
  "vscode": {
   "interpreter": {
    "hash": "3067ead486e059ec00ffe7555bdb889e6e264a24dc711bf108106cc7baee8d5d"
   }
  }
 },
 "nbformat": 4,
 "nbformat_minor": 2
}

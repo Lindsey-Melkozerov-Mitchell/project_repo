{
 "cells": [
  {
   "cell_type": "code",
   "execution_count": 1,
   "metadata": {},
   "outputs": [],
   "source": [
    "import os\n",
    "import json\n",
    "from typing import Dict, List, Optional, Union, cast\n",
    "from requests import get\n",
    "from bs4 import BeautifulSoup\n",
    "import time\n",
    "import acquire\n",
    "import acquire_df\n",
    "from acquire import scrape_github_data\n",
    "import pandas as pd\n",
    "import unicodedata\n",
    "import re\n",
    "import json\n",
    "import nltk\n",
    "from nltk.tokenize.toktok import ToktokTokenizer\n",
    "from nltk.corpus import stopwords\n",
    "import pandas as pd\n",
    "import acquire\n",
    "from env import github_token, github_username"
   ]
  },
  {
   "cell_type": "code",
   "execution_count": 2,
   "metadata": {},
   "outputs": [
    {
     "data": {
      "text/html": [
       "<div><div id=c585ed0a-9459-4395-b6e2-47d91557358b style=\"display:none; background-color:#9D6CFF; color:white; width:200px; height:30px; padding-left:5px; border-radius:4px; flex-direction:row; justify-content:space-around; align-items:center;\" onmouseover=\"this.style.backgroundColor='#BA9BF8'\" onmouseout=\"this.style.backgroundColor='#9D6CFF'\" onclick=\"window.commands?.execute('create-mitosheet-from-dataframe-output');\">See Full Dataframe in Mito</div> <script> if (window.commands?.hasCommand('create-mitosheet-from-dataframe-output')) document.getElementById('c585ed0a-9459-4395-b6e2-47d91557358b').style.display = 'flex' </script> <table border=\"1\" class=\"dataframe\">\n",
       "  <thead>\n",
       "    <tr style=\"text-align: right;\">\n",
       "      <th></th>\n",
       "      <th>repo</th>\n",
       "      <th>language</th>\n",
       "      <th>readme_contents</th>\n",
       "    </tr>\n",
       "  </thead>\n",
       "  <tbody>\n",
       "    <tr>\n",
       "      <th>0</th>\n",
       "      <td>dickreuter/Poker</td>\n",
       "      <td>Python</td>\n",
       "      <td>Deep mind pokerbot for pokerstars, partypoker and GGPoker\\n==========================================================\\n\\nThis pokerbot plays automatically on Pokerstars, Partypoker and GG Poker. Any other table can be mapped as well.\\nIt works with image recognition, montecarlo simulation and a basic genetic algorithm.\\nThe mouse is moved automatically and the bot can potentially play for hours based on a large number of parameters.\\n\\nYou can download the binaries and run the executable directly from here:\\nhttps://sourceforge.net/projects/partypoker-pokerstars-pokerbot/\\n\\nRunning the bot:\\n----------------\\n\\nPartypoker:\\n~~~~~~~~~~~\\n* Use Fast Forward Tables\\n* Select Official PartyPoker table scraper\\n\\n.. figure:: doc/partypoker.gif\\n\\nPokerstars:\\n~~~~~~~~~~~\\n* Use Zoom Tables\\n* Select Official Poker Stars table scraper\\n* For Pokerstars you will need to make some adjustments to the client. It needs to look exactly as the below, in order to run it with the Official Pokerstars Table scraper:\\n* Make sure to match the card styles (4 color), covered card styles, and table styles.\\n\\n.. figure:: doc/ps-example.png\\n\\nGGPoker:\\n~~~~~~~~~~~\\nMake sure your GGPoker setup looks as follows when using it with the Official GGPoker Table:\\n\\n.. figure:: doc/ggpk2.png\\n\\n\\nGeneral setup:\\n~~~~~~~~~~~~~~\\n\\nIf you just want to run the bot, please do the following:\\n\\nInstall the binearies of the bot from here: https://sourceforge.net/projects/partypoker-pokerstars-pokerbot/\\n\\nYou can then immediately run the bot. It will analyze the poker client, move the mouse and play in accordance\\nwith one of its pre-programmed strategies. Most of the strategies are based on zoom or Fast Forward tables.\\nYou are welcome to edit and imporve any strategies to optmize the play of the bot for your needs.\\n\\nIn most cases it may be useful to put the poker client inside a virtual machine to avoid it from interfering\\nwith the bot. Also, the bot will then be able to control the mouse inside the virtual machine, without blocking\\nthe whole computer:\\n\\n* Download Virtualbox: https://www.virtualbox.org/\\n* Download Windows 10 Iso File for example from here https://www.softlay.com/apps/operating-system\\n* Create a new virtual box environment and use the ISO file as a startup\\n* Make sure to give the Virtualbox only 1 CPU as the computing power is needed for the bot (mainly for OCR)\\n* Install Partypoker or Pokerstars in the virtual box environment\\n* Install the pokerbot directly onto your computer (outside of the virtual box)\\n* In the Setup select your virtual box instance (instead of direct mouse control)\\n* Join the telegram chat by pressing the chat button\\n\\n* The current version Only works on windows\\n* Do not obstruct the view of the table as the bot is based on image recognition\\n* Only one table window should be visible.\\n* For best performance minimize all windows in the vm, except the table window itself\\n* Don't use any dpi scaling in the virtualbox\\n* In setup, try to select your virtual machine instead of direct mouse control. That way mouse movements won't obstruct you.\\n\\n\\nStrategy Analyzer\\n-----------------\\n\\n- You can see the profitability of each strategy in the strategy analyzer.\\n- The bar chart indicates what action types have led to wins or losses at each stage (preflop, flop turn and river)\\n\\nLooking at the stacked bar chart in more detail, gives you clues how to adjust the strategy to maximize your wins:\\n\\n.. figure:: doc/analyzer_bar2.png\\n\\nAnalyze individual rounds within each stage:\\n\\n.. figure:: doc/analyzer_bar3.png\\n\\nAnalyze individual hands:\\n\\n.. figure:: doc/strategy_analyzer.gif\\n\\n\\nStrategy editor\\n---------------\\nA variety of factors are taken into consideration when the bot makes decisions and they can be adjusted in the strategy editor:\\n\\n- Equity (winning probability), which is calculated by a montecarlo simulation\\n- Equity and minimum call/bet value need to be on the left of the corresponding curve in order for the bot not to fold\\n- Various other factors, such as behaviour in the previous rounds are taken into consideration. Check out the strategy editor for more details.\\n- Hover over each item to see a more detailed description\\n\\n.. figure:: doc/strategy2.png\\n\\nA variety of other options can be edited for each strategy:\\n\\n.. figure:: doc/strategy_editor.gif\\n\\nAdvice how to improve strategies:\\n~~~~~~~~~~~~~~~~~~~~~~~~~~~~~~~~~\\n\\n* You will generally require at least 2000 hands played with a strategy to draw any conclusions. Even better 5000 hands. Anything less than 1000 hands is completely random.\\n* Best buy in more than the minimum, this will improve the bots performance as it has more leeway to play. For example on a 0.01/0.02 table, buy in more than the minimum of $2. Ideally start with $4 or even more.\\n* Look at the strategy analyzer and work your way backwards. First improve the River play, then once this is good move on to the Turn, then to the Flop etc. This is because the game is path dependent.\\n* If you make changes in the ranges, you may need to adapt all minimum equities as it changes the equity calculation.\\n* Good Luck!\\n\\nFull version:\\n~~~~~~~~~~~~~\\n\\nThe full version allows you to:\\n\\n* Edit and create new Strategies\\n* View all Strategies of all users\\n\\nTo purchase, please follow this link. You'll then receive a password within 24 hours.\\nhttps://www.paypal.com/webapps/billing/plans/subscribe?plan_id=P-910576034F790373KMC6UZOQ\\n\\nAlternatively you can contact me via email or telegram and request a password directly and pay bitcoin to:\\n1Py5o4WLYMizXc8pFPqzD4yeCAm53BhJit\\n\\nYou can also get a free subscription if you make some meaningful contribution to the codebase.\\n\\nThe easiest way to contribute is by:\\n\\n- Adding new tables\\n- Adding new strategies\\n- Directly add fixes to the code and create a pull request\\n\\n\\n\\nMapping new tables\\n------------------\\n\\nThe bot can learn to read new tables, either by using templates or by training a neural network that uses data augmentation based on the given templates.\\n\\n`Click here to see a Video description how to add a new table &lt;https://www.dropbox.com/s/txpbtsi1drncq4x/20200531_194837.mp4?dl=0&gt;`_\\n\\nThe setup to add new tables looks like this:\\n\\n.. figure:: doc/scraper.png\\n\\n- Open the pokerbot and click on table setup to open the window that helps you create new tables.\\n- Open the poker client next to it, make sure it's not dpi scaled, so the pokerbot can take screenshots.\\n- Start with creating a new template, you can do this by entering a name for your template, for example Pokerstars 1-2 zoom poker. Click on 'Blank new'.\\n- Now the first think you want to do is to take a screenshot of the pokerstars window with the table. You can do this by pressing on the Take screenshot button. You should not see in the lower window a full screenshot of what is on your screen.\\n- The first step is now to mark the top left corner of the poker tables window, which will be the point of reference for everything else that will follow. To mark the top left corner, you need to mark it by first clicking on the top left part of it and then on the right lower part of it. once you have done this, it will appear in the second window. You can save it by clicking on the \"save newly selected top left corner\" button.\\n- Now you can crop it by pressing on the crop from top left corner button. This will discard most of the screenshot and only keep the screenshot from the top left corner and everything a few hundred pixels to the right of it and below.\\n- Next you will want to mark everything else in the window. Start with the Buttons search area. You can do this again by clicking on the top left area of the buttons and then on the bottom right area of where the buttons appear. Once you are happy with the selection, click on the \"Buttons search area\".\\n- If you hover over the buttons, you will get a more detailed description of what you need to pay attention to.\\n- Note that you will need to take many screenshots, crop them (don't select the top left corner again, as this you should only do once), instead load it and then crop the image. After that make your selection of the different images and save them by pressing on the corresponding button. You'll need to teach it every card and every button etc.\\n\\n\\nRunning via python source code\\n------------------------------\\n- Download pycharm communite edition as an IDE from here: https://www.jetbrains.com/pycharm/download/#section=windows\\n- Install python 3.7 or Anaconda (=python with packages) from here: https://www.python.org/downloads/release/python-379/\\n- Create an environment with ``conda create -n poker python=3.7`` or use pycharm's functionality to create a new virtual environment. Check youtube for details.\\n- Install all the packages with ``pip install -r requirements.txt``\\n- Install tesserocr: `pip install https://github.com/simonflueckiger/tesserocr-windows_build/releases/download/tesserocr-v2.4.0-tesseract-4.0.0/tesserocr-2.4.0-cp37-cp37m-win_amd64.whl`\\n- You also may need to get c++ runtime distributable: https://visualstudio.microsoft.com/downloads/\\n- Install virtualbox from https://www.virtualbox.org/wiki/Downloads and put the poker client into the virtual box. That way it can be controlled without having to use the mouse in your main window.\\n- Run ``main.py`` from pycharm after setting up the above created virtual environment as interpreter (check youtube)\\n\\n\\nPackages and modules:\\n~~~~~~~~~~~~~~~~~~~~~\\n\\nmain.py: entry point\\n\\npoker.scraper\\n^^^^^^^^^^^^^\\n\\nContains user interface and routines that help map new tables\\n\\n- ``recognize_table``: Functions to recognize the different items on the table, based on the created mapping\\n- ``screen_operations``: Various routines, such as taking screen shots, cropping etc\\n- ``table_setup``: Routines in relation to the gui\\n- ``ui_table_setup``: QT user interface. Corresponding py file is created with makegui.bat in the parent folder. To edit the gui download QT Designer and open the .ui file.\\n\\n\\npoker.decisionmaker\\n^^^^^^^^^^^^^^^^^^^\\n\\n-  ``decisionmaker.py``: The ultimate decision what action should be taken based on the input\\n-  ``montecarlo_numpy2.py``: fast numpy based montecarlo simulation to\\n   calculate equity. Not yet working correctly. Some tests are failing. Feel free to fix them.\\n-  ``montecarlo_python.py``: relatively slow python based montecarlo for equity calculation. Supports\\n   preflop ranges for other players.\\n\\npoker.tests\\n^^^^^^^^^^^\\n\\n-  ``test_montecarlo_numpy.py``: tests for the numpy montecarlo\\n-  ``test_pylint.py``: pylint and pydoc tests to ensure pep8 standards and static code analysis\\n\\n\\nGraphical user interface (gui)\\n^^^^^^^^^^^^^^^^^^^^^^^^^^^^^^\\n\\n- Download QT for open source project: https://www.qt.io/download-open-source\\n- Use the qt designer to edit any of the .ui files in gui/ui\\n\\n\\nNext Priorities\\n---------------\\n\\n\\n- [ ] Update tests. Some are currently outdated. More tests are needed\\n- [ ] Add more strategies\\n- [ ] Switch from using pytesseract to tesserocr to speed up OCR, this should considerably speed up the bot\\n- [ ] Better Analyze the collected data to improve strategies\\n\\n\\nMaking fixes in the code\\n~~~~~~~~~~~~~~~~~~~~~~~~\\n\\n- Fixing code and making a pull request back into the origin/master:\\n\\nIt will be hard for one person alone to beat the world at poker. That's\\nwhy this repo aims to have a collaborative environment, where models can\\nbe added and evaluated.\\n\\nTo contribute do the following:\\n\\n- Get Pycharm and build the virtual python environment. Use can do: ``pip install -r requirements.txt`` (see above)\\n- Clone your fork to your local machine. You can do this directly from pycharm: VCS --&gt; check out from version control --&gt; git\\n- Add as remote the original repository where you created the fork from and call it upstream (the connection to your fork should be called origin). This can be done with vcs --&gt; git --&gt; remotes\\n- Create a new branch: click on master at the bottom right, and then click on 'new branch'\\n- Make your edits.\\n- Ensure all tests pass. Under file --&gt; settings --&gt; python integrated tools switch to pytest. You can then just right click on the tests folder and run all tests. All tests need to pass. Make sure to add your own tests by simply naming the funtion test\\_... \\\\n- Make sure all the tests are passing. Best run pytest as described above (in pycharm just right click on the tests folder and run it). If a test fails, you can debug the test, by right clicking on it and put breakpoints, or even open a console at the breakpoint: https://stackoverflow.com/questions/19329601/interactive-shell-debugging-with-pycharm\\n- Commit your changes (CTRL+K}\\n- Push your changes to your origin (your fork) (CTRL+SHIFT+K)\\n- To bring your branch up to date with upstream master, if it has moved on: rebase onto upstream master: click on your branch name at the bottom right of pycharm, then click on upstream/master, then rebase onto. You may need to resolve soe conflicts. Once this is done, make sure to always force-push (ctrl+shift+k), (not just push). This can be done by selecting the dropdown next to push and choose force-push (important: don't push and merge a rebased branch with your remote)\\n- Create a pull request on your github.com to merge your branch with the upstream master.\\n- When your pull request is approved, it will be merged into the upstream/master.\\n- Please make sure that all tests are passing, including the pylint test. You can either run them locally on your machine, or when you push check the travis log on github. [currently many are failing, feel free to help fixing them!]\\n\\n\\n\\nFAQ\\n---\\n\\nNo top left corner\\n~~~~~~~~~~~~~~~~~~\\n\\n- Make sure everything looks exactly like in the picture at the top of this documentation.\\n    * The buttons need to look exactly like this and it needs to be in English and not scaled. Colours need to be standard.\\n    * Most tables are mapped to real money. They won't work with play money.\\n    * The poker table window has to be fully visible and cannot be scaled, otherwise it won't be detected properly.\\n    * In Partypoker, when you open the table, choose table options and then choose **back to default size** to make sure the table is in default size.\\n\\n- Tables are mapped for fast forward and zoom games with real money. Use the Supersonic3 table for Partypoker or McNaught table in Pokerstars.\\n- If things still don't work, consider teaching it a new table as described above.\\n\\nCards not recognized\\n~~~~~~~~~~~~~~~~~~~~~\\n\\n- Make sure everything looks exactly like in the picture at the top of this documentation.\\n    * Make sure to use real money. Tables are different for play money.\\n    * Ensure you are seated at the position as shown in the picture above.\\n    * Currently the bot only works for tables with 6 players.\\n\\n\\nDo I need to use a virtual machine?\\n~~~~~~~~~~~~~~~~~~~~~~~~~~~~~~~~~~~\\n\\n- For Pokerstars you definitely do, otherwise you will be blocked and your account will be frozen within minutes. For Partypoker I'm not sure. But best check the terms and conditions.\\n\\n\\nAnalyzing the log and reporting problems\\n~~~~~~~~~~~~~~~~~~~~~~~~~~~~~~~~~~~~~~~~\\n\\n- In the folder where you installed the pokerbot, there is a subfolder with the log files in /log. There are also screenshots in /log/screenshots that may be able to help debug the problem.\\n- Create a issue on the link at the top of this github page https://github.com/dickreuter/Poker/issues or email dickreuter@gmail.com.\\n\\n\\nRelated projects\\n----------------\\nTraining the bot by playing against itself is a separate project which can be found here:\\nhttps://github.com/dickreuter/neuron_poker</td>\n",
       "    </tr>\n",
       "    <tr>\n",
       "      <th>1</th>\n",
       "      <td>pret/pokered</td>\n",
       "      <td>Assembly</td>\n",
       "      <td># Pokémon Red and Blue [![Build Status][ci-badge]][ci]\\n\\nThis is a disassembly of Pokémon Red and Blue.\\n\\nIt builds the following ROMs:\\n\\n- Pokemon Red (UE) [S][!].gb `sha1: ea9bcae617fdf159b045185467ae58b2e4a48b9a`\\n- Pokemon Blue (UE) [S][!].gb `sha1: d7037c83e1ae5b39bde3c30787637ba1d4c48ce2`\\n- BLUEMONS.GB (debug build) `sha1: 5b1456177671b79b263c614ea0e7cc9ac542e9c4`\\n- dmgapae0.e69.patch `sha1: 0fb5f743696adfe1dbb2e062111f08f9bc5a293a`\\n- dmgapee0.e68.patch `sha1: ed4be94dc29c64271942c87f2157bca9ca1019c7`\\n\\nTo set up the repository, see [**INSTALL.md**](INSTALL.md).\\n\\n\\n## See also\\n\\n- **Discord:** [pret][discord]\\n- **IRC:** [libera#pret][irc]\\n\\nOther disassembly projects:\\n\\n- [**Pokémon Yellow**][pokeyellow]\\n- [**Pokémon Gold/Silver**][pokegold]\\n- [**Pokémon Crystal**][pokecrystal]\\n- [**Pokémon Pinball**][pokepinball]\\n- [**Pokémon TCG**][poketcg]\\n- [**Pokémon Ruby**][pokeruby]\\n- [**Pokémon FireRed**][pokefirered]\\n- [**Pokémon Emerald**][pokeemerald]\\n\\n[pokeyellow]: https://github.com/pret/pokeyellow\\n[pokegold]: https://github.com/pret/pokegold\\n[pokecrystal]: https://github.com/pret/pokecrystal\\n[pokepinball]: https://github.com/pret/pokepinball\\n[poketcg]: https://github.com/pret/poketcg\\n[pokeruby]: https://github.com/pret/pokeruby\\n[pokefirered]: https://github.com/pret/pokefirered\\n[pokeemerald]: https://github.com/pret/pokeemerald\\n[discord]: https://discord.gg/d5dubZ3\\n[irc]: https://web.libera.chat/?#pret\\n[ci]: https://github.com/pret/pokered/actions\\n[ci-badge]: https://github.com/pret/pokered/actions/workflows/main.yml/badge.svg\\n</td>\n",
       "    </tr>\n",
       "    <tr>\n",
       "      <th>2</th>\n",
       "      <td>ishikota/PyPokerEngine</td>\n",
       "      <td>Python</td>\n",
       "      <td># PyPokerEngine\\n\\n[![Build Status](https://travis-ci.org/ishikota/PyPokerEngine.svg?branch=master)](https://travis-ci.org/ishikota/PyPokerEngine)\\n[![Coverage Status](https://coveralls.io/repos/github/ishikota/PyPokerEngine/badge.svg?branch=master)](https://coveralls.io/github/ishikota/PyPokerEngine?branch=master)\\n[![PyPI](https://img.shields.io/pypi/v/PyPokerEngine.svg?maxAge=2592000)](https://badge.fury.io/py/PyPokerEngine)\\n[![license](https://img.shields.io/github/license/mashape/apistatus.svg?maxAge=2592000)](https://github.com/ishikota/kyoka/blob/master/LICENSE.md)\\n\\nPoker engine for AI development in Python\\n\\n# Tutorial\\nThis tutorial leads you to start point of poker AI development!!\\n#### Outline of Tutorial\\n1. Create simple AI which always returns same action.\\n2. Play AI vs AI poker game and see its result.\\n\\n#### Installation\\nBefore start AI development, we need to install *PyPokerEngine*.  \\nYou can use pip like this.\\n```\\npip install PyPokerEngine\\n```\\nThis library supports Python 2 (2.7) and Python3 (3.5).\\n\\n## Create first AI\\nIn this section, we create simple AI which always declares *CALL* action.  \\nTo create poker AI, what we do is following\\n\\n1. Create PokerPlayer class which is subclass of [`PypokerEngine.players.BasePokerPlayer`](https://github.com/ishikota/PyPokerEngine/blob/master/pypokerengine/players/base_poker_player.py).\\n2. Implement abstract methods which inherit from `BasePokerPlayer` class.\\n\\n\\nHere is the code of our first AI. (We assume you saved this file at `~/dev/fish_player.py`)  \\n\\n```python\\nfrom pypokerengine.players import BasePokerPlayer\\n\\nclass FishPlayer(BasePokerPlayer):  # Do not forget to make parent class as \"BasePokerPlayer\"\\n\\n    #  we define the logic to make an action through this method. (so this method would be the core of your AI)\\n    def declare_action(self, valid_actions, hole_card, round_state):\\n        # valid_actions format =&gt; [raise_action_info, call_action_info, fold_action_info]\\n        call_action_info = valid_actions[1]\\n        action, amount = call_action_info[\"action\"], call_action_info[\"amount\"]\\n        return action, amount   # action returned here is sent to the poker engine\\n\\n    def receive_game_start_message(self, game_info):\\n        pass\\n\\n    def receive_round_start_message(self, round_count, hole_card, seats):\\n        pass\\n\\n    def receive_street_start_message(self, street, round_state):\\n        pass\\n\\n    def receive_game_update_message(self, action, round_state):\\n        pass\\n\\n    def receive_round_result_message(self, winners, hand_info, round_state):\\n        pass\\n\\n\\n```\\nIf you are interested in what each callback method receives, See [AI_CALLBACK_FORMAT.md](https://github.com/ishikota/PyPokerEngine/blob/master/AI_CALLBACK_FORMAT.md).\\n\\n## Play AI vs AI poker game\\nOk, let's play the poker game by using our created `FishPlayer`.  \\nTo start the game, what we need to do is following\\n\\n1. Define game rule through `Config` object (ex. start stack, blind amount, ante, blind_structures)\\n2. Register your AI with `Config` object.\\n3. Start the game and get game result\\n\\nHere is the code to play poker for 10 round with our created `FishPlayer`.\\n```python\\nfrom pypokerengine.api.game import setup_config, start_poker\\n\\nconfig = setup_config(max_round=10, initial_stack=100, small_blind_amount=5)\\nconfig.register_player(name=\"p1\", algorithm=FishPlayer())\\nconfig.register_player(name=\"p2\", algorithm=FishPlayer())\\nconfig.register_player(name=\"p3\", algorithm=FishPlayer())\\ngame_result = start_poker(config, verbose=1)\\n```\\nWe set `verbose=1`, so simple game logs are output after `start_poker` call.\\n```\\nStarted the round 1\\nStreet \"preflop\" started. (community card = [])\\n\"p1\" declared \"call:10\"\\n\"p2\" declared \"call:10\"\\n\"p3\" declared \"call:10\"\\nStreet \"flop\" started. (community card = ['C4', 'C6', 'CA'])\\n\"p2\" declared \"call:0\"\\n\"p3\" declared \"call:0\"\\n\"p1\" declared \"call:0\"\\nStreet \"turn\" started. (community card = ['C4', 'C6', 'CA', 'D4'])\\n\"p2\" declared \"call:0\"\\n\"p3\" declared \"call:0\"\\n\"p1\" declared \"call:0\"\\nStreet \"river\" started. (community card = ['C4', 'C6', 'CA', 'D4', 'H2'])\\n\"p2\" declared \"call:0\"\\n\"p3\" declared \"call:0\"\\n\"p1\" declared \"call:0\"\\n\"['p3']\" won the round 1 (stack = {'p2': 90, 'p3': 120, 'p1': 90})\\nStarted the round 2\\n...\\n\"['p1']\" won the round 10 (stack = {'p2': 30, 'p3': 120, 'p1': 150})\\n```\\nFinally, let's check the game result !!\\n```python\\n&gt;&gt;&gt; print game_result\\n{\\n  'rule': {'ante': 0, 'blind_structure': {}, 'max_round': 10, 'initial_stack': 100, 'small_blind_amount': 5},\\n  'players': [\\n    {'stack': 150, 'state': 'participating', 'name': 'p1', 'uuid': 'ijaukuognlkplasfspehcp'},\\n    {'stack': 30, 'state': 'participating', 'name': 'p2', 'uuid': 'uadjzyetdwsaxzflrdsysj'},\\n    {'stack': 120, 'state': 'participating', 'name': 'p3', 'uuid': 'tmnkoazoqitkzcreihrhao'}\\n  ]\\n}\\n```\\n\\n## GUI support\\nWe also provide GUI application. You can play poker with your AI on browser.  \\nPlease check [PyPokerGUI](https://github.com/ishikota/PyPokerGUI).\\n\\n&lt;img src=\"https://github.com/ishikota/PyPokerGUI/blob/master/screenshot/poker_demo.gif\" width=500 /&gt;\\n\\n# for Reinforcement Learning users\\n`PyPokerEngine` is developed for Reinforcement Learning usecase.  \\nSo we also provide `Emulator` class which has convinient methods for Reinforcement Learning.  \\nCommon usage of `Emulator` would be like below.  \\n\\n```python\\nfrom pypokerengine.players import BasePokerPlayer\\nfrom pypokerengine.api.emulator import Emulator\\nfrom pypokerengine.utils.game_state_utils import restore_game_state\\n\\nfrom mymodule.poker_ai.player_model import SomePlayerModel\\n\\nclass RLPLayer(BasePokerPlayer):\\n\\n    # Setup Emulator object by registering game information\\n    def receive_game_start_message(self, game_info):\\n        player_num = game_info[\"player_num\"]\\n        max_round = game_info[\"rule\"][\"max_round\"]\\n        small_blind_amount = game_info[\"rule\"][\"small_blind_amount\"]\\n        ante_amount = game_info[\"rule\"][\"ante\"]\\n        blind_structure = game_info[\"rule\"][\"blind_structure\"]\\n        \\n        self.emulator = Emulator()\\n        self.emulator.set_game_rule(player_num, max_round, small_blind_amount, ante_amount)\\n        self.emulator.set_blind_structure(blind_structure)\\n        \\n        # Register algorithm of each player which used in the simulation.\\n        for player_info in game_info[\"seats\"][\"players\"]:\\n            self.emulator.register_player(player_info[\"uuid\"], SomePlayerModel())\\n\\n    def declare_action(self, valid_actions, hole_card, round_state):\\n        game_state = restore_game_state(round_state)\\n        # decide action by using some simulation result\\n        # updated_state, events = self.emulator.apply_action(game_state, \"fold\")\\n        # updated_state, events = self.emulator.run_until_round_finish(game_state)\\n        # updated_state, events = self.emulator.run_until_game_finish(game_state)\\n        if self.is_good_simulation_result(updated_state):\\n            return # you would declare CALL or RAISE action\\n        else:\\n            return \"fold\", 0\\n    \\n```\\n\\n# Documentation\\nFor mode detail, please checkout [doc site](https://ishikota.github.io/PyPokerEngine/)\\n\\n</td>\n",
       "    </tr>\n",
       "    <tr>\n",
       "      <th>3</th>\n",
       "      <td>andrewprock/pokerstove</td>\n",
       "      <td>C++</td>\n",
       "      <td>PokerStove\\n==========\\n\\n[![OpenHUB Metrics](https://www.openhub.net/p/pokerstove/widgets/project_thin_badge.gif)](https://www.openhub.net/p/pokerstove)\\n\\nPokerStove is a highly hand optimized C++ poker hand evaluation library.  The Win32 Hold'em\\nGUI was first released in 2002, and has been available as freeware since\\nit's first release.\\n\\nThe core libraries of pokerstove are being open sourced.  The project is\\ncurrently in the process of reviewing and publishing the code.  As code is\\nreviewed and code sanitized further commits will be added.\\n\\nPlease find the old installer in the win32 directory.  That installer should\\ninstall a version of PokerStove which will not expire at any time.  You can also\\nfind the apk file for the Android version of the utility in the android folder.\\n\\n## Libraries\\n\\n### peval\\n\\nThis is a c++ poker hand evaluation library.  The main design goals of the library\\nare generality, extensibility, and ease of use.  There are evaluators for fourteen\\nvariants of poker.  Additionally, there are various card manipulation and query tools built\\ninto the CardSet class.\\n\\n## Programs\\n\\n### ps-eval\\n\\nA tool for poker hand evaluation.  It demonstrates how to use the peval library, and to create\\nevaluators for the different variants of poker.\\n\\n### ps-colex\\n\\nA utility for viewing colexicographical index for sets of cards.\\n\\n## Building\\n\\nThe pokerstove libraries come with build scripts for cmake.  This\\nshould allow you to build it on any platform with minimal\\ntweaking.  This project has been successfully build under linux/g++,\\nwindows/vc2010 and OSX/XCode so far.\\n\\nIn order to build the libraries you'll need the following\\ninstalled on your platform of choice:\\n\\n* boost, version 1.46 or higher\\n* cmake, version 2.4 or higher\\n\\n### Linux\\n\\nTo install the dependencies with apt get:\\n\\n    apt-get install libboost-all-dev cmake\\n\\nTo build under linux using cmake, create a build directory,\\ninvoke cmake on the programs directory, then build.\\n\\n    git clone https://github.com/andrewprock/pokerstove.git\\n    mkdir pokerstove/build\\n    cd pokerstove/build\\n    cmake -DCMAKE_BUILD_TYPE=Release ..\\n    make &amp;&amp; make test\\n\\nYou should then be able to execute the simple command line\\nexample:\\n\\n    ~/cmake/programs$ ./programs/ps-eval/ps-eval\\n    Allowed options:\\n      -? [ --help ]          produce help message\\n      -g [ --game ] arg (=h) game to use for evaluation\\n      -b [ --board ] arg     community cards for he/o/o8\\n      -h [ --hand ] arg      a hand for evaluation\\n      -q [ --quiet ]         produce no output\\n\\n       For the --game option, one of the follwing games may be\\n       specified.\\n         h     hold'em\\n         o     omaha/8\\n         O     omaha high\\n         r     razz\\n         s     stud\\n         e     stud/8\\n         q     stud high/low no qualifier\\n         d     draw high\\n         l     lowball (A-5)\\n         k     Kansas City lowball (2-7)\\n         t     triple draw lowball (2-7)\\n         T     triple draw lowball (A-5)\\n         b     badugi\\n         3     three-card poker\\n\\n       examples:\\n           ps-eval acas\\n           ps-eval AcAs Kh4d --board 5c8s9h\\n           ps-eval AcAs Kh4d --board 5c8s9h\\n           ps-eval --game l 7c5c4c3c2c\\n           ps-eval --game k 7c5c4c3c2c\\n           ps-eval --game kansas-city-lowball 7c5c4c3c2c\\n\\n\\n### Windows\\n\\nGetting boost to work under windows can be a bit of a challenge.\\nOne of the easier ways is to install precompiled librares.  There\\nis a batch of them available at sourceforge. If you're working\\nwith Visual Studio 2010, you will probably need the 32 bit\\nlibraries.  [boost precomplied libraries]\\n(http://sourceforge.net/projects/boost/files/boost-binaries/1.53.0/)\\n\\nUnder windows, the cmake gui can be used to construct solution\\nand project files for Visual Studio 2010.  To do this, browse\\nsource to locate the programs directory git/pokerstove/programs.\\nThen create a build dir for the project.  At the bottom of the\\ngui click Configure, then Generate.  You may have to edit the\\ngit/pokerstove/programs/CMakeLists.txt to point cmake to your\\ninstallation of boost.\\n\\nOnce you've done that, you should be able to select\\n\\n    Menu-&gt;Build-&gt;Build Solution\\n\\nto build the sample program.\\n\\n\\n### OSX\\n\\nIn order to build under Max OSX, you'll need to install XCode,\\ngit, cmake, macports, and boost.  The first four can be installed\\nin the conventional manner, with XCode coming form the App Store, cmake,\\ngit and macports downloaded from the web.  The macports package is a\\ntypical unix package management utility and is required to install boost.\\nOnce you've installed and selfupdate'd macports, you can install boost:\\n\\n    sudo port install boost -no_static\\n\\nFrom there you can run the cmake gui as in windows.  This will create\\nan XCode project which should compile the sample utility. Alternatively,\\nfollow the command  line `cmake` instructions in the [Linux section](#linux).\\n</td>\n",
       "    </tr>\n",
       "    <tr>\n",
       "      <th>4</th>\n",
       "      <td>pokerregion/poker</td>\n",
       "      <td>Python</td>\n",
       "      <td>Poker framework for Python\\n==========================\\n\\n|travis| |coveralls| |pythons| |release| |license| |wheel| |downloads|\\n\\nA Python framework for poker related operations.\\n\\nIt contains classes for parsing card Suits, Cards, Hand combinations (called Combos),\\nconstruct hand Ranges and check for syntax, parse Hand histories.\\n\\nIt can get information from poker related websites like\\nPocketfives, TwoplusTwo Forum, or PokerStars website by scraping them.\\nIn the long term, it will have a fast hand evaluator and an equity calculator.\\n\\nIt uses the MIT license, so its code can be used in any product without legal consequences.\\n\\nIt aims for quality, fully tested code and easy usability with nice APIs, suitable for beginners\\nto play with.\\n\\n\\nDocumentation\\n-------------\\n\\nhttps://poker.readthedocs.org/\\n\\nState of the project\\n--------------------\\n\\nAs you can see, there is not much activity from me, because I don't play poker anymore and \\nI don't have motivation to develop this library. The PokerStars parser is broken because \\na small change in PokerStars hand history format. A serious investment/donation would be\\nrequired to allow me to work on this library.\\n\\n\\nLicense\\n-------\\n\\nThe MIT License (MIT)\\n\\nCopyright (c) 2013-2019 Kiss György\\n\\n\\nRepo and contact\\n----------------\\n\\n| Repo: https://github.com/pokerregion/poker\\n| `@kissgyorgy &lt;https://twitter.com/kissgyorgy&gt;`_ on twitter\\n| or you can reach me on my `public Github e-mail &lt;https://github.com/kissgyorgy&gt;`_.\\n\\n\\n.. |travis| image:: https://travis-ci.org/pokerregion/poker.svg?branch=master\\n   :target: https://travis-ci.org/pokerregion/poker\\n\\n.. |coveralls| image:: https://coveralls.io/repos/pokerregion/poker/badge.png?branch=master\\n  :target: https://coveralls.io/r/pokerregion/poker?branch=master\\n\\n.. |pythons| image:: https://img.shields.io/pypi/pyversions/poker.svg\\n   :target: https://pypi.python.org/pypi/poker/\\n   :alt: Supported Python versions\\n\\n.. |release| image:: https://img.shields.io/pypi/v/poker.svg\\n   :target: https://pypi.python.org/pypi/poker/\\n   :alt: Latest Version\\n\\n.. |license| image:: https://img.shields.io/badge/license-MIT-blue.svg\\n   :target: https://github.com/pokerregion/poker/blob/master/LICENSE\\n   :alt: MIT License\\n\\n.. |downloads| image:: https://img.shields.io/pypi/dm/poker.svg\\n   :target: https://pypi.python.org/pypi/poker/\\n   :alt: Downloads\\n\\n.. |wheel| image:: https://img.shields.io/pypi/wheel/poker.svg\\n   :target: https://pypi.python.org/pypi/poker/\\n   :alt: Wheel package\\n</td>\n",
       "    </tr>\n",
       "    <tr>\n",
       "      <th>...</th>\n",
       "      <td>...</td>\n",
       "      <td>...</td>\n",
       "      <td>...</td>\n",
       "    </tr>\n",
       "    <tr>\n",
       "      <th>495</th>\n",
       "      <td>IMGameDesigner/PokerGame</td>\n",
       "      <td>JavaScript</td>\n",
       "      <td>### 满意请给个star\\n### [1.0原版js](https://github.com/IMGameDesigner/PokerGame/blob/master/a.js)\\n* 针对CocosCreator1.9.3,一副牌斗地主\\n* onload方法：内含测试数据和使用方法\\n* can_out_poker方法：输入两个无序（含1~54）数组（对手的出牌+自己打算出的牌），进行跟牌正误判断，输出false or true\\n* AI_chupai方法：输入两个无序（含1~54）数组（对手的出牌+自己的全部手牌），输出一个无序队列包含AI智能出牌结果（1代表小三，13代表2，14代表大小王，无花色区分）\\n* （1~54）1：A，2：2，13：K，14：A，53：小王，54：大王\\n### [1.1java版（修改了AI_chupai的部分bug）](https://github.com/IMGameDesigner/PokerGame/blob/master/landowner.java)\\n* 构造方法：内含测试数据和使用方法\\n* AI_chupai方法：输入两个无序（含1~54）数组（对手的出牌+自己的手牌），输出一个无序队列包含AI智能出牌结果（1代表小三，13代表2，14代表大小王，无花色区分）\\n\\n</td>\n",
       "    </tr>\n",
       "    <tr>\n",
       "      <th>496</th>\n",
       "      <td>houen/PokerFace</td>\n",
       "      <td>ActionScript</td>\n",
       "      <td>This [Actionscript Flash poker (5-card &amp; Texas Hold’em)](http://blog.houen.net/actionscript-3-poker-hand-evaluator/ \"Actionscript Flash poker (5-card &amp; Texas Hold’em)\") evaluator will evaluate more than 14,000 hands per second, with a size of around 6 kb. It also includes classes to wrap everything up nice and tight for convenience.\\n\\nStarting from [this post](http://www.codingthewheel.com/archives/poker-hand-evaluator-roundup \"Poker blog post\") about poker hand evaluators, i converted the improved version of [Cactukev’s poker hand evaluator](http://www.suffecool.net/poker/evaluator.html \"Cactukev’s poker hand evaluator\") to AS3 some time ago, and wrapped it in some nice OO classes to make it easily accessible.\\n\\nThe OO classes include ways to handle a Deck of cards, a Dealer to draw cards from it, objects to represent a 5- and 7-card hand and compare strengths, and a Card class to make card strength and textual representation easy.\\n\\nThe straight dope is that I have tested it to evaluate approx. 2.6 mio. 5-card poker hands in 6.3 seconds, and 133 mio. 7-card poker hands in approx. 2.5 hours, or about 14.000 hands per second. The test evaluated the correct evaluation of all possible 5- and 7-card poker hands.\\nThe tests were run on a 2.8 gHz Macbook Pro with 4Gb RAM\\n\\n*Included in the library*\\n\\nsource code\\n.swc binary\\nAPI reference\\nThe test to evaluate that it runs correctly here (AIR application)\\n\\n*License:*\\nThe original code i ported it from was released to the public domain, and is as such free to use, modify and redistribute.\\nI am releasing this code under the MIT license. License info is found in the source files.</td>\n",
       "    </tr>\n",
       "    <tr>\n",
       "      <th>497</th>\n",
       "      <td>ngocbd/pokerserver</td>\n",
       "      <td>Java</td>\n",
       "      <td># pokerserver\\n[![Codacy Badge](https://api.codacy.com/project/badge/Grade/61b2af6402014b01bf7505e9179108e4)](https://app.codacy.com/app/ngocbd/pokerserver?utm_source=github.com&amp;utm_medium=referral&amp;utm_content=ngocbd/pokerserver&amp;utm_campaign=Badge_Grade_Dashboard)\\n[![codecov](https://codecov.io/gh/ngocbd/pokerserver/branch/master/graph/badge.svg)](https://codecov.io/gh/ngocbd/pokerserver)\\n[![Build Status](https://travis-ci.org/ngocbd/pokerserver.svg?branch=master)](https://travis-ci.org/ngocbd/pokerserver)\\n\\n</td>\n",
       "    </tr>\n",
       "    <tr>\n",
       "      <th>498</th>\n",
       "      <td>mikaelbr/AI-Poker-Player</td>\n",
       "      <td>Python</td>\n",
       "      <td># AI Poker Player\\n===============================================================\\nInitial commit for the AI Poker Player student project at NTNU. \\n\\nCode done by and for Mikael Brevik and Martin Akre Midsund\\n</td>\n",
       "    </tr>\n",
       "    <tr>\n",
       "      <th>499</th>\n",
       "      <td>ProPanek/PlanningPoker</td>\n",
       "      <td>JavaScript</td>\n",
       "      <td># Planning Poker\\n[![Codacy Badge](https://api.codacy.com/project/badge/Grade/bc4ede09cfb34695993224552e1cb2af)](https://www.codacy.com/app/ProPanek/PlanningPoker?utm_source=github.com&amp;amp;utm_medium=referral&amp;amp;utm_content=ProPanek/PlanningPoker&amp;amp;utm_campaign=Badge_Grade)\\n[![dependencies Status](https://david-dm.org/ProPanek/PlanningPoker/status.svg)](https://david-dm.org/ProPanek/PlanningPoker)\\n[![devDependencies Status](https://david-dm.org/ProPanek/PlanningPoker/dev-status.svg)](https://david-dm.org/ProPanek/PlanningPoker?type=dev)\\n\\nLet's make your planning session go online!\\n\\n## Getting Started\\n\\nIf you want to start project locally follow the instructions below.\\n\\n### Prerequisites\\n\\n```\\nnode.js ^8.*.*\\n\\nnpm or yarn as package manager\\n```\\n\\n### Installing\\n\\nFirst install packages in root folder of the project.\\n\\n```\\nyarn install\\n```\\n\\nThen go to `/client` folder and repeat\\n\\n```\\ncd client/\\nyarn install \\n```\\n\\nNext you need to go to the `package.json` in your `/client` and change or add line to\\n\\n```\\n\"proxy\": \"http://localhost:5000\",\\n```\\n\\nThis allow our `create-react-app` application to know where our api is running (which port and domain if you have server on different machine).\\nAfter you finish just type in `root` folder\\n\\n```\\nyarn dev\\n```\\n\\nAnd that's it!\\n\\n## Testing\\n\\n```\\njest, enzyme, sinon\\n```\\n\\nTo test type\\n\\n`yarn test`\\n\\n## Deployment\\n\\nAfter you deploy this program into some kind of hosting you need to remember to change `proxy` in our `package.json` in `/client/package.json` to\\n\\n```\\n\"proxy\": \"yourdomain\",\\n```\\n\\n## Built With\\n\\n*   [create-react-app](https://github.com/facebook/create-react-app) - client side\\n*   [node.js](https://github.com/nodejs) - server\\n*   [socket.io](https://github.com/socketio/socket.io) - WebSockets\\n\\n## Authors\\n\\n*   **Sebastian Ogarek** - *Main work* - [ProPanek](https://github.com/ProPanek)\\n\\nSee also the list of [contributors](https://github.com/ProPanek/PlanningPoker/contributors) who participated in this project.\\n\\n## License\\n\\nThis project is licensed under the MIT License - see the [LICENSE.md](https://github.com/ProPanek/PlanningPoker/blob/master/LICENSE) file for details\\n</td>\n",
       "    </tr>\n",
       "  </tbody>\n",
       "</table></div>"
      ],
      "text/plain": [
       "                         repo      language  \\\n",
       "0            dickreuter/Poker        Python   \n",
       "1                pret/pokered      Assembly   \n",
       "2      ishikota/PyPokerEngine        Python   \n",
       "3      andrewprock/pokerstove           C++   \n",
       "4           pokerregion/poker        Python   \n",
       "..                        ...           ...   \n",
       "495  IMGameDesigner/PokerGame    JavaScript   \n",
       "496           houen/PokerFace  ActionScript   \n",
       "497        ngocbd/pokerserver          Java   \n",
       "498  mikaelbr/AI-Poker-Player        Python   \n",
       "499    ProPanek/PlanningPoker    JavaScript   \n",
       "\n",
       "                                       readme_contents  \n",
       "0    Deep mind pokerbot for pokerstars, partypoker ...  \n",
       "1    # Pokémon Red and Blue [![Build Status][ci-bad...  \n",
       "2    # PyPokerEngine\\n\\n[![Build Status](https://tr...  \n",
       "3    PokerStove\\n==========\\n\\n[![OpenHUB Metrics](...  \n",
       "4    Poker framework for Python\\n==================...  \n",
       "..                                                 ...  \n",
       "495  ### 满意请给个star\\n### [1.0原版js](https://github.co...  \n",
       "496  This [Actionscript Flash poker (5-card & Texas...  \n",
       "497  # pokerserver\\n[![Codacy Badge](https://api.co...  \n",
       "498  # AI Poker Player\\n===========================...  \n",
       "499  # Planning Poker\\n[![Codacy Badge](https://api...  \n",
       "\n",
       "[500 rows x 3 columns]"
      ]
     },
     "execution_count": 2,
     "metadata": {},
     "output_type": "execute_result"
    }
   ],
   "source": [
    "df = acquire_df.get_NLP_df()\n",
    "df"
   ]
  },
  {
   "cell_type": "code",
   "execution_count": 3,
   "metadata": {},
   "outputs": [
    {
     "name": "stdout",
     "output_type": "stream",
     "text": [
      "<class 'pandas.core.frame.DataFrame'>\n",
      "Int64Index: 456 entries, 0 to 499\n",
      "Data columns (total 3 columns):\n",
      " #   Column           Non-Null Count  Dtype \n",
      "---  ------           --------------  ----- \n",
      " 0   repo             456 non-null    object\n",
      " 1   language         440 non-null    object\n",
      " 2   readme_contents  456 non-null    object\n",
      "dtypes: object(3)\n",
      "memory usage: 14.2+ KB\n"
     ]
    }
   ],
   "source": [
    "df = df.drop_duplicates(subset='readme_contents', keep='first', inplace=False, ignore_index=False)\n",
    "df.info()"
   ]
  },
  {
   "cell_type": "code",
   "execution_count": 4,
   "metadata": {},
   "outputs": [
    {
     "name": "stdout",
     "output_type": "stream",
     "text": [
      "<class 'pandas.core.frame.DataFrame'>\n",
      "Int64Index: 440 entries, 0 to 499\n",
      "Data columns (total 3 columns):\n",
      " #   Column           Non-Null Count  Dtype \n",
      "---  ------           --------------  ----- \n",
      " 0   repo             440 non-null    object\n",
      " 1   language         440 non-null    object\n",
      " 2   readme_contents  440 non-null    object\n",
      "dtypes: object(3)\n",
      "memory usage: 13.8+ KB\n"
     ]
    }
   ],
   "source": [
    "# Now that I have a dataframe I need to normalize the text using common tools from previous functions to prep the text for parsing\n",
    "\n",
    "cleaned_df = df.dropna(axis=0, how='any', thresh=None, subset=None, inplace=False)\n",
    "\n",
    "cleaned_df.info()\n",
    "\n",
    "# DataFrame.dropna(axis=0, how='any', thresh=None, subset=None, inplace=False)\n"
   ]
  },
  {
   "cell_type": "code",
   "execution_count": 5,
   "metadata": {},
   "outputs": [
    {
     "data": {
      "text/plain": [
       "repo   language  readme_contents\n",
       "False  False     False              440\n",
       "dtype: int64"
      ]
     },
     "execution_count": 5,
     "metadata": {},
     "output_type": "execute_result"
    }
   ],
   "source": [
    "cleaned_df.isna().value_counts()"
   ]
  },
  {
   "cell_type": "code",
   "execution_count": 6,
   "metadata": {},
   "outputs": [
    {
     "data": {
      "text/plain": [
       "repo               object\n",
       "language           object\n",
       "readme_contents    object\n",
       "dtype: object"
      ]
     },
     "execution_count": 6,
     "metadata": {},
     "output_type": "execute_result"
    }
   ],
   "source": [
    "cleaned_df.dtypes"
   ]
  },
  {
   "cell_type": "code",
   "execution_count": 7,
   "metadata": {},
   "outputs": [
    {
     "data": {
      "text/plain": [
       "0      Deep mind pokerbot for pokerstars, partypoker ...\n",
       "1      # Pokémon Red and Blue [![Build Status][ci-bad...\n",
       "2      # PyPokerEngine\\n\\n[![Build Status](https://tr...\n",
       "3      PokerStove\\n==========\\n\\n[![OpenHUB Metrics](...\n",
       "4      Poker framework for Python\\n==================...\n",
       "                             ...                        \n",
       "495    ### 满意请给个star\\n### [1.0原版js](https://github.co...\n",
       "496    This [Actionscript Flash poker (5-card & Texas...\n",
       "497    # pokerserver\\n[![Codacy Badge](https://api.co...\n",
       "498    # AI Poker Player\\n===========================...\n",
       "499    # Planning Poker\\n[![Codacy Badge](https://api...\n",
       "Name: readme_contents, Length: 440, dtype: object"
      ]
     },
     "execution_count": 7,
     "metadata": {},
     "output_type": "execute_result"
    }
   ],
   "source": [
    "cleaned_df.readme_contents.astype(\"str\")"
   ]
  },
  {
   "cell_type": "code",
   "execution_count": 8,
   "metadata": {},
   "outputs": [
    {
     "name": "stdout",
     "output_type": "stream",
     "text": [
      "<class 'pandas.core.frame.DataFrame'>\n",
      "RangeIndex: 440 entries, 0 to 439\n",
      "Data columns (total 4 columns):\n",
      " #   Column           Non-Null Count  Dtype \n",
      "---  ------           --------------  ----- \n",
      " 0   index            440 non-null    int64 \n",
      " 1   repo             440 non-null    object\n",
      " 2   language         440 non-null    object\n",
      " 3   readme_contents  440 non-null    object\n",
      "dtypes: int64(1), object(3)\n",
      "memory usage: 13.9+ KB\n"
     ]
    }
   ],
   "source": [
    "cleaned_df = cleaned_df.reset_index()\n",
    "cleaned_df.info()"
   ]
  },
  {
   "cell_type": "code",
   "execution_count": 9,
   "metadata": {},
   "outputs": [
    {
     "data": {
      "text/html": [
       "<div><div id=b2aabb76-809e-4d8c-950c-48756e53c294 style=\"display:none; background-color:#9D6CFF; color:white; width:200px; height:30px; padding-left:5px; border-radius:4px; flex-direction:row; justify-content:space-around; align-items:center;\" onmouseover=\"this.style.backgroundColor='#BA9BF8'\" onmouseout=\"this.style.backgroundColor='#9D6CFF'\" onclick=\"window.commands?.execute('create-mitosheet-from-dataframe-output');\">See Full Dataframe in Mito</div> <script> if (window.commands?.hasCommand('create-mitosheet-from-dataframe-output')) document.getElementById('b2aabb76-809e-4d8c-950c-48756e53c294').style.display = 'flex' </script> <table border=\"1\" class=\"dataframe\">\n",
       "  <thead>\n",
       "    <tr style=\"text-align: right;\">\n",
       "      <th></th>\n",
       "      <th>content</th>\n",
       "      <th>stemmed_content</th>\n",
       "      <th>lemmed_content</th>\n",
       "    </tr>\n",
       "  </thead>\n",
       "  <tbody>\n",
       "    <tr>\n",
       "      <th>0</th>\n",
       "      <td>Deep mind pokerbot for pokerstars, partypoker and GGPoker\\n==========================================================\\n\\nThis pokerbot plays automatically on Pokerstars, Partypoker and GG Poker. Any other table can be mapped as well.\\nIt works with image recognition, montecarlo simulation and a basic genetic algorithm.\\nThe mouse is moved automatically and the bot can potentially play for hours based on a large number of parameters.\\n\\nYou can download the binaries and run the executable directly from here:\\nhttps://sourceforge.net/projects/partypoker-pokerstars-pokerbot/\\n\\nRunning the bot:\\n----------------\\n\\nPartypoker:\\n~~~~~~~~~~~\\n* Use Fast Forward Tables\\n* Select Official PartyPoker table scraper\\n\\n.. figure:: doc/partypoker.gif\\n\\nPokerstars:\\n~~~~~~~~~~~\\n* Use Zoom Tables\\n* Select Official Poker Stars table scraper\\n* For Pokerstars you will need to make some adjustments to the client. It needs to look exactly as the below, in order to run it with the Official Pokerstars Table scraper:\\n* Make sure to match the card styles (4 color), covered card styles, and table styles.\\n\\n.. figure:: doc/ps-example.png\\n\\nGGPoker:\\n~~~~~~~~~~~\\nMake sure your GGPoker setup looks as follows when using it with the Official GGPoker Table:\\n\\n.. figure:: doc/ggpk2.png\\n\\n\\nGeneral setup:\\n~~~~~~~~~~~~~~\\n\\nIf you just want to run the bot, please do the following:\\n\\nInstall the binearies of the bot from here: https://sourceforge.net/projects/partypoker-pokerstars-pokerbot/\\n\\nYou can then immediately run the bot. It will analyze the poker client, move the mouse and play in accordance\\nwith one of its pre-programmed strategies. Most of the strategies are based on zoom or Fast Forward tables.\\nYou are welcome to edit and imporve any strategies to optmize the play of the bot for your needs.\\n\\nIn most cases it may be useful to put the poker client inside a virtual machine to avoid it from interfering\\nwith the bot. Also, the bot will then be able to control the mouse inside the virtual machine, without blocking\\nthe whole computer:\\n\\n* Download Virtualbox: https://www.virtualbox.org/\\n* Download Windows 10 Iso File for example from here https://www.softlay.com/apps/operating-system\\n* Create a new virtual box environment and use the ISO file as a startup\\n* Make sure to give the Virtualbox only 1 CPU as the computing power is needed for the bot (mainly for OCR)\\n* Install Partypoker or Pokerstars in the virtual box environment\\n* Install the pokerbot directly onto your computer (outside of the virtual box)\\n* In the Setup select your virtual box instance (instead of direct mouse control)\\n* Join the telegram chat by pressing the chat button\\n\\n* The current version Only works on windows\\n* Do not obstruct the view of the table as the bot is based on image recognition\\n* Only one table window should be visible.\\n* For best performance minimize all windows in the vm, except the table window itself\\n* Don't use any dpi scaling in the virtualbox\\n* In setup, try to select your virtual machine instead of direct mouse control. That way mouse movements won't obstruct you.\\n\\n\\nStrategy Analyzer\\n-----------------\\n\\n- You can see the profitability of each strategy in the strategy analyzer.\\n- The bar chart indicates what action types have led to wins or losses at each stage (preflop, flop turn and river)\\n\\nLooking at the stacked bar chart in more detail, gives you clues how to adjust the strategy to maximize your wins:\\n\\n.. figure:: doc/analyzer_bar2.png\\n\\nAnalyze individual rounds within each stage:\\n\\n.. figure:: doc/analyzer_bar3.png\\n\\nAnalyze individual hands:\\n\\n.. figure:: doc/strategy_analyzer.gif\\n\\n\\nStrategy editor\\n---------------\\nA variety of factors are taken into consideration when the bot makes decisions and they can be adjusted in the strategy editor:\\n\\n- Equity (winning probability), which is calculated by a montecarlo simulation\\n- Equity and minimum call/bet value need to be on the left of the corresponding curve in order for the bot not to fold\\n- Various other factors, such as behaviour in the previous rounds are taken into consideration. Check out the strategy editor for more details.\\n- Hover over each item to see a more detailed description\\n\\n.. figure:: doc/strategy2.png\\n\\nA variety of other options can be edited for each strategy:\\n\\n.. figure:: doc/strategy_editor.gif\\n\\nAdvice how to improve strategies:\\n~~~~~~~~~~~~~~~~~~~~~~~~~~~~~~~~~\\n\\n* You will generally require at least 2000 hands played with a strategy to draw any conclusions. Even better 5000 hands. Anything less than 1000 hands is completely random.\\n* Best buy in more than the minimum, this will improve the bots performance as it has more leeway to play. For example on a 0.01/0.02 table, buy in more than the minimum of $2. Ideally start with $4 or even more.\\n* Look at the strategy analyzer and work your way backwards. First improve the River play, then once this is good move on to the Turn, then to the Flop etc. This is because the game is path dependent.\\n* If you make changes in the ranges, you may need to adapt all minimum equities as it changes the equity calculation.\\n* Good Luck!\\n\\nFull version:\\n~~~~~~~~~~~~~\\n\\nThe full version allows you to:\\n\\n* Edit and create new Strategies\\n* View all Strategies of all users\\n\\nTo purchase, please follow this link. You'll then receive a password within 24 hours.\\nhttps://www.paypal.com/webapps/billing/plans/subscribe?plan_id=P-910576034F790373KMC6UZOQ\\n\\nAlternatively you can contact me via email or telegram and request a password directly and pay bitcoin to:\\n1Py5o4WLYMizXc8pFPqzD4yeCAm53BhJit\\n\\nYou can also get a free subscription if you make some meaningful contribution to the codebase.\\n\\nThe easiest way to contribute is by:\\n\\n- Adding new tables\\n- Adding new strategies\\n- Directly add fixes to the code and create a pull request\\n\\n\\n\\nMapping new tables\\n------------------\\n\\nThe bot can learn to read new tables, either by using templates or by training a neural network that uses data augmentation based on the given templates.\\n\\n`Click here to see a Video description how to add a new table &lt;https://www.dropbox.com/s/txpbtsi1drncq4x/20200531_194837.mp4?dl=0&gt;`_\\n\\nThe setup to add new tables looks like this:\\n\\n.. figure:: doc/scraper.png\\n\\n- Open the pokerbot and click on table setup to open the window that helps you create new tables.\\n- Open the poker client next to it, make sure it's not dpi scaled, so the pokerbot can take screenshots.\\n- Start with creating a new template, you can do this by entering a name for your template, for example Pokerstars 1-2 zoom poker. Click on 'Blank new'.\\n- Now the first think you want to do is to take a screenshot of the pokerstars window with the table. You can do this by pressing on the Take screenshot button. You should not see in the lower window a full screenshot of what is on your screen.\\n- The first step is now to mark the top left corner of the poker tables window, which will be the point of reference for everything else that will follow. To mark the top left corner, you need to mark it by first clicking on the top left part of it and then on the right lower part of it. once you have done this, it will appear in the second window. You can save it by clicking on the \"save newly selected top left corner\" button.\\n- Now you can crop it by pressing on the crop from top left corner button. This will discard most of the screenshot and only keep the screenshot from the top left corner and everything a few hundred pixels to the right of it and below.\\n- Next you will want to mark everything else in the window. Start with the Buttons search area. You can do this again by clicking on the top left area of the buttons and then on the bottom right area of where the buttons appear. Once you are happy with the selection, click on the \"Buttons search area\".\\n- If you hover over the buttons, you will get a more detailed description of what you need to pay attention to.\\n- Note that you will need to take many screenshots, crop them (don't select the top left corner again, as this you should only do once), instead load it and then crop the image. After that make your selection of the different images and save them by pressing on the corresponding button. You'll need to teach it every card and every button etc.\\n\\n\\nRunning via python source code\\n------------------------------\\n- Download pycharm communite edition as an IDE from here: https://www.jetbrains.com/pycharm/download/#section=windows\\n- Install python 3.7 or Anaconda (=python with packages) from here: https://www.python.org/downloads/release/python-379/\\n- Create an environment with ``conda create -n poker python=3.7`` or use pycharm's functionality to create a new virtual environment. Check youtube for details.\\n- Install all the packages with ``pip install -r requirements.txt``\\n- Install tesserocr: `pip install https://github.com/simonflueckiger/tesserocr-windows_build/releases/download/tesserocr-v2.4.0-tesseract-4.0.0/tesserocr-2.4.0-cp37-cp37m-win_amd64.whl`\\n- You also may need to get c++ runtime distributable: https://visualstudio.microsoft.com/downloads/\\n- Install virtualbox from https://www.virtualbox.org/wiki/Downloads and put the poker client into the virtual box. That way it can be controlled without having to use the mouse in your main window.\\n- Run ``main.py`` from pycharm after setting up the above created virtual environment as interpreter (check youtube)\\n\\n\\nPackages and modules:\\n~~~~~~~~~~~~~~~~~~~~~\\n\\nmain.py: entry point\\n\\npoker.scraper\\n^^^^^^^^^^^^^\\n\\nContains user interface and routines that help map new tables\\n\\n- ``recognize_table``: Functions to recognize the different items on the table, based on the created mapping\\n- ``screen_operations``: Various routines, such as taking screen shots, cropping etc\\n- ``table_setup``: Routines in relation to the gui\\n- ``ui_table_setup``: QT user interface. Corresponding py file is created with makegui.bat in the parent folder. To edit the gui download QT Designer and open the .ui file.\\n\\n\\npoker.decisionmaker\\n^^^^^^^^^^^^^^^^^^^\\n\\n-  ``decisionmaker.py``: The ultimate decision what action should be taken based on the input\\n-  ``montecarlo_numpy2.py``: fast numpy based montecarlo simulation to\\n   calculate equity. Not yet working correctly. Some tests are failing. Feel free to fix them.\\n-  ``montecarlo_python.py``: relatively slow python based montecarlo for equity calculation. Supports\\n   preflop ranges for other players.\\n\\npoker.tests\\n^^^^^^^^^^^\\n\\n-  ``test_montecarlo_numpy.py``: tests for the numpy montecarlo\\n-  ``test_pylint.py``: pylint and pydoc tests to ensure pep8 standards and static code analysis\\n\\n\\nGraphical user interface (gui)\\n^^^^^^^^^^^^^^^^^^^^^^^^^^^^^^\\n\\n- Download QT for open source project: https://www.qt.io/download-open-source\\n- Use the qt designer to edit any of the .ui files in gui/ui\\n\\n\\nNext Priorities\\n---------------\\n\\n\\n- [ ] Update tests. Some are currently outdated. More tests are needed\\n- [ ] Add more strategies\\n- [ ] Switch from using pytesseract to tesserocr to speed up OCR, this should considerably speed up the bot\\n- [ ] Better Analyze the collected data to improve strategies\\n\\n\\nMaking fixes in the code\\n~~~~~~~~~~~~~~~~~~~~~~~~\\n\\n- Fixing code and making a pull request back into the origin/master:\\n\\nIt will be hard for one person alone to beat the world at poker. That's\\nwhy this repo aims to have a collaborative environment, where models can\\nbe added and evaluated.\\n\\nTo contribute do the following:\\n\\n- Get Pycharm and build the virtual python environment. Use can do: ``pip install -r requirements.txt`` (see above)\\n- Clone your fork to your local machine. You can do this directly from pycharm: VCS --&gt; check out from version control --&gt; git\\n- Add as remote the original repository where you created the fork from and call it upstream (the connection to your fork should be called origin). This can be done with vcs --&gt; git --&gt; remotes\\n- Create a new branch: click on master at the bottom right, and then click on 'new branch'\\n- Make your edits.\\n- Ensure all tests pass. Under file --&gt; settings --&gt; python integrated tools switch to pytest. You can then just right click on the tests folder and run all tests. All tests need to pass. Make sure to add your own tests by simply naming the funtion test\\_... \\\\n- Make sure all the tests are passing. Best run pytest as described above (in pycharm just right click on the tests folder and run it). If a test fails, you can debug the test, by right clicking on it and put breakpoints, or even open a console at the breakpoint: https://stackoverflow.com/questions/19329601/interactive-shell-debugging-with-pycharm\\n- Commit your changes (CTRL+K}\\n- Push your changes to your origin (your fork) (CTRL+SHIFT+K)\\n- To bring your branch up to date with upstream master, if it has moved on: rebase onto upstream master: click on your branch name at the bottom right of pycharm, then click on upstream/master, then rebase onto. You may need to resolve soe conflicts. Once this is done, make sure to always force-push (ctrl+shift+k), (not just push). This can be done by selecting the dropdown next to push and choose force-push (important: don't push and merge a rebased branch with your remote)\\n- Create a pull request on your github.com to merge your branch with the upstream master.\\n- When your pull request is approved, it will be merged into the upstream/master.\\n- Please make sure that all tests are passing, including the pylint test. You can either run them locally on your machine, or when you push check the travis log on github. [currently many are failing, feel free to help fixing them!]\\n\\n\\n\\nFAQ\\n---\\n\\nNo top left corner\\n~~~~~~~~~~~~~~~~~~\\n\\n- Make sure everything looks exactly like in the picture at the top of this documentation.\\n    * The buttons need to look exactly like this and it needs to be in English and not scaled. Colours need to be standard.\\n    * Most tables are mapped to real money. They won't work with play money.\\n    * The poker table window has to be fully visible and cannot be scaled, otherwise it won't be detected properly.\\n    * In Partypoker, when you open the table, choose table options and then choose **back to default size** to make sure the table is in default size.\\n\\n- Tables are mapped for fast forward and zoom games with real money. Use the Supersonic3 table for Partypoker or McNaught table in Pokerstars.\\n- If things still don't work, consider teaching it a new table as described above.\\n\\nCards not recognized\\n~~~~~~~~~~~~~~~~~~~~~\\n\\n- Make sure everything looks exactly like in the picture at the top of this documentation.\\n    * Make sure to use real money. Tables are different for play money.\\n    * Ensure you are seated at the position as shown in the picture above.\\n    * Currently the bot only works for tables with 6 players.\\n\\n\\nDo I need to use a virtual machine?\\n~~~~~~~~~~~~~~~~~~~~~~~~~~~~~~~~~~~\\n\\n- For Pokerstars you definitely do, otherwise you will be blocked and your account will be frozen within minutes. For Partypoker I'm not sure. But best check the terms and conditions.\\n\\n\\nAnalyzing the log and reporting problems\\n~~~~~~~~~~~~~~~~~~~~~~~~~~~~~~~~~~~~~~~~\\n\\n- In the folder where you installed the pokerbot, there is a subfolder with the log files in /log. There are also screenshots in /log/screenshots that may be able to help debug the problem.\\n- Create a issue on the link at the top of this github page https://github.com/dickreuter/Poker/issues or email dickreuter@gmail.com.\\n\\n\\nRelated projects\\n----------------\\nTraining the bot by playing against itself is a separate project which can be found here:\\nhttps://github.com/dickreuter/neuron_poker</td>\n",
       "      <td>deep mind pokerbot pokerstar partypok ggpoker pokerbot play automat pokerstar partypok gg poker tabl map well work imag recognit montecarlo simul basic genet algorithm mous move automat bot potenti play hour base larg number paramet download binari run execut directli httpssourceforgenetprojectspartypokerpokerstarspokerbot run bot partypok use fast forward tabl select offici partypok tabl scraper figur docpartypokergif pokerstar use zoom tabl select offici poker star tabl scraper pokerstar need make adjust client need look exactli order run offici pokerstar tabl scraper make sure match card style 4 color cover card style tabl style figur docpsexamplepng ggpoker make sure ggpoker setup look follow use offici ggpoker tabl figur docggpk2png gener setup want run bot pleas follow instal bineari bot httpssourceforgenetprojectspartypokerpokerstarspokerbot immedi run bot analyz poker client move mous play accord one preprogram strategi strategi base zoom fast forward tabl welcom edit imporv strategi optmiz play bot need case may use put poker client insid virtual machin avoid interf bot also bot abl control mous insid virtual machin without block whole comput download virtualbox httpswwwvirtualboxorg download window 10 iso file exampl httpswwwsoftlaycomappsoperatingsystem creat new virtual box environ use iso file startup make sure give virtualbox 1 cpu comput power need bot mainli ocr instal partypok pokerstar virtual box environ instal pokerbot directli onto comput outsid virtual box setup select virtual box instanc instead direct mous control join telegram chat press chat button current version work window obstruct view tabl bot base imag recognit one tabl window visibl best perform minim window vm except tabl window use dpi scale virtualbox setup tri select virtual machin instead direct mous control way mous movement obstruct strategi analyz see profit strategi strategi analyz bar chart indic action type led win loss stage preflop flop turn river look stack bar chart detail give clue adjust strategi maxim win figur docanalyzerbar2png analyz individu round within stage figur docanalyzerbar3png analyz individu hand figur docstrategyanalyzergif strategi editor varieti factor taken consider bot make decis adjust strategi editor equiti win probabl calcul montecarlo simul equiti minimum callbet valu need left correspond curv order bot fold variou factor behaviour previou round taken consider check strategi editor detail hover item see detail descript figur docstrategy2png varieti option edit strategi figur docstrategyeditorgif advic improv strategi gener requir least 2000 hand play strategi draw conclus even better 5000 hand anyth less 1000 hand complet random best buy minimum improv bot perform leeway play exampl 001002 tabl buy minimum 2 ideal start 4 even look strategi analyz work way backward first improv river play good move turn flop etc game path depend make chang rang may need adapt minimum equiti chang equiti calcul good luck full version full version allow edit creat new strategi view strategi user purchas pleas follow link receiv password within 24 hour httpswwwpaypalcomwebappsbillingplanssubscribeplanidp910576034f790373kmc6uzoq altern contact via email telegram request password directli pay bitcoin 1py5o4wlymizxc8pfpqzd4yecam53bhjit also get free subscript make meaning contribut codebas easiest way contribut ad new tabl ad new strategi directli add fix creat pull request map new tabl bot learn read new tabl either use templat train neural network use data augment base given templat click see video descript add new tabl httpswwwdropboxcomstxpbtsi1drncq4x20200531194837mp4dl0 setup add new tabl look like figur docscraperpng open pokerbot click tabl setup open window help creat new tabl open poker client next make sure dpi scale pokerbot take screenshot start creat new templat enter name templat exampl pokerstar 12 zoom poker click 'blank new' first think want take screenshot pokerstar window tabl press take screenshot button see lower window full screenshot screen first step mark top left corner poker tabl window point refer everyth els follow mark top left corner need mark first click top left part right lower part done appear second window save click save newli select top left corner button crop press crop top left corner button discard screenshot keep screenshot top left corner everyth hundr pixel right next want mark everyth els window start button search area click top left area button bottom right area button appear happi select click button search area hover button get detail descript need pay attent note need take mani screenshot crop select top left corner instead load crop imag make select differ imag save press correspond button need teach everi card everi button etc run via python sourc download pycharm communit edit ide httpswwwjetbrainscompycharmdownloadsectionwindow instal python 37 anaconda python packag httpswwwpythonorgdownloadsreleasepython379 creat environ conda creat n poker python37 use pycharm' function creat new virtual environ check youtub detail instal packag pip instal r requirementstxt instal tesserocr pip instal httpsgithubcomsimonflueckigertesserocrwindowsbuildreleasesdownloadtesserocrv240tesseract400tesserocr240cp37cp37mwinamd64whl also may need get c runtim distribut httpsvisualstudiomicrosoftcomdownload instal virtualbox httpswwwvirtualboxorgwikidownload put poker client virtual box way control without use mous main window run mainpi pycharm set creat virtual environ interpret check youtub packag modul mainpi entri point pokerscrap contain user interfac routin help map new tabl recognizet function recogn differ item tabl base creat map screenoper variou routin take screen shot crop etc tablesetup routin relat gui uitablesetup qt user interfac correspond py file creat makeguibat parent folder edit gui download qt design open ui file pokerdecisionmak decisionmakerpi ultim decis action taken base input montecarlonumpy2pi fast numpi base montecarlo simul calcul equiti yet work correctli test fail feel free fix montecarlopythonpi rel slow python base montecarlo equiti calcul support preflop rang player pokertest testmontecarlonumpypi test numpi montecarlo testpylintpi pylint pydoc test ensur pep8 standard static analysi graphic user interfac gui download qt open sourc project httpswwwqtiodownloadopensourc use qt design edit ui file guiui next prioriti updat test current outdat test need add strategi switch use pytesseract tesserocr speed ocr consider speed bot better analyz collect data improv strategi make fix fix make pull request back originmast hard one person alon beat world poker that' repo aim collabor environ model ad evalu contribut follow get pycharm build virtual python environ use pip instal r requirementstxt see clone fork local machin directli pycharm vc check version control git add remot origin repositori creat fork call upstream connect fork call origin done vc git remot creat new branch click master bottom right click 'new branch' make edit ensur test pass file set python integr tool switch pytest right click test folder run test test need pass make sure add test simpli name funtion test make sure test pass best run pytest describ pycharm right click test folder run test fail debug test right click put breakpoint even open consol breakpoint httpsstackoverflowcomquestions19329601interactiveshelldebuggingwithpycharm commit chang ctrlk push chang origin fork ctrlshiftk bring branch date upstream master move rebas onto upstream master click branch name bottom right pycharm click upstreammast rebas onto may need resolv soe conflict done make sure alway forcepush ctrlshiftk push done select dropdown next push choos forcepush import push merg rebas branch remot creat pull request githubcom merg branch upstream master pull request approv merg upstreammast pleas make sure test pass includ pylint test either run local machin push check travi log current mani fail feel free help fix faq top left corner make sure everyth look exactli like pictur top document button need look exactli like need english scale colour need standard tabl map real money work play money poker tabl window fulli visibl cannot scale otherwis detect properli partypok open tabl choos tabl option choos back default size make sure tabl default size tabl map fast forward zoom game real money use supersonic3 tabl partypok mcnaught tabl pokerstar thing still work consid teach new tabl describ card recogn make sure everyth look exactli like pictur top document make sure use real money tabl differ play money ensur seat posit shown pictur current bot work tabl 6 player need use virtual machin pokerstar definit otherwis block account frozen within minut partypok i'm sure best check term condit analyz log report problem folder instal pokerbot subfold log file log also screenshot logscreenshot may abl help debug problem creat issu link top page httpsgithubcomdickreuterpokerissu email dickreutergmailcom relat project train bot play separ project found httpsgithubcomdickreuterneuronpok</td>\n",
       "      <td>deep mind pokerbot pokerstars partypoker ggpoker pokerbot play automatically pokerstars partypoker gg poker table mapped well work image recognition montecarlo simulation basic genetic algorithm mouse moved automatically bot potentially play hour based large number parameter download binary run executable directly httpssourceforgenetprojectspartypokerpokerstarspokerbot running bot partypoker use fast forward table select official partypoker table scraper figure docpartypokergif pokerstars use zoom table select official poker star table scraper pokerstars need make adjustment client need look exactly order run official pokerstars table scraper make sure match card style 4 color covered card style table style figure docpsexamplepng ggpoker make sure ggpoker setup look follows using official ggpoker table figure docggpk2png general setup want run bot please following install binearies bot httpssourceforgenetprojectspartypokerpokerstarspokerbot immediately run bot analyze poker client move mouse play accordance one preprogrammed strategy strategy based zoom fast forward table welcome edit imporve strategy optmize play bot need case may useful put poker client inside virtual machine avoid interfering bot also bot able control mouse inside virtual machine without blocking whole computer download virtualbox httpswwwvirtualboxorg download window 10 iso file example httpswwwsoftlaycomappsoperatingsystem create new virtual box environment use iso file startup make sure give virtualbox 1 cpu computing power needed bot mainly ocr install partypoker pokerstars virtual box environment install pokerbot directly onto computer outside virtual box setup select virtual box instance instead direct mouse control join telegram chat pressing chat button current version work window obstruct view table bot based image recognition one table window visible best performance minimize window vm except table window use dpi scaling virtualbox setup try select virtual machine instead direct mouse control way mouse movement obstruct strategy analyzer see profitability strategy strategy analyzer bar chart indicates action type led win loss stage preflop flop turn river looking stacked bar chart detail give clue adjust strategy maximize win figure docanalyzerbar2png analyze individual round within stage figure docanalyzerbar3png analyze individual hand figure docstrategyanalyzergif strategy editor variety factor taken consideration bot make decision adjusted strategy editor equity winning probability calculated montecarlo simulation equity minimum callbet value need left corresponding curve order bot fold various factor behaviour previous round taken consideration check strategy editor detail hover item see detailed description figure docstrategy2png variety option edited strategy figure docstrategyeditorgif advice improve strategy generally require least 2000 hand played strategy draw conclusion even better 5000 hand anything le 1000 hand completely random best buy minimum improve bot performance leeway play example 001002 table buy minimum 2 ideally start 4 even look strategy analyzer work way backwards first improve river play good move turn flop etc game path dependent make change range may need adapt minimum equity change equity calculation good luck full version full version allows edit create new strategy view strategy user purchase please follow link receive password within 24 hour httpswwwpaypalcomwebappsbillingplanssubscribeplanidp910576034f790373kmc6uzoq alternatively contact via email telegram request password directly pay bitcoin 1py5o4wlymizxc8pfpqzd4yecam53bhjit also get free subscription make meaningful contribution codebase easiest way contribute adding new table adding new strategy directly add fix create pull request mapping new table bot learn read new table either using template training neural network us data augmentation based given template click see video description add new table httpswwwdropboxcomstxpbtsi1drncq4x20200531194837mp4dl0 setup add new table look like figure docscraperpng open pokerbot click table setup open window help create new table open poker client next make sure dpi scaled pokerbot take screenshots start creating new template entering name template example pokerstars 12 zoom poker click 'blank new' first think want take screenshot pokerstars window table pressing take screenshot button see lower window full screenshot screen first step mark top left corner poker table window point reference everything else follow mark top left corner need mark first clicking top left part right lower part done appear second window save clicking save newly selected top left corner button crop pressing crop top left corner button discard screenshot keep screenshot top left corner everything hundred pixel right next want mark everything else window start button search area clicking top left area button bottom right area button appear happy selection click button search area hover button get detailed description need pay attention note need take many screenshots crop select top left corner instead load crop image make selection different image save pressing corresponding button need teach every card every button etc running via python source download pycharm communite edition ide httpswwwjetbrainscompycharmdownloadsectionwindows install python 37 anaconda python package httpswwwpythonorgdownloadsreleasepython379 create environment conda create n poker python37 use pycharm's functionality create new virtual environment check youtube detail install package pip install r requirementstxt install tesserocr pip install httpsgithubcomsimonflueckigertesserocrwindowsbuildreleasesdownloadtesserocrv240tesseract400tesserocr240cp37cp37mwinamd64whl also may need get c runtime distributable httpsvisualstudiomicrosoftcomdownloads install virtualbox httpswwwvirtualboxorgwikidownloads put poker client virtual box way controlled without use mouse main window run mainpy pycharm setting created virtual environment interpreter check youtube package module mainpy entry point pokerscraper contains user interface routine help map new table recognizetable function recognize different item table based created mapping screenoperations various routine taking screen shot cropping etc tablesetup routine relation gui uitablesetup qt user interface corresponding py file created makeguibat parent folder edit gui download qt designer open ui file pokerdecisionmaker decisionmakerpy ultimate decision action taken based input montecarlonumpy2py fast numpy based montecarlo simulation calculate equity yet working correctly test failing feel free fix montecarlopythonpy relatively slow python based montecarlo equity calculation support preflop range player pokertests testmontecarlonumpypy test numpy montecarlo testpylintpy pylint pydoc test ensure pep8 standard static analysis graphical user interface gui download qt open source project httpswwwqtiodownloadopensource use qt designer edit ui file guiui next priority update test currently outdated test needed add strategy switch using pytesseract tesserocr speed ocr considerably speed bot better analyze collected data improve strategy making fix fixing making pull request back originmaster hard one person alone beat world poker that's repo aim collaborative environment model added evaluated contribute following get pycharm build virtual python environment use pip install r requirementstxt see clone fork local machine directly pycharm vcs check version control git add remote original repository created fork call upstream connection fork called origin done vcs git remote create new branch click master bottom right click 'new branch' make edits ensure test pas file setting python integrated tool switch pytest right click test folder run test test need pas make sure add test simply naming funtion test make sure test passing best run pytest described pycharm right click test folder run test fails debug test right clicking put breakpoints even open console breakpoint httpsstackoverflowcomquestions19329601interactiveshelldebuggingwithpycharm commit change ctrlk push change origin fork ctrlshiftk bring branch date upstream master moved rebase onto upstream master click branch name bottom right pycharm click upstreammaster rebase onto may need resolve soe conflict done make sure always forcepush ctrlshiftk push done selecting dropdown next push choose forcepush important push merge rebased branch remote create pull request githubcom merge branch upstream master pull request approved merged upstreammaster please make sure test passing including pylint test either run locally machine push check travis log currently many failing feel free help fixing faq top left corner make sure everything look exactly like picture top documentation button need look exactly like need english scaled colour need standard table mapped real money work play money poker table window fully visible cannot scaled otherwise detected properly partypoker open table choose table option choose back default size make sure table default size table mapped fast forward zoom game real money use supersonic3 table partypoker mcnaught table pokerstars thing still work consider teaching new table described card recognized make sure everything look exactly like picture top documentation make sure use real money table different play money ensure seated position shown picture currently bot work table 6 player need use virtual machine pokerstars definitely otherwise blocked account frozen within minute partypoker i'm sure best check term condition analyzing log reporting problem folder installed pokerbot subfolder log file log also screenshots logscreenshots may able help debug problem create issue link top page httpsgithubcomdickreuterpokerissues email dickreutergmailcom related project training bot playing separate project found httpsgithubcomdickreuterneuronpoker</td>\n",
       "    </tr>\n",
       "    <tr>\n",
       "      <th>1</th>\n",
       "      <td># Pokémon Red and Blue [![Build Status][ci-badge]][ci]\\n\\nThis is a disassembly of Pokémon Red and Blue.\\n\\nIt builds the following ROMs:\\n\\n- Pokemon Red (UE) [S][!].gb `sha1: ea9bcae617fdf159b045185467ae58b2e4a48b9a`\\n- Pokemon Blue (UE) [S][!].gb `sha1: d7037c83e1ae5b39bde3c30787637ba1d4c48ce2`\\n- BLUEMONS.GB (debug build) `sha1: 5b1456177671b79b263c614ea0e7cc9ac542e9c4`\\n- dmgapae0.e69.patch `sha1: 0fb5f743696adfe1dbb2e062111f08f9bc5a293a`\\n- dmgapee0.e68.patch `sha1: ed4be94dc29c64271942c87f2157bca9ca1019c7`\\n\\nTo set up the repository, see [**INSTALL.md**](INSTALL.md).\\n\\n\\n## See also\\n\\n- **Discord:** [pret][discord]\\n- **IRC:** [libera#pret][irc]\\n\\nOther disassembly projects:\\n\\n- [**Pokémon Yellow**][pokeyellow]\\n- [**Pokémon Gold/Silver**][pokegold]\\n- [**Pokémon Crystal**][pokecrystal]\\n- [**Pokémon Pinball**][pokepinball]\\n- [**Pokémon TCG**][poketcg]\\n- [**Pokémon Ruby**][pokeruby]\\n- [**Pokémon FireRed**][pokefirered]\\n- [**Pokémon Emerald**][pokeemerald]\\n\\n[pokeyellow]: https://github.com/pret/pokeyellow\\n[pokegold]: https://github.com/pret/pokegold\\n[pokecrystal]: https://github.com/pret/pokecrystal\\n[pokepinball]: https://github.com/pret/pokepinball\\n[poketcg]: https://github.com/pret/poketcg\\n[pokeruby]: https://github.com/pret/pokeruby\\n[pokefirered]: https://github.com/pret/pokefirered\\n[pokeemerald]: https://github.com/pret/pokeemerald\\n[discord]: https://discord.gg/d5dubZ3\\n[irc]: https://web.libera.chat/?#pret\\n[ci]: https://github.com/pret/pokered/actions\\n[ci-badge]: https://github.com/pret/pokered/actions/workflows/main.yml/badge.svg\\n</td>\n",
       "      <td>pokemon red blue build statuscibadgeci disassembl pokemon red blue build follow rom pokemon red ue sgb sha1 ea9bcae617fdf159b045185467ae58b2e4a48b9a pokemon blue ue sgb sha1 d7037c83e1ae5b39bde3c30787637ba1d4c48ce2 bluemonsgb debug build sha1 5b1456177671b79b263c614ea0e7cc9ac542e9c4 dmgapae0e69patch sha1 0fb5f743696adfe1dbb2e062111f08f9bc5a293a dmgapee0e68patch sha1 ed4be94dc29c64271942c87f2157bca9ca1019c7 set repositori see installmdinstallmd see also discord pretdiscord irc liberapretirc disassembl project pokemon yellowpokeyellow pokemon goldsilverpokegold pokemon crystalpokecryst pokemon pinballpokepinbal pokemon tcgpoketcg pokemon rubypokerubi pokemon fireredpokefir pokemon emeraldpokeemerald pokeyellow httpsgithubcompretpokeyellow pokegold httpsgithubcompretpokegold pokecryst httpsgithubcompretpokecryst pokepinbal httpsgithubcompretpokepinbal poketcg httpsgithubcompretpoketcg pokerubi httpsgithubcompretpokerubi pokefir httpsgithubcompretpokefir pokeemerald httpsgithubcompretpokeemerald discord httpsdiscordggd5dubz3 irc httpswebliberachatpret ci httpsgithubcompretpokeredact cibadg httpsgithubcompretpokeredactionsworkflowsmainymlbadgesvg</td>\n",
       "      <td>pokemon red blue build statuscibadgeci disassembly pokemon red blue build following rom pokemon red ue sgb sha1 ea9bcae617fdf159b045185467ae58b2e4a48b9a pokemon blue ue sgb sha1 d7037c83e1ae5b39bde3c30787637ba1d4c48ce2 bluemonsgb debug build sha1 5b1456177671b79b263c614ea0e7cc9ac542e9c4 dmgapae0e69patch sha1 0fb5f743696adfe1dbb2e062111f08f9bc5a293a dmgapee0e68patch sha1 ed4be94dc29c64271942c87f2157bca9ca1019c7 set repository see installmdinstallmd see also discord pretdiscord irc liberapretirc disassembly project pokemon yellowpokeyellow pokemon goldsilverpokegold pokemon crystalpokecrystal pokemon pinballpokepinball pokemon tcgpoketcg pokemon rubypokeruby pokemon fireredpokefirered pokemon emeraldpokeemerald pokeyellow httpsgithubcompretpokeyellow pokegold httpsgithubcompretpokegold pokecrystal httpsgithubcompretpokecrystal pokepinball httpsgithubcompretpokepinball poketcg httpsgithubcompretpoketcg pokeruby httpsgithubcompretpokeruby pokefirered httpsgithubcompretpokefirered pokeemerald httpsgithubcompretpokeemerald discord httpsdiscordggd5dubz3 irc httpswebliberachatpret ci httpsgithubcompretpokeredactions cibadge httpsgithubcompretpokeredactionsworkflowsmainymlbadgesvg</td>\n",
       "    </tr>\n",
       "    <tr>\n",
       "      <th>2</th>\n",
       "      <td># PyPokerEngine\\n\\n[![Build Status](https://travis-ci.org/ishikota/PyPokerEngine.svg?branch=master)](https://travis-ci.org/ishikota/PyPokerEngine)\\n[![Coverage Status](https://coveralls.io/repos/github/ishikota/PyPokerEngine/badge.svg?branch=master)](https://coveralls.io/github/ishikota/PyPokerEngine?branch=master)\\n[![PyPI](https://img.shields.io/pypi/v/PyPokerEngine.svg?maxAge=2592000)](https://badge.fury.io/py/PyPokerEngine)\\n[![license](https://img.shields.io/github/license/mashape/apistatus.svg?maxAge=2592000)](https://github.com/ishikota/kyoka/blob/master/LICENSE.md)\\n\\nPoker engine for AI development in Python\\n\\n# Tutorial\\nThis tutorial leads you to start point of poker AI development!!\\n#### Outline of Tutorial\\n1. Create simple AI which always returns same action.\\n2. Play AI vs AI poker game and see its result.\\n\\n#### Installation\\nBefore start AI development, we need to install *PyPokerEngine*.  \\nYou can use pip like this.\\n```\\npip install PyPokerEngine\\n```\\nThis library supports Python 2 (2.7) and Python3 (3.5).\\n\\n## Create first AI\\nIn this section, we create simple AI which always declares *CALL* action.  \\nTo create poker AI, what we do is following\\n\\n1. Create PokerPlayer class which is subclass of [`PypokerEngine.players.BasePokerPlayer`](https://github.com/ishikota/PyPokerEngine/blob/master/pypokerengine/players/base_poker_player.py).\\n2. Implement abstract methods which inherit from `BasePokerPlayer` class.\\n\\n\\nHere is the code of our first AI. (We assume you saved this file at `~/dev/fish_player.py`)  \\n\\n```python\\nfrom pypokerengine.players import BasePokerPlayer\\n\\nclass FishPlayer(BasePokerPlayer):  # Do not forget to make parent class as \"BasePokerPlayer\"\\n\\n    #  we define the logic to make an action through this method. (so this method would be the core of your AI)\\n    def declare_action(self, valid_actions, hole_card, round_state):\\n        # valid_actions format =&gt; [raise_action_info, call_action_info, fold_action_info]\\n        call_action_info = valid_actions[1]\\n        action, amount = call_action_info[\"action\"], call_action_info[\"amount\"]\\n        return action, amount   # action returned here is sent to the poker engine\\n\\n    def receive_game_start_message(self, game_info):\\n        pass\\n\\n    def receive_round_start_message(self, round_count, hole_card, seats):\\n        pass\\n\\n    def receive_street_start_message(self, street, round_state):\\n        pass\\n\\n    def receive_game_update_message(self, action, round_state):\\n        pass\\n\\n    def receive_round_result_message(self, winners, hand_info, round_state):\\n        pass\\n\\n\\n```\\nIf you are interested in what each callback method receives, See [AI_CALLBACK_FORMAT.md](https://github.com/ishikota/PyPokerEngine/blob/master/AI_CALLBACK_FORMAT.md).\\n\\n## Play AI vs AI poker game\\nOk, let's play the poker game by using our created `FishPlayer`.  \\nTo start the game, what we need to do is following\\n\\n1. Define game rule through `Config` object (ex. start stack, blind amount, ante, blind_structures)\\n2. Register your AI with `Config` object.\\n3. Start the game and get game result\\n\\nHere is the code to play poker for 10 round with our created `FishPlayer`.\\n```python\\nfrom pypokerengine.api.game import setup_config, start_poker\\n\\nconfig = setup_config(max_round=10, initial_stack=100, small_blind_amount=5)\\nconfig.register_player(name=\"p1\", algorithm=FishPlayer())\\nconfig.register_player(name=\"p2\", algorithm=FishPlayer())\\nconfig.register_player(name=\"p3\", algorithm=FishPlayer())\\ngame_result = start_poker(config, verbose=1)\\n```\\nWe set `verbose=1`, so simple game logs are output after `start_poker` call.\\n```\\nStarted the round 1\\nStreet \"preflop\" started. (community card = [])\\n\"p1\" declared \"call:10\"\\n\"p2\" declared \"call:10\"\\n\"p3\" declared \"call:10\"\\nStreet \"flop\" started. (community card = ['C4', 'C6', 'CA'])\\n\"p2\" declared \"call:0\"\\n\"p3\" declared \"call:0\"\\n\"p1\" declared \"call:0\"\\nStreet \"turn\" started. (community card = ['C4', 'C6', 'CA', 'D4'])\\n\"p2\" declared \"call:0\"\\n\"p3\" declared \"call:0\"\\n\"p1\" declared \"call:0\"\\nStreet \"river\" started. (community card = ['C4', 'C6', 'CA', 'D4', 'H2'])\\n\"p2\" declared \"call:0\"\\n\"p3\" declared \"call:0\"\\n\"p1\" declared \"call:0\"\\n\"['p3']\" won the round 1 (stack = {'p2': 90, 'p3': 120, 'p1': 90})\\nStarted the round 2\\n...\\n\"['p1']\" won the round 10 (stack = {'p2': 30, 'p3': 120, 'p1': 150})\\n```\\nFinally, let's check the game result !!\\n```python\\n&gt;&gt;&gt; print game_result\\n{\\n  'rule': {'ante': 0, 'blind_structure': {}, 'max_round': 10, 'initial_stack': 100, 'small_blind_amount': 5},\\n  'players': [\\n    {'stack': 150, 'state': 'participating', 'name': 'p1', 'uuid': 'ijaukuognlkplasfspehcp'},\\n    {'stack': 30, 'state': 'participating', 'name': 'p2', 'uuid': 'uadjzyetdwsaxzflrdsysj'},\\n    {'stack': 120, 'state': 'participating', 'name': 'p3', 'uuid': 'tmnkoazoqitkzcreihrhao'}\\n  ]\\n}\\n```\\n\\n## GUI support\\nWe also provide GUI application. You can play poker with your AI on browser.  \\nPlease check [PyPokerGUI](https://github.com/ishikota/PyPokerGUI).\\n\\n&lt;img src=\"https://github.com/ishikota/PyPokerGUI/blob/master/screenshot/poker_demo.gif\" width=500 /&gt;\\n\\n# for Reinforcement Learning users\\n`PyPokerEngine` is developed for Reinforcement Learning usecase.  \\nSo we also provide `Emulator` class which has convinient methods for Reinforcement Learning.  \\nCommon usage of `Emulator` would be like below.  \\n\\n```python\\nfrom pypokerengine.players import BasePokerPlayer\\nfrom pypokerengine.api.emulator import Emulator\\nfrom pypokerengine.utils.game_state_utils import restore_game_state\\n\\nfrom mymodule.poker_ai.player_model import SomePlayerModel\\n\\nclass RLPLayer(BasePokerPlayer):\\n\\n    # Setup Emulator object by registering game information\\n    def receive_game_start_message(self, game_info):\\n        player_num = game_info[\"player_num\"]\\n        max_round = game_info[\"rule\"][\"max_round\"]\\n        small_blind_amount = game_info[\"rule\"][\"small_blind_amount\"]\\n        ante_amount = game_info[\"rule\"][\"ante\"]\\n        blind_structure = game_info[\"rule\"][\"blind_structure\"]\\n        \\n        self.emulator = Emulator()\\n        self.emulator.set_game_rule(player_num, max_round, small_blind_amount, ante_amount)\\n        self.emulator.set_blind_structure(blind_structure)\\n        \\n        # Register algorithm of each player which used in the simulation.\\n        for player_info in game_info[\"seats\"][\"players\"]:\\n            self.emulator.register_player(player_info[\"uuid\"], SomePlayerModel())\\n\\n    def declare_action(self, valid_actions, hole_card, round_state):\\n        game_state = restore_game_state(round_state)\\n        # decide action by using some simulation result\\n        # updated_state, events = self.emulator.apply_action(game_state, \"fold\")\\n        # updated_state, events = self.emulator.run_until_round_finish(game_state)\\n        # updated_state, events = self.emulator.run_until_game_finish(game_state)\\n        if self.is_good_simulation_result(updated_state):\\n            return # you would declare CALL or RAISE action\\n        else:\\n            return \"fold\", 0\\n    \\n```\\n\\n# Documentation\\nFor mode detail, please checkout [doc site](https://ishikota.github.io/PyPokerEngine/)\\n\\n</td>\n",
       "      <td>pypokerengin build statushttpstravisciorgishikotapypokerenginesvgbranchmasterhttpstravisciorgishikotapypokerengin coverag statushttpscoverallsioreposgithubishikotapypokerenginebadgesvgbranchmasterhttpscoverallsiogithubishikotapypokerenginebranchmast pypihttpsimgshieldsiopypivpypokerenginesvgmaxage2592000httpsbadgefuryiopypypokerengin licensehttpsimgshieldsiogithublicensemashapeapistatussvgmaxage2592000httpsgithubcomishikotakyokablobmasterlicensemd poker engin ai develop python tutori tutori lead start point poker ai develop outlin tutori 1 creat simpl ai alway return action 2 play ai vs ai poker game see result instal start ai develop need instal pypokerengin use pip like pip instal pypokerengin librari support python 2 27 python3 35 creat first ai section creat simpl ai alway declar call action creat poker ai follow 1 creat pokerplay class subclass pypokerengineplayersbasepokerplayerhttpsgithubcomishikotapypokerengineblobmasterpypokerengineplayersbasepokerplayerpi 2 implement abstract method inherit basepokerplay class first ai assum save file devfishplayerpi python pypokerengineplay import basepokerplay class fishplayerbasepokerplay forget make parent class basepokerplay defin logic make action method method would core ai def declareactionself validact holecard roundstat validact format raiseactioninfo callactioninfo foldactioninfo callactioninfo validactions1 action amount callactioninfoact callactioninfoamount return action amount action return sent poker engin def receivegamestartmessageself gameinfo pass def receiveroundstartmessageself roundcount holecard seat pass def receivestreetstartmessageself street roundstat pass def receivegameupdatemessageself action roundstat pass def receiveroundresultmessageself winner handinfo roundstat pass interest callback method receiv see aicallbackformatmdhttpsgithubcomishikotapypokerengineblobmasteraicallbackformatmd play ai vs ai poker game ok let' play poker game use creat fishplay start game need follow 1 defin game rule config object ex start stack blind amount ant blindstructur 2 regist ai config object 3 start game get game result play poker 10 round creat fishplay python pypokerengineapigam import setupconfig startpok config setupconfigmaxround10 initialstack100 smallblindamount5 configregisterplayernamep1 algorithmfishplay configregisterplayernamep2 algorithmfishplay configregisterplayernamep3 algorithmfishplay gameresult startpokerconfig verbose1 set verbose1 simpl game log output startpok call start round 1 street preflop start commun card p1 declar call10 p2 declar call10 p3 declar call10 street flop start commun card 'c4' 'c6' 'ca' p2 declar call0 p3 declar call0 p1 declar call0 street turn start commun card 'c4' 'c6' 'ca' 'd4' p2 declar call0 p3 declar call0 p1 declar call0 street river start commun card 'c4' 'c6' 'ca' 'd4' 'h2' p2 declar call0 p3 declar call0 p1 declar call0 'p3' round 1 stack 'p2' 90 'p3' 120 'p1' 90 start round 2 'p1' round 10 stack 'p2' 30 'p3' 120 'p1' 150 final let' check game result python print gameresult 'rule' 'ante' 0 'blindstructure' 'maxround' 10 'initialstack' 100 'smallblindamount' 5 'players' 'stack' 150 'state' 'participating' 'name' 'p1' 'uuid' 'ijaukuognlkplasfspehcp' 'stack' 30 'state' 'participating' 'name' 'p2' 'uuid' 'uadjzyetdwsaxzflrdsysj' 'stack' 120 'state' 'participating' 'name' 'p3' 'uuid' 'tmnkoazoqitkzcreihrhao' gui support also provid gui applic play poker ai browser pleas check pypokerguihttpsgithubcomishikotapypokergui img srchttpsgithubcomishikotapypokerguiblobmasterscreenshotpokerdemogif width500 reinforc learn user pypokerengin develop reinforc learn usecas also provid emul class convini method reinforc learn common usag emul would like python pypokerengineplay import basepokerplay pypokerengineapiemul import emul pypokerengineutilsgamestateutil import restoregamest mymodulepokeraiplayermodel import someplayermodel class rlplayerbasepokerplay setup emul object regist game inform def receivegamestartmessageself gameinfo playernum gameinfoplayernum maxround gameinforulemaxround smallblindamount gameinforulesmallblindamount anteamount gameinforuleant blindstructur gameinforuleblindstructur selfemul emul selfemulatorsetgameruleplayernum maxround smallblindamount anteamount selfemulatorsetblindstructureblindstructur regist algorithm player use simul playerinfo gameinfoseatsplay selfemulatorregisterplayerplayerinfouuid someplayermodel def declareactionself validact holecard roundstat gamest restoregamestateroundst decid action use simul result updatedst event selfemulatorapplyactiongamest fold updatedst event selfemulatorrununtilroundfinishgamest updatedst event selfemulatorrununtilgamefinishgamest selfisgoodsimulationresultupdatedst return would declar call rais action els return fold 0 document mode detail pleas checkout doc sitehttpsishikotagithubiopypokerengin</td>\n",
       "      <td>pypokerengine build statushttpstravisciorgishikotapypokerenginesvgbranchmasterhttpstravisciorgishikotapypokerengine coverage statushttpscoverallsioreposgithubishikotapypokerenginebadgesvgbranchmasterhttpscoverallsiogithubishikotapypokerenginebranchmaster pypihttpsimgshieldsiopypivpypokerenginesvgmaxage2592000httpsbadgefuryiopypypokerengine licensehttpsimgshieldsiogithublicensemashapeapistatussvgmaxage2592000httpsgithubcomishikotakyokablobmasterlicensemd poker engine ai development python tutorial tutorial lead start point poker ai development outline tutorial 1 create simple ai always return action 2 play ai v ai poker game see result installation start ai development need install pypokerengine use pip like pip install pypokerengine library support python 2 27 python3 35 create first ai section create simple ai always declares call action create poker ai following 1 create pokerplayer class subclass pypokerengineplayersbasepokerplayerhttpsgithubcomishikotapypokerengineblobmasterpypokerengineplayersbasepokerplayerpy 2 implement abstract method inherit basepokerplayer class first ai assume saved file devfishplayerpy python pypokerengineplayers import basepokerplayer class fishplayerbasepokerplayer forget make parent class basepokerplayer define logic make action method method would core ai def declareactionself validactions holecard roundstate validactions format raiseactioninfo callactioninfo foldactioninfo callactioninfo validactions1 action amount callactioninfoaction callactioninfoamount return action amount action returned sent poker engine def receivegamestartmessageself gameinfo pas def receiveroundstartmessageself roundcount holecard seat pas def receivestreetstartmessageself street roundstate pas def receivegameupdatemessageself action roundstate pas def receiveroundresultmessageself winner handinfo roundstate pas interested callback method receives see aicallbackformatmdhttpsgithubcomishikotapypokerengineblobmasteraicallbackformatmd play ai v ai poker game ok let's play poker game using created fishplayer start game need following 1 define game rule config object ex start stack blind amount ante blindstructures 2 register ai config object 3 start game get game result play poker 10 round created fishplayer python pypokerengineapigame import setupconfig startpoker config setupconfigmaxround10 initialstack100 smallblindamount5 configregisterplayernamep1 algorithmfishplayer configregisterplayernamep2 algorithmfishplayer configregisterplayernamep3 algorithmfishplayer gameresult startpokerconfig verbose1 set verbose1 simple game log output startpoker call started round 1 street preflop started community card p1 declared call10 p2 declared call10 p3 declared call10 street flop started community card 'c4' 'c6' 'ca' p2 declared call0 p3 declared call0 p1 declared call0 street turn started community card 'c4' 'c6' 'ca' 'd4' p2 declared call0 p3 declared call0 p1 declared call0 street river started community card 'c4' 'c6' 'ca' 'd4' 'h2' p2 declared call0 p3 declared call0 p1 declared call0 'p3' round 1 stack 'p2' 90 'p3' 120 'p1' 90 started round 2 'p1' round 10 stack 'p2' 30 'p3' 120 'p1' 150 finally let's check game result python print gameresult 'rule' 'ante' 0 'blindstructure' 'maxround' 10 'initialstack' 100 'smallblindamount' 5 'players' 'stack' 150 'state' 'participating' 'name' 'p1' 'uuid' 'ijaukuognlkplasfspehcp' 'stack' 30 'state' 'participating' 'name' 'p2' 'uuid' 'uadjzyetdwsaxzflrdsysj' 'stack' 120 'state' 'participating' 'name' 'p3' 'uuid' 'tmnkoazoqitkzcreihrhao' gui support also provide gui application play poker ai browser please check pypokerguihttpsgithubcomishikotapypokergui img srchttpsgithubcomishikotapypokerguiblobmasterscreenshotpokerdemogif width500 reinforcement learning user pypokerengine developed reinforcement learning usecase also provide emulator class convinient method reinforcement learning common usage emulator would like python pypokerengineplayers import basepokerplayer pypokerengineapiemulator import emulator pypokerengineutilsgamestateutils import restoregamestate mymodulepokeraiplayermodel import someplayermodel class rlplayerbasepokerplayer setup emulator object registering game information def receivegamestartmessageself gameinfo playernum gameinfoplayernum maxround gameinforulemaxround smallblindamount gameinforulesmallblindamount anteamount gameinforuleante blindstructure gameinforuleblindstructure selfemulator emulator selfemulatorsetgameruleplayernum maxround smallblindamount anteamount selfemulatorsetblindstructureblindstructure register algorithm player used simulation playerinfo gameinfoseatsplayers selfemulatorregisterplayerplayerinfouuid someplayermodel def declareactionself validactions holecard roundstate gamestate restoregamestateroundstate decide action using simulation result updatedstate event selfemulatorapplyactiongamestate fold updatedstate event selfemulatorrununtilroundfinishgamestate updatedstate event selfemulatorrununtilgamefinishgamestate selfisgoodsimulationresultupdatedstate return would declare call raise action else return fold 0 documentation mode detail please checkout doc sitehttpsishikotagithubiopypokerengine</td>\n",
       "    </tr>\n",
       "    <tr>\n",
       "      <th>3</th>\n",
       "      <td>PokerStove\\n==========\\n\\n[![OpenHUB Metrics](https://www.openhub.net/p/pokerstove/widgets/project_thin_badge.gif)](https://www.openhub.net/p/pokerstove)\\n\\nPokerStove is a highly hand optimized C++ poker hand evaluation library.  The Win32 Hold'em\\nGUI was first released in 2002, and has been available as freeware since\\nit's first release.\\n\\nThe core libraries of pokerstove are being open sourced.  The project is\\ncurrently in the process of reviewing and publishing the code.  As code is\\nreviewed and code sanitized further commits will be added.\\n\\nPlease find the old installer in the win32 directory.  That installer should\\ninstall a version of PokerStove which will not expire at any time.  You can also\\nfind the apk file for the Android version of the utility in the android folder.\\n\\n## Libraries\\n\\n### peval\\n\\nThis is a c++ poker hand evaluation library.  The main design goals of the library\\nare generality, extensibility, and ease of use.  There are evaluators for fourteen\\nvariants of poker.  Additionally, there are various card manipulation and query tools built\\ninto the CardSet class.\\n\\n## Programs\\n\\n### ps-eval\\n\\nA tool for poker hand evaluation.  It demonstrates how to use the peval library, and to create\\nevaluators for the different variants of poker.\\n\\n### ps-colex\\n\\nA utility for viewing colexicographical index for sets of cards.\\n\\n## Building\\n\\nThe pokerstove libraries come with build scripts for cmake.  This\\nshould allow you to build it on any platform with minimal\\ntweaking.  This project has been successfully build under linux/g++,\\nwindows/vc2010 and OSX/XCode so far.\\n\\nIn order to build the libraries you'll need the following\\ninstalled on your platform of choice:\\n\\n* boost, version 1.46 or higher\\n* cmake, version 2.4 or higher\\n\\n### Linux\\n\\nTo install the dependencies with apt get:\\n\\n    apt-get install libboost-all-dev cmake\\n\\nTo build under linux using cmake, create a build directory,\\ninvoke cmake on the programs directory, then build.\\n\\n    git clone https://github.com/andrewprock/pokerstove.git\\n    mkdir pokerstove/build\\n    cd pokerstove/build\\n    cmake -DCMAKE_BUILD_TYPE=Release ..\\n    make &amp;&amp; make test\\n\\nYou should then be able to execute the simple command line\\nexample:\\n\\n    ~/cmake/programs$ ./programs/ps-eval/ps-eval\\n    Allowed options:\\n      -? [ --help ]          produce help message\\n      -g [ --game ] arg (=h) game to use for evaluation\\n      -b [ --board ] arg     community cards for he/o/o8\\n      -h [ --hand ] arg      a hand for evaluation\\n      -q [ --quiet ]         produce no output\\n\\n       For the --game option, one of the follwing games may be\\n       specified.\\n         h     hold'em\\n         o     omaha/8\\n         O     omaha high\\n         r     razz\\n         s     stud\\n         e     stud/8\\n         q     stud high/low no qualifier\\n         d     draw high\\n         l     lowball (A-5)\\n         k     Kansas City lowball (2-7)\\n         t     triple draw lowball (2-7)\\n         T     triple draw lowball (A-5)\\n         b     badugi\\n         3     three-card poker\\n\\n       examples:\\n           ps-eval acas\\n           ps-eval AcAs Kh4d --board 5c8s9h\\n           ps-eval AcAs Kh4d --board 5c8s9h\\n           ps-eval --game l 7c5c4c3c2c\\n           ps-eval --game k 7c5c4c3c2c\\n           ps-eval --game kansas-city-lowball 7c5c4c3c2c\\n\\n\\n### Windows\\n\\nGetting boost to work under windows can be a bit of a challenge.\\nOne of the easier ways is to install precompiled librares.  There\\nis a batch of them available at sourceforge. If you're working\\nwith Visual Studio 2010, you will probably need the 32 bit\\nlibraries.  [boost precomplied libraries]\\n(http://sourceforge.net/projects/boost/files/boost-binaries/1.53.0/)\\n\\nUnder windows, the cmake gui can be used to construct solution\\nand project files for Visual Studio 2010.  To do this, browse\\nsource to locate the programs directory git/pokerstove/programs.\\nThen create a build dir for the project.  At the bottom of the\\ngui click Configure, then Generate.  You may have to edit the\\ngit/pokerstove/programs/CMakeLists.txt to point cmake to your\\ninstallation of boost.\\n\\nOnce you've done that, you should be able to select\\n\\n    Menu-&gt;Build-&gt;Build Solution\\n\\nto build the sample program.\\n\\n\\n### OSX\\n\\nIn order to build under Max OSX, you'll need to install XCode,\\ngit, cmake, macports, and boost.  The first four can be installed\\nin the conventional manner, with XCode coming form the App Store, cmake,\\ngit and macports downloaded from the web.  The macports package is a\\ntypical unix package management utility and is required to install boost.\\nOnce you've installed and selfupdate'd macports, you can install boost:\\n\\n    sudo port install boost -no_static\\n\\nFrom there you can run the cmake gui as in windows.  This will create\\nan XCode project which should compile the sample utility. Alternatively,\\nfollow the command  line `cmake` instructions in the [Linux section](#linux).\\n</td>\n",
       "      <td>pokerstov openhub metricshttpswwwopenhubnetppokerstovewidgetsprojectthinbadgegifhttpswwwopenhubnetppokerstov pokerstov highli hand optim c poker hand evalu librari win32 hold'em gui first releas 2002 avail freewar sinc first releas core librari pokerstov open sourc project current process review publish review sanit commit ad pleas find old instal win32 directori instal instal version pokerstov expir time also find apk file android version util android folder librari peval c poker hand evalu librari main design goal librari gener extens eas use evalu fourteen variant poker addit variou card manipul queri tool built cardset class program pseval tool poker hand evalu demonstr use peval librari creat evalu differ variant poker pscolex util view colexicograph index set card build pokerstov librari come build script cmake allow build platform minim tweak project success build linuxg windowsvc2010 osxxcod far order build librari need follow instal platform choic boost version 146 higher cmake version 24 higher linux instal depend apt get aptget instal libboostalldev cmake build linux use cmake creat build directori invok cmake program directori build git clone httpsgithubcomandrewprockpokerstovegit mkdir pokerstovebuild cd pokerstovebuild cmake dcmakebuildtypereleas make make test abl execut simpl command line exampl cmakeprogram programspsevalpsev allow option help produc help messag g game arg h game use evalu b board arg commun card heoo8 h hand arg hand evalu q quiet produc output game option one follw game may specifi h hold'em omaha8 omaha high r razz stud e stud8 q stud highlow qualifi draw high l lowbal a5 k kansa citi lowbal 27 tripl draw lowbal 27 tripl draw lowbal a5 b badugi 3 threecard poker exampl pseval aca pseval aca kh4d board 5c8s9h pseval aca kh4d board 5c8s9h pseval game l 7c5c4c3c2c pseval game k 7c5c4c3c2c pseval game kansascitylowbal 7c5c4c3c2c window get boost work window bit challeng one easier way instal precompil librar batch avail sourceforg work visual studio 2010 probabl need 32 bit librari boost precompli librari httpsourceforgenetprojectsboostfilesboostbinaries1530 window cmake gui use construct solut project file visual studio 2010 brows sourc locat program directori gitpokerstoveprogram creat build dir project bottom gui click configur gener may edit gitpokerstoveprogramscmakeliststxt point cmake instal boost done abl select menubuildbuild solut build sampl program osx order build max osx need instal xcode git cmake macport boost first four instal convent manner xcode come form app store cmake git macport download web macport packag typic unix packag manag util requir instal boost instal selfupdate'd macport instal boost sudo port instal boost nostat run cmake gui window creat xcode project compil sampl util altern follow command line cmake instruct linux sectionlinux</td>\n",
       "      <td>pokerstove openhub metricshttpswwwopenhubnetppokerstovewidgetsprojectthinbadgegifhttpswwwopenhubnetppokerstove pokerstove highly hand optimized c poker hand evaluation library win32 hold'em gui first released 2002 available freeware since first release core library pokerstove open sourced project currently process reviewing publishing reviewed sanitized commits added please find old installer win32 directory installer install version pokerstove expire time also find apk file android version utility android folder library peval c poker hand evaluation library main design goal library generality extensibility ease use evaluator fourteen variant poker additionally various card manipulation query tool built cardset class program pseval tool poker hand evaluation demonstrates use peval library create evaluator different variant poker pscolex utility viewing colexicographical index set card building pokerstove library come build script cmake allow build platform minimal tweaking project successfully build linuxg windowsvc2010 osxxcode far order build library need following installed platform choice boost version 146 higher cmake version 24 higher linux install dependency apt get aptget install libboostalldev cmake build linux using cmake create build directory invoke cmake program directory build git clone httpsgithubcomandrewprockpokerstovegit mkdir pokerstovebuild cd pokerstovebuild cmake dcmakebuildtyperelease make make test able execute simple command line example cmakeprograms programspsevalpseval allowed option help produce help message g game arg h game use evaluation b board arg community card heoo8 h hand arg hand evaluation q quiet produce output game option one follwing game may specified h hold'em omaha8 omaha high r razz stud e stud8 q stud highlow qualifier draw high l lowball a5 k kansa city lowball 27 triple draw lowball 27 triple draw lowball a5 b badugi 3 threecard poker example pseval acas pseval acas kh4d board 5c8s9h pseval acas kh4d board 5c8s9h pseval game l 7c5c4c3c2c pseval game k 7c5c4c3c2c pseval game kansascitylowball 7c5c4c3c2c window getting boost work window bit challenge one easier way install precompiled librares batch available sourceforge working visual studio 2010 probably need 32 bit library boost precomplied library httpsourceforgenetprojectsboostfilesboostbinaries1530 window cmake gui used construct solution project file visual studio 2010 browse source locate program directory gitpokerstoveprograms create build dir project bottom gui click configure generate may edit gitpokerstoveprogramscmakeliststxt point cmake installation boost done able select menubuildbuild solution build sample program osx order build max osx need install xcode git cmake macports boost first four installed conventional manner xcode coming form app store cmake git macports downloaded web macports package typical unix package management utility required install boost installed selfupdate'd macports install boost sudo port install boost nostatic run cmake gui window create xcode project compile sample utility alternatively follow command line cmake instruction linux sectionlinux</td>\n",
       "    </tr>\n",
       "    <tr>\n",
       "      <th>4</th>\n",
       "      <td>Poker framework for Python\\n==========================\\n\\n|travis| |coveralls| |pythons| |release| |license| |wheel| |downloads|\\n\\nA Python framework for poker related operations.\\n\\nIt contains classes for parsing card Suits, Cards, Hand combinations (called Combos),\\nconstruct hand Ranges and check for syntax, parse Hand histories.\\n\\nIt can get information from poker related websites like\\nPocketfives, TwoplusTwo Forum, or PokerStars website by scraping them.\\nIn the long term, it will have a fast hand evaluator and an equity calculator.\\n\\nIt uses the MIT license, so its code can be used in any product without legal consequences.\\n\\nIt aims for quality, fully tested code and easy usability with nice APIs, suitable for beginners\\nto play with.\\n\\n\\nDocumentation\\n-------------\\n\\nhttps://poker.readthedocs.org/\\n\\nState of the project\\n--------------------\\n\\nAs you can see, there is not much activity from me, because I don't play poker anymore and \\nI don't have motivation to develop this library. The PokerStars parser is broken because \\na small change in PokerStars hand history format. A serious investment/donation would be\\nrequired to allow me to work on this library.\\n\\n\\nLicense\\n-------\\n\\nThe MIT License (MIT)\\n\\nCopyright (c) 2013-2019 Kiss György\\n\\n\\nRepo and contact\\n----------------\\n\\n| Repo: https://github.com/pokerregion/poker\\n| `@kissgyorgy &lt;https://twitter.com/kissgyorgy&gt;`_ on twitter\\n| or you can reach me on my `public Github e-mail &lt;https://github.com/kissgyorgy&gt;`_.\\n\\n\\n.. |travis| image:: https://travis-ci.org/pokerregion/poker.svg?branch=master\\n   :target: https://travis-ci.org/pokerregion/poker\\n\\n.. |coveralls| image:: https://coveralls.io/repos/pokerregion/poker/badge.png?branch=master\\n  :target: https://coveralls.io/r/pokerregion/poker?branch=master\\n\\n.. |pythons| image:: https://img.shields.io/pypi/pyversions/poker.svg\\n   :target: https://pypi.python.org/pypi/poker/\\n   :alt: Supported Python versions\\n\\n.. |release| image:: https://img.shields.io/pypi/v/poker.svg\\n   :target: https://pypi.python.org/pypi/poker/\\n   :alt: Latest Version\\n\\n.. |license| image:: https://img.shields.io/badge/license-MIT-blue.svg\\n   :target: https://github.com/pokerregion/poker/blob/master/LICENSE\\n   :alt: MIT License\\n\\n.. |downloads| image:: https://img.shields.io/pypi/dm/poker.svg\\n   :target: https://pypi.python.org/pypi/poker/\\n   :alt: Downloads\\n\\n.. |wheel| image:: https://img.shields.io/pypi/wheel/poker.svg\\n   :target: https://pypi.python.org/pypi/poker/\\n   :alt: Wheel package\\n</td>\n",
       "      <td>poker framework python travi coveral python releas licens wheel download python framework poker relat oper contain class pars card suit card hand combin call combo construct hand rang check syntax pars hand histori get inform poker relat websit like pocketf twoplustwo forum pokerstar websit scrape long term fast hand evalu equiti calcul use mit licens use product without legal consequ aim qualiti fulli test easi usabl nice api suitabl beginn play document httpspokerreadthedocsorg state project see much activ play poker anymor motiv develop librari pokerstar parser broken small chang pokerstar hand histori format seriou investmentdon would requir allow work librari licens mit licens mit copyright c 20132019 kiss gyorgi repo contact repo httpsgithubcompokerregionpok kissgyorgi httpstwittercomkissgyorgi twitter reach public email httpsgithubcomkissgyorgi travi imag httpstravisciorgpokerregionpokersvgbranchmast target httpstravisciorgpokerregionpok coveral imag httpscoverallsiorepospokerregionpokerbadgepngbranchmast target httpscoverallsiorpokerregionpokerbranchmast python imag httpsimgshieldsiopypipyversionspokersvg target httpspypipythonorgpypipok alt support python version releas imag httpsimgshieldsiopypivpokersvg target httpspypipythonorgpypipok alt latest version licens imag httpsimgshieldsiobadgelicensemitbluesvg target httpsgithubcompokerregionpokerblobmasterlicens alt mit licens download imag httpsimgshieldsiopypidmpokersvg target httpspypipythonorgpypipok alt download wheel imag httpsimgshieldsiopypiwheelpokersvg target httpspypipythonorgpypipok alt wheel packag</td>\n",
       "      <td>poker framework python travis coverall python release license wheel downloads python framework poker related operation contains class parsing card suit card hand combination called combo construct hand range check syntax parse hand history get information poker related website like pocketfives twoplustwo forum pokerstars website scraping long term fast hand evaluator equity calculator us mit license used product without legal consequence aim quality fully tested easy usability nice apis suitable beginner play documentation httpspokerreadthedocsorg state project see much activity play poker anymore motivation develop library pokerstars parser broken small change pokerstars hand history format serious investmentdonation would required allow work library license mit license mit copyright c 20132019 kiss gyorgy repo contact repo httpsgithubcompokerregionpoker kissgyorgy httpstwittercomkissgyorgy twitter reach public email httpsgithubcomkissgyorgy travis image httpstravisciorgpokerregionpokersvgbranchmaster target httpstravisciorgpokerregionpoker coverall image httpscoverallsiorepospokerregionpokerbadgepngbranchmaster target httpscoverallsiorpokerregionpokerbranchmaster python image httpsimgshieldsiopypipyversionspokersvg target httpspypipythonorgpypipoker alt supported python version release image httpsimgshieldsiopypivpokersvg target httpspypipythonorgpypipoker alt latest version license image httpsimgshieldsiobadgelicensemitbluesvg target httpsgithubcompokerregionpokerblobmasterlicense alt mit license downloads image httpsimgshieldsiopypidmpokersvg target httpspypipythonorgpypipoker alt downloads wheel image httpsimgshieldsiopypiwheelpokersvg target httpspypipythonorgpypipoker alt wheel package</td>\n",
       "    </tr>\n",
       "  </tbody>\n",
       "</table></div>"
      ],
      "text/plain": [
       "                                             content  \\\n",
       "0  Deep mind pokerbot for pokerstars, partypoker ...   \n",
       "1  # Pokémon Red and Blue [![Build Status][ci-bad...   \n",
       "2  # PyPokerEngine\\n\\n[![Build Status](https://tr...   \n",
       "3  PokerStove\\n==========\\n\\n[![OpenHUB Metrics](...   \n",
       "4  Poker framework for Python\\n==================...   \n",
       "\n",
       "                                     stemmed_content  \\\n",
       "0  deep mind pokerbot pokerstar partypok ggpoker ...   \n",
       "1  pokemon red blue build statuscibadgeci disasse...   \n",
       "2  pypokerengin build statushttpstravisciorgishik...   \n",
       "3  pokerstov openhub metricshttpswwwopenhubnetppo...   \n",
       "4  poker framework python travi coveral python re...   \n",
       "\n",
       "                                      lemmed_content  \n",
       "0  deep mind pokerbot pokerstars partypoker ggpok...  \n",
       "1  pokemon red blue build statuscibadgeci disasse...  \n",
       "2  pypokerengine build statushttpstravisciorgishi...  \n",
       "3  pokerstove openhub metricshttpswwwopenhubnetpp...  \n",
       "4  poker framework python travis coverall python ...  "
      ]
     },
     "execution_count": 9,
     "metadata": {},
     "output_type": "execute_result"
    }
   ],
   "source": [
    "prepared_df = acquire_df.prepare_poker(cleaned_df.readme_contents)\n",
    "prepared_df.head()"
   ]
  },
  {
   "cell_type": "code",
   "execution_count": 10,
   "metadata": {},
   "outputs": [
    {
     "data": {
      "text/html": [
       "<div><div id=dbf20fc5-1906-4c1b-b94d-2be47f6df501 style=\"display:none; background-color:#9D6CFF; color:white; width:200px; height:30px; padding-left:5px; border-radius:4px; flex-direction:row; justify-content:space-around; align-items:center;\" onmouseover=\"this.style.backgroundColor='#BA9BF8'\" onmouseout=\"this.style.backgroundColor='#9D6CFF'\" onclick=\"window.commands?.execute('create-mitosheet-from-dataframe-output');\">See Full Dataframe in Mito</div> <script> if (window.commands?.hasCommand('create-mitosheet-from-dataframe-output')) document.getElementById('dbf20fc5-1906-4c1b-b94d-2be47f6df501').style.display = 'flex' </script> <table border=\"1\" class=\"dataframe\">\n",
       "  <thead>\n",
       "    <tr style=\"text-align: right;\">\n",
       "      <th></th>\n",
       "      <th>index</th>\n",
       "      <th>repo</th>\n",
       "      <th>language</th>\n",
       "      <th>readme_contents</th>\n",
       "      <th>content</th>\n",
       "      <th>stemmed_content</th>\n",
       "      <th>lemmed_content</th>\n",
       "    </tr>\n",
       "  </thead>\n",
       "  <tbody>\n",
       "    <tr>\n",
       "      <th>0</th>\n",
       "      <td>0</td>\n",
       "      <td>dickreuter/Poker</td>\n",
       "      <td>Python</td>\n",
       "      <td>Deep mind pokerbot for pokerstars, partypoker and GGPoker\\n==========================================================\\n\\nThis pokerbot plays automatically on Pokerstars, Partypoker and GG Poker. Any other table can be mapped as well.\\nIt works with image recognition, montecarlo simulation and a basic genetic algorithm.\\nThe mouse is moved automatically and the bot can potentially play for hours based on a large number of parameters.\\n\\nYou can download the binaries and run the executable directly from here:\\nhttps://sourceforge.net/projects/partypoker-pokerstars-pokerbot/\\n\\nRunning the bot:\\n----------------\\n\\nPartypoker:\\n~~~~~~~~~~~\\n* Use Fast Forward Tables\\n* Select Official PartyPoker table scraper\\n\\n.. figure:: doc/partypoker.gif\\n\\nPokerstars:\\n~~~~~~~~~~~\\n* Use Zoom Tables\\n* Select Official Poker Stars table scraper\\n* For Pokerstars you will need to make some adjustments to the client. It needs to look exactly as the below, in order to run it with the Official Pokerstars Table scraper:\\n* Make sure to match the card styles (4 color), covered card styles, and table styles.\\n\\n.. figure:: doc/ps-example.png\\n\\nGGPoker:\\n~~~~~~~~~~~\\nMake sure your GGPoker setup looks as follows when using it with the Official GGPoker Table:\\n\\n.. figure:: doc/ggpk2.png\\n\\n\\nGeneral setup:\\n~~~~~~~~~~~~~~\\n\\nIf you just want to run the bot, please do the following:\\n\\nInstall the binearies of the bot from here: https://sourceforge.net/projects/partypoker-pokerstars-pokerbot/\\n\\nYou can then immediately run the bot. It will analyze the poker client, move the mouse and play in accordance\\nwith one of its pre-programmed strategies. Most of the strategies are based on zoom or Fast Forward tables.\\nYou are welcome to edit and imporve any strategies to optmize the play of the bot for your needs.\\n\\nIn most cases it may be useful to put the poker client inside a virtual machine to avoid it from interfering\\nwith the bot. Also, the bot will then be able to control the mouse inside the virtual machine, without blocking\\nthe whole computer:\\n\\n* Download Virtualbox: https://www.virtualbox.org/\\n* Download Windows 10 Iso File for example from here https://www.softlay.com/apps/operating-system\\n* Create a new virtual box environment and use the ISO file as a startup\\n* Make sure to give the Virtualbox only 1 CPU as the computing power is needed for the bot (mainly for OCR)\\n* Install Partypoker or Pokerstars in the virtual box environment\\n* Install the pokerbot directly onto your computer (outside of the virtual box)\\n* In the Setup select your virtual box instance (instead of direct mouse control)\\n* Join the telegram chat by pressing the chat button\\n\\n* The current version Only works on windows\\n* Do not obstruct the view of the table as the bot is based on image recognition\\n* Only one table window should be visible.\\n* For best performance minimize all windows in the vm, except the table window itself\\n* Don't use any dpi scaling in the virtualbox\\n* In setup, try to select your virtual machine instead of direct mouse control. That way mouse movements won't obstruct you.\\n\\n\\nStrategy Analyzer\\n-----------------\\n\\n- You can see the profitability of each strategy in the strategy analyzer.\\n- The bar chart indicates what action types have led to wins or losses at each stage (preflop, flop turn and river)\\n\\nLooking at the stacked bar chart in more detail, gives you clues how to adjust the strategy to maximize your wins:\\n\\n.. figure:: doc/analyzer_bar2.png\\n\\nAnalyze individual rounds within each stage:\\n\\n.. figure:: doc/analyzer_bar3.png\\n\\nAnalyze individual hands:\\n\\n.. figure:: doc/strategy_analyzer.gif\\n\\n\\nStrategy editor\\n---------------\\nA variety of factors are taken into consideration when the bot makes decisions and they can be adjusted in the strategy editor:\\n\\n- Equity (winning probability), which is calculated by a montecarlo simulation\\n- Equity and minimum call/bet value need to be on the left of the corresponding curve in order for the bot not to fold\\n- Various other factors, such as behaviour in the previous rounds are taken into consideration. Check out the strategy editor for more details.\\n- Hover over each item to see a more detailed description\\n\\n.. figure:: doc/strategy2.png\\n\\nA variety of other options can be edited for each strategy:\\n\\n.. figure:: doc/strategy_editor.gif\\n\\nAdvice how to improve strategies:\\n~~~~~~~~~~~~~~~~~~~~~~~~~~~~~~~~~\\n\\n* You will generally require at least 2000 hands played with a strategy to draw any conclusions. Even better 5000 hands. Anything less than 1000 hands is completely random.\\n* Best buy in more than the minimum, this will improve the bots performance as it has more leeway to play. For example on a 0.01/0.02 table, buy in more than the minimum of $2. Ideally start with $4 or even more.\\n* Look at the strategy analyzer and work your way backwards. First improve the River play, then once this is good move on to the Turn, then to the Flop etc. This is because the game is path dependent.\\n* If you make changes in the ranges, you may need to adapt all minimum equities as it changes the equity calculation.\\n* Good Luck!\\n\\nFull version:\\n~~~~~~~~~~~~~\\n\\nThe full version allows you to:\\n\\n* Edit and create new Strategies\\n* View all Strategies of all users\\n\\nTo purchase, please follow this link. You'll then receive a password within 24 hours.\\nhttps://www.paypal.com/webapps/billing/plans/subscribe?plan_id=P-910576034F790373KMC6UZOQ\\n\\nAlternatively you can contact me via email or telegram and request a password directly and pay bitcoin to:\\n1Py5o4WLYMizXc8pFPqzD4yeCAm53BhJit\\n\\nYou can also get a free subscription if you make some meaningful contribution to the codebase.\\n\\nThe easiest way to contribute is by:\\n\\n- Adding new tables\\n- Adding new strategies\\n- Directly add fixes to the code and create a pull request\\n\\n\\n\\nMapping new tables\\n------------------\\n\\nThe bot can learn to read new tables, either by using templates or by training a neural network that uses data augmentation based on the given templates.\\n\\n`Click here to see a Video description how to add a new table &lt;https://www.dropbox.com/s/txpbtsi1drncq4x/20200531_194837.mp4?dl=0&gt;`_\\n\\nThe setup to add new tables looks like this:\\n\\n.. figure:: doc/scraper.png\\n\\n- Open the pokerbot and click on table setup to open the window that helps you create new tables.\\n- Open the poker client next to it, make sure it's not dpi scaled, so the pokerbot can take screenshots.\\n- Start with creating a new template, you can do this by entering a name for your template, for example Pokerstars 1-2 zoom poker. Click on 'Blank new'.\\n- Now the first think you want to do is to take a screenshot of the pokerstars window with the table. You can do this by pressing on the Take screenshot button. You should not see in the lower window a full screenshot of what is on your screen.\\n- The first step is now to mark the top left corner of the poker tables window, which will be the point of reference for everything else that will follow. To mark the top left corner, you need to mark it by first clicking on the top left part of it and then on the right lower part of it. once you have done this, it will appear in the second window. You can save it by clicking on the \"save newly selected top left corner\" button.\\n- Now you can crop it by pressing on the crop from top left corner button. This will discard most of the screenshot and only keep the screenshot from the top left corner and everything a few hundred pixels to the right of it and below.\\n- Next you will want to mark everything else in the window. Start with the Buttons search area. You can do this again by clicking on the top left area of the buttons and then on the bottom right area of where the buttons appear. Once you are happy with the selection, click on the \"Buttons search area\".\\n- If you hover over the buttons, you will get a more detailed description of what you need to pay attention to.\\n- Note that you will need to take many screenshots, crop them (don't select the top left corner again, as this you should only do once), instead load it and then crop the image. After that make your selection of the different images and save them by pressing on the corresponding button. You'll need to teach it every card and every button etc.\\n\\n\\nRunning via python source code\\n------------------------------\\n- Download pycharm communite edition as an IDE from here: https://www.jetbrains.com/pycharm/download/#section=windows\\n- Install python 3.7 or Anaconda (=python with packages) from here: https://www.python.org/downloads/release/python-379/\\n- Create an environment with ``conda create -n poker python=3.7`` or use pycharm's functionality to create a new virtual environment. Check youtube for details.\\n- Install all the packages with ``pip install -r requirements.txt``\\n- Install tesserocr: `pip install https://github.com/simonflueckiger/tesserocr-windows_build/releases/download/tesserocr-v2.4.0-tesseract-4.0.0/tesserocr-2.4.0-cp37-cp37m-win_amd64.whl`\\n- You also may need to get c++ runtime distributable: https://visualstudio.microsoft.com/downloads/\\n- Install virtualbox from https://www.virtualbox.org/wiki/Downloads and put the poker client into the virtual box. That way it can be controlled without having to use the mouse in your main window.\\n- Run ``main.py`` from pycharm after setting up the above created virtual environment as interpreter (check youtube)\\n\\n\\nPackages and modules:\\n~~~~~~~~~~~~~~~~~~~~~\\n\\nmain.py: entry point\\n\\npoker.scraper\\n^^^^^^^^^^^^^\\n\\nContains user interface and routines that help map new tables\\n\\n- ``recognize_table``: Functions to recognize the different items on the table, based on the created mapping\\n- ``screen_operations``: Various routines, such as taking screen shots, cropping etc\\n- ``table_setup``: Routines in relation to the gui\\n- ``ui_table_setup``: QT user interface. Corresponding py file is created with makegui.bat in the parent folder. To edit the gui download QT Designer and open the .ui file.\\n\\n\\npoker.decisionmaker\\n^^^^^^^^^^^^^^^^^^^\\n\\n-  ``decisionmaker.py``: The ultimate decision what action should be taken based on the input\\n-  ``montecarlo_numpy2.py``: fast numpy based montecarlo simulation to\\n   calculate equity. Not yet working correctly. Some tests are failing. Feel free to fix them.\\n-  ``montecarlo_python.py``: relatively slow python based montecarlo for equity calculation. Supports\\n   preflop ranges for other players.\\n\\npoker.tests\\n^^^^^^^^^^^\\n\\n-  ``test_montecarlo_numpy.py``: tests for the numpy montecarlo\\n-  ``test_pylint.py``: pylint and pydoc tests to ensure pep8 standards and static code analysis\\n\\n\\nGraphical user interface (gui)\\n^^^^^^^^^^^^^^^^^^^^^^^^^^^^^^\\n\\n- Download QT for open source project: https://www.qt.io/download-open-source\\n- Use the qt designer to edit any of the .ui files in gui/ui\\n\\n\\nNext Priorities\\n---------------\\n\\n\\n- [ ] Update tests. Some are currently outdated. More tests are needed\\n- [ ] Add more strategies\\n- [ ] Switch from using pytesseract to tesserocr to speed up OCR, this should considerably speed up the bot\\n- [ ] Better Analyze the collected data to improve strategies\\n\\n\\nMaking fixes in the code\\n~~~~~~~~~~~~~~~~~~~~~~~~\\n\\n- Fixing code and making a pull request back into the origin/master:\\n\\nIt will be hard for one person alone to beat the world at poker. That's\\nwhy this repo aims to have a collaborative environment, where models can\\nbe added and evaluated.\\n\\nTo contribute do the following:\\n\\n- Get Pycharm and build the virtual python environment. Use can do: ``pip install -r requirements.txt`` (see above)\\n- Clone your fork to your local machine. You can do this directly from pycharm: VCS --&gt; check out from version control --&gt; git\\n- Add as remote the original repository where you created the fork from and call it upstream (the connection to your fork should be called origin). This can be done with vcs --&gt; git --&gt; remotes\\n- Create a new branch: click on master at the bottom right, and then click on 'new branch'\\n- Make your edits.\\n- Ensure all tests pass. Under file --&gt; settings --&gt; python integrated tools switch to pytest. You can then just right click on the tests folder and run all tests. All tests need to pass. Make sure to add your own tests by simply naming the funtion test\\_... \\\\n- Make sure all the tests are passing. Best run pytest as described above (in pycharm just right click on the tests folder and run it). If a test fails, you can debug the test, by right clicking on it and put breakpoints, or even open a console at the breakpoint: https://stackoverflow.com/questions/19329601/interactive-shell-debugging-with-pycharm\\n- Commit your changes (CTRL+K}\\n- Push your changes to your origin (your fork) (CTRL+SHIFT+K)\\n- To bring your branch up to date with upstream master, if it has moved on: rebase onto upstream master: click on your branch name at the bottom right of pycharm, then click on upstream/master, then rebase onto. You may need to resolve soe conflicts. Once this is done, make sure to always force-push (ctrl+shift+k), (not just push). This can be done by selecting the dropdown next to push and choose force-push (important: don't push and merge a rebased branch with your remote)\\n- Create a pull request on your github.com to merge your branch with the upstream master.\\n- When your pull request is approved, it will be merged into the upstream/master.\\n- Please make sure that all tests are passing, including the pylint test. You can either run them locally on your machine, or when you push check the travis log on github. [currently many are failing, feel free to help fixing them!]\\n\\n\\n\\nFAQ\\n---\\n\\nNo top left corner\\n~~~~~~~~~~~~~~~~~~\\n\\n- Make sure everything looks exactly like in the picture at the top of this documentation.\\n    * The buttons need to look exactly like this and it needs to be in English and not scaled. Colours need to be standard.\\n    * Most tables are mapped to real money. They won't work with play money.\\n    * The poker table window has to be fully visible and cannot be scaled, otherwise it won't be detected properly.\\n    * In Partypoker, when you open the table, choose table options and then choose **back to default size** to make sure the table is in default size.\\n\\n- Tables are mapped for fast forward and zoom games with real money. Use the Supersonic3 table for Partypoker or McNaught table in Pokerstars.\\n- If things still don't work, consider teaching it a new table as described above.\\n\\nCards not recognized\\n~~~~~~~~~~~~~~~~~~~~~\\n\\n- Make sure everything looks exactly like in the picture at the top of this documentation.\\n    * Make sure to use real money. Tables are different for play money.\\n    * Ensure you are seated at the position as shown in the picture above.\\n    * Currently the bot only works for tables with 6 players.\\n\\n\\nDo I need to use a virtual machine?\\n~~~~~~~~~~~~~~~~~~~~~~~~~~~~~~~~~~~\\n\\n- For Pokerstars you definitely do, otherwise you will be blocked and your account will be frozen within minutes. For Partypoker I'm not sure. But best check the terms and conditions.\\n\\n\\nAnalyzing the log and reporting problems\\n~~~~~~~~~~~~~~~~~~~~~~~~~~~~~~~~~~~~~~~~\\n\\n- In the folder where you installed the pokerbot, there is a subfolder with the log files in /log. There are also screenshots in /log/screenshots that may be able to help debug the problem.\\n- Create a issue on the link at the top of this github page https://github.com/dickreuter/Poker/issues or email dickreuter@gmail.com.\\n\\n\\nRelated projects\\n----------------\\nTraining the bot by playing against itself is a separate project which can be found here:\\nhttps://github.com/dickreuter/neuron_poker</td>\n",
       "      <td>Deep mind pokerbot for pokerstars, partypoker and GGPoker\\n==========================================================\\n\\nThis pokerbot plays automatically on Pokerstars, Partypoker and GG Poker. Any other table can be mapped as well.\\nIt works with image recognition, montecarlo simulation and a basic genetic algorithm.\\nThe mouse is moved automatically and the bot can potentially play for hours based on a large number of parameters.\\n\\nYou can download the binaries and run the executable directly from here:\\nhttps://sourceforge.net/projects/partypoker-pokerstars-pokerbot/\\n\\nRunning the bot:\\n----------------\\n\\nPartypoker:\\n~~~~~~~~~~~\\n* Use Fast Forward Tables\\n* Select Official PartyPoker table scraper\\n\\n.. figure:: doc/partypoker.gif\\n\\nPokerstars:\\n~~~~~~~~~~~\\n* Use Zoom Tables\\n* Select Official Poker Stars table scraper\\n* For Pokerstars you will need to make some adjustments to the client. It needs to look exactly as the below, in order to run it with the Official Pokerstars Table scraper:\\n* Make sure to match the card styles (4 color), covered card styles, and table styles.\\n\\n.. figure:: doc/ps-example.png\\n\\nGGPoker:\\n~~~~~~~~~~~\\nMake sure your GGPoker setup looks as follows when using it with the Official GGPoker Table:\\n\\n.. figure:: doc/ggpk2.png\\n\\n\\nGeneral setup:\\n~~~~~~~~~~~~~~\\n\\nIf you just want to run the bot, please do the following:\\n\\nInstall the binearies of the bot from here: https://sourceforge.net/projects/partypoker-pokerstars-pokerbot/\\n\\nYou can then immediately run the bot. It will analyze the poker client, move the mouse and play in accordance\\nwith one of its pre-programmed strategies. Most of the strategies are based on zoom or Fast Forward tables.\\nYou are welcome to edit and imporve any strategies to optmize the play of the bot for your needs.\\n\\nIn most cases it may be useful to put the poker client inside a virtual machine to avoid it from interfering\\nwith the bot. Also, the bot will then be able to control the mouse inside the virtual machine, without blocking\\nthe whole computer:\\n\\n* Download Virtualbox: https://www.virtualbox.org/\\n* Download Windows 10 Iso File for example from here https://www.softlay.com/apps/operating-system\\n* Create a new virtual box environment and use the ISO file as a startup\\n* Make sure to give the Virtualbox only 1 CPU as the computing power is needed for the bot (mainly for OCR)\\n* Install Partypoker or Pokerstars in the virtual box environment\\n* Install the pokerbot directly onto your computer (outside of the virtual box)\\n* In the Setup select your virtual box instance (instead of direct mouse control)\\n* Join the telegram chat by pressing the chat button\\n\\n* The current version Only works on windows\\n* Do not obstruct the view of the table as the bot is based on image recognition\\n* Only one table window should be visible.\\n* For best performance minimize all windows in the vm, except the table window itself\\n* Don't use any dpi scaling in the virtualbox\\n* In setup, try to select your virtual machine instead of direct mouse control. That way mouse movements won't obstruct you.\\n\\n\\nStrategy Analyzer\\n-----------------\\n\\n- You can see the profitability of each strategy in the strategy analyzer.\\n- The bar chart indicates what action types have led to wins or losses at each stage (preflop, flop turn and river)\\n\\nLooking at the stacked bar chart in more detail, gives you clues how to adjust the strategy to maximize your wins:\\n\\n.. figure:: doc/analyzer_bar2.png\\n\\nAnalyze individual rounds within each stage:\\n\\n.. figure:: doc/analyzer_bar3.png\\n\\nAnalyze individual hands:\\n\\n.. figure:: doc/strategy_analyzer.gif\\n\\n\\nStrategy editor\\n---------------\\nA variety of factors are taken into consideration when the bot makes decisions and they can be adjusted in the strategy editor:\\n\\n- Equity (winning probability), which is calculated by a montecarlo simulation\\n- Equity and minimum call/bet value need to be on the left of the corresponding curve in order for the bot not to fold\\n- Various other factors, such as behaviour in the previous rounds are taken into consideration. Check out the strategy editor for more details.\\n- Hover over each item to see a more detailed description\\n\\n.. figure:: doc/strategy2.png\\n\\nA variety of other options can be edited for each strategy:\\n\\n.. figure:: doc/strategy_editor.gif\\n\\nAdvice how to improve strategies:\\n~~~~~~~~~~~~~~~~~~~~~~~~~~~~~~~~~\\n\\n* You will generally require at least 2000 hands played with a strategy to draw any conclusions. Even better 5000 hands. Anything less than 1000 hands is completely random.\\n* Best buy in more than the minimum, this will improve the bots performance as it has more leeway to play. For example on a 0.01/0.02 table, buy in more than the minimum of $2. Ideally start with $4 or even more.\\n* Look at the strategy analyzer and work your way backwards. First improve the River play, then once this is good move on to the Turn, then to the Flop etc. This is because the game is path dependent.\\n* If you make changes in the ranges, you may need to adapt all minimum equities as it changes the equity calculation.\\n* Good Luck!\\n\\nFull version:\\n~~~~~~~~~~~~~\\n\\nThe full version allows you to:\\n\\n* Edit and create new Strategies\\n* View all Strategies of all users\\n\\nTo purchase, please follow this link. You'll then receive a password within 24 hours.\\nhttps://www.paypal.com/webapps/billing/plans/subscribe?plan_id=P-910576034F790373KMC6UZOQ\\n\\nAlternatively you can contact me via email or telegram and request a password directly and pay bitcoin to:\\n1Py5o4WLYMizXc8pFPqzD4yeCAm53BhJit\\n\\nYou can also get a free subscription if you make some meaningful contribution to the codebase.\\n\\nThe easiest way to contribute is by:\\n\\n- Adding new tables\\n- Adding new strategies\\n- Directly add fixes to the code and create a pull request\\n\\n\\n\\nMapping new tables\\n------------------\\n\\nThe bot can learn to read new tables, either by using templates or by training a neural network that uses data augmentation based on the given templates.\\n\\n`Click here to see a Video description how to add a new table &lt;https://www.dropbox.com/s/txpbtsi1drncq4x/20200531_194837.mp4?dl=0&gt;`_\\n\\nThe setup to add new tables looks like this:\\n\\n.. figure:: doc/scraper.png\\n\\n- Open the pokerbot and click on table setup to open the window that helps you create new tables.\\n- Open the poker client next to it, make sure it's not dpi scaled, so the pokerbot can take screenshots.\\n- Start with creating a new template, you can do this by entering a name for your template, for example Pokerstars 1-2 zoom poker. Click on 'Blank new'.\\n- Now the first think you want to do is to take a screenshot of the pokerstars window with the table. You can do this by pressing on the Take screenshot button. You should not see in the lower window a full screenshot of what is on your screen.\\n- The first step is now to mark the top left corner of the poker tables window, which will be the point of reference for everything else that will follow. To mark the top left corner, you need to mark it by first clicking on the top left part of it and then on the right lower part of it. once you have done this, it will appear in the second window. You can save it by clicking on the \"save newly selected top left corner\" button.\\n- Now you can crop it by pressing on the crop from top left corner button. This will discard most of the screenshot and only keep the screenshot from the top left corner and everything a few hundred pixels to the right of it and below.\\n- Next you will want to mark everything else in the window. Start with the Buttons search area. You can do this again by clicking on the top left area of the buttons and then on the bottom right area of where the buttons appear. Once you are happy with the selection, click on the \"Buttons search area\".\\n- If you hover over the buttons, you will get a more detailed description of what you need to pay attention to.\\n- Note that you will need to take many screenshots, crop them (don't select the top left corner again, as this you should only do once), instead load it and then crop the image. After that make your selection of the different images and save them by pressing on the corresponding button. You'll need to teach it every card and every button etc.\\n\\n\\nRunning via python source code\\n------------------------------\\n- Download pycharm communite edition as an IDE from here: https://www.jetbrains.com/pycharm/download/#section=windows\\n- Install python 3.7 or Anaconda (=python with packages) from here: https://www.python.org/downloads/release/python-379/\\n- Create an environment with ``conda create -n poker python=3.7`` or use pycharm's functionality to create a new virtual environment. Check youtube for details.\\n- Install all the packages with ``pip install -r requirements.txt``\\n- Install tesserocr: `pip install https://github.com/simonflueckiger/tesserocr-windows_build/releases/download/tesserocr-v2.4.0-tesseract-4.0.0/tesserocr-2.4.0-cp37-cp37m-win_amd64.whl`\\n- You also may need to get c++ runtime distributable: https://visualstudio.microsoft.com/downloads/\\n- Install virtualbox from https://www.virtualbox.org/wiki/Downloads and put the poker client into the virtual box. That way it can be controlled without having to use the mouse in your main window.\\n- Run ``main.py`` from pycharm after setting up the above created virtual environment as interpreter (check youtube)\\n\\n\\nPackages and modules:\\n~~~~~~~~~~~~~~~~~~~~~\\n\\nmain.py: entry point\\n\\npoker.scraper\\n^^^^^^^^^^^^^\\n\\nContains user interface and routines that help map new tables\\n\\n- ``recognize_table``: Functions to recognize the different items on the table, based on the created mapping\\n- ``screen_operations``: Various routines, such as taking screen shots, cropping etc\\n- ``table_setup``: Routines in relation to the gui\\n- ``ui_table_setup``: QT user interface. Corresponding py file is created with makegui.bat in the parent folder. To edit the gui download QT Designer and open the .ui file.\\n\\n\\npoker.decisionmaker\\n^^^^^^^^^^^^^^^^^^^\\n\\n-  ``decisionmaker.py``: The ultimate decision what action should be taken based on the input\\n-  ``montecarlo_numpy2.py``: fast numpy based montecarlo simulation to\\n   calculate equity. Not yet working correctly. Some tests are failing. Feel free to fix them.\\n-  ``montecarlo_python.py``: relatively slow python based montecarlo for equity calculation. Supports\\n   preflop ranges for other players.\\n\\npoker.tests\\n^^^^^^^^^^^\\n\\n-  ``test_montecarlo_numpy.py``: tests for the numpy montecarlo\\n-  ``test_pylint.py``: pylint and pydoc tests to ensure pep8 standards and static code analysis\\n\\n\\nGraphical user interface (gui)\\n^^^^^^^^^^^^^^^^^^^^^^^^^^^^^^\\n\\n- Download QT for open source project: https://www.qt.io/download-open-source\\n- Use the qt designer to edit any of the .ui files in gui/ui\\n\\n\\nNext Priorities\\n---------------\\n\\n\\n- [ ] Update tests. Some are currently outdated. More tests are needed\\n- [ ] Add more strategies\\n- [ ] Switch from using pytesseract to tesserocr to speed up OCR, this should considerably speed up the bot\\n- [ ] Better Analyze the collected data to improve strategies\\n\\n\\nMaking fixes in the code\\n~~~~~~~~~~~~~~~~~~~~~~~~\\n\\n- Fixing code and making a pull request back into the origin/master:\\n\\nIt will be hard for one person alone to beat the world at poker. That's\\nwhy this repo aims to have a collaborative environment, where models can\\nbe added and evaluated.\\n\\nTo contribute do the following:\\n\\n- Get Pycharm and build the virtual python environment. Use can do: ``pip install -r requirements.txt`` (see above)\\n- Clone your fork to your local machine. You can do this directly from pycharm: VCS --&gt; check out from version control --&gt; git\\n- Add as remote the original repository where you created the fork from and call it upstream (the connection to your fork should be called origin). This can be done with vcs --&gt; git --&gt; remotes\\n- Create a new branch: click on master at the bottom right, and then click on 'new branch'\\n- Make your edits.\\n- Ensure all tests pass. Under file --&gt; settings --&gt; python integrated tools switch to pytest. You can then just right click on the tests folder and run all tests. All tests need to pass. Make sure to add your own tests by simply naming the funtion test\\_... \\\\n- Make sure all the tests are passing. Best run pytest as described above (in pycharm just right click on the tests folder and run it). If a test fails, you can debug the test, by right clicking on it and put breakpoints, or even open a console at the breakpoint: https://stackoverflow.com/questions/19329601/interactive-shell-debugging-with-pycharm\\n- Commit your changes (CTRL+K}\\n- Push your changes to your origin (your fork) (CTRL+SHIFT+K)\\n- To bring your branch up to date with upstream master, if it has moved on: rebase onto upstream master: click on your branch name at the bottom right of pycharm, then click on upstream/master, then rebase onto. You may need to resolve soe conflicts. Once this is done, make sure to always force-push (ctrl+shift+k), (not just push). This can be done by selecting the dropdown next to push and choose force-push (important: don't push and merge a rebased branch with your remote)\\n- Create a pull request on your github.com to merge your branch with the upstream master.\\n- When your pull request is approved, it will be merged into the upstream/master.\\n- Please make sure that all tests are passing, including the pylint test. You can either run them locally on your machine, or when you push check the travis log on github. [currently many are failing, feel free to help fixing them!]\\n\\n\\n\\nFAQ\\n---\\n\\nNo top left corner\\n~~~~~~~~~~~~~~~~~~\\n\\n- Make sure everything looks exactly like in the picture at the top of this documentation.\\n    * The buttons need to look exactly like this and it needs to be in English and not scaled. Colours need to be standard.\\n    * Most tables are mapped to real money. They won't work with play money.\\n    * The poker table window has to be fully visible and cannot be scaled, otherwise it won't be detected properly.\\n    * In Partypoker, when you open the table, choose table options and then choose **back to default size** to make sure the table is in default size.\\n\\n- Tables are mapped for fast forward and zoom games with real money. Use the Supersonic3 table for Partypoker or McNaught table in Pokerstars.\\n- If things still don't work, consider teaching it a new table as described above.\\n\\nCards not recognized\\n~~~~~~~~~~~~~~~~~~~~~\\n\\n- Make sure everything looks exactly like in the picture at the top of this documentation.\\n    * Make sure to use real money. Tables are different for play money.\\n    * Ensure you are seated at the position as shown in the picture above.\\n    * Currently the bot only works for tables with 6 players.\\n\\n\\nDo I need to use a virtual machine?\\n~~~~~~~~~~~~~~~~~~~~~~~~~~~~~~~~~~~\\n\\n- For Pokerstars you definitely do, otherwise you will be blocked and your account will be frozen within minutes. For Partypoker I'm not sure. But best check the terms and conditions.\\n\\n\\nAnalyzing the log and reporting problems\\n~~~~~~~~~~~~~~~~~~~~~~~~~~~~~~~~~~~~~~~~\\n\\n- In the folder where you installed the pokerbot, there is a subfolder with the log files in /log. There are also screenshots in /log/screenshots that may be able to help debug the problem.\\n- Create a issue on the link at the top of this github page https://github.com/dickreuter/Poker/issues or email dickreuter@gmail.com.\\n\\n\\nRelated projects\\n----------------\\nTraining the bot by playing against itself is a separate project which can be found here:\\nhttps://github.com/dickreuter/neuron_poker</td>\n",
       "      <td>deep mind pokerbot pokerstar partypok ggpoker pokerbot play automat pokerstar partypok gg poker tabl map well work imag recognit montecarlo simul basic genet algorithm mous move automat bot potenti play hour base larg number paramet download binari run execut directli httpssourceforgenetprojectspartypokerpokerstarspokerbot run bot partypok use fast forward tabl select offici partypok tabl scraper figur docpartypokergif pokerstar use zoom tabl select offici poker star tabl scraper pokerstar need make adjust client need look exactli order run offici pokerstar tabl scraper make sure match card style 4 color cover card style tabl style figur docpsexamplepng ggpoker make sure ggpoker setup look follow use offici ggpoker tabl figur docggpk2png gener setup want run bot pleas follow instal bineari bot httpssourceforgenetprojectspartypokerpokerstarspokerbot immedi run bot analyz poker client move mous play accord one preprogram strategi strategi base zoom fast forward tabl welcom edit imporv strategi optmiz play bot need case may use put poker client insid virtual machin avoid interf bot also bot abl control mous insid virtual machin without block whole comput download virtualbox httpswwwvirtualboxorg download window 10 iso file exampl httpswwwsoftlaycomappsoperatingsystem creat new virtual box environ use iso file startup make sure give virtualbox 1 cpu comput power need bot mainli ocr instal partypok pokerstar virtual box environ instal pokerbot directli onto comput outsid virtual box setup select virtual box instanc instead direct mous control join telegram chat press chat button current version work window obstruct view tabl bot base imag recognit one tabl window visibl best perform minim window vm except tabl window use dpi scale virtualbox setup tri select virtual machin instead direct mous control way mous movement obstruct strategi analyz see profit strategi strategi analyz bar chart indic action type led win loss stage preflop flop turn river look stack bar chart detail give clue adjust strategi maxim win figur docanalyzerbar2png analyz individu round within stage figur docanalyzerbar3png analyz individu hand figur docstrategyanalyzergif strategi editor varieti factor taken consider bot make decis adjust strategi editor equiti win probabl calcul montecarlo simul equiti minimum callbet valu need left correspond curv order bot fold variou factor behaviour previou round taken consider check strategi editor detail hover item see detail descript figur docstrategy2png varieti option edit strategi figur docstrategyeditorgif advic improv strategi gener requir least 2000 hand play strategi draw conclus even better 5000 hand anyth less 1000 hand complet random best buy minimum improv bot perform leeway play exampl 001002 tabl buy minimum 2 ideal start 4 even look strategi analyz work way backward first improv river play good move turn flop etc game path depend make chang rang may need adapt minimum equiti chang equiti calcul good luck full version full version allow edit creat new strategi view strategi user purchas pleas follow link receiv password within 24 hour httpswwwpaypalcomwebappsbillingplanssubscribeplanidp910576034f790373kmc6uzoq altern contact via email telegram request password directli pay bitcoin 1py5o4wlymizxc8pfpqzd4yecam53bhjit also get free subscript make meaning contribut codebas easiest way contribut ad new tabl ad new strategi directli add fix creat pull request map new tabl bot learn read new tabl either use templat train neural network use data augment base given templat click see video descript add new tabl httpswwwdropboxcomstxpbtsi1drncq4x20200531194837mp4dl0 setup add new tabl look like figur docscraperpng open pokerbot click tabl setup open window help creat new tabl open poker client next make sure dpi scale pokerbot take screenshot start creat new templat enter name templat exampl pokerstar 12 zoom poker click 'blank new' first think want take screenshot pokerstar window tabl press take screenshot button see lower window full screenshot screen first step mark top left corner poker tabl window point refer everyth els follow mark top left corner need mark first click top left part right lower part done appear second window save click save newli select top left corner button crop press crop top left corner button discard screenshot keep screenshot top left corner everyth hundr pixel right next want mark everyth els window start button search area click top left area button bottom right area button appear happi select click button search area hover button get detail descript need pay attent note need take mani screenshot crop select top left corner instead load crop imag make select differ imag save press correspond button need teach everi card everi button etc run via python sourc download pycharm communit edit ide httpswwwjetbrainscompycharmdownloadsectionwindow instal python 37 anaconda python packag httpswwwpythonorgdownloadsreleasepython379 creat environ conda creat n poker python37 use pycharm' function creat new virtual environ check youtub detail instal packag pip instal r requirementstxt instal tesserocr pip instal httpsgithubcomsimonflueckigertesserocrwindowsbuildreleasesdownloadtesserocrv240tesseract400tesserocr240cp37cp37mwinamd64whl also may need get c runtim distribut httpsvisualstudiomicrosoftcomdownload instal virtualbox httpswwwvirtualboxorgwikidownload put poker client virtual box way control without use mous main window run mainpi pycharm set creat virtual environ interpret check youtub packag modul mainpi entri point pokerscrap contain user interfac routin help map new tabl recognizet function recogn differ item tabl base creat map screenoper variou routin take screen shot crop etc tablesetup routin relat gui uitablesetup qt user interfac correspond py file creat makeguibat parent folder edit gui download qt design open ui file pokerdecisionmak decisionmakerpi ultim decis action taken base input montecarlonumpy2pi fast numpi base montecarlo simul calcul equiti yet work correctli test fail feel free fix montecarlopythonpi rel slow python base montecarlo equiti calcul support preflop rang player pokertest testmontecarlonumpypi test numpi montecarlo testpylintpi pylint pydoc test ensur pep8 standard static analysi graphic user interfac gui download qt open sourc project httpswwwqtiodownloadopensourc use qt design edit ui file guiui next prioriti updat test current outdat test need add strategi switch use pytesseract tesserocr speed ocr consider speed bot better analyz collect data improv strategi make fix fix make pull request back originmast hard one person alon beat world poker that' repo aim collabor environ model ad evalu contribut follow get pycharm build virtual python environ use pip instal r requirementstxt see clone fork local machin directli pycharm vc check version control git add remot origin repositori creat fork call upstream connect fork call origin done vc git remot creat new branch click master bottom right click 'new branch' make edit ensur test pass file set python integr tool switch pytest right click test folder run test test need pass make sure add test simpli name funtion test make sure test pass best run pytest describ pycharm right click test folder run test fail debug test right click put breakpoint even open consol breakpoint httpsstackoverflowcomquestions19329601interactiveshelldebuggingwithpycharm commit chang ctrlk push chang origin fork ctrlshiftk bring branch date upstream master move rebas onto upstream master click branch name bottom right pycharm click upstreammast rebas onto may need resolv soe conflict done make sure alway forcepush ctrlshiftk push done select dropdown next push choos forcepush import push merg rebas branch remot creat pull request githubcom merg branch upstream master pull request approv merg upstreammast pleas make sure test pass includ pylint test either run local machin push check travi log current mani fail feel free help fix faq top left corner make sure everyth look exactli like pictur top document button need look exactli like need english scale colour need standard tabl map real money work play money poker tabl window fulli visibl cannot scale otherwis detect properli partypok open tabl choos tabl option choos back default size make sure tabl default size tabl map fast forward zoom game real money use supersonic3 tabl partypok mcnaught tabl pokerstar thing still work consid teach new tabl describ card recogn make sure everyth look exactli like pictur top document make sure use real money tabl differ play money ensur seat posit shown pictur current bot work tabl 6 player need use virtual machin pokerstar definit otherwis block account frozen within minut partypok i'm sure best check term condit analyz log report problem folder instal pokerbot subfold log file log also screenshot logscreenshot may abl help debug problem creat issu link top page httpsgithubcomdickreuterpokerissu email dickreutergmailcom relat project train bot play separ project found httpsgithubcomdickreuterneuronpok</td>\n",
       "      <td>deep mind pokerbot pokerstars partypoker ggpoker pokerbot play automatically pokerstars partypoker gg poker table mapped well work image recognition montecarlo simulation basic genetic algorithm mouse moved automatically bot potentially play hour based large number parameter download binary run executable directly httpssourceforgenetprojectspartypokerpokerstarspokerbot running bot partypoker use fast forward table select official partypoker table scraper figure docpartypokergif pokerstars use zoom table select official poker star table scraper pokerstars need make adjustment client need look exactly order run official pokerstars table scraper make sure match card style 4 color covered card style table style figure docpsexamplepng ggpoker make sure ggpoker setup look follows using official ggpoker table figure docggpk2png general setup want run bot please following install binearies bot httpssourceforgenetprojectspartypokerpokerstarspokerbot immediately run bot analyze poker client move mouse play accordance one preprogrammed strategy strategy based zoom fast forward table welcome edit imporve strategy optmize play bot need case may useful put poker client inside virtual machine avoid interfering bot also bot able control mouse inside virtual machine without blocking whole computer download virtualbox httpswwwvirtualboxorg download window 10 iso file example httpswwwsoftlaycomappsoperatingsystem create new virtual box environment use iso file startup make sure give virtualbox 1 cpu computing power needed bot mainly ocr install partypoker pokerstars virtual box environment install pokerbot directly onto computer outside virtual box setup select virtual box instance instead direct mouse control join telegram chat pressing chat button current version work window obstruct view table bot based image recognition one table window visible best performance minimize window vm except table window use dpi scaling virtualbox setup try select virtual machine instead direct mouse control way mouse movement obstruct strategy analyzer see profitability strategy strategy analyzer bar chart indicates action type led win loss stage preflop flop turn river looking stacked bar chart detail give clue adjust strategy maximize win figure docanalyzerbar2png analyze individual round within stage figure docanalyzerbar3png analyze individual hand figure docstrategyanalyzergif strategy editor variety factor taken consideration bot make decision adjusted strategy editor equity winning probability calculated montecarlo simulation equity minimum callbet value need left corresponding curve order bot fold various factor behaviour previous round taken consideration check strategy editor detail hover item see detailed description figure docstrategy2png variety option edited strategy figure docstrategyeditorgif advice improve strategy generally require least 2000 hand played strategy draw conclusion even better 5000 hand anything le 1000 hand completely random best buy minimum improve bot performance leeway play example 001002 table buy minimum 2 ideally start 4 even look strategy analyzer work way backwards first improve river play good move turn flop etc game path dependent make change range may need adapt minimum equity change equity calculation good luck full version full version allows edit create new strategy view strategy user purchase please follow link receive password within 24 hour httpswwwpaypalcomwebappsbillingplanssubscribeplanidp910576034f790373kmc6uzoq alternatively contact via email telegram request password directly pay bitcoin 1py5o4wlymizxc8pfpqzd4yecam53bhjit also get free subscription make meaningful contribution codebase easiest way contribute adding new table adding new strategy directly add fix create pull request mapping new table bot learn read new table either using template training neural network us data augmentation based given template click see video description add new table httpswwwdropboxcomstxpbtsi1drncq4x20200531194837mp4dl0 setup add new table look like figure docscraperpng open pokerbot click table setup open window help create new table open poker client next make sure dpi scaled pokerbot take screenshots start creating new template entering name template example pokerstars 12 zoom poker click 'blank new' first think want take screenshot pokerstars window table pressing take screenshot button see lower window full screenshot screen first step mark top left corner poker table window point reference everything else follow mark top left corner need mark first clicking top left part right lower part done appear second window save clicking save newly selected top left corner button crop pressing crop top left corner button discard screenshot keep screenshot top left corner everything hundred pixel right next want mark everything else window start button search area clicking top left area button bottom right area button appear happy selection click button search area hover button get detailed description need pay attention note need take many screenshots crop select top left corner instead load crop image make selection different image save pressing corresponding button need teach every card every button etc running via python source download pycharm communite edition ide httpswwwjetbrainscompycharmdownloadsectionwindows install python 37 anaconda python package httpswwwpythonorgdownloadsreleasepython379 create environment conda create n poker python37 use pycharm's functionality create new virtual environment check youtube detail install package pip install r requirementstxt install tesserocr pip install httpsgithubcomsimonflueckigertesserocrwindowsbuildreleasesdownloadtesserocrv240tesseract400tesserocr240cp37cp37mwinamd64whl also may need get c runtime distributable httpsvisualstudiomicrosoftcomdownloads install virtualbox httpswwwvirtualboxorgwikidownloads put poker client virtual box way controlled without use mouse main window run mainpy pycharm setting created virtual environment interpreter check youtube package module mainpy entry point pokerscraper contains user interface routine help map new table recognizetable function recognize different item table based created mapping screenoperations various routine taking screen shot cropping etc tablesetup routine relation gui uitablesetup qt user interface corresponding py file created makeguibat parent folder edit gui download qt designer open ui file pokerdecisionmaker decisionmakerpy ultimate decision action taken based input montecarlonumpy2py fast numpy based montecarlo simulation calculate equity yet working correctly test failing feel free fix montecarlopythonpy relatively slow python based montecarlo equity calculation support preflop range player pokertests testmontecarlonumpypy test numpy montecarlo testpylintpy pylint pydoc test ensure pep8 standard static analysis graphical user interface gui download qt open source project httpswwwqtiodownloadopensource use qt designer edit ui file guiui next priority update test currently outdated test needed add strategy switch using pytesseract tesserocr speed ocr considerably speed bot better analyze collected data improve strategy making fix fixing making pull request back originmaster hard one person alone beat world poker that's repo aim collaborative environment model added evaluated contribute following get pycharm build virtual python environment use pip install r requirementstxt see clone fork local machine directly pycharm vcs check version control git add remote original repository created fork call upstream connection fork called origin done vcs git remote create new branch click master bottom right click 'new branch' make edits ensure test pas file setting python integrated tool switch pytest right click test folder run test test need pas make sure add test simply naming funtion test make sure test passing best run pytest described pycharm right click test folder run test fails debug test right clicking put breakpoints even open console breakpoint httpsstackoverflowcomquestions19329601interactiveshelldebuggingwithpycharm commit change ctrlk push change origin fork ctrlshiftk bring branch date upstream master moved rebase onto upstream master click branch name bottom right pycharm click upstreammaster rebase onto may need resolve soe conflict done make sure always forcepush ctrlshiftk push done selecting dropdown next push choose forcepush important push merge rebased branch remote create pull request githubcom merge branch upstream master pull request approved merged upstreammaster please make sure test passing including pylint test either run locally machine push check travis log currently many failing feel free help fixing faq top left corner make sure everything look exactly like picture top documentation button need look exactly like need english scaled colour need standard table mapped real money work play money poker table window fully visible cannot scaled otherwise detected properly partypoker open table choose table option choose back default size make sure table default size table mapped fast forward zoom game real money use supersonic3 table partypoker mcnaught table pokerstars thing still work consider teaching new table described card recognized make sure everything look exactly like picture top documentation make sure use real money table different play money ensure seated position shown picture currently bot work table 6 player need use virtual machine pokerstars definitely otherwise blocked account frozen within minute partypoker i'm sure best check term condition analyzing log reporting problem folder installed pokerbot subfolder log file log also screenshots logscreenshots may able help debug problem create issue link top page httpsgithubcomdickreuterpokerissues email dickreutergmailcom related project training bot playing separate project found httpsgithubcomdickreuterneuronpoker</td>\n",
       "    </tr>\n",
       "    <tr>\n",
       "      <th>1</th>\n",
       "      <td>1</td>\n",
       "      <td>pret/pokered</td>\n",
       "      <td>Assembly</td>\n",
       "      <td># Pokémon Red and Blue [![Build Status][ci-badge]][ci]\\n\\nThis is a disassembly of Pokémon Red and Blue.\\n\\nIt builds the following ROMs:\\n\\n- Pokemon Red (UE) [S][!].gb `sha1: ea9bcae617fdf159b045185467ae58b2e4a48b9a`\\n- Pokemon Blue (UE) [S][!].gb `sha1: d7037c83e1ae5b39bde3c30787637ba1d4c48ce2`\\n- BLUEMONS.GB (debug build) `sha1: 5b1456177671b79b263c614ea0e7cc9ac542e9c4`\\n- dmgapae0.e69.patch `sha1: 0fb5f743696adfe1dbb2e062111f08f9bc5a293a`\\n- dmgapee0.e68.patch `sha1: ed4be94dc29c64271942c87f2157bca9ca1019c7`\\n\\nTo set up the repository, see [**INSTALL.md**](INSTALL.md).\\n\\n\\n## See also\\n\\n- **Discord:** [pret][discord]\\n- **IRC:** [libera#pret][irc]\\n\\nOther disassembly projects:\\n\\n- [**Pokémon Yellow**][pokeyellow]\\n- [**Pokémon Gold/Silver**][pokegold]\\n- [**Pokémon Crystal**][pokecrystal]\\n- [**Pokémon Pinball**][pokepinball]\\n- [**Pokémon TCG**][poketcg]\\n- [**Pokémon Ruby**][pokeruby]\\n- [**Pokémon FireRed**][pokefirered]\\n- [**Pokémon Emerald**][pokeemerald]\\n\\n[pokeyellow]: https://github.com/pret/pokeyellow\\n[pokegold]: https://github.com/pret/pokegold\\n[pokecrystal]: https://github.com/pret/pokecrystal\\n[pokepinball]: https://github.com/pret/pokepinball\\n[poketcg]: https://github.com/pret/poketcg\\n[pokeruby]: https://github.com/pret/pokeruby\\n[pokefirered]: https://github.com/pret/pokefirered\\n[pokeemerald]: https://github.com/pret/pokeemerald\\n[discord]: https://discord.gg/d5dubZ3\\n[irc]: https://web.libera.chat/?#pret\\n[ci]: https://github.com/pret/pokered/actions\\n[ci-badge]: https://github.com/pret/pokered/actions/workflows/main.yml/badge.svg\\n</td>\n",
       "      <td># Pokémon Red and Blue [![Build Status][ci-badge]][ci]\\n\\nThis is a disassembly of Pokémon Red and Blue.\\n\\nIt builds the following ROMs:\\n\\n- Pokemon Red (UE) [S][!].gb `sha1: ea9bcae617fdf159b045185467ae58b2e4a48b9a`\\n- Pokemon Blue (UE) [S][!].gb `sha1: d7037c83e1ae5b39bde3c30787637ba1d4c48ce2`\\n- BLUEMONS.GB (debug build) `sha1: 5b1456177671b79b263c614ea0e7cc9ac542e9c4`\\n- dmgapae0.e69.patch `sha1: 0fb5f743696adfe1dbb2e062111f08f9bc5a293a`\\n- dmgapee0.e68.patch `sha1: ed4be94dc29c64271942c87f2157bca9ca1019c7`\\n\\nTo set up the repository, see [**INSTALL.md**](INSTALL.md).\\n\\n\\n## See also\\n\\n- **Discord:** [pret][discord]\\n- **IRC:** [libera#pret][irc]\\n\\nOther disassembly projects:\\n\\n- [**Pokémon Yellow**][pokeyellow]\\n- [**Pokémon Gold/Silver**][pokegold]\\n- [**Pokémon Crystal**][pokecrystal]\\n- [**Pokémon Pinball**][pokepinball]\\n- [**Pokémon TCG**][poketcg]\\n- [**Pokémon Ruby**][pokeruby]\\n- [**Pokémon FireRed**][pokefirered]\\n- [**Pokémon Emerald**][pokeemerald]\\n\\n[pokeyellow]: https://github.com/pret/pokeyellow\\n[pokegold]: https://github.com/pret/pokegold\\n[pokecrystal]: https://github.com/pret/pokecrystal\\n[pokepinball]: https://github.com/pret/pokepinball\\n[poketcg]: https://github.com/pret/poketcg\\n[pokeruby]: https://github.com/pret/pokeruby\\n[pokefirered]: https://github.com/pret/pokefirered\\n[pokeemerald]: https://github.com/pret/pokeemerald\\n[discord]: https://discord.gg/d5dubZ3\\n[irc]: https://web.libera.chat/?#pret\\n[ci]: https://github.com/pret/pokered/actions\\n[ci-badge]: https://github.com/pret/pokered/actions/workflows/main.yml/badge.svg\\n</td>\n",
       "      <td>pokemon red blue build statuscibadgeci disassembl pokemon red blue build follow rom pokemon red ue sgb sha1 ea9bcae617fdf159b045185467ae58b2e4a48b9a pokemon blue ue sgb sha1 d7037c83e1ae5b39bde3c30787637ba1d4c48ce2 bluemonsgb debug build sha1 5b1456177671b79b263c614ea0e7cc9ac542e9c4 dmgapae0e69patch sha1 0fb5f743696adfe1dbb2e062111f08f9bc5a293a dmgapee0e68patch sha1 ed4be94dc29c64271942c87f2157bca9ca1019c7 set repositori see installmdinstallmd see also discord pretdiscord irc liberapretirc disassembl project pokemon yellowpokeyellow pokemon goldsilverpokegold pokemon crystalpokecryst pokemon pinballpokepinbal pokemon tcgpoketcg pokemon rubypokerubi pokemon fireredpokefir pokemon emeraldpokeemerald pokeyellow httpsgithubcompretpokeyellow pokegold httpsgithubcompretpokegold pokecryst httpsgithubcompretpokecryst pokepinbal httpsgithubcompretpokepinbal poketcg httpsgithubcompretpoketcg pokerubi httpsgithubcompretpokerubi pokefir httpsgithubcompretpokefir pokeemerald httpsgithubcompretpokeemerald discord httpsdiscordggd5dubz3 irc httpswebliberachatpret ci httpsgithubcompretpokeredact cibadg httpsgithubcompretpokeredactionsworkflowsmainymlbadgesvg</td>\n",
       "      <td>pokemon red blue build statuscibadgeci disassembly pokemon red blue build following rom pokemon red ue sgb sha1 ea9bcae617fdf159b045185467ae58b2e4a48b9a pokemon blue ue sgb sha1 d7037c83e1ae5b39bde3c30787637ba1d4c48ce2 bluemonsgb debug build sha1 5b1456177671b79b263c614ea0e7cc9ac542e9c4 dmgapae0e69patch sha1 0fb5f743696adfe1dbb2e062111f08f9bc5a293a dmgapee0e68patch sha1 ed4be94dc29c64271942c87f2157bca9ca1019c7 set repository see installmdinstallmd see also discord pretdiscord irc liberapretirc disassembly project pokemon yellowpokeyellow pokemon goldsilverpokegold pokemon crystalpokecrystal pokemon pinballpokepinball pokemon tcgpoketcg pokemon rubypokeruby pokemon fireredpokefirered pokemon emeraldpokeemerald pokeyellow httpsgithubcompretpokeyellow pokegold httpsgithubcompretpokegold pokecrystal httpsgithubcompretpokecrystal pokepinball httpsgithubcompretpokepinball poketcg httpsgithubcompretpoketcg pokeruby httpsgithubcompretpokeruby pokefirered httpsgithubcompretpokefirered pokeemerald httpsgithubcompretpokeemerald discord httpsdiscordggd5dubz3 irc httpswebliberachatpret ci httpsgithubcompretpokeredactions cibadge httpsgithubcompretpokeredactionsworkflowsmainymlbadgesvg</td>\n",
       "    </tr>\n",
       "    <tr>\n",
       "      <th>2</th>\n",
       "      <td>2</td>\n",
       "      <td>ishikota/PyPokerEngine</td>\n",
       "      <td>Python</td>\n",
       "      <td># PyPokerEngine\\n\\n[![Build Status](https://travis-ci.org/ishikota/PyPokerEngine.svg?branch=master)](https://travis-ci.org/ishikota/PyPokerEngine)\\n[![Coverage Status](https://coveralls.io/repos/github/ishikota/PyPokerEngine/badge.svg?branch=master)](https://coveralls.io/github/ishikota/PyPokerEngine?branch=master)\\n[![PyPI](https://img.shields.io/pypi/v/PyPokerEngine.svg?maxAge=2592000)](https://badge.fury.io/py/PyPokerEngine)\\n[![license](https://img.shields.io/github/license/mashape/apistatus.svg?maxAge=2592000)](https://github.com/ishikota/kyoka/blob/master/LICENSE.md)\\n\\nPoker engine for AI development in Python\\n\\n# Tutorial\\nThis tutorial leads you to start point of poker AI development!!\\n#### Outline of Tutorial\\n1. Create simple AI which always returns same action.\\n2. Play AI vs AI poker game and see its result.\\n\\n#### Installation\\nBefore start AI development, we need to install *PyPokerEngine*.  \\nYou can use pip like this.\\n```\\npip install PyPokerEngine\\n```\\nThis library supports Python 2 (2.7) and Python3 (3.5).\\n\\n## Create first AI\\nIn this section, we create simple AI which always declares *CALL* action.  \\nTo create poker AI, what we do is following\\n\\n1. Create PokerPlayer class which is subclass of [`PypokerEngine.players.BasePokerPlayer`](https://github.com/ishikota/PyPokerEngine/blob/master/pypokerengine/players/base_poker_player.py).\\n2. Implement abstract methods which inherit from `BasePokerPlayer` class.\\n\\n\\nHere is the code of our first AI. (We assume you saved this file at `~/dev/fish_player.py`)  \\n\\n```python\\nfrom pypokerengine.players import BasePokerPlayer\\n\\nclass FishPlayer(BasePokerPlayer):  # Do not forget to make parent class as \"BasePokerPlayer\"\\n\\n    #  we define the logic to make an action through this method. (so this method would be the core of your AI)\\n    def declare_action(self, valid_actions, hole_card, round_state):\\n        # valid_actions format =&gt; [raise_action_info, call_action_info, fold_action_info]\\n        call_action_info = valid_actions[1]\\n        action, amount = call_action_info[\"action\"], call_action_info[\"amount\"]\\n        return action, amount   # action returned here is sent to the poker engine\\n\\n    def receive_game_start_message(self, game_info):\\n        pass\\n\\n    def receive_round_start_message(self, round_count, hole_card, seats):\\n        pass\\n\\n    def receive_street_start_message(self, street, round_state):\\n        pass\\n\\n    def receive_game_update_message(self, action, round_state):\\n        pass\\n\\n    def receive_round_result_message(self, winners, hand_info, round_state):\\n        pass\\n\\n\\n```\\nIf you are interested in what each callback method receives, See [AI_CALLBACK_FORMAT.md](https://github.com/ishikota/PyPokerEngine/blob/master/AI_CALLBACK_FORMAT.md).\\n\\n## Play AI vs AI poker game\\nOk, let's play the poker game by using our created `FishPlayer`.  \\nTo start the game, what we need to do is following\\n\\n1. Define game rule through `Config` object (ex. start stack, blind amount, ante, blind_structures)\\n2. Register your AI with `Config` object.\\n3. Start the game and get game result\\n\\nHere is the code to play poker for 10 round with our created `FishPlayer`.\\n```python\\nfrom pypokerengine.api.game import setup_config, start_poker\\n\\nconfig = setup_config(max_round=10, initial_stack=100, small_blind_amount=5)\\nconfig.register_player(name=\"p1\", algorithm=FishPlayer())\\nconfig.register_player(name=\"p2\", algorithm=FishPlayer())\\nconfig.register_player(name=\"p3\", algorithm=FishPlayer())\\ngame_result = start_poker(config, verbose=1)\\n```\\nWe set `verbose=1`, so simple game logs are output after `start_poker` call.\\n```\\nStarted the round 1\\nStreet \"preflop\" started. (community card = [])\\n\"p1\" declared \"call:10\"\\n\"p2\" declared \"call:10\"\\n\"p3\" declared \"call:10\"\\nStreet \"flop\" started. (community card = ['C4', 'C6', 'CA'])\\n\"p2\" declared \"call:0\"\\n\"p3\" declared \"call:0\"\\n\"p1\" declared \"call:0\"\\nStreet \"turn\" started. (community card = ['C4', 'C6', 'CA', 'D4'])\\n\"p2\" declared \"call:0\"\\n\"p3\" declared \"call:0\"\\n\"p1\" declared \"call:0\"\\nStreet \"river\" started. (community card = ['C4', 'C6', 'CA', 'D4', 'H2'])\\n\"p2\" declared \"call:0\"\\n\"p3\" declared \"call:0\"\\n\"p1\" declared \"call:0\"\\n\"['p3']\" won the round 1 (stack = {'p2': 90, 'p3': 120, 'p1': 90})\\nStarted the round 2\\n...\\n\"['p1']\" won the round 10 (stack = {'p2': 30, 'p3': 120, 'p1': 150})\\n```\\nFinally, let's check the game result !!\\n```python\\n&gt;&gt;&gt; print game_result\\n{\\n  'rule': {'ante': 0, 'blind_structure': {}, 'max_round': 10, 'initial_stack': 100, 'small_blind_amount': 5},\\n  'players': [\\n    {'stack': 150, 'state': 'participating', 'name': 'p1', 'uuid': 'ijaukuognlkplasfspehcp'},\\n    {'stack': 30, 'state': 'participating', 'name': 'p2', 'uuid': 'uadjzyetdwsaxzflrdsysj'},\\n    {'stack': 120, 'state': 'participating', 'name': 'p3', 'uuid': 'tmnkoazoqitkzcreihrhao'}\\n  ]\\n}\\n```\\n\\n## GUI support\\nWe also provide GUI application. You can play poker with your AI on browser.  \\nPlease check [PyPokerGUI](https://github.com/ishikota/PyPokerGUI).\\n\\n&lt;img src=\"https://github.com/ishikota/PyPokerGUI/blob/master/screenshot/poker_demo.gif\" width=500 /&gt;\\n\\n# for Reinforcement Learning users\\n`PyPokerEngine` is developed for Reinforcement Learning usecase.  \\nSo we also provide `Emulator` class which has convinient methods for Reinforcement Learning.  \\nCommon usage of `Emulator` would be like below.  \\n\\n```python\\nfrom pypokerengine.players import BasePokerPlayer\\nfrom pypokerengine.api.emulator import Emulator\\nfrom pypokerengine.utils.game_state_utils import restore_game_state\\n\\nfrom mymodule.poker_ai.player_model import SomePlayerModel\\n\\nclass RLPLayer(BasePokerPlayer):\\n\\n    # Setup Emulator object by registering game information\\n    def receive_game_start_message(self, game_info):\\n        player_num = game_info[\"player_num\"]\\n        max_round = game_info[\"rule\"][\"max_round\"]\\n        small_blind_amount = game_info[\"rule\"][\"small_blind_amount\"]\\n        ante_amount = game_info[\"rule\"][\"ante\"]\\n        blind_structure = game_info[\"rule\"][\"blind_structure\"]\\n        \\n        self.emulator = Emulator()\\n        self.emulator.set_game_rule(player_num, max_round, small_blind_amount, ante_amount)\\n        self.emulator.set_blind_structure(blind_structure)\\n        \\n        # Register algorithm of each player which used in the simulation.\\n        for player_info in game_info[\"seats\"][\"players\"]:\\n            self.emulator.register_player(player_info[\"uuid\"], SomePlayerModel())\\n\\n    def declare_action(self, valid_actions, hole_card, round_state):\\n        game_state = restore_game_state(round_state)\\n        # decide action by using some simulation result\\n        # updated_state, events = self.emulator.apply_action(game_state, \"fold\")\\n        # updated_state, events = self.emulator.run_until_round_finish(game_state)\\n        # updated_state, events = self.emulator.run_until_game_finish(game_state)\\n        if self.is_good_simulation_result(updated_state):\\n            return # you would declare CALL or RAISE action\\n        else:\\n            return \"fold\", 0\\n    \\n```\\n\\n# Documentation\\nFor mode detail, please checkout [doc site](https://ishikota.github.io/PyPokerEngine/)\\n\\n</td>\n",
       "      <td># PyPokerEngine\\n\\n[![Build Status](https://travis-ci.org/ishikota/PyPokerEngine.svg?branch=master)](https://travis-ci.org/ishikota/PyPokerEngine)\\n[![Coverage Status](https://coveralls.io/repos/github/ishikota/PyPokerEngine/badge.svg?branch=master)](https://coveralls.io/github/ishikota/PyPokerEngine?branch=master)\\n[![PyPI](https://img.shields.io/pypi/v/PyPokerEngine.svg?maxAge=2592000)](https://badge.fury.io/py/PyPokerEngine)\\n[![license](https://img.shields.io/github/license/mashape/apistatus.svg?maxAge=2592000)](https://github.com/ishikota/kyoka/blob/master/LICENSE.md)\\n\\nPoker engine for AI development in Python\\n\\n# Tutorial\\nThis tutorial leads you to start point of poker AI development!!\\n#### Outline of Tutorial\\n1. Create simple AI which always returns same action.\\n2. Play AI vs AI poker game and see its result.\\n\\n#### Installation\\nBefore start AI development, we need to install *PyPokerEngine*.  \\nYou can use pip like this.\\n```\\npip install PyPokerEngine\\n```\\nThis library supports Python 2 (2.7) and Python3 (3.5).\\n\\n## Create first AI\\nIn this section, we create simple AI which always declares *CALL* action.  \\nTo create poker AI, what we do is following\\n\\n1. Create PokerPlayer class which is subclass of [`PypokerEngine.players.BasePokerPlayer`](https://github.com/ishikota/PyPokerEngine/blob/master/pypokerengine/players/base_poker_player.py).\\n2. Implement abstract methods which inherit from `BasePokerPlayer` class.\\n\\n\\nHere is the code of our first AI. (We assume you saved this file at `~/dev/fish_player.py`)  \\n\\n```python\\nfrom pypokerengine.players import BasePokerPlayer\\n\\nclass FishPlayer(BasePokerPlayer):  # Do not forget to make parent class as \"BasePokerPlayer\"\\n\\n    #  we define the logic to make an action through this method. (so this method would be the core of your AI)\\n    def declare_action(self, valid_actions, hole_card, round_state):\\n        # valid_actions format =&gt; [raise_action_info, call_action_info, fold_action_info]\\n        call_action_info = valid_actions[1]\\n        action, amount = call_action_info[\"action\"], call_action_info[\"amount\"]\\n        return action, amount   # action returned here is sent to the poker engine\\n\\n    def receive_game_start_message(self, game_info):\\n        pass\\n\\n    def receive_round_start_message(self, round_count, hole_card, seats):\\n        pass\\n\\n    def receive_street_start_message(self, street, round_state):\\n        pass\\n\\n    def receive_game_update_message(self, action, round_state):\\n        pass\\n\\n    def receive_round_result_message(self, winners, hand_info, round_state):\\n        pass\\n\\n\\n```\\nIf you are interested in what each callback method receives, See [AI_CALLBACK_FORMAT.md](https://github.com/ishikota/PyPokerEngine/blob/master/AI_CALLBACK_FORMAT.md).\\n\\n## Play AI vs AI poker game\\nOk, let's play the poker game by using our created `FishPlayer`.  \\nTo start the game, what we need to do is following\\n\\n1. Define game rule through `Config` object (ex. start stack, blind amount, ante, blind_structures)\\n2. Register your AI with `Config` object.\\n3. Start the game and get game result\\n\\nHere is the code to play poker for 10 round with our created `FishPlayer`.\\n```python\\nfrom pypokerengine.api.game import setup_config, start_poker\\n\\nconfig = setup_config(max_round=10, initial_stack=100, small_blind_amount=5)\\nconfig.register_player(name=\"p1\", algorithm=FishPlayer())\\nconfig.register_player(name=\"p2\", algorithm=FishPlayer())\\nconfig.register_player(name=\"p3\", algorithm=FishPlayer())\\ngame_result = start_poker(config, verbose=1)\\n```\\nWe set `verbose=1`, so simple game logs are output after `start_poker` call.\\n```\\nStarted the round 1\\nStreet \"preflop\" started. (community card = [])\\n\"p1\" declared \"call:10\"\\n\"p2\" declared \"call:10\"\\n\"p3\" declared \"call:10\"\\nStreet \"flop\" started. (community card = ['C4', 'C6', 'CA'])\\n\"p2\" declared \"call:0\"\\n\"p3\" declared \"call:0\"\\n\"p1\" declared \"call:0\"\\nStreet \"turn\" started. (community card = ['C4', 'C6', 'CA', 'D4'])\\n\"p2\" declared \"call:0\"\\n\"p3\" declared \"call:0\"\\n\"p1\" declared \"call:0\"\\nStreet \"river\" started. (community card = ['C4', 'C6', 'CA', 'D4', 'H2'])\\n\"p2\" declared \"call:0\"\\n\"p3\" declared \"call:0\"\\n\"p1\" declared \"call:0\"\\n\"['p3']\" won the round 1 (stack = {'p2': 90, 'p3': 120, 'p1': 90})\\nStarted the round 2\\n...\\n\"['p1']\" won the round 10 (stack = {'p2': 30, 'p3': 120, 'p1': 150})\\n```\\nFinally, let's check the game result !!\\n```python\\n&gt;&gt;&gt; print game_result\\n{\\n  'rule': {'ante': 0, 'blind_structure': {}, 'max_round': 10, 'initial_stack': 100, 'small_blind_amount': 5},\\n  'players': [\\n    {'stack': 150, 'state': 'participating', 'name': 'p1', 'uuid': 'ijaukuognlkplasfspehcp'},\\n    {'stack': 30, 'state': 'participating', 'name': 'p2', 'uuid': 'uadjzyetdwsaxzflrdsysj'},\\n    {'stack': 120, 'state': 'participating', 'name': 'p3', 'uuid': 'tmnkoazoqitkzcreihrhao'}\\n  ]\\n}\\n```\\n\\n## GUI support\\nWe also provide GUI application. You can play poker with your AI on browser.  \\nPlease check [PyPokerGUI](https://github.com/ishikota/PyPokerGUI).\\n\\n&lt;img src=\"https://github.com/ishikota/PyPokerGUI/blob/master/screenshot/poker_demo.gif\" width=500 /&gt;\\n\\n# for Reinforcement Learning users\\n`PyPokerEngine` is developed for Reinforcement Learning usecase.  \\nSo we also provide `Emulator` class which has convinient methods for Reinforcement Learning.  \\nCommon usage of `Emulator` would be like below.  \\n\\n```python\\nfrom pypokerengine.players import BasePokerPlayer\\nfrom pypokerengine.api.emulator import Emulator\\nfrom pypokerengine.utils.game_state_utils import restore_game_state\\n\\nfrom mymodule.poker_ai.player_model import SomePlayerModel\\n\\nclass RLPLayer(BasePokerPlayer):\\n\\n    # Setup Emulator object by registering game information\\n    def receive_game_start_message(self, game_info):\\n        player_num = game_info[\"player_num\"]\\n        max_round = game_info[\"rule\"][\"max_round\"]\\n        small_blind_amount = game_info[\"rule\"][\"small_blind_amount\"]\\n        ante_amount = game_info[\"rule\"][\"ante\"]\\n        blind_structure = game_info[\"rule\"][\"blind_structure\"]\\n        \\n        self.emulator = Emulator()\\n        self.emulator.set_game_rule(player_num, max_round, small_blind_amount, ante_amount)\\n        self.emulator.set_blind_structure(blind_structure)\\n        \\n        # Register algorithm of each player which used in the simulation.\\n        for player_info in game_info[\"seats\"][\"players\"]:\\n            self.emulator.register_player(player_info[\"uuid\"], SomePlayerModel())\\n\\n    def declare_action(self, valid_actions, hole_card, round_state):\\n        game_state = restore_game_state(round_state)\\n        # decide action by using some simulation result\\n        # updated_state, events = self.emulator.apply_action(game_state, \"fold\")\\n        # updated_state, events = self.emulator.run_until_round_finish(game_state)\\n        # updated_state, events = self.emulator.run_until_game_finish(game_state)\\n        if self.is_good_simulation_result(updated_state):\\n            return # you would declare CALL or RAISE action\\n        else:\\n            return \"fold\", 0\\n    \\n```\\n\\n# Documentation\\nFor mode detail, please checkout [doc site](https://ishikota.github.io/PyPokerEngine/)\\n\\n</td>\n",
       "      <td>pypokerengin build statushttpstravisciorgishikotapypokerenginesvgbranchmasterhttpstravisciorgishikotapypokerengin coverag statushttpscoverallsioreposgithubishikotapypokerenginebadgesvgbranchmasterhttpscoverallsiogithubishikotapypokerenginebranchmast pypihttpsimgshieldsiopypivpypokerenginesvgmaxage2592000httpsbadgefuryiopypypokerengin licensehttpsimgshieldsiogithublicensemashapeapistatussvgmaxage2592000httpsgithubcomishikotakyokablobmasterlicensemd poker engin ai develop python tutori tutori lead start point poker ai develop outlin tutori 1 creat simpl ai alway return action 2 play ai vs ai poker game see result instal start ai develop need instal pypokerengin use pip like pip instal pypokerengin librari support python 2 27 python3 35 creat first ai section creat simpl ai alway declar call action creat poker ai follow 1 creat pokerplay class subclass pypokerengineplayersbasepokerplayerhttpsgithubcomishikotapypokerengineblobmasterpypokerengineplayersbasepokerplayerpi 2 implement abstract method inherit basepokerplay class first ai assum save file devfishplayerpi python pypokerengineplay import basepokerplay class fishplayerbasepokerplay forget make parent class basepokerplay defin logic make action method method would core ai def declareactionself validact holecard roundstat validact format raiseactioninfo callactioninfo foldactioninfo callactioninfo validactions1 action amount callactioninfoact callactioninfoamount return action amount action return sent poker engin def receivegamestartmessageself gameinfo pass def receiveroundstartmessageself roundcount holecard seat pass def receivestreetstartmessageself street roundstat pass def receivegameupdatemessageself action roundstat pass def receiveroundresultmessageself winner handinfo roundstat pass interest callback method receiv see aicallbackformatmdhttpsgithubcomishikotapypokerengineblobmasteraicallbackformatmd play ai vs ai poker game ok let' play poker game use creat fishplay start game need follow 1 defin game rule config object ex start stack blind amount ant blindstructur 2 regist ai config object 3 start game get game result play poker 10 round creat fishplay python pypokerengineapigam import setupconfig startpok config setupconfigmaxround10 initialstack100 smallblindamount5 configregisterplayernamep1 algorithmfishplay configregisterplayernamep2 algorithmfishplay configregisterplayernamep3 algorithmfishplay gameresult startpokerconfig verbose1 set verbose1 simpl game log output startpok call start round 1 street preflop start commun card p1 declar call10 p2 declar call10 p3 declar call10 street flop start commun card 'c4' 'c6' 'ca' p2 declar call0 p3 declar call0 p1 declar call0 street turn start commun card 'c4' 'c6' 'ca' 'd4' p2 declar call0 p3 declar call0 p1 declar call0 street river start commun card 'c4' 'c6' 'ca' 'd4' 'h2' p2 declar call0 p3 declar call0 p1 declar call0 'p3' round 1 stack 'p2' 90 'p3' 120 'p1' 90 start round 2 'p1' round 10 stack 'p2' 30 'p3' 120 'p1' 150 final let' check game result python print gameresult 'rule' 'ante' 0 'blindstructure' 'maxround' 10 'initialstack' 100 'smallblindamount' 5 'players' 'stack' 150 'state' 'participating' 'name' 'p1' 'uuid' 'ijaukuognlkplasfspehcp' 'stack' 30 'state' 'participating' 'name' 'p2' 'uuid' 'uadjzyetdwsaxzflrdsysj' 'stack' 120 'state' 'participating' 'name' 'p3' 'uuid' 'tmnkoazoqitkzcreihrhao' gui support also provid gui applic play poker ai browser pleas check pypokerguihttpsgithubcomishikotapypokergui img srchttpsgithubcomishikotapypokerguiblobmasterscreenshotpokerdemogif width500 reinforc learn user pypokerengin develop reinforc learn usecas also provid emul class convini method reinforc learn common usag emul would like python pypokerengineplay import basepokerplay pypokerengineapiemul import emul pypokerengineutilsgamestateutil import restoregamest mymodulepokeraiplayermodel import someplayermodel class rlplayerbasepokerplay setup emul object regist game inform def receivegamestartmessageself gameinfo playernum gameinfoplayernum maxround gameinforulemaxround smallblindamount gameinforulesmallblindamount anteamount gameinforuleant blindstructur gameinforuleblindstructur selfemul emul selfemulatorsetgameruleplayernum maxround smallblindamount anteamount selfemulatorsetblindstructureblindstructur regist algorithm player use simul playerinfo gameinfoseatsplay selfemulatorregisterplayerplayerinfouuid someplayermodel def declareactionself validact holecard roundstat gamest restoregamestateroundst decid action use simul result updatedst event selfemulatorapplyactiongamest fold updatedst event selfemulatorrununtilroundfinishgamest updatedst event selfemulatorrununtilgamefinishgamest selfisgoodsimulationresultupdatedst return would declar call rais action els return fold 0 document mode detail pleas checkout doc sitehttpsishikotagithubiopypokerengin</td>\n",
       "      <td>pypokerengine build statushttpstravisciorgishikotapypokerenginesvgbranchmasterhttpstravisciorgishikotapypokerengine coverage statushttpscoverallsioreposgithubishikotapypokerenginebadgesvgbranchmasterhttpscoverallsiogithubishikotapypokerenginebranchmaster pypihttpsimgshieldsiopypivpypokerenginesvgmaxage2592000httpsbadgefuryiopypypokerengine licensehttpsimgshieldsiogithublicensemashapeapistatussvgmaxage2592000httpsgithubcomishikotakyokablobmasterlicensemd poker engine ai development python tutorial tutorial lead start point poker ai development outline tutorial 1 create simple ai always return action 2 play ai v ai poker game see result installation start ai development need install pypokerengine use pip like pip install pypokerengine library support python 2 27 python3 35 create first ai section create simple ai always declares call action create poker ai following 1 create pokerplayer class subclass pypokerengineplayersbasepokerplayerhttpsgithubcomishikotapypokerengineblobmasterpypokerengineplayersbasepokerplayerpy 2 implement abstract method inherit basepokerplayer class first ai assume saved file devfishplayerpy python pypokerengineplayers import basepokerplayer class fishplayerbasepokerplayer forget make parent class basepokerplayer define logic make action method method would core ai def declareactionself validactions holecard roundstate validactions format raiseactioninfo callactioninfo foldactioninfo callactioninfo validactions1 action amount callactioninfoaction callactioninfoamount return action amount action returned sent poker engine def receivegamestartmessageself gameinfo pas def receiveroundstartmessageself roundcount holecard seat pas def receivestreetstartmessageself street roundstate pas def receivegameupdatemessageself action roundstate pas def receiveroundresultmessageself winner handinfo roundstate pas interested callback method receives see aicallbackformatmdhttpsgithubcomishikotapypokerengineblobmasteraicallbackformatmd play ai v ai poker game ok let's play poker game using created fishplayer start game need following 1 define game rule config object ex start stack blind amount ante blindstructures 2 register ai config object 3 start game get game result play poker 10 round created fishplayer python pypokerengineapigame import setupconfig startpoker config setupconfigmaxround10 initialstack100 smallblindamount5 configregisterplayernamep1 algorithmfishplayer configregisterplayernamep2 algorithmfishplayer configregisterplayernamep3 algorithmfishplayer gameresult startpokerconfig verbose1 set verbose1 simple game log output startpoker call started round 1 street preflop started community card p1 declared call10 p2 declared call10 p3 declared call10 street flop started community card 'c4' 'c6' 'ca' p2 declared call0 p3 declared call0 p1 declared call0 street turn started community card 'c4' 'c6' 'ca' 'd4' p2 declared call0 p3 declared call0 p1 declared call0 street river started community card 'c4' 'c6' 'ca' 'd4' 'h2' p2 declared call0 p3 declared call0 p1 declared call0 'p3' round 1 stack 'p2' 90 'p3' 120 'p1' 90 started round 2 'p1' round 10 stack 'p2' 30 'p3' 120 'p1' 150 finally let's check game result python print gameresult 'rule' 'ante' 0 'blindstructure' 'maxround' 10 'initialstack' 100 'smallblindamount' 5 'players' 'stack' 150 'state' 'participating' 'name' 'p1' 'uuid' 'ijaukuognlkplasfspehcp' 'stack' 30 'state' 'participating' 'name' 'p2' 'uuid' 'uadjzyetdwsaxzflrdsysj' 'stack' 120 'state' 'participating' 'name' 'p3' 'uuid' 'tmnkoazoqitkzcreihrhao' gui support also provide gui application play poker ai browser please check pypokerguihttpsgithubcomishikotapypokergui img srchttpsgithubcomishikotapypokerguiblobmasterscreenshotpokerdemogif width500 reinforcement learning user pypokerengine developed reinforcement learning usecase also provide emulator class convinient method reinforcement learning common usage emulator would like python pypokerengineplayers import basepokerplayer pypokerengineapiemulator import emulator pypokerengineutilsgamestateutils import restoregamestate mymodulepokeraiplayermodel import someplayermodel class rlplayerbasepokerplayer setup emulator object registering game information def receivegamestartmessageself gameinfo playernum gameinfoplayernum maxround gameinforulemaxround smallblindamount gameinforulesmallblindamount anteamount gameinforuleante blindstructure gameinforuleblindstructure selfemulator emulator selfemulatorsetgameruleplayernum maxround smallblindamount anteamount selfemulatorsetblindstructureblindstructure register algorithm player used simulation playerinfo gameinfoseatsplayers selfemulatorregisterplayerplayerinfouuid someplayermodel def declareactionself validactions holecard roundstate gamestate restoregamestateroundstate decide action using simulation result updatedstate event selfemulatorapplyactiongamestate fold updatedstate event selfemulatorrununtilroundfinishgamestate updatedstate event selfemulatorrununtilgamefinishgamestate selfisgoodsimulationresultupdatedstate return would declare call raise action else return fold 0 documentation mode detail please checkout doc sitehttpsishikotagithubiopypokerengine</td>\n",
       "    </tr>\n",
       "    <tr>\n",
       "      <th>3</th>\n",
       "      <td>3</td>\n",
       "      <td>andrewprock/pokerstove</td>\n",
       "      <td>C++</td>\n",
       "      <td>PokerStove\\n==========\\n\\n[![OpenHUB Metrics](https://www.openhub.net/p/pokerstove/widgets/project_thin_badge.gif)](https://www.openhub.net/p/pokerstove)\\n\\nPokerStove is a highly hand optimized C++ poker hand evaluation library.  The Win32 Hold'em\\nGUI was first released in 2002, and has been available as freeware since\\nit's first release.\\n\\nThe core libraries of pokerstove are being open sourced.  The project is\\ncurrently in the process of reviewing and publishing the code.  As code is\\nreviewed and code sanitized further commits will be added.\\n\\nPlease find the old installer in the win32 directory.  That installer should\\ninstall a version of PokerStove which will not expire at any time.  You can also\\nfind the apk file for the Android version of the utility in the android folder.\\n\\n## Libraries\\n\\n### peval\\n\\nThis is a c++ poker hand evaluation library.  The main design goals of the library\\nare generality, extensibility, and ease of use.  There are evaluators for fourteen\\nvariants of poker.  Additionally, there are various card manipulation and query tools built\\ninto the CardSet class.\\n\\n## Programs\\n\\n### ps-eval\\n\\nA tool for poker hand evaluation.  It demonstrates how to use the peval library, and to create\\nevaluators for the different variants of poker.\\n\\n### ps-colex\\n\\nA utility for viewing colexicographical index for sets of cards.\\n\\n## Building\\n\\nThe pokerstove libraries come with build scripts for cmake.  This\\nshould allow you to build it on any platform with minimal\\ntweaking.  This project has been successfully build under linux/g++,\\nwindows/vc2010 and OSX/XCode so far.\\n\\nIn order to build the libraries you'll need the following\\ninstalled on your platform of choice:\\n\\n* boost, version 1.46 or higher\\n* cmake, version 2.4 or higher\\n\\n### Linux\\n\\nTo install the dependencies with apt get:\\n\\n    apt-get install libboost-all-dev cmake\\n\\nTo build under linux using cmake, create a build directory,\\ninvoke cmake on the programs directory, then build.\\n\\n    git clone https://github.com/andrewprock/pokerstove.git\\n    mkdir pokerstove/build\\n    cd pokerstove/build\\n    cmake -DCMAKE_BUILD_TYPE=Release ..\\n    make &amp;&amp; make test\\n\\nYou should then be able to execute the simple command line\\nexample:\\n\\n    ~/cmake/programs$ ./programs/ps-eval/ps-eval\\n    Allowed options:\\n      -? [ --help ]          produce help message\\n      -g [ --game ] arg (=h) game to use for evaluation\\n      -b [ --board ] arg     community cards for he/o/o8\\n      -h [ --hand ] arg      a hand for evaluation\\n      -q [ --quiet ]         produce no output\\n\\n       For the --game option, one of the follwing games may be\\n       specified.\\n         h     hold'em\\n         o     omaha/8\\n         O     omaha high\\n         r     razz\\n         s     stud\\n         e     stud/8\\n         q     stud high/low no qualifier\\n         d     draw high\\n         l     lowball (A-5)\\n         k     Kansas City lowball (2-7)\\n         t     triple draw lowball (2-7)\\n         T     triple draw lowball (A-5)\\n         b     badugi\\n         3     three-card poker\\n\\n       examples:\\n           ps-eval acas\\n           ps-eval AcAs Kh4d --board 5c8s9h\\n           ps-eval AcAs Kh4d --board 5c8s9h\\n           ps-eval --game l 7c5c4c3c2c\\n           ps-eval --game k 7c5c4c3c2c\\n           ps-eval --game kansas-city-lowball 7c5c4c3c2c\\n\\n\\n### Windows\\n\\nGetting boost to work under windows can be a bit of a challenge.\\nOne of the easier ways is to install precompiled librares.  There\\nis a batch of them available at sourceforge. If you're working\\nwith Visual Studio 2010, you will probably need the 32 bit\\nlibraries.  [boost precomplied libraries]\\n(http://sourceforge.net/projects/boost/files/boost-binaries/1.53.0/)\\n\\nUnder windows, the cmake gui can be used to construct solution\\nand project files for Visual Studio 2010.  To do this, browse\\nsource to locate the programs directory git/pokerstove/programs.\\nThen create a build dir for the project.  At the bottom of the\\ngui click Configure, then Generate.  You may have to edit the\\ngit/pokerstove/programs/CMakeLists.txt to point cmake to your\\ninstallation of boost.\\n\\nOnce you've done that, you should be able to select\\n\\n    Menu-&gt;Build-&gt;Build Solution\\n\\nto build the sample program.\\n\\n\\n### OSX\\n\\nIn order to build under Max OSX, you'll need to install XCode,\\ngit, cmake, macports, and boost.  The first four can be installed\\nin the conventional manner, with XCode coming form the App Store, cmake,\\ngit and macports downloaded from the web.  The macports package is a\\ntypical unix package management utility and is required to install boost.\\nOnce you've installed and selfupdate'd macports, you can install boost:\\n\\n    sudo port install boost -no_static\\n\\nFrom there you can run the cmake gui as in windows.  This will create\\nan XCode project which should compile the sample utility. Alternatively,\\nfollow the command  line `cmake` instructions in the [Linux section](#linux).\\n</td>\n",
       "      <td>PokerStove\\n==========\\n\\n[![OpenHUB Metrics](https://www.openhub.net/p/pokerstove/widgets/project_thin_badge.gif)](https://www.openhub.net/p/pokerstove)\\n\\nPokerStove is a highly hand optimized C++ poker hand evaluation library.  The Win32 Hold'em\\nGUI was first released in 2002, and has been available as freeware since\\nit's first release.\\n\\nThe core libraries of pokerstove are being open sourced.  The project is\\ncurrently in the process of reviewing and publishing the code.  As code is\\nreviewed and code sanitized further commits will be added.\\n\\nPlease find the old installer in the win32 directory.  That installer should\\ninstall a version of PokerStove which will not expire at any time.  You can also\\nfind the apk file for the Android version of the utility in the android folder.\\n\\n## Libraries\\n\\n### peval\\n\\nThis is a c++ poker hand evaluation library.  The main design goals of the library\\nare generality, extensibility, and ease of use.  There are evaluators for fourteen\\nvariants of poker.  Additionally, there are various card manipulation and query tools built\\ninto the CardSet class.\\n\\n## Programs\\n\\n### ps-eval\\n\\nA tool for poker hand evaluation.  It demonstrates how to use the peval library, and to create\\nevaluators for the different variants of poker.\\n\\n### ps-colex\\n\\nA utility for viewing colexicographical index for sets of cards.\\n\\n## Building\\n\\nThe pokerstove libraries come with build scripts for cmake.  This\\nshould allow you to build it on any platform with minimal\\ntweaking.  This project has been successfully build under linux/g++,\\nwindows/vc2010 and OSX/XCode so far.\\n\\nIn order to build the libraries you'll need the following\\ninstalled on your platform of choice:\\n\\n* boost, version 1.46 or higher\\n* cmake, version 2.4 or higher\\n\\n### Linux\\n\\nTo install the dependencies with apt get:\\n\\n    apt-get install libboost-all-dev cmake\\n\\nTo build under linux using cmake, create a build directory,\\ninvoke cmake on the programs directory, then build.\\n\\n    git clone https://github.com/andrewprock/pokerstove.git\\n    mkdir pokerstove/build\\n    cd pokerstove/build\\n    cmake -DCMAKE_BUILD_TYPE=Release ..\\n    make &amp;&amp; make test\\n\\nYou should then be able to execute the simple command line\\nexample:\\n\\n    ~/cmake/programs$ ./programs/ps-eval/ps-eval\\n    Allowed options:\\n      -? [ --help ]          produce help message\\n      -g [ --game ] arg (=h) game to use for evaluation\\n      -b [ --board ] arg     community cards for he/o/o8\\n      -h [ --hand ] arg      a hand for evaluation\\n      -q [ --quiet ]         produce no output\\n\\n       For the --game option, one of the follwing games may be\\n       specified.\\n         h     hold'em\\n         o     omaha/8\\n         O     omaha high\\n         r     razz\\n         s     stud\\n         e     stud/8\\n         q     stud high/low no qualifier\\n         d     draw high\\n         l     lowball (A-5)\\n         k     Kansas City lowball (2-7)\\n         t     triple draw lowball (2-7)\\n         T     triple draw lowball (A-5)\\n         b     badugi\\n         3     three-card poker\\n\\n       examples:\\n           ps-eval acas\\n           ps-eval AcAs Kh4d --board 5c8s9h\\n           ps-eval AcAs Kh4d --board 5c8s9h\\n           ps-eval --game l 7c5c4c3c2c\\n           ps-eval --game k 7c5c4c3c2c\\n           ps-eval --game kansas-city-lowball 7c5c4c3c2c\\n\\n\\n### Windows\\n\\nGetting boost to work under windows can be a bit of a challenge.\\nOne of the easier ways is to install precompiled librares.  There\\nis a batch of them available at sourceforge. If you're working\\nwith Visual Studio 2010, you will probably need the 32 bit\\nlibraries.  [boost precomplied libraries]\\n(http://sourceforge.net/projects/boost/files/boost-binaries/1.53.0/)\\n\\nUnder windows, the cmake gui can be used to construct solution\\nand project files for Visual Studio 2010.  To do this, browse\\nsource to locate the programs directory git/pokerstove/programs.\\nThen create a build dir for the project.  At the bottom of the\\ngui click Configure, then Generate.  You may have to edit the\\ngit/pokerstove/programs/CMakeLists.txt to point cmake to your\\ninstallation of boost.\\n\\nOnce you've done that, you should be able to select\\n\\n    Menu-&gt;Build-&gt;Build Solution\\n\\nto build the sample program.\\n\\n\\n### OSX\\n\\nIn order to build under Max OSX, you'll need to install XCode,\\ngit, cmake, macports, and boost.  The first four can be installed\\nin the conventional manner, with XCode coming form the App Store, cmake,\\ngit and macports downloaded from the web.  The macports package is a\\ntypical unix package management utility and is required to install boost.\\nOnce you've installed and selfupdate'd macports, you can install boost:\\n\\n    sudo port install boost -no_static\\n\\nFrom there you can run the cmake gui as in windows.  This will create\\nan XCode project which should compile the sample utility. Alternatively,\\nfollow the command  line `cmake` instructions in the [Linux section](#linux).\\n</td>\n",
       "      <td>pokerstov openhub metricshttpswwwopenhubnetppokerstovewidgetsprojectthinbadgegifhttpswwwopenhubnetppokerstov pokerstov highli hand optim c poker hand evalu librari win32 hold'em gui first releas 2002 avail freewar sinc first releas core librari pokerstov open sourc project current process review publish review sanit commit ad pleas find old instal win32 directori instal instal version pokerstov expir time also find apk file android version util android folder librari peval c poker hand evalu librari main design goal librari gener extens eas use evalu fourteen variant poker addit variou card manipul queri tool built cardset class program pseval tool poker hand evalu demonstr use peval librari creat evalu differ variant poker pscolex util view colexicograph index set card build pokerstov librari come build script cmake allow build platform minim tweak project success build linuxg windowsvc2010 osxxcod far order build librari need follow instal platform choic boost version 146 higher cmake version 24 higher linux instal depend apt get aptget instal libboostalldev cmake build linux use cmake creat build directori invok cmake program directori build git clone httpsgithubcomandrewprockpokerstovegit mkdir pokerstovebuild cd pokerstovebuild cmake dcmakebuildtypereleas make make test abl execut simpl command line exampl cmakeprogram programspsevalpsev allow option help produc help messag g game arg h game use evalu b board arg commun card heoo8 h hand arg hand evalu q quiet produc output game option one follw game may specifi h hold'em omaha8 omaha high r razz stud e stud8 q stud highlow qualifi draw high l lowbal a5 k kansa citi lowbal 27 tripl draw lowbal 27 tripl draw lowbal a5 b badugi 3 threecard poker exampl pseval aca pseval aca kh4d board 5c8s9h pseval aca kh4d board 5c8s9h pseval game l 7c5c4c3c2c pseval game k 7c5c4c3c2c pseval game kansascitylowbal 7c5c4c3c2c window get boost work window bit challeng one easier way instal precompil librar batch avail sourceforg work visual studio 2010 probabl need 32 bit librari boost precompli librari httpsourceforgenetprojectsboostfilesboostbinaries1530 window cmake gui use construct solut project file visual studio 2010 brows sourc locat program directori gitpokerstoveprogram creat build dir project bottom gui click configur gener may edit gitpokerstoveprogramscmakeliststxt point cmake instal boost done abl select menubuildbuild solut build sampl program osx order build max osx need instal xcode git cmake macport boost first four instal convent manner xcode come form app store cmake git macport download web macport packag typic unix packag manag util requir instal boost instal selfupdate'd macport instal boost sudo port instal boost nostat run cmake gui window creat xcode project compil sampl util altern follow command line cmake instruct linux sectionlinux</td>\n",
       "      <td>pokerstove openhub metricshttpswwwopenhubnetppokerstovewidgetsprojectthinbadgegifhttpswwwopenhubnetppokerstove pokerstove highly hand optimized c poker hand evaluation library win32 hold'em gui first released 2002 available freeware since first release core library pokerstove open sourced project currently process reviewing publishing reviewed sanitized commits added please find old installer win32 directory installer install version pokerstove expire time also find apk file android version utility android folder library peval c poker hand evaluation library main design goal library generality extensibility ease use evaluator fourteen variant poker additionally various card manipulation query tool built cardset class program pseval tool poker hand evaluation demonstrates use peval library create evaluator different variant poker pscolex utility viewing colexicographical index set card building pokerstove library come build script cmake allow build platform minimal tweaking project successfully build linuxg windowsvc2010 osxxcode far order build library need following installed platform choice boost version 146 higher cmake version 24 higher linux install dependency apt get aptget install libboostalldev cmake build linux using cmake create build directory invoke cmake program directory build git clone httpsgithubcomandrewprockpokerstovegit mkdir pokerstovebuild cd pokerstovebuild cmake dcmakebuildtyperelease make make test able execute simple command line example cmakeprograms programspsevalpseval allowed option help produce help message g game arg h game use evaluation b board arg community card heoo8 h hand arg hand evaluation q quiet produce output game option one follwing game may specified h hold'em omaha8 omaha high r razz stud e stud8 q stud highlow qualifier draw high l lowball a5 k kansa city lowball 27 triple draw lowball 27 triple draw lowball a5 b badugi 3 threecard poker example pseval acas pseval acas kh4d board 5c8s9h pseval acas kh4d board 5c8s9h pseval game l 7c5c4c3c2c pseval game k 7c5c4c3c2c pseval game kansascitylowball 7c5c4c3c2c window getting boost work window bit challenge one easier way install precompiled librares batch available sourceforge working visual studio 2010 probably need 32 bit library boost precomplied library httpsourceforgenetprojectsboostfilesboostbinaries1530 window cmake gui used construct solution project file visual studio 2010 browse source locate program directory gitpokerstoveprograms create build dir project bottom gui click configure generate may edit gitpokerstoveprogramscmakeliststxt point cmake installation boost done able select menubuildbuild solution build sample program osx order build max osx need install xcode git cmake macports boost first four installed conventional manner xcode coming form app store cmake git macports downloaded web macports package typical unix package management utility required install boost installed selfupdate'd macports install boost sudo port install boost nostatic run cmake gui window create xcode project compile sample utility alternatively follow command line cmake instruction linux sectionlinux</td>\n",
       "    </tr>\n",
       "    <tr>\n",
       "      <th>4</th>\n",
       "      <td>4</td>\n",
       "      <td>pokerregion/poker</td>\n",
       "      <td>Python</td>\n",
       "      <td>Poker framework for Python\\n==========================\\n\\n|travis| |coveralls| |pythons| |release| |license| |wheel| |downloads|\\n\\nA Python framework for poker related operations.\\n\\nIt contains classes for parsing card Suits, Cards, Hand combinations (called Combos),\\nconstruct hand Ranges and check for syntax, parse Hand histories.\\n\\nIt can get information from poker related websites like\\nPocketfives, TwoplusTwo Forum, or PokerStars website by scraping them.\\nIn the long term, it will have a fast hand evaluator and an equity calculator.\\n\\nIt uses the MIT license, so its code can be used in any product without legal consequences.\\n\\nIt aims for quality, fully tested code and easy usability with nice APIs, suitable for beginners\\nto play with.\\n\\n\\nDocumentation\\n-------------\\n\\nhttps://poker.readthedocs.org/\\n\\nState of the project\\n--------------------\\n\\nAs you can see, there is not much activity from me, because I don't play poker anymore and \\nI don't have motivation to develop this library. The PokerStars parser is broken because \\na small change in PokerStars hand history format. A serious investment/donation would be\\nrequired to allow me to work on this library.\\n\\n\\nLicense\\n-------\\n\\nThe MIT License (MIT)\\n\\nCopyright (c) 2013-2019 Kiss György\\n\\n\\nRepo and contact\\n----------------\\n\\n| Repo: https://github.com/pokerregion/poker\\n| `@kissgyorgy &lt;https://twitter.com/kissgyorgy&gt;`_ on twitter\\n| or you can reach me on my `public Github e-mail &lt;https://github.com/kissgyorgy&gt;`_.\\n\\n\\n.. |travis| image:: https://travis-ci.org/pokerregion/poker.svg?branch=master\\n   :target: https://travis-ci.org/pokerregion/poker\\n\\n.. |coveralls| image:: https://coveralls.io/repos/pokerregion/poker/badge.png?branch=master\\n  :target: https://coveralls.io/r/pokerregion/poker?branch=master\\n\\n.. |pythons| image:: https://img.shields.io/pypi/pyversions/poker.svg\\n   :target: https://pypi.python.org/pypi/poker/\\n   :alt: Supported Python versions\\n\\n.. |release| image:: https://img.shields.io/pypi/v/poker.svg\\n   :target: https://pypi.python.org/pypi/poker/\\n   :alt: Latest Version\\n\\n.. |license| image:: https://img.shields.io/badge/license-MIT-blue.svg\\n   :target: https://github.com/pokerregion/poker/blob/master/LICENSE\\n   :alt: MIT License\\n\\n.. |downloads| image:: https://img.shields.io/pypi/dm/poker.svg\\n   :target: https://pypi.python.org/pypi/poker/\\n   :alt: Downloads\\n\\n.. |wheel| image:: https://img.shields.io/pypi/wheel/poker.svg\\n   :target: https://pypi.python.org/pypi/poker/\\n   :alt: Wheel package\\n</td>\n",
       "      <td>Poker framework for Python\\n==========================\\n\\n|travis| |coveralls| |pythons| |release| |license| |wheel| |downloads|\\n\\nA Python framework for poker related operations.\\n\\nIt contains classes for parsing card Suits, Cards, Hand combinations (called Combos),\\nconstruct hand Ranges and check for syntax, parse Hand histories.\\n\\nIt can get information from poker related websites like\\nPocketfives, TwoplusTwo Forum, or PokerStars website by scraping them.\\nIn the long term, it will have a fast hand evaluator and an equity calculator.\\n\\nIt uses the MIT license, so its code can be used in any product without legal consequences.\\n\\nIt aims for quality, fully tested code and easy usability with nice APIs, suitable for beginners\\nto play with.\\n\\n\\nDocumentation\\n-------------\\n\\nhttps://poker.readthedocs.org/\\n\\nState of the project\\n--------------------\\n\\nAs you can see, there is not much activity from me, because I don't play poker anymore and \\nI don't have motivation to develop this library. The PokerStars parser is broken because \\na small change in PokerStars hand history format. A serious investment/donation would be\\nrequired to allow me to work on this library.\\n\\n\\nLicense\\n-------\\n\\nThe MIT License (MIT)\\n\\nCopyright (c) 2013-2019 Kiss György\\n\\n\\nRepo and contact\\n----------------\\n\\n| Repo: https://github.com/pokerregion/poker\\n| `@kissgyorgy &lt;https://twitter.com/kissgyorgy&gt;`_ on twitter\\n| or you can reach me on my `public Github e-mail &lt;https://github.com/kissgyorgy&gt;`_.\\n\\n\\n.. |travis| image:: https://travis-ci.org/pokerregion/poker.svg?branch=master\\n   :target: https://travis-ci.org/pokerregion/poker\\n\\n.. |coveralls| image:: https://coveralls.io/repos/pokerregion/poker/badge.png?branch=master\\n  :target: https://coveralls.io/r/pokerregion/poker?branch=master\\n\\n.. |pythons| image:: https://img.shields.io/pypi/pyversions/poker.svg\\n   :target: https://pypi.python.org/pypi/poker/\\n   :alt: Supported Python versions\\n\\n.. |release| image:: https://img.shields.io/pypi/v/poker.svg\\n   :target: https://pypi.python.org/pypi/poker/\\n   :alt: Latest Version\\n\\n.. |license| image:: https://img.shields.io/badge/license-MIT-blue.svg\\n   :target: https://github.com/pokerregion/poker/blob/master/LICENSE\\n   :alt: MIT License\\n\\n.. |downloads| image:: https://img.shields.io/pypi/dm/poker.svg\\n   :target: https://pypi.python.org/pypi/poker/\\n   :alt: Downloads\\n\\n.. |wheel| image:: https://img.shields.io/pypi/wheel/poker.svg\\n   :target: https://pypi.python.org/pypi/poker/\\n   :alt: Wheel package\\n</td>\n",
       "      <td>poker framework python travi coveral python releas licens wheel download python framework poker relat oper contain class pars card suit card hand combin call combo construct hand rang check syntax pars hand histori get inform poker relat websit like pocketf twoplustwo forum pokerstar websit scrape long term fast hand evalu equiti calcul use mit licens use product without legal consequ aim qualiti fulli test easi usabl nice api suitabl beginn play document httpspokerreadthedocsorg state project see much activ play poker anymor motiv develop librari pokerstar parser broken small chang pokerstar hand histori format seriou investmentdon would requir allow work librari licens mit licens mit copyright c 20132019 kiss gyorgi repo contact repo httpsgithubcompokerregionpok kissgyorgi httpstwittercomkissgyorgi twitter reach public email httpsgithubcomkissgyorgi travi imag httpstravisciorgpokerregionpokersvgbranchmast target httpstravisciorgpokerregionpok coveral imag httpscoverallsiorepospokerregionpokerbadgepngbranchmast target httpscoverallsiorpokerregionpokerbranchmast python imag httpsimgshieldsiopypipyversionspokersvg target httpspypipythonorgpypipok alt support python version releas imag httpsimgshieldsiopypivpokersvg target httpspypipythonorgpypipok alt latest version licens imag httpsimgshieldsiobadgelicensemitbluesvg target httpsgithubcompokerregionpokerblobmasterlicens alt mit licens download imag httpsimgshieldsiopypidmpokersvg target httpspypipythonorgpypipok alt download wheel imag httpsimgshieldsiopypiwheelpokersvg target httpspypipythonorgpypipok alt wheel packag</td>\n",
       "      <td>poker framework python travis coverall python release license wheel downloads python framework poker related operation contains class parsing card suit card hand combination called combo construct hand range check syntax parse hand history get information poker related website like pocketfives twoplustwo forum pokerstars website scraping long term fast hand evaluator equity calculator us mit license used product without legal consequence aim quality fully tested easy usability nice apis suitable beginner play documentation httpspokerreadthedocsorg state project see much activity play poker anymore motivation develop library pokerstars parser broken small change pokerstars hand history format serious investmentdonation would required allow work library license mit license mit copyright c 20132019 kiss gyorgy repo contact repo httpsgithubcompokerregionpoker kissgyorgy httpstwittercomkissgyorgy twitter reach public email httpsgithubcomkissgyorgy travis image httpstravisciorgpokerregionpokersvgbranchmaster target httpstravisciorgpokerregionpoker coverall image httpscoverallsiorepospokerregionpokerbadgepngbranchmaster target httpscoverallsiorpokerregionpokerbranchmaster python image httpsimgshieldsiopypipyversionspokersvg target httpspypipythonorgpypipoker alt supported python version release image httpsimgshieldsiopypivpokersvg target httpspypipythonorgpypipoker alt latest version license image httpsimgshieldsiobadgelicensemitbluesvg target httpsgithubcompokerregionpokerblobmasterlicense alt mit license downloads image httpsimgshieldsiopypidmpokersvg target httpspypipythonorgpypipoker alt downloads wheel image httpsimgshieldsiopypiwheelpokersvg target httpspypipythonorgpypipoker alt wheel package</td>\n",
       "    </tr>\n",
       "    <tr>\n",
       "      <th>...</th>\n",
       "      <td>...</td>\n",
       "      <td>...</td>\n",
       "      <td>...</td>\n",
       "      <td>...</td>\n",
       "      <td>...</td>\n",
       "      <td>...</td>\n",
       "      <td>...</td>\n",
       "    </tr>\n",
       "    <tr>\n",
       "      <th>435</th>\n",
       "      <td>495</td>\n",
       "      <td>IMGameDesigner/PokerGame</td>\n",
       "      <td>JavaScript</td>\n",
       "      <td>### 满意请给个star\\n### [1.0原版js](https://github.com/IMGameDesigner/PokerGame/blob/master/a.js)\\n* 针对CocosCreator1.9.3,一副牌斗地主\\n* onload方法：内含测试数据和使用方法\\n* can_out_poker方法：输入两个无序（含1~54）数组（对手的出牌+自己打算出的牌），进行跟牌正误判断，输出false or true\\n* AI_chupai方法：输入两个无序（含1~54）数组（对手的出牌+自己的全部手牌），输出一个无序队列包含AI智能出牌结果（1代表小三，13代表2，14代表大小王，无花色区分）\\n* （1~54）1：A，2：2，13：K，14：A，53：小王，54：大王\\n### [1.1java版（修改了AI_chupai的部分bug）](https://github.com/IMGameDesigner/PokerGame/blob/master/landowner.java)\\n* 构造方法：内含测试数据和使用方法\\n* AI_chupai方法：输入两个无序（含1~54）数组（对手的出牌+自己的手牌），输出一个无序队列包含AI智能出牌结果（1代表小三，13代表2，14代表大小王，无花色区分）\\n\\n</td>\n",
       "      <td>### 满意请给个star\\n### [1.0原版js](https://github.com/IMGameDesigner/PokerGame/blob/master/a.js)\\n* 针对CocosCreator1.9.3,一副牌斗地主\\n* onload方法：内含测试数据和使用方法\\n* can_out_poker方法：输入两个无序（含1~54）数组（对手的出牌+自己打算出的牌），进行跟牌正误判断，输出false or true\\n* AI_chupai方法：输入两个无序（含1~54）数组（对手的出牌+自己的全部手牌），输出一个无序队列包含AI智能出牌结果（1代表小三，13代表2，14代表大小王，无花色区分）\\n* （1~54）1：A，2：2，13：K，14：A，53：小王，54：大王\\n### [1.1java版（修改了AI_chupai的部分bug）](https://github.com/IMGameDesigner/PokerGame/blob/master/landowner.java)\\n* 构造方法：内含测试数据和使用方法\\n* AI_chupai方法：输入两个无序（含1~54）数组（对手的出牌+自己的手牌），输出一个无序队列包含AI智能出牌结果（1代表小三，13代表2，14代表大小王，无花色区分）\\n\\n</td>\n",
       "      <td>star 10jshttpsgithubcomimgamedesignerpokergameblobmasteraj cocoscreator193 onload canoutpoker154fals true aichupai154ai113214 1541a2213k14a5354 11javaaichupaibughttpsgithubcomimgamedesignerpokergameblobmasterlandownerjava aichupai154ai113214</td>\n",
       "      <td>star 10jshttpsgithubcomimgamedesignerpokergameblobmasterajs cocoscreator193 onload canoutpoker154false true aichupai154ai113214 1541a2213k14a5354 11javaaichupaibughttpsgithubcomimgamedesignerpokergameblobmasterlandownerjava aichupai154ai113214</td>\n",
       "    </tr>\n",
       "    <tr>\n",
       "      <th>436</th>\n",
       "      <td>496</td>\n",
       "      <td>houen/PokerFace</td>\n",
       "      <td>ActionScript</td>\n",
       "      <td>This [Actionscript Flash poker (5-card &amp; Texas Hold’em)](http://blog.houen.net/actionscript-3-poker-hand-evaluator/ \"Actionscript Flash poker (5-card &amp; Texas Hold’em)\") evaluator will evaluate more than 14,000 hands per second, with a size of around 6 kb. It also includes classes to wrap everything up nice and tight for convenience.\\n\\nStarting from [this post](http://www.codingthewheel.com/archives/poker-hand-evaluator-roundup \"Poker blog post\") about poker hand evaluators, i converted the improved version of [Cactukev’s poker hand evaluator](http://www.suffecool.net/poker/evaluator.html \"Cactukev’s poker hand evaluator\") to AS3 some time ago, and wrapped it in some nice OO classes to make it easily accessible.\\n\\nThe OO classes include ways to handle a Deck of cards, a Dealer to draw cards from it, objects to represent a 5- and 7-card hand and compare strengths, and a Card class to make card strength and textual representation easy.\\n\\nThe straight dope is that I have tested it to evaluate approx. 2.6 mio. 5-card poker hands in 6.3 seconds, and 133 mio. 7-card poker hands in approx. 2.5 hours, or about 14.000 hands per second. The test evaluated the correct evaluation of all possible 5- and 7-card poker hands.\\nThe tests were run on a 2.8 gHz Macbook Pro with 4Gb RAM\\n\\n*Included in the library*\\n\\nsource code\\n.swc binary\\nAPI reference\\nThe test to evaluate that it runs correctly here (AIR application)\\n\\n*License:*\\nThe original code i ported it from was released to the public domain, and is as such free to use, modify and redistribute.\\nI am releasing this code under the MIT license. License info is found in the source files.</td>\n",
       "      <td>This [Actionscript Flash poker (5-card &amp; Texas Hold’em)](http://blog.houen.net/actionscript-3-poker-hand-evaluator/ \"Actionscript Flash poker (5-card &amp; Texas Hold’em)\") evaluator will evaluate more than 14,000 hands per second, with a size of around 6 kb. It also includes classes to wrap everything up nice and tight for convenience.\\n\\nStarting from [this post](http://www.codingthewheel.com/archives/poker-hand-evaluator-roundup \"Poker blog post\") about poker hand evaluators, i converted the improved version of [Cactukev’s poker hand evaluator](http://www.suffecool.net/poker/evaluator.html \"Cactukev’s poker hand evaluator\") to AS3 some time ago, and wrapped it in some nice OO classes to make it easily accessible.\\n\\nThe OO classes include ways to handle a Deck of cards, a Dealer to draw cards from it, objects to represent a 5- and 7-card hand and compare strengths, and a Card class to make card strength and textual representation easy.\\n\\nThe straight dope is that I have tested it to evaluate approx. 2.6 mio. 5-card poker hands in 6.3 seconds, and 133 mio. 7-card poker hands in approx. 2.5 hours, or about 14.000 hands per second. The test evaluated the correct evaluation of all possible 5- and 7-card poker hands.\\nThe tests were run on a 2.8 gHz Macbook Pro with 4Gb RAM\\n\\n*Included in the library*\\n\\nsource code\\n.swc binary\\nAPI reference\\nThe test to evaluate that it runs correctly here (AIR application)\\n\\n*License:*\\nThe original code i ported it from was released to the public domain, and is as such free to use, modify and redistribute.\\nI am releasing this code under the MIT license. License info is found in the source files.</td>\n",
       "      <td>actionscript flash poker 5card texa holdemhttpbloghouennetactionscript3pokerhandevalu actionscript flash poker 5card texa holdem evalu evalu 14000 hand per second size around 6 kb also includ class wrap everyth nice tight conveni start posthttpwwwcodingthewheelcomarchivespokerhandevaluatorroundup poker blog post poker hand evalu convert improv version cactukev poker hand evaluatorhttpwwwsuffecoolnetpokerevaluatorhtml cactukev poker hand evalu as3 time ago wrap nice oo class make easili access oo class includ way handl deck card dealer draw card object repres 5 7card hand compar strength card class make card strength textual represent easi straight dope test evalu approx 26 mio 5card poker hand 63 second 133 mio 7card poker hand approx 25 hour 14000 hand per second test evalu correct evalu possibl 5 7card poker hand test run 28 ghz macbook pro 4gb ram includ librari sourc swc binari api refer test evalu run correctli air applic licens origin port releas public domain free use modifi redistribut releas mit licens licens info found sourc file</td>\n",
       "      <td>actionscript flash poker 5card texas holdemhttpbloghouennetactionscript3pokerhandevaluator actionscript flash poker 5card texas holdem evaluator evaluate 14000 hand per second size around 6 kb also includes class wrap everything nice tight convenience starting posthttpwwwcodingthewheelcomarchivespokerhandevaluatorroundup poker blog post poker hand evaluator converted improved version cactukevs poker hand evaluatorhttpwwwsuffecoolnetpokerevaluatorhtml cactukevs poker hand evaluator as3 time ago wrapped nice oo class make easily accessible oo class include way handle deck card dealer draw card object represent 5 7card hand compare strength card class make card strength textual representation easy straight dope tested evaluate approx 26 mio 5card poker hand 63 second 133 mio 7card poker hand approx 25 hour 14000 hand per second test evaluated correct evaluation possible 5 7card poker hand test run 28 ghz macbook pro 4gb ram included library source swc binary api reference test evaluate run correctly air application license original ported released public domain free use modify redistribute releasing mit license license info found source file</td>\n",
       "    </tr>\n",
       "    <tr>\n",
       "      <th>437</th>\n",
       "      <td>497</td>\n",
       "      <td>ngocbd/pokerserver</td>\n",
       "      <td>Java</td>\n",
       "      <td># pokerserver\\n[![Codacy Badge](https://api.codacy.com/project/badge/Grade/61b2af6402014b01bf7505e9179108e4)](https://app.codacy.com/app/ngocbd/pokerserver?utm_source=github.com&amp;utm_medium=referral&amp;utm_content=ngocbd/pokerserver&amp;utm_campaign=Badge_Grade_Dashboard)\\n[![codecov](https://codecov.io/gh/ngocbd/pokerserver/branch/master/graph/badge.svg)](https://codecov.io/gh/ngocbd/pokerserver)\\n[![Build Status](https://travis-ci.org/ngocbd/pokerserver.svg?branch=master)](https://travis-ci.org/ngocbd/pokerserver)\\n\\n</td>\n",
       "      <td># pokerserver\\n[![Codacy Badge](https://api.codacy.com/project/badge/Grade/61b2af6402014b01bf7505e9179108e4)](https://app.codacy.com/app/ngocbd/pokerserver?utm_source=github.com&amp;utm_medium=referral&amp;utm_content=ngocbd/pokerserver&amp;utm_campaign=Badge_Grade_Dashboard)\\n[![codecov](https://codecov.io/gh/ngocbd/pokerserver/branch/master/graph/badge.svg)](https://codecov.io/gh/ngocbd/pokerserver)\\n[![Build Status](https://travis-ci.org/ngocbd/pokerserver.svg?branch=master)](https://travis-ci.org/ngocbd/pokerserver)\\n\\n</td>\n",
       "      <td>pokerserv codaci badgehttpsapicodacycomprojectbadgegrade61b2af6402014b01bf7505e9179108e4httpsappcodacycomappngocbdpokerserverutmsourcegithubcomutmmediumreferralutmcontentngocbdpokerserverutmcampaignbadgegradedashboard codecovhttpscodecovioghngocbdpokerserverbranchmastergraphbadgesvghttpscodecovioghngocbdpokerserv build statushttpstravisciorgngocbdpokerserversvgbranchmasterhttpstravisciorgngocbdpokerserv</td>\n",
       "      <td>pokerserver codacy badgehttpsapicodacycomprojectbadgegrade61b2af6402014b01bf7505e9179108e4httpsappcodacycomappngocbdpokerserverutmsourcegithubcomutmmediumreferralutmcontentngocbdpokerserverutmcampaignbadgegradedashboard codecovhttpscodecovioghngocbdpokerserverbranchmastergraphbadgesvghttpscodecovioghngocbdpokerserver build statushttpstravisciorgngocbdpokerserversvgbranchmasterhttpstravisciorgngocbdpokerserver</td>\n",
       "    </tr>\n",
       "    <tr>\n",
       "      <th>438</th>\n",
       "      <td>498</td>\n",
       "      <td>mikaelbr/AI-Poker-Player</td>\n",
       "      <td>Python</td>\n",
       "      <td># AI Poker Player\\n===============================================================\\nInitial commit for the AI Poker Player student project at NTNU. \\n\\nCode done by and for Mikael Brevik and Martin Akre Midsund\\n</td>\n",
       "      <td># AI Poker Player\\n===============================================================\\nInitial commit for the AI Poker Player student project at NTNU. \\n\\nCode done by and for Mikael Brevik and Martin Akre Midsund\\n</td>\n",
       "      <td>ai poker player initi commit ai poker player student project ntnu done mikael brevik martin akr midsund</td>\n",
       "      <td>ai poker player initial commit ai poker player student project ntnu done mikael brevik martin akre midsund</td>\n",
       "    </tr>\n",
       "    <tr>\n",
       "      <th>439</th>\n",
       "      <td>499</td>\n",
       "      <td>ProPanek/PlanningPoker</td>\n",
       "      <td>JavaScript</td>\n",
       "      <td># Planning Poker\\n[![Codacy Badge](https://api.codacy.com/project/badge/Grade/bc4ede09cfb34695993224552e1cb2af)](https://www.codacy.com/app/ProPanek/PlanningPoker?utm_source=github.com&amp;amp;utm_medium=referral&amp;amp;utm_content=ProPanek/PlanningPoker&amp;amp;utm_campaign=Badge_Grade)\\n[![dependencies Status](https://david-dm.org/ProPanek/PlanningPoker/status.svg)](https://david-dm.org/ProPanek/PlanningPoker)\\n[![devDependencies Status](https://david-dm.org/ProPanek/PlanningPoker/dev-status.svg)](https://david-dm.org/ProPanek/PlanningPoker?type=dev)\\n\\nLet's make your planning session go online!\\n\\n## Getting Started\\n\\nIf you want to start project locally follow the instructions below.\\n\\n### Prerequisites\\n\\n```\\nnode.js ^8.*.*\\n\\nnpm or yarn as package manager\\n```\\n\\n### Installing\\n\\nFirst install packages in root folder of the project.\\n\\n```\\nyarn install\\n```\\n\\nThen go to `/client` folder and repeat\\n\\n```\\ncd client/\\nyarn install \\n```\\n\\nNext you need to go to the `package.json` in your `/client` and change or add line to\\n\\n```\\n\"proxy\": \"http://localhost:5000\",\\n```\\n\\nThis allow our `create-react-app` application to know where our api is running (which port and domain if you have server on different machine).\\nAfter you finish just type in `root` folder\\n\\n```\\nyarn dev\\n```\\n\\nAnd that's it!\\n\\n## Testing\\n\\n```\\njest, enzyme, sinon\\n```\\n\\nTo test type\\n\\n`yarn test`\\n\\n## Deployment\\n\\nAfter you deploy this program into some kind of hosting you need to remember to change `proxy` in our `package.json` in `/client/package.json` to\\n\\n```\\n\"proxy\": \"yourdomain\",\\n```\\n\\n## Built With\\n\\n*   [create-react-app](https://github.com/facebook/create-react-app) - client side\\n*   [node.js](https://github.com/nodejs) - server\\n*   [socket.io](https://github.com/socketio/socket.io) - WebSockets\\n\\n## Authors\\n\\n*   **Sebastian Ogarek** - *Main work* - [ProPanek](https://github.com/ProPanek)\\n\\nSee also the list of [contributors](https://github.com/ProPanek/PlanningPoker/contributors) who participated in this project.\\n\\n## License\\n\\nThis project is licensed under the MIT License - see the [LICENSE.md](https://github.com/ProPanek/PlanningPoker/blob/master/LICENSE) file for details\\n</td>\n",
       "      <td># Planning Poker\\n[![Codacy Badge](https://api.codacy.com/project/badge/Grade/bc4ede09cfb34695993224552e1cb2af)](https://www.codacy.com/app/ProPanek/PlanningPoker?utm_source=github.com&amp;amp;utm_medium=referral&amp;amp;utm_content=ProPanek/PlanningPoker&amp;amp;utm_campaign=Badge_Grade)\\n[![dependencies Status](https://david-dm.org/ProPanek/PlanningPoker/status.svg)](https://david-dm.org/ProPanek/PlanningPoker)\\n[![devDependencies Status](https://david-dm.org/ProPanek/PlanningPoker/dev-status.svg)](https://david-dm.org/ProPanek/PlanningPoker?type=dev)\\n\\nLet's make your planning session go online!\\n\\n## Getting Started\\n\\nIf you want to start project locally follow the instructions below.\\n\\n### Prerequisites\\n\\n```\\nnode.js ^8.*.*\\n\\nnpm or yarn as package manager\\n```\\n\\n### Installing\\n\\nFirst install packages in root folder of the project.\\n\\n```\\nyarn install\\n```\\n\\nThen go to `/client` folder and repeat\\n\\n```\\ncd client/\\nyarn install \\n```\\n\\nNext you need to go to the `package.json` in your `/client` and change or add line to\\n\\n```\\n\"proxy\": \"http://localhost:5000\",\\n```\\n\\nThis allow our `create-react-app` application to know where our api is running (which port and domain if you have server on different machine).\\nAfter you finish just type in `root` folder\\n\\n```\\nyarn dev\\n```\\n\\nAnd that's it!\\n\\n## Testing\\n\\n```\\njest, enzyme, sinon\\n```\\n\\nTo test type\\n\\n`yarn test`\\n\\n## Deployment\\n\\nAfter you deploy this program into some kind of hosting you need to remember to change `proxy` in our `package.json` in `/client/package.json` to\\n\\n```\\n\"proxy\": \"yourdomain\",\\n```\\n\\n## Built With\\n\\n*   [create-react-app](https://github.com/facebook/create-react-app) - client side\\n*   [node.js](https://github.com/nodejs) - server\\n*   [socket.io](https://github.com/socketio/socket.io) - WebSockets\\n\\n## Authors\\n\\n*   **Sebastian Ogarek** - *Main work* - [ProPanek](https://github.com/ProPanek)\\n\\nSee also the list of [contributors](https://github.com/ProPanek/PlanningPoker/contributors) who participated in this project.\\n\\n## License\\n\\nThis project is licensed under the MIT License - see the [LICENSE.md](https://github.com/ProPanek/PlanningPoker/blob/master/LICENSE) file for details\\n</td>\n",
       "      <td>plan poker codaci badgehttpsapicodacycomprojectbadgegradebc4ede09cfb34695993224552e1cb2afhttpswwwcodacycomapppropanekplanningpokerutmsourcegithubcomamputmmediumreferralamputmcontentpropanekplanningpokeramputmcampaignbadgegrad depend statushttpsdaviddmorgpropanekplanningpokerstatussvghttpsdaviddmorgpropanekplanningpok devdepend statushttpsdaviddmorgpropanekplanningpokerdevstatussvghttpsdaviddmorgpropanekplanningpokertypedev let' make plan session go onlin get start want start project local follow instruct prerequisit nodej 8 npm yarn packag manag instal first instal packag root folder project yarn instal go client folder repeat cd client yarn instal next need go packagejson client chang add line proxi httplocalhost5000 allow createreactapp applic know api run port domain server differ machin finish type root folder yarn dev that' test jest enzym sinon test type yarn test deploy deploy program kind host need rememb chang proxi packagejson clientpackagejson proxi yourdomain built createreactapphttpsgithubcomfacebookcreatereactapp client side nodejshttpsgithubcomnodej server socketiohttpsgithubcomsocketiosocketio websocket author sebastian ogarek main work propanekhttpsgithubcompropanek see also list contributorshttpsgithubcompropanekplanningpokercontributor particip project licens project licens mit licens see licensemdhttpsgithubcompropanekplanningpokerblobmasterlicens file detail</td>\n",
       "      <td>planning poker codacy badgehttpsapicodacycomprojectbadgegradebc4ede09cfb34695993224552e1cb2afhttpswwwcodacycomapppropanekplanningpokerutmsourcegithubcomamputmmediumreferralamputmcontentpropanekplanningpokeramputmcampaignbadgegrade dependency statushttpsdaviddmorgpropanekplanningpokerstatussvghttpsdaviddmorgpropanekplanningpoker devdependencies statushttpsdaviddmorgpropanekplanningpokerdevstatussvghttpsdaviddmorgpropanekplanningpokertypedev let's make planning session go online getting started want start project locally follow instruction prerequisite nodejs 8 npm yarn package manager installing first install package root folder project yarn install go client folder repeat cd client yarn install next need go packagejson client change add line proxy httplocalhost5000 allow createreactapp application know api running port domain server different machine finish type root folder yarn dev that's testing jest enzyme sinon test type yarn test deployment deploy program kind hosting need remember change proxy packagejson clientpackagejson proxy yourdomain built createreactapphttpsgithubcomfacebookcreatereactapp client side nodejshttpsgithubcomnodejs server socketiohttpsgithubcomsocketiosocketio websockets author sebastian ogarek main work propanekhttpsgithubcompropanek see also list contributorshttpsgithubcompropanekplanningpokercontributors participated project license project licensed mit license see licensemdhttpsgithubcompropanekplanningpokerblobmasterlicense file detail</td>\n",
       "    </tr>\n",
       "  </tbody>\n",
       "</table></div>"
      ],
      "text/plain": [
       "     index                      repo      language  \\\n",
       "0        0          dickreuter/Poker        Python   \n",
       "1        1              pret/pokered      Assembly   \n",
       "2        2    ishikota/PyPokerEngine        Python   \n",
       "3        3    andrewprock/pokerstove           C++   \n",
       "4        4         pokerregion/poker        Python   \n",
       "..     ...                       ...           ...   \n",
       "435    495  IMGameDesigner/PokerGame    JavaScript   \n",
       "436    496           houen/PokerFace  ActionScript   \n",
       "437    497        ngocbd/pokerserver          Java   \n",
       "438    498  mikaelbr/AI-Poker-Player        Python   \n",
       "439    499    ProPanek/PlanningPoker    JavaScript   \n",
       "\n",
       "                                       readme_contents  \\\n",
       "0    Deep mind pokerbot for pokerstars, partypoker ...   \n",
       "1    # Pokémon Red and Blue [![Build Status][ci-bad...   \n",
       "2    # PyPokerEngine\\n\\n[![Build Status](https://tr...   \n",
       "3    PokerStove\\n==========\\n\\n[![OpenHUB Metrics](...   \n",
       "4    Poker framework for Python\\n==================...   \n",
       "..                                                 ...   \n",
       "435  ### 满意请给个star\\n### [1.0原版js](https://github.co...   \n",
       "436  This [Actionscript Flash poker (5-card & Texas...   \n",
       "437  # pokerserver\\n[![Codacy Badge](https://api.co...   \n",
       "438  # AI Poker Player\\n===========================...   \n",
       "439  # Planning Poker\\n[![Codacy Badge](https://api...   \n",
       "\n",
       "                                               content  \\\n",
       "0    Deep mind pokerbot for pokerstars, partypoker ...   \n",
       "1    # Pokémon Red and Blue [![Build Status][ci-bad...   \n",
       "2    # PyPokerEngine\\n\\n[![Build Status](https://tr...   \n",
       "3    PokerStove\\n==========\\n\\n[![OpenHUB Metrics](...   \n",
       "4    Poker framework for Python\\n==================...   \n",
       "..                                                 ...   \n",
       "435  ### 满意请给个star\\n### [1.0原版js](https://github.co...   \n",
       "436  This [Actionscript Flash poker (5-card & Texas...   \n",
       "437  # pokerserver\\n[![Codacy Badge](https://api.co...   \n",
       "438  # AI Poker Player\\n===========================...   \n",
       "439  # Planning Poker\\n[![Codacy Badge](https://api...   \n",
       "\n",
       "                                       stemmed_content  \\\n",
       "0    deep mind pokerbot pokerstar partypok ggpoker ...   \n",
       "1    pokemon red blue build statuscibadgeci disasse...   \n",
       "2    pypokerengin build statushttpstravisciorgishik...   \n",
       "3    pokerstov openhub metricshttpswwwopenhubnetppo...   \n",
       "4    poker framework python travi coveral python re...   \n",
       "..                                                 ...   \n",
       "435  star 10jshttpsgithubcomimgamedesignerpokergame...   \n",
       "436  actionscript flash poker 5card texa holdemhttp...   \n",
       "437  pokerserv codaci badgehttpsapicodacycomproject...   \n",
       "438  ai poker player initi commit ai poker player s...   \n",
       "439  plan poker codaci badgehttpsapicodacycomprojec...   \n",
       "\n",
       "                                        lemmed_content  \n",
       "0    deep mind pokerbot pokerstars partypoker ggpok...  \n",
       "1    pokemon red blue build statuscibadgeci disasse...  \n",
       "2    pypokerengine build statushttpstravisciorgishi...  \n",
       "3    pokerstove openhub metricshttpswwwopenhubnetpp...  \n",
       "4    poker framework python travis coverall python ...  \n",
       "..                                                 ...  \n",
       "435  star 10jshttpsgithubcomimgamedesignerpokergame...  \n",
       "436  actionscript flash poker 5card texas holdemhtt...  \n",
       "437  pokerserver codacy badgehttpsapicodacycomproje...  \n",
       "438  ai poker player initial commit ai poker player...  \n",
       "439  planning poker codacy badgehttpsapicodacycompr...  \n",
       "\n",
       "[440 rows x 7 columns]"
      ]
     },
     "execution_count": 10,
     "metadata": {},
     "output_type": "execute_result"
    }
   ],
   "source": [
    "# now merge the cleaned DF and the original DF, so that we have access to the repo titles and programming language from the original DF \n",
    "# as well as the cleaned outputs from the second DF\n",
    "\n",
    "labeled_df = cleaned_df.merge(prepared_df, how='left', left_on='readme_contents', right_on='content')\n",
    "#labeled_df = labeled_df.drop(columns='readme_contents')\n",
    "labeled_df\n",
    "\n",
    "\n",
    "#DataFrame.merge(right, how='inner', on=None, left_on=None, right_on=None, left_index=False, right_index=False, sort=False, suffixes=('_x', '_y'), copy=True, indicator=False, validate=None)"
   ]
  },
  {
   "cell_type": "code",
   "execution_count": 11,
   "metadata": {},
   "outputs": [
    {
     "name": "stdout",
     "output_type": "stream",
     "text": [
      "<class 'pandas.core.frame.DataFrame'>\n",
      "Int64Index: 440 entries, 0 to 439\n",
      "Data columns (total 7 columns):\n",
      " #   Column           Non-Null Count  Dtype \n",
      "---  ------           --------------  ----- \n",
      " 0   index            440 non-null    int64 \n",
      " 1   repo             440 non-null    object\n",
      " 2   language         440 non-null    object\n",
      " 3   readme_contents  440 non-null    object\n",
      " 4   content          440 non-null    object\n",
      " 5   stemmed_content  440 non-null    object\n",
      " 6   lemmed_content   440 non-null    object\n",
      "dtypes: int64(1), object(6)\n",
      "memory usage: 27.5+ KB\n"
     ]
    }
   ],
   "source": [
    "labeled_df.info()"
   ]
  },
  {
   "cell_type": "code",
   "execution_count": 12,
   "metadata": {},
   "outputs": [
    {
     "data": {
      "text/html": [
       "<div><div id=42a0907c-c8ef-41f3-9d10-a5c09a3a587c style=\"display:none; background-color:#9D6CFF; color:white; width:200px; height:30px; padding-left:5px; border-radius:4px; flex-direction:row; justify-content:space-around; align-items:center;\" onmouseover=\"this.style.backgroundColor='#BA9BF8'\" onmouseout=\"this.style.backgroundColor='#9D6CFF'\" onclick=\"window.commands?.execute('create-mitosheet-from-dataframe-output');\">See Full Dataframe in Mito</div> <script> if (window.commands?.hasCommand('create-mitosheet-from-dataframe-output')) document.getElementById('42a0907c-c8ef-41f3-9d10-a5c09a3a587c').style.display = 'flex' </script> <table border=\"1\" class=\"dataframe\">\n",
       "  <thead>\n",
       "    <tr style=\"text-align: right;\">\n",
       "      <th></th>\n",
       "      <th>n</th>\n",
       "      <th>percent</th>\n",
       "    </tr>\n",
       "  </thead>\n",
       "  <tbody>\n",
       "    <tr>\n",
       "      <th>Svelte</th>\n",
       "      <td>2</td>\n",
       "      <td>0.004545</td>\n",
       "    </tr>\n",
       "    <tr>\n",
       "      <th>Roff</th>\n",
       "      <td>2</td>\n",
       "      <td>0.004545</td>\n",
       "    </tr>\n",
       "    <tr>\n",
       "      <th>Vue</th>\n",
       "      <td>2</td>\n",
       "      <td>0.004545</td>\n",
       "    </tr>\n",
       "    <tr>\n",
       "      <th>Dart</th>\n",
       "      <td>2</td>\n",
       "      <td>0.004545</td>\n",
       "    </tr>\n",
       "    <tr>\n",
       "      <th>F#</th>\n",
       "      <td>1</td>\n",
       "      <td>0.002273</td>\n",
       "    </tr>\n",
       "    <tr>\n",
       "      <th>Julia</th>\n",
       "      <td>1</td>\n",
       "      <td>0.002273</td>\n",
       "    </tr>\n",
       "    <tr>\n",
       "      <th>Elm</th>\n",
       "      <td>1</td>\n",
       "      <td>0.002273</td>\n",
       "    </tr>\n",
       "    <tr>\n",
       "      <th>Apex</th>\n",
       "      <td>1</td>\n",
       "      <td>0.002273</td>\n",
       "    </tr>\n",
       "    <tr>\n",
       "      <th>Pascal</th>\n",
       "      <td>1</td>\n",
       "      <td>0.002273</td>\n",
       "    </tr>\n",
       "    <tr>\n",
       "      <th>ShaderLab</th>\n",
       "      <td>1</td>\n",
       "      <td>0.002273</td>\n",
       "    </tr>\n",
       "  </tbody>\n",
       "</table></div>"
      ],
      "text/plain": [
       "           n   percent\n",
       "Svelte     2  0.004545\n",
       "Roff       2  0.004545\n",
       "Vue        2  0.004545\n",
       "Dart       2  0.004545\n",
       "F#         1  0.002273\n",
       "Julia      1  0.002273\n",
       "Elm        1  0.002273\n",
       "Apex       1  0.002273\n",
       "Pascal     1  0.002273\n",
       "ShaderLab  1  0.002273"
      ]
     },
     "execution_count": 12,
     "metadata": {},
     "output_type": "execute_result"
    }
   ],
   "source": [
    "# labeled_df is the final DF, and I dropped 60 columns due to nulls and duplicate repo issues. This final DF will be used for the explore section\n",
    "# lets take a look at overall composition by programming language:\n",
    "\n",
    "def show_counts_and_ratios(df, column):\n",
    "    \"\"\"\n",
    "    Takes in a dataframe and a string of a single column\n",
    "    Returns a dataframe with absolute value counts and percentage value counts\n",
    "    \"\"\"\n",
    "    labels = pd.concat([df[column].value_counts(),\n",
    "                    df[column].value_counts(normalize=True)], axis=1)\n",
    "    labels.columns = ['n', 'percent']\n",
    "    labels\n",
    "    return labels\n",
    "\n",
    "show_counts_and_ratios(labeled_df, \"language\").tail(10)\n"
   ]
  },
  {
   "cell_type": "code",
   "execution_count": 13,
   "metadata": {},
   "outputs": [],
   "source": [
    "# ADDITIONAL_STOPWORDS = []\n",
    "\n",
    "# def clean(text):\n",
    "#         'A simple function to cleanup text data'\n",
    "#         wnl = nltk.stem.WordNetLemmatizer()\n",
    "#         stopwords = nltk.corpus.stopwords.words('english') + ADDITIONAL_STOPWORDS\n",
    "#         text = (unicodedata.normalize('NFKD', text)\n",
    "#                 .encode('ascii', 'ignore')\n",
    "#                 .decode('utf-8', 'ignore')\n",
    "#                 .lower())\n",
    "#         words = re.sub(r'[^\\w\\s]', '', text).split()\n",
    "#         return [wnl.lemmatize(word) for word in words if word not in stopwords]\n"
   ]
  },
  {
   "cell_type": "code",
   "execution_count": 14,
   "metadata": {},
   "outputs": [
    {
     "data": {
      "text/plain": [
       "game            267\n",
       "poker           232\n",
       "player          231\n",
       "hand            200\n",
       "card            169\n",
       "               ... \n",
       "rival             1\n",
       "pipinstalled      1\n",
       "boolean           1\n",
       "switching         1\n",
       "midsund           1\n",
       "Name: Python, Length: 5161, dtype: int64"
      ]
     },
     "execution_count": 14,
     "metadata": {},
     "output_type": "execute_result"
    }
   ],
   "source": [
    "languages = labeled_df.language.unique()\n",
    "language_df = {}\n",
    "\n",
    "for lang in languages:\n",
    "    language_df[lang] = labeled_df[labeled_df.language == lang].lemmed_content\n",
    "    language_df[lang] = pd.Series(\" \".join(language_df[lang].values).split(' '), name=lang).value_counts()\n",
    "\n",
    "language_df[\"Python\"]"
   ]
  },
  {
   "cell_type": "markdown",
   "metadata": {},
   "source": [
    "## Modeling"
   ]
  },
  {
   "cell_type": "markdown",
   "metadata": {},
   "source": [
    "### Our text to model is going to be the lemmatized text, labeled_df.lemmed_content\n",
    "- run a TF-IDF with scikit learn, then run all four categories of classification model"
   ]
  },
  {
   "cell_type": "code",
   "execution_count": 15,
   "metadata": {},
   "outputs": [],
   "source": [
    "# ignore warnings\n",
    "import warnings\n",
    "warnings.filterwarnings(\"ignore\")\n",
    "# get the basics for math and visuals\n",
    "import numpy as np\n",
    "import matplotlib.pyplot as plt\n",
    "import seaborn as sns\n",
    "# add the tools for classification reports\n",
    "from sklearn.metrics import classification_report\n",
    "from sklearn.metrics import confusion_matrix\n",
    "# pull in Decision Tree classifier\n",
    "from sklearn.tree import DecisionTreeClassifier, plot_tree\n",
    "# pull in Random Forest classifer\n",
    "from sklearn.ensemble import RandomForestClassifier\n",
    "# pull in KNN classifer\n",
    "from sklearn.neighbors import KNeighborsClassifier\n",
    "# pull in Logistic Regression classifer\n",
    "from sklearn.linear_model import LogisticRegression\n",
    "from sklearn.feature_extraction.text import TfidfVectorizer"
   ]
  },
  {
   "cell_type": "code",
   "execution_count": 16,
   "metadata": {},
   "outputs": [],
   "source": [
    "# TF-IDF via scikit learn\n",
    "from sklearn.model_selection import train_test_split\n",
    "from sklearn.linear_model import LogisticRegression\n",
    "from sklearn.metrics import classification_report, accuracy_score\n"
   ]
  },
  {
   "cell_type": "markdown",
   "metadata": {},
   "source": [
    "### For modeling purposes, I am going to drop any language with less than 3 attributed repos. Less than 3 repos will not adequately segment into train, validate and test dataframes."
   ]
  },
  {
   "cell_type": "code",
   "execution_count": 17,
   "metadata": {},
   "outputs": [
    {
     "data": {
      "text/html": [
       "<div><div id=e4934404-bd72-4996-9431-7f8ff6559277 style=\"display:none; background-color:#9D6CFF; color:white; width:200px; height:30px; padding-left:5px; border-radius:4px; flex-direction:row; justify-content:space-around; align-items:center;\" onmouseover=\"this.style.backgroundColor='#BA9BF8'\" onmouseout=\"this.style.backgroundColor='#9D6CFF'\" onclick=\"window.commands?.execute('create-mitosheet-from-dataframe-output');\">See Full Dataframe in Mito</div> <script> if (window.commands?.hasCommand('create-mitosheet-from-dataframe-output')) document.getElementById('e4934404-bd72-4996-9431-7f8ff6559277').style.display = 'flex' </script> <table border=\"1\" class=\"dataframe\">\n",
       "  <thead>\n",
       "    <tr style=\"text-align: right;\">\n",
       "      <th></th>\n",
       "      <th>n</th>\n",
       "      <th>percent</th>\n",
       "    </tr>\n",
       "  </thead>\n",
       "  <tbody>\n",
       "    <tr>\n",
       "      <th>Svelte</th>\n",
       "      <td>2</td>\n",
       "      <td>0.004545</td>\n",
       "    </tr>\n",
       "    <tr>\n",
       "      <th>Roff</th>\n",
       "      <td>2</td>\n",
       "      <td>0.004545</td>\n",
       "    </tr>\n",
       "    <tr>\n",
       "      <th>Vue</th>\n",
       "      <td>2</td>\n",
       "      <td>0.004545</td>\n",
       "    </tr>\n",
       "    <tr>\n",
       "      <th>Dart</th>\n",
       "      <td>2</td>\n",
       "      <td>0.004545</td>\n",
       "    </tr>\n",
       "    <tr>\n",
       "      <th>F#</th>\n",
       "      <td>1</td>\n",
       "      <td>0.002273</td>\n",
       "    </tr>\n",
       "    <tr>\n",
       "      <th>Julia</th>\n",
       "      <td>1</td>\n",
       "      <td>0.002273</td>\n",
       "    </tr>\n",
       "    <tr>\n",
       "      <th>Elm</th>\n",
       "      <td>1</td>\n",
       "      <td>0.002273</td>\n",
       "    </tr>\n",
       "    <tr>\n",
       "      <th>Apex</th>\n",
       "      <td>1</td>\n",
       "      <td>0.002273</td>\n",
       "    </tr>\n",
       "    <tr>\n",
       "      <th>Pascal</th>\n",
       "      <td>1</td>\n",
       "      <td>0.002273</td>\n",
       "    </tr>\n",
       "    <tr>\n",
       "      <th>ShaderLab</th>\n",
       "      <td>1</td>\n",
       "      <td>0.002273</td>\n",
       "    </tr>\n",
       "  </tbody>\n",
       "</table></div>"
      ],
      "text/plain": [
       "           n   percent\n",
       "Svelte     2  0.004545\n",
       "Roff       2  0.004545\n",
       "Vue        2  0.004545\n",
       "Dart       2  0.004545\n",
       "F#         1  0.002273\n",
       "Julia      1  0.002273\n",
       "Elm        1  0.002273\n",
       "Apex       1  0.002273\n",
       "Pascal     1  0.002273\n",
       "ShaderLab  1  0.002273"
      ]
     },
     "execution_count": 17,
     "metadata": {},
     "output_type": "execute_result"
    }
   ],
   "source": [
    "# labeled_df is the final DF, and I dropped 60 columns due to nulls and duplicate repo issues. This final DF will be used for the explore section\n",
    "# lets take a look at overall composition by programming language:\n",
    "\n",
    "def show_counts_and_ratios(df, column):\n",
    "    \"\"\"\n",
    "    Takes in a dataframe and a string of a single column\n",
    "    Returns a dataframe with absolute value counts and percentage value counts\n",
    "    \"\"\"\n",
    "    labels = pd.concat([df[column].value_counts(),\n",
    "                    df[column].value_counts(normalize=True)], axis=1)\n",
    "    labels.columns = ['n', 'percent']\n",
    "    labels\n",
    "    return labels\n",
    "\n",
    "show_counts_and_ratios(labeled_df, \"language\").tail(10)"
   ]
  },
  {
   "cell_type": "code",
   "execution_count": 18,
   "metadata": {},
   "outputs": [],
   "source": [
    "values =['ShaderLab', 'Pascal', 'Apex', 'Elm', 'Julia', 'F#', 'Kotlin', 'Shell', \n",
    "'CoffeeScript', 'Lua', 'Svelte', 'Roff', 'Vue', 'Dart']\n",
    "\n",
    "labeled_df = labeled_df[labeled_df.language.isin(values) == False]\n"
   ]
  },
  {
   "cell_type": "code",
   "execution_count": 19,
   "metadata": {},
   "outputs": [
    {
     "data": {
      "text/html": [
       "<div><div id=26871b62-993e-4fb7-a5c0-2ca09d762f4f style=\"display:none; background-color:#9D6CFF; color:white; width:200px; height:30px; padding-left:5px; border-radius:4px; flex-direction:row; justify-content:space-around; align-items:center;\" onmouseover=\"this.style.backgroundColor='#BA9BF8'\" onmouseout=\"this.style.backgroundColor='#9D6CFF'\" onclick=\"window.commands?.execute('create-mitosheet-from-dataframe-output');\">See Full Dataframe in Mito</div> <script> if (window.commands?.hasCommand('create-mitosheet-from-dataframe-output')) document.getElementById('26871b62-993e-4fb7-a5c0-2ca09d762f4f').style.display = 'flex' </script> <table border=\"1\" class=\"dataframe\">\n",
       "  <thead>\n",
       "    <tr style=\"text-align: right;\">\n",
       "      <th></th>\n",
       "      <th>n</th>\n",
       "      <th>percent</th>\n",
       "    </tr>\n",
       "  </thead>\n",
       "  <tbody>\n",
       "    <tr>\n",
       "      <th>Swift</th>\n",
       "      <td>6</td>\n",
       "      <td>0.014354</td>\n",
       "    </tr>\n",
       "    <tr>\n",
       "      <th>Elixir</th>\n",
       "      <td>5</td>\n",
       "      <td>0.011962</td>\n",
       "    </tr>\n",
       "    <tr>\n",
       "      <th>HTML</th>\n",
       "      <td>5</td>\n",
       "      <td>0.011962</td>\n",
       "    </tr>\n",
       "    <tr>\n",
       "      <th>ActionScript</th>\n",
       "      <td>4</td>\n",
       "      <td>0.009569</td>\n",
       "    </tr>\n",
       "    <tr>\n",
       "      <th>CSS</th>\n",
       "      <td>4</td>\n",
       "      <td>0.009569</td>\n",
       "    </tr>\n",
       "    <tr>\n",
       "      <th>Clojure</th>\n",
       "      <td>4</td>\n",
       "      <td>0.009569</td>\n",
       "    </tr>\n",
       "    <tr>\n",
       "      <th>Rust</th>\n",
       "      <td>4</td>\n",
       "      <td>0.009569</td>\n",
       "    </tr>\n",
       "    <tr>\n",
       "      <th>Erlang</th>\n",
       "      <td>3</td>\n",
       "      <td>0.007177</td>\n",
       "    </tr>\n",
       "    <tr>\n",
       "      <th>Objective-C</th>\n",
       "      <td>3</td>\n",
       "      <td>0.007177</td>\n",
       "    </tr>\n",
       "    <tr>\n",
       "      <th>Scala</th>\n",
       "      <td>3</td>\n",
       "      <td>0.007177</td>\n",
       "    </tr>\n",
       "  </tbody>\n",
       "</table></div>"
      ],
      "text/plain": [
       "              n   percent\n",
       "Swift         6  0.014354\n",
       "Elixir        5  0.011962\n",
       "HTML          5  0.011962\n",
       "ActionScript  4  0.009569\n",
       "CSS           4  0.009569\n",
       "Clojure       4  0.009569\n",
       "Rust          4  0.009569\n",
       "Erlang        3  0.007177\n",
       "Objective-C   3  0.007177\n",
       "Scala         3  0.007177"
      ]
     },
     "execution_count": 19,
     "metadata": {},
     "output_type": "execute_result"
    }
   ],
   "source": [
    "# let's check that it worked\n",
    "show_counts_and_ratios(labeled_df, \"language\").tail(10)"
   ]
  },
  {
   "cell_type": "code",
   "execution_count": 20,
   "metadata": {},
   "outputs": [],
   "source": [
    " #labeled_df.lemmed_content\n",
    " # lemmed\n",
    " # language\n",
    " # tfidf\n",
    " # train test split\n",
    " #"
   ]
  },
  {
   "cell_type": "code",
   "execution_count": 21,
   "metadata": {},
   "outputs": [
    {
     "data": {
      "text/plain": [
       "(233, 101, 84)"
      ]
     },
     "execution_count": 21,
     "metadata": {},
     "output_type": "execute_result"
    }
   ],
   "source": [
    "# split the data\n",
    "train, validate, test = acquire_df.train_validate_test_split(labeled_df, 'language')\n",
    "\n",
    "train.shape[0], validate.shape[0], test.shape[0]"
   ]
  },
  {
   "cell_type": "code",
   "execution_count": 22,
   "metadata": {},
   "outputs": [
    {
     "data": {
      "text/plain": [
       "Index(['index', 'repo', 'language', 'readme_contents', 'content',\n",
       "       'stemmed_content', 'lemmed_content'],\n",
       "      dtype='object')"
      ]
     },
     "execution_count": 22,
     "metadata": {},
     "output_type": "execute_result"
    }
   ],
   "source": [
    "train.columns"
   ]
  },
  {
   "cell_type": "code",
   "execution_count": 23,
   "metadata": {},
   "outputs": [],
   "source": [
    "# create the object\n",
    "tfidf = TfidfVectorizer()\n",
    "\n",
    "# fit the vectorizer on all the lemmed_content\n",
    "X = tfidf.fit_transform(labeled_df.lemmed_content)\n",
    "\n",
    "y = labeled_df.language\n",
    "labeled_df = labeled_df.rename(columns={'language': 'programming_language_99'})\n"
   ]
  },
  {
   "cell_type": "code",
   "execution_count": 24,
   "metadata": {},
   "outputs": [
    {
     "data": {
      "text/html": [
       "<div><div id=7e01e8cb-4418-46c9-826b-b12f08b09786 style=\"display:none; background-color:#9D6CFF; color:white; width:200px; height:30px; padding-left:5px; border-radius:4px; flex-direction:row; justify-content:space-around; align-items:center;\" onmouseover=\"this.style.backgroundColor='#BA9BF8'\" onmouseout=\"this.style.backgroundColor='#9D6CFF'\" onclick=\"window.commands?.execute('create-mitosheet-from-dataframe-output');\">See Full Dataframe in Mito</div> <script> if (window.commands?.hasCommand('create-mitosheet-from-dataframe-output')) document.getElementById('7e01e8cb-4418-46c9-826b-b12f08b09786').style.display = 'flex' </script> <table border=\"1\" class=\"dataframe\">\n",
       "  <thead>\n",
       "    <tr style=\"text-align: right;\">\n",
       "      <th></th>\n",
       "      <th>00</th>\n",
       "      <th>000</th>\n",
       "      <th>0000</th>\n",
       "      <th>000000</th>\n",
       "      <th>00005</th>\n",
       "      <th>000050001</th>\n",
       "      <th>0001</th>\n",
       "      <th>000126</th>\n",
       "      <th>000176</th>\n",
       "      <th>0002</th>\n",
       "      <th>...</th>\n",
       "      <th>zoom</th>\n",
       "      <th>zoomed</th>\n",
       "      <th>zoorlcardmodels</th>\n",
       "      <th>zopehttpsgithubcomadzo261</th>\n",
       "      <th>zshenv</th>\n",
       "      <th>zubats</th>\n",
       "      <th>zune</th>\n",
       "      <th>zypper</th>\n",
       "      <th>index</th>\n",
       "      <th>programming_language_99</th>\n",
       "    </tr>\n",
       "  </thead>\n",
       "  <tbody>\n",
       "    <tr>\n",
       "      <th>0</th>\n",
       "      <td>0.0</td>\n",
       "      <td>0.0</td>\n",
       "      <td>0.0</td>\n",
       "      <td>0.0</td>\n",
       "      <td>0.0</td>\n",
       "      <td>0.0</td>\n",
       "      <td>0.0</td>\n",
       "      <td>0.0</td>\n",
       "      <td>0.0</td>\n",
       "      <td>0.0</td>\n",
       "      <td>...</td>\n",
       "      <td>0.077934</td>\n",
       "      <td>0.0</td>\n",
       "      <td>0.0</td>\n",
       "      <td>0.0</td>\n",
       "      <td>0.0</td>\n",
       "      <td>0.0</td>\n",
       "      <td>0.0</td>\n",
       "      <td>0.0</td>\n",
       "      <td>0</td>\n",
       "      <td>Python</td>\n",
       "    </tr>\n",
       "  </tbody>\n",
       "</table></div>"
      ],
      "text/plain": [
       "    00  000  0000  000000  00005  000050001  0001  000126  000176  0002  ...  \\\n",
       "0  0.0  0.0   0.0     0.0    0.0        0.0   0.0     0.0     0.0   0.0  ...   \n",
       "\n",
       "       zoom  zoomed  zoorlcardmodels  zopehttpsgithubcomadzo261  zshenv  \\\n",
       "0  0.077934     0.0              0.0                        0.0     0.0   \n",
       "\n",
       "   zubats  zune  zypper  index  programming_language_99  \n",
       "0     0.0   0.0     0.0      0                   Python  \n",
       "\n",
       "[1 rows x 14821 columns]"
      ]
     },
     "execution_count": 24,
     "metadata": {},
     "output_type": "execute_result"
    }
   ],
   "source": [
    "# make the df out of the sparse matrix from TDIDF vectorizer\n",
    "tfidf_df = pd.DataFrame(X.todense(), columns = tfidf.get_feature_names())\n",
    "# concats with language lables\n",
    "encoded_df = pd.concat([tfidf_df, labeled_df.programming_language_99.reset_index()], axis=1)\n",
    "\n",
    "encoded_df.head(1)"
   ]
  },
  {
   "cell_type": "code",
   "execution_count": 25,
   "metadata": {},
   "outputs": [],
   "source": [
    "encoded_df = encoded_df.reset_index()"
   ]
  },
  {
   "cell_type": "code",
   "execution_count": 26,
   "metadata": {},
   "outputs": [
    {
     "data": {
      "text/html": [
       "<div><div id=68359f0b-16ca-41c4-a74f-6d2499278684 style=\"display:none; background-color:#9D6CFF; color:white; width:200px; height:30px; padding-left:5px; border-radius:4px; flex-direction:row; justify-content:space-around; align-items:center;\" onmouseover=\"this.style.backgroundColor='#BA9BF8'\" onmouseout=\"this.style.backgroundColor='#9D6CFF'\" onclick=\"window.commands?.execute('create-mitosheet-from-dataframe-output');\">See Full Dataframe in Mito</div> <script> if (window.commands?.hasCommand('create-mitosheet-from-dataframe-output')) document.getElementById('68359f0b-16ca-41c4-a74f-6d2499278684').style.display = 'flex' </script> <table border=\"1\" class=\"dataframe\">\n",
       "  <thead>\n",
       "    <tr style=\"text-align: right;\">\n",
       "      <th></th>\n",
       "      <th>level_0</th>\n",
       "      <th>00</th>\n",
       "      <th>000</th>\n",
       "      <th>0000</th>\n",
       "      <th>000000</th>\n",
       "      <th>00005</th>\n",
       "      <th>000050001</th>\n",
       "      <th>0001</th>\n",
       "      <th>000126</th>\n",
       "      <th>000176</th>\n",
       "      <th>...</th>\n",
       "      <th>zoom</th>\n",
       "      <th>zoomed</th>\n",
       "      <th>zoorlcardmodels</th>\n",
       "      <th>zopehttpsgithubcomadzo261</th>\n",
       "      <th>zshenv</th>\n",
       "      <th>zubats</th>\n",
       "      <th>zune</th>\n",
       "      <th>zypper</th>\n",
       "      <th>index</th>\n",
       "      <th>programming_language_99</th>\n",
       "    </tr>\n",
       "  </thead>\n",
       "  <tbody>\n",
       "    <tr>\n",
       "      <th>0</th>\n",
       "      <td>0</td>\n",
       "      <td>0.0</td>\n",
       "      <td>0.0</td>\n",
       "      <td>0.0</td>\n",
       "      <td>0.0</td>\n",
       "      <td>0.0</td>\n",
       "      <td>0.0</td>\n",
       "      <td>0.0</td>\n",
       "      <td>0.0</td>\n",
       "      <td>0.0</td>\n",
       "      <td>...</td>\n",
       "      <td>0.077934</td>\n",
       "      <td>0.0</td>\n",
       "      <td>0.0</td>\n",
       "      <td>0.0</td>\n",
       "      <td>0.0</td>\n",
       "      <td>0.0</td>\n",
       "      <td>0.0</td>\n",
       "      <td>0.0</td>\n",
       "      <td>0</td>\n",
       "      <td>Python</td>\n",
       "    </tr>\n",
       "    <tr>\n",
       "      <th>1</th>\n",
       "      <td>1</td>\n",
       "      <td>0.0</td>\n",
       "      <td>0.0</td>\n",
       "      <td>0.0</td>\n",
       "      <td>0.0</td>\n",
       "      <td>0.0</td>\n",
       "      <td>0.0</td>\n",
       "      <td>0.0</td>\n",
       "      <td>0.0</td>\n",
       "      <td>0.0</td>\n",
       "      <td>...</td>\n",
       "      <td>0.000000</td>\n",
       "      <td>0.0</td>\n",
       "      <td>0.0</td>\n",
       "      <td>0.0</td>\n",
       "      <td>0.0</td>\n",
       "      <td>0.0</td>\n",
       "      <td>0.0</td>\n",
       "      <td>0.0</td>\n",
       "      <td>1</td>\n",
       "      <td>Assembly</td>\n",
       "    </tr>\n",
       "    <tr>\n",
       "      <th>2</th>\n",
       "      <td>2</td>\n",
       "      <td>0.0</td>\n",
       "      <td>0.0</td>\n",
       "      <td>0.0</td>\n",
       "      <td>0.0</td>\n",
       "      <td>0.0</td>\n",
       "      <td>0.0</td>\n",
       "      <td>0.0</td>\n",
       "      <td>0.0</td>\n",
       "      <td>0.0</td>\n",
       "      <td>...</td>\n",
       "      <td>0.000000</td>\n",
       "      <td>0.0</td>\n",
       "      <td>0.0</td>\n",
       "      <td>0.0</td>\n",
       "      <td>0.0</td>\n",
       "      <td>0.0</td>\n",
       "      <td>0.0</td>\n",
       "      <td>0.0</td>\n",
       "      <td>2</td>\n",
       "      <td>Python</td>\n",
       "    </tr>\n",
       "    <tr>\n",
       "      <th>3</th>\n",
       "      <td>3</td>\n",
       "      <td>0.0</td>\n",
       "      <td>0.0</td>\n",
       "      <td>0.0</td>\n",
       "      <td>0.0</td>\n",
       "      <td>0.0</td>\n",
       "      <td>0.0</td>\n",
       "      <td>0.0</td>\n",
       "      <td>0.0</td>\n",
       "      <td>0.0</td>\n",
       "      <td>...</td>\n",
       "      <td>0.000000</td>\n",
       "      <td>0.0</td>\n",
       "      <td>0.0</td>\n",
       "      <td>0.0</td>\n",
       "      <td>0.0</td>\n",
       "      <td>0.0</td>\n",
       "      <td>0.0</td>\n",
       "      <td>0.0</td>\n",
       "      <td>3</td>\n",
       "      <td>C++</td>\n",
       "    </tr>\n",
       "    <tr>\n",
       "      <th>4</th>\n",
       "      <td>4</td>\n",
       "      <td>0.0</td>\n",
       "      <td>0.0</td>\n",
       "      <td>0.0</td>\n",
       "      <td>0.0</td>\n",
       "      <td>0.0</td>\n",
       "      <td>0.0</td>\n",
       "      <td>0.0</td>\n",
       "      <td>0.0</td>\n",
       "      <td>0.0</td>\n",
       "      <td>...</td>\n",
       "      <td>0.000000</td>\n",
       "      <td>0.0</td>\n",
       "      <td>0.0</td>\n",
       "      <td>0.0</td>\n",
       "      <td>0.0</td>\n",
       "      <td>0.0</td>\n",
       "      <td>0.0</td>\n",
       "      <td>0.0</td>\n",
       "      <td>4</td>\n",
       "      <td>Python</td>\n",
       "    </tr>\n",
       "  </tbody>\n",
       "</table></div>"
      ],
      "text/plain": [
       "   level_0   00  000  0000  000000  00005  000050001  0001  000126  000176  \\\n",
       "0        0  0.0  0.0   0.0     0.0    0.0        0.0   0.0     0.0     0.0   \n",
       "1        1  0.0  0.0   0.0     0.0    0.0        0.0   0.0     0.0     0.0   \n",
       "2        2  0.0  0.0   0.0     0.0    0.0        0.0   0.0     0.0     0.0   \n",
       "3        3  0.0  0.0   0.0     0.0    0.0        0.0   0.0     0.0     0.0   \n",
       "4        4  0.0  0.0   0.0     0.0    0.0        0.0   0.0     0.0     0.0   \n",
       "\n",
       "   ...      zoom  zoomed  zoorlcardmodels  zopehttpsgithubcomadzo261  zshenv  \\\n",
       "0  ...  0.077934     0.0              0.0                        0.0     0.0   \n",
       "1  ...  0.000000     0.0              0.0                        0.0     0.0   \n",
       "2  ...  0.000000     0.0              0.0                        0.0     0.0   \n",
       "3  ...  0.000000     0.0              0.0                        0.0     0.0   \n",
       "4  ...  0.000000     0.0              0.0                        0.0     0.0   \n",
       "\n",
       "   zubats  zune  zypper  index  programming_language_99  \n",
       "0     0.0   0.0     0.0      0                   Python  \n",
       "1     0.0   0.0     0.0      1                 Assembly  \n",
       "2     0.0   0.0     0.0      2                   Python  \n",
       "3     0.0   0.0     0.0      3                      C++  \n",
       "4     0.0   0.0     0.0      4                   Python  \n",
       "\n",
       "[5 rows x 14822 columns]"
      ]
     },
     "execution_count": 26,
     "metadata": {},
     "output_type": "execute_result"
    }
   ],
   "source": [
    "values =['ShaderLab', 'Pascal', 'Apex', 'Elm', 'Julia', 'F#', 'Kotlin', 'Shell', \n",
    "'CoffeeScript', 'Lua', 'Svelte', 'Roff', 'Vue', 'Dart']\n",
    "\n",
    "encoded_df = encoded_df[encoded_df.programming_language_99.isin(values) == False]\n",
    "encoded_df.head()\n"
   ]
  },
  {
   "cell_type": "code",
   "execution_count": 27,
   "metadata": {},
   "outputs": [
    {
     "data": {
      "text/html": [
       "<div><div id=0c9cb359-89c2-45c9-a5d6-30a17d06f09e style=\"display:none; background-color:#9D6CFF; color:white; width:200px; height:30px; padding-left:5px; border-radius:4px; flex-direction:row; justify-content:space-around; align-items:center;\" onmouseover=\"this.style.backgroundColor='#BA9BF8'\" onmouseout=\"this.style.backgroundColor='#9D6CFF'\" onclick=\"window.commands?.execute('create-mitosheet-from-dataframe-output');\">See Full Dataframe in Mito</div> <script> if (window.commands?.hasCommand('create-mitosheet-from-dataframe-output')) document.getElementById('0c9cb359-89c2-45c9-a5d6-30a17d06f09e').style.display = 'flex' </script> <table border=\"1\" class=\"dataframe\">\n",
       "  <thead>\n",
       "    <tr style=\"text-align: right;\">\n",
       "      <th></th>\n",
       "      <th>level_0</th>\n",
       "      <th>00</th>\n",
       "      <th>000</th>\n",
       "      <th>0000</th>\n",
       "      <th>000000</th>\n",
       "      <th>00005</th>\n",
       "      <th>000050001</th>\n",
       "      <th>0001</th>\n",
       "      <th>000126</th>\n",
       "      <th>000176</th>\n",
       "      <th>...</th>\n",
       "      <th>zoom</th>\n",
       "      <th>zoomed</th>\n",
       "      <th>zoorlcardmodels</th>\n",
       "      <th>zopehttpsgithubcomadzo261</th>\n",
       "      <th>zshenv</th>\n",
       "      <th>zubats</th>\n",
       "      <th>zune</th>\n",
       "      <th>zypper</th>\n",
       "      <th>index</th>\n",
       "      <th>programming_language_99</th>\n",
       "    </tr>\n",
       "  </thead>\n",
       "  <tbody>\n",
       "    <tr>\n",
       "      <th>311</th>\n",
       "      <td>311</td>\n",
       "      <td>0.0</td>\n",
       "      <td>0.0</td>\n",
       "      <td>0.0</td>\n",
       "      <td>0.0</td>\n",
       "      <td>0.0</td>\n",
       "      <td>0.0</td>\n",
       "      <td>0.0</td>\n",
       "      <td>0.0</td>\n",
       "      <td>0.0</td>\n",
       "      <td>...</td>\n",
       "      <td>0.0</td>\n",
       "      <td>0.0</td>\n",
       "      <td>0.0</td>\n",
       "      <td>0.0</td>\n",
       "      <td>0.0</td>\n",
       "      <td>0.0</td>\n",
       "      <td>0.0</td>\n",
       "      <td>0.0</td>\n",
       "      <td>327</td>\n",
       "      <td>JavaScript</td>\n",
       "    </tr>\n",
       "    <tr>\n",
       "      <th>112</th>\n",
       "      <td>112</td>\n",
       "      <td>0.0</td>\n",
       "      <td>0.0</td>\n",
       "      <td>0.0</td>\n",
       "      <td>0.0</td>\n",
       "      <td>0.0</td>\n",
       "      <td>0.0</td>\n",
       "      <td>0.0</td>\n",
       "      <td>0.0</td>\n",
       "      <td>0.0</td>\n",
       "      <td>...</td>\n",
       "      <td>0.0</td>\n",
       "      <td>0.0</td>\n",
       "      <td>0.0</td>\n",
       "      <td>0.0</td>\n",
       "      <td>0.0</td>\n",
       "      <td>0.0</td>\n",
       "      <td>0.0</td>\n",
       "      <td>0.0</td>\n",
       "      <td>119</td>\n",
       "      <td>TypeScript</td>\n",
       "    </tr>\n",
       "  </tbody>\n",
       "</table></div>"
      ],
      "text/plain": [
       "     level_0   00  000  0000  000000  00005  000050001  0001  000126  000176  \\\n",
       "311      311  0.0  0.0   0.0     0.0    0.0        0.0   0.0     0.0     0.0   \n",
       "112      112  0.0  0.0   0.0     0.0    0.0        0.0   0.0     0.0     0.0   \n",
       "\n",
       "     ...  zoom  zoomed  zoorlcardmodels  zopehttpsgithubcomadzo261  zshenv  \\\n",
       "311  ...   0.0     0.0              0.0                        0.0     0.0   \n",
       "112  ...   0.0     0.0              0.0                        0.0     0.0   \n",
       "\n",
       "     zubats  zune  zypper  index  programming_language_99  \n",
       "311     0.0   0.0     0.0    327               JavaScript  \n",
       "112     0.0   0.0     0.0    119               TypeScript  \n",
       "\n",
       "[2 rows x 14822 columns]"
      ]
     },
     "execution_count": 27,
     "metadata": {},
     "output_type": "execute_result"
    }
   ],
   "source": [
    "\n",
    "train, validate, test = acquire_df.train_validate_test_split(encoded_df, 'programming_language_99')\n",
    "train.head(2)"
   ]
  },
  {
   "cell_type": "code",
   "execution_count": 28,
   "metadata": {},
   "outputs": [],
   "source": [
    "\n",
    "X_train = train.drop(columns=['index', 'programming_language_99'])\n",
    "y_train = train.programming_language_99\n",
    "\n",
    "X_validate = validate.drop(columns=['index','programming_language_99'])\n",
    "y_validate = validate.programming_language_99\n",
    "\n",
    "X_test = test.drop(columns=['index', 'programming_language_99'])\n",
    "y_test = test.programming_language_99\n"
   ]
  },
  {
   "cell_type": "markdown",
   "metadata": {},
   "source": [
    "## Decision Tree Model"
   ]
  },
  {
   "cell_type": "code",
   "execution_count": 29,
   "metadata": {},
   "outputs": [
    {
     "data": {
      "text/html": [
       "<div><div id=c18c77df-7b4a-4acc-b902-064c012220fd style=\"display:none; background-color:#9D6CFF; color:white; width:200px; height:30px; padding-left:5px; border-radius:4px; flex-direction:row; justify-content:space-around; align-items:center;\" onmouseover=\"this.style.backgroundColor='#BA9BF8'\" onmouseout=\"this.style.backgroundColor='#9D6CFF'\" onclick=\"window.commands?.execute('create-mitosheet-from-dataframe-output');\">See Full Dataframe in Mito</div> <script> if (window.commands?.hasCommand('create-mitosheet-from-dataframe-output')) document.getElementById('c18c77df-7b4a-4acc-b902-064c012220fd').style.display = 'flex' </script> <table border=\"1\" class=\"dataframe\">\n",
       "  <thead>\n",
       "    <tr style=\"text-align: right;\">\n",
       "      <th></th>\n",
       "      <th>max_depth</th>\n",
       "      <th>training_accuracy</th>\n",
       "      <th>validate_accuracy</th>\n",
       "      <th>difference</th>\n",
       "    </tr>\n",
       "  </thead>\n",
       "  <tbody>\n",
       "    <tr>\n",
       "      <th>9</th>\n",
       "      <td>10</td>\n",
       "      <td>0.635193</td>\n",
       "      <td>0.425743</td>\n",
       "      <td>0.209451</td>\n",
       "    </tr>\n",
       "    <tr>\n",
       "      <th>8</th>\n",
       "      <td>9</td>\n",
       "      <td>0.613734</td>\n",
       "      <td>0.415842</td>\n",
       "      <td>0.197892</td>\n",
       "    </tr>\n",
       "    <tr>\n",
       "      <th>4</th>\n",
       "      <td>5</td>\n",
       "      <td>0.527897</td>\n",
       "      <td>0.396040</td>\n",
       "      <td>0.131857</td>\n",
       "    </tr>\n",
       "  </tbody>\n",
       "</table></div>"
      ],
      "text/plain": [
       "   max_depth  training_accuracy  validate_accuracy  difference\n",
       "9         10           0.635193           0.425743    0.209451\n",
       "8          9           0.613734           0.415842    0.197892\n",
       "4          5           0.527897           0.396040    0.131857"
      ]
     },
     "execution_count": 29,
     "metadata": {},
     "output_type": "execute_result"
    }
   ],
   "source": [
    "# create an empty list to store the dictionaries\n",
    "max_depth_list = []\n",
    "reports = []\n",
    "\n",
    "# write the for loop to sequentially loop through the values for i,\n",
    "# setting i as the value, or inverse value, for \n",
    "for i in range(1, 11):\n",
    "        # create the decision tree object with desired hyper-parameters:\n",
    "        clf = DecisionTreeClassifier(max_depth=i)\n",
    "    \n",
    "        # fit the decision tree to the training data:\n",
    "        clf = clf.fit(X_train, y_train)\n",
    "    \n",
    "        #make predictions:\n",
    "        language_prediction = pd.DataFrame(clf.predict(X_train))\n",
    "        \n",
    "        # Predict probability\n",
    "        language_prediction_proba = pd.DataFrame(clf.predict_proba(X_train))\n",
    "        \n",
    "        # compute the estimate accuracy\n",
    "        train_set_accuracy = clf.score(X_train, y_train)\n",
    "    \n",
    "        #evaluate on out-of-sample-date\n",
    "        validate_set_accuracy = clf.score(X_validate, y_validate)\n",
    "    \n",
    "        max_depth_list.append({\n",
    "                            'max_depth': i,\n",
    "                            'training_accuracy': train_set_accuracy,\n",
    "                            'validate_accuracy': validate_set_accuracy\n",
    "                                    })\n",
    "df = pd.DataFrame(max_depth_list)\n",
    "df['difference'] = (df.training_accuracy - df.validate_accuracy)\n",
    "df.sort_values(['validate_accuracy','difference'], ascending=[False, True]).head(3)\n"
   ]
  },
  {
   "cell_type": "code",
   "execution_count": 30,
   "metadata": {},
   "outputs": [
    {
     "data": {
      "text/plain": [
       "<Figure size 864x648 with 0 Axes>"
      ]
     },
     "metadata": {},
     "output_type": "display_data"
    },
    {
     "data": {
      "image/png": "[encoded data removed]",
      "text/plain": [
       "<Figure size 432x288 with 1 Axes>"
      ]
     },
     "metadata": {},
     "output_type": "display_data"
    }
   ],
   "source": [
    "# I selected model #1 because it had the lowest train/val difference of the top 3 performing DTC classifiers\n",
    "plt.figure(figsize=(12, 9))\n",
    "sns.set(font_scale = 1.3)\n",
    "df[['training_accuracy', 'validate_accuracy', 'difference' ]].plot()\n",
    "plt.ylabel(\"accuracy\")\n",
    "plt.xlabel(\"model number\")\n",
    "plt.vlines(x=[1], ymin=0, ymax=1, colors='r', linestyles='dashed')\n",
    "plt.show()"
   ]
  },
  {
   "cell_type": "markdown",
   "metadata": {},
   "source": [
    "## Random Forest Classifier"
   ]
  },
  {
   "cell_type": "code",
   "execution_count": 31,
   "id": "48382a25",
   "metadata": {},
   "outputs": [],
   "source": [
    "# create an empty list to store the dictionaries\n",
    "max_depth_and_leaf_samples_list = []\n",
    "# write the for loop to sequentially loop through the values for i,\n",
    "# setting i as the value, or inverse value, for \n",
    "for i in range(1, 16):\n",
    "    for j in range(1, 16):\n",
    "        # create the random forest object with desired hyper-parameters:\n",
    "        rf = RandomForestClassifier(max_depth=i, min_samples_leaf=j)\n",
    "        # fit the random forest to the training data:\n",
    "        rf.fit(X_train, y_train)\n",
    "        # Evaluate importance, or weight, of each feature.\n",
    "        rf.feature_importances_\n",
    "        # Classify each passenger by its estimated survival.\n",
    "        y_pred = rf.predict(X_train)\n",
    "        # Estimate the probability of survival, using the training data.\n",
    "        y_pred_proba = rf.predict_proba(X_train)\n",
    "        # compute the estimate accuracy\n",
    "        train_set_accuracy = rf.score(X_train, y_train)\n",
    "        #evaluate on out-of-sample-date\n",
    "        validate_set_accuracy = rf.score(X_validate, y_validate)\n",
    "        max_depth_and_leaf_samples_list.append({\n",
    "                            'max_depth': i,\n",
    "                            'min_samples_leaf': j,\n",
    "                            'training_accuracy': train_set_accuracy,\n",
    "                            'validate_accuracy': validate_set_accuracy,\n",
    "                            'difference': (train_set_accuracy - validate_set_accuracy)\n",
    "                                    })"
   ]
  },
  {
   "cell_type": "code",
   "execution_count": 32,
   "id": "cf2d0180",
   "metadata": {},
   "outputs": [
    {
     "data": {
      "text/html": [
       "<div><div id=00c19456-85c8-4a52-86eb-f3c3bcea8046 style=\"display:none; background-color:#9D6CFF; color:white; width:200px; height:30px; padding-left:5px; border-radius:4px; flex-direction:row; justify-content:space-around; align-items:center;\" onmouseover=\"this.style.backgroundColor='#BA9BF8'\" onmouseout=\"this.style.backgroundColor='#9D6CFF'\" onclick=\"window.commands?.execute('create-mitosheet-from-dataframe-output');\">See Full Dataframe in Mito</div> <script> if (window.commands?.hasCommand('create-mitosheet-from-dataframe-output')) document.getElementById('00c19456-85c8-4a52-86eb-f3c3bcea8046').style.display = 'flex' </script> <table border=\"1\" class=\"dataframe\">\n",
       "  <thead>\n",
       "    <tr style=\"text-align: right;\">\n",
       "      <th></th>\n",
       "      <th>max_depth</th>\n",
       "      <th>min_samples_leaf</th>\n",
       "      <th>training_accuracy</th>\n",
       "      <th>validate_accuracy</th>\n",
       "      <th>difference</th>\n",
       "    </tr>\n",
       "  </thead>\n",
       "  <tbody>\n",
       "    <tr>\n",
       "      <th>213</th>\n",
       "      <td>15</td>\n",
       "      <td>4</td>\n",
       "      <td>0.506438</td>\n",
       "      <td>0.386139</td>\n",
       "      <td>0.120299</td>\n",
       "    </tr>\n",
       "    <tr>\n",
       "      <th>211</th>\n",
       "      <td>15</td>\n",
       "      <td>2</td>\n",
       "      <td>0.665236</td>\n",
       "      <td>0.386139</td>\n",
       "      <td>0.279097</td>\n",
       "    </tr>\n",
       "    <tr>\n",
       "      <th>137</th>\n",
       "      <td>10</td>\n",
       "      <td>3</td>\n",
       "      <td>0.523605</td>\n",
       "      <td>0.376238</td>\n",
       "      <td>0.147368</td>\n",
       "    </tr>\n",
       "  </tbody>\n",
       "</table></div>"
      ],
      "text/plain": [
       "     max_depth  min_samples_leaf  training_accuracy  validate_accuracy  \\\n",
       "213         15                 4           0.506438           0.386139   \n",
       "211         15                 2           0.665236           0.386139   \n",
       "137         10                 3           0.523605           0.376238   \n",
       "\n",
       "     difference  \n",
       "213    0.120299  \n",
       "211    0.279097  \n",
       "137    0.147368  "
      ]
     },
     "execution_count": 32,
     "metadata": {},
     "output_type": "execute_result"
    }
   ],
   "source": [
    "df = pd.DataFrame(max_depth_and_leaf_samples_list)\n",
    "df.sort_values(['validate_accuracy', 'difference'], ascending = [False, True]).head(3)"
   ]
  },
  {
   "cell_type": "code",
   "execution_count": 33,
   "id": "4ff6967c",
   "metadata": {},
   "outputs": [
    {
     "data": {
      "text/plain": [
       "<Figure size 1080x720 with 0 Axes>"
      ]
     },
     "metadata": {},
     "output_type": "display_data"
    },
    {
     "data": {
      "image/png": "[encoded data removed]",
      "text/plain": [
       "<Figure size 432x288 with 1 Axes>"
      ]
     },
     "metadata": {},
     "output_type": "display_data"
    }
   ],
   "source": [
    "# I selected model #163 because it had the lowest train/val difference of the top 3 performing RFM classifiers\n",
    "plt.figure(figsize=(15, 10))\n",
    "sns.set(font_scale = 1.3)\n",
    "df[['training_accuracy', 'validate_accuracy', 'difference' ]].plot()\n",
    "plt.title(\"Random Forest Model Accuracies\")\n",
    "plt.ylabel(\"accuracy\")\n",
    "plt.xlabel(\"model number\")\n",
    "plt.vlines(x=[163], ymin=0, ymax=1, colors='r', linestyles='dashed')\n",
    "plt.show()"
   ]
  },
  {
   "cell_type": "markdown",
   "id": "023a0089",
   "metadata": {},
   "source": [
    "<div class=\"alert alert-block alert-success\"> \n",
    "    <b>Note</b>: I selected model #163 because it had the lowest train/val difference of the top 3 performing RFM classifiers.\n",
    "</div>"
   ]
  },
  {
   "cell_type": "markdown",
   "id": "5b1baece",
   "metadata": {},
   "source": [
    "## 3. Logistic Regression Classifier "
   ]
  },
  {
   "cell_type": "markdown",
   "id": "7c236054",
   "metadata": {},
   "source": [
    "### A. Fit the model and loop through C-values"
   ]
  },
  {
   "cell_type": "code",
   "execution_count": 1,
   "id": "22b58937",
   "metadata": {},
   "outputs": [
    {
     "ename": "NameError",
     "evalue": "name 'LogisticRegression' is not defined",
     "output_type": "error",
     "traceback": [
      "\u001b[0;31m---------------------------------------------------------------------------\u001b[0m",
      "\u001b[0;31mNameError\u001b[0m                                 Traceback (most recent call last)",
      "\u001b[0;32m/var/folders/3n/86q7c8d16r51w8vg4g5kwq280000gn/T/ipykernel_3136/3486577165.py\u001b[0m in \u001b[0;36m<module>\u001b[0;34m\u001b[0m\n\u001b[1;32m      2\u001b[0m \u001b[0mi\u001b[0m \u001b[0;34m=\u001b[0m \u001b[0;36m1\u001b[0m\u001b[0;34m\u001b[0m\u001b[0;34m\u001b[0m\u001b[0m\n\u001b[1;32m      3\u001b[0m \u001b[0;31m# from sklearn.linear_model import LogisticRegression\u001b[0m\u001b[0;34m\u001b[0m\u001b[0;34m\u001b[0m\u001b[0m\n\u001b[0;32m----> 4\u001b[0;31m \u001b[0mlogit\u001b[0m \u001b[0;34m=\u001b[0m \u001b[0mLogisticRegression\u001b[0m\u001b[0;34m(\u001b[0m\u001b[0mC\u001b[0m\u001b[0;34m=\u001b[0m\u001b[0mi\u001b[0m\u001b[0;34m,\u001b[0m \u001b[0mrandom_state\u001b[0m\u001b[0;34m=\u001b[0m\u001b[0;36m123\u001b[0m\u001b[0;34m,\u001b[0m \u001b[0mintercept_scaling\u001b[0m\u001b[0;34m=\u001b[0m\u001b[0;36m1\u001b[0m\u001b[0;34m,\u001b[0m \u001b[0msolver\u001b[0m\u001b[0;34m=\u001b[0m\u001b[0;34m'lbfgs'\u001b[0m\u001b[0;34m)\u001b[0m\u001b[0;34m\u001b[0m\u001b[0;34m\u001b[0m\u001b[0m\n\u001b[0m\u001b[1;32m      5\u001b[0m \u001b[0;31m# Fit the Logistic Regression model\u001b[0m\u001b[0;34m\u001b[0m\u001b[0;34m\u001b[0m\u001b[0m\n\u001b[1;32m      6\u001b[0m \u001b[0mlogit\u001b[0m\u001b[0;34m.\u001b[0m\u001b[0mfit\u001b[0m\u001b[0;34m(\u001b[0m\u001b[0mX_train\u001b[0m\u001b[0;34m,\u001b[0m \u001b[0my_train\u001b[0m\u001b[0;34m)\u001b[0m\u001b[0;34m\u001b[0m\u001b[0;34m\u001b[0m\u001b[0m\n",
      "\u001b[0;31mNameError\u001b[0m: name 'LogisticRegression' is not defined"
     ]
    }
   ],
   "source": [
    "log_regress_outputs = []\n",
    "i = 1\n",
    "# from sklearn.linear_model import LogisticRegression\n",
    "logit = LogisticRegression(C=i, random_state=123, intercept_scaling=1, solver='lbfgs')\n",
    "# Fit the Logistic Regression model\n",
    "logit.fit(X_train, y_train)\n",
    "# Get the predictions from the Logistic Regression Model\n",
    "y_pred = logit.predict(X_train)\n",
    "y_pred_proba = logit.predict_proba(X_train)\n",
    "# compute the estimate accuracy\n",
    "train_set_accuracy = logit.score(X_train, y_train)\n",
    "#evaluate on out-of-sample-data\n",
    "validate_set_accuracy = logit.score(X_validate, y_validate)\n",
    "log_regress_outputs.append({\n",
    "                            'c_values': i,\n",
    "                            'training_accuracy': train_set_accuracy,\n",
    "                            'validate_accuracy': validate_set_accuracy,\n",
    "                            'train_val_diff': (train_set_accuracy - validate_set_accuracy)\n",
    "                                })"
   ]
  },
  {
   "cell_type": "code",
   "execution_count": null,
   "id": "b932cf14",
   "metadata": {},
   "outputs": [
    {
     "data": {
      "text/html": [
       "<div><div id=adb69545-af9b-4aa4-9c07-38619b797e01 style=\"display:none; background-color:#9D6CFF; color:white; width:200px; height:30px; padding-left:5px; border-radius:4px; flex-direction:row; justify-content:space-around; align-items:center;\" onmouseover=\"this.style.backgroundColor='#BA9BF8'\" onmouseout=\"this.style.backgroundColor='#9D6CFF'\" onclick=\"window.commands?.execute('create-mitosheet-from-dataframe-output');\">See Full Dataframe in Mito</div> <script> if (window.commands?.hasCommand('create-mitosheet-from-dataframe-output')) document.getElementById('adb69545-af9b-4aa4-9c07-38619b797e01').style.display = 'flex' </script> <table border=\"1\" class=\"dataframe\">\n",
       "  <thead>\n",
       "    <tr style=\"text-align: right;\">\n",
       "      <th></th>\n",
       "      <th>c_values</th>\n",
       "      <th>training_accuracy</th>\n",
       "      <th>validate_accuracy</th>\n",
       "      <th>train_val_diff</th>\n",
       "    </tr>\n",
       "  </thead>\n",
       "  <tbody>\n",
       "    <tr>\n",
       "      <th>0</th>\n",
       "      <td>1</td>\n",
       "      <td>0.339056</td>\n",
       "      <td>0.267327</td>\n",
       "      <td>0.071729</td>\n",
       "    </tr>\n",
       "  </tbody>\n",
       "</table></div>"
      ],
      "text/plain": [
       "   c_values  training_accuracy  validate_accuracy  train_val_diff\n",
       "0         1           0.339056           0.267327        0.071729"
      ]
     },
     "execution_count": 35,
     "metadata": {},
     "output_type": "execute_result"
    }
   ],
   "source": [
    "df_log_regress = pd.DataFrame(log_regress_outputs)\n",
    "df_log_regress.sort_values(['validate_accuracy', 'train_val_diff'], ascending = [False, True]).head(3)"
   ]
  },
  {
   "cell_type": "markdown",
   "metadata": {},
   "source": [
    "## Takeaway:\n",
    "- the best perfoming classifier was a Decision Tree Classifier with a max depth value of 9\n",
    "- however, the most robust DTC model was max depth 5, with a train/val difference of 13%, vs the higher performing model's 18.7% train/val difference.\n",
    "- Due to the higher reliability predicting performance on the out-of-sample validation data, I'm going to deploy the more robust DTC model with max depth 5 on the test data, for the final prediction\n",
    "- The final DTC model performed with a prediction accuracy of 40% on test data, higher than initial performance on validate data. While this is a generally good indicator, more refinement is needed on this model before I can recommend it for deployment as a predictive."
   ]
  },
  {
   "cell_type": "markdown",
   "metadata": {},
   "source": [
    "Poker Face:\n",
    "Predicting Programming Language from READMEs on GitHub Repos"
   ]
  },
  {
   "cell_type": "code",
   "execution_count": null,
   "metadata": {},
   "outputs": [
    {
     "data": {
      "text/html": [
       "<div><div id=01aeb7df-8ebe-47db-8fb1-74248bf6c00f style=\"display:none; background-color:#9D6CFF; color:white; width:200px; height:30px; padding-left:5px; border-radius:4px; flex-direction:row; justify-content:space-around; align-items:center;\" onmouseover=\"this.style.backgroundColor='#BA9BF8'\" onmouseout=\"this.style.backgroundColor='#9D6CFF'\" onclick=\"window.commands?.execute('create-mitosheet-from-dataframe-output');\">See Full Dataframe in Mito</div> <script> if (window.commands?.hasCommand('create-mitosheet-from-dataframe-output')) document.getElementById('01aeb7df-8ebe-47db-8fb1-74248bf6c00f').style.display = 'flex' </script> <table border=\"1\" class=\"dataframe\">\n",
       "  <thead>\n",
       "    <tr style=\"text-align: right;\">\n",
       "      <th></th>\n",
       "      <th>max_depth</th>\n",
       "      <th>training_accuracy</th>\n",
       "      <th>validate_accuracy</th>\n",
       "      <th>test_accuracy</th>\n",
       "      <th>train_difference</th>\n",
       "      <th>test_difference</th>\n",
       "    </tr>\n",
       "  </thead>\n",
       "  <tbody>\n",
       "    <tr>\n",
       "      <th>0</th>\n",
       "      <td>5</td>\n",
       "      <td>0.527897</td>\n",
       "      <td>0.39604</td>\n",
       "      <td>0.404762</td>\n",
       "      <td>0.131857</td>\n",
       "      <td>-0.008722</td>\n",
       "    </tr>\n",
       "  </tbody>\n",
       "</table></div>"
      ],
      "text/plain": [
       "   max_depth  training_accuracy  validate_accuracy  test_accuracy  \\\n",
       "0          5           0.527897            0.39604       0.404762   \n",
       "\n",
       "   train_difference  test_difference  \n",
       "0          0.131857        -0.008722  "
      ]
     },
     "execution_count": 36,
     "metadata": {},
     "output_type": "execute_result"
    }
   ],
   "source": [
    "# create an empty list to store the dictionaries\n",
    "max_depth_list = []\n",
    "reports = []\n",
    "i = 5\n",
    "# write the for loop to sequentially loop through the values for i,\n",
    "# setting i as the value, or inverse value, for \n",
    "        # create the decision tree object with desired hyper-parameters:\n",
    "clf = DecisionTreeClassifier(max_depth=i)\n",
    "\n",
    "# fit the decision tree to the training data:\n",
    "clf = clf.fit(X_train, y_train)\n",
    "\n",
    "#make predictions:\n",
    "language_prediction = pd.DataFrame(clf.predict(X_train))\n",
    "\n",
    "# Predict probability\n",
    "language_prediction_proba = pd.DataFrame(clf.predict_proba(X_train))\n",
    "\n",
    "# compute the estimate accuracy\n",
    "train_set_accuracy = clf.score(X_train, y_train)\n",
    "\n",
    "#evaluate on out-of-sample-date\n",
    "validate_set_accuracy = clf.score(X_validate, y_validate)\n",
    "\n",
    "#evaluate on out-of-sample-date\n",
    "test_set_accuracy = clf.score(X_test, y_test)\n",
    "\n",
    "max_depth_list.append({\n",
    "                        'max_depth': i,\n",
    "                        'training_accuracy': train_set_accuracy,\n",
    "                        'validate_accuracy': validate_set_accuracy,\n",
    "                        'test_accuracy': test_set_accuracy\n",
    "                                })\n",
    "df = pd.DataFrame(max_depth_list)\n",
    "df['train_difference'] = (df.training_accuracy - df.validate_accuracy)\n",
    "df['test_difference'] = (df.validate_accuracy - df.test_accuracy)\n",
    "df"
   ]
  },
  {
   "cell_type": "code",
   "execution_count": null,
   "metadata": {},
   "outputs": [],
   "source": []
  }
 ],
 "metadata": {
  "kernelspec": {
   "display_name": "Python 3 (ipykernel)",
   "language": "python",
   "name": "python3"
  },
  "language_info": {
   "codemirror_mode": {
    "name": "ipython",
    "version": 3
   },
   "file_extension": ".py",
   "mimetype": "text/x-python",
   "name": "python",
   "nbconvert_exporter": "python",
   "pygments_lexer": "ipython3",
   "version": "3.9.7"
  },
  "vscode": {
   "interpreter": {
    "hash": "38cca0c38332a56087b24af0bc80247f4fced29cb4f7f437d91dc159adec9c4e"
   }
  }
 },
 "nbformat": 4,
 "nbformat_minor": 2
}

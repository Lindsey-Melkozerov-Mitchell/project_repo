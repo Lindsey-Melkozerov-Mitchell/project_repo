{
 "cells": [
  {
   "cell_type": "markdown",
   "id": "367dd30e",
   "metadata": {},
   "source": [
    "<h1> Poker Face: </h1>\n",
    "<hr>\n",
    "<h2>Predicting Programming Languages from Poker GitHub REPOs<h2/>\n",
    "<h4>David Mitchell, Vasiliy Melkozerov, Fred Lidnsey<h4/>\n",
    "<hr style=\"border-top: 10px groove blue; margin-top: 1px; margin-bottom: 1px\">"
   ]
  },
  {
   "cell_type": "markdown",
   "id": "97c406c8",
   "metadata": {},
   "source": [
    "## Project Outline\n",
    "<hr style=\"border-top: 10px groove blue; margin-top: 1px; margin-bottom: 1px\">"
   ]
  },
  {
   "cell_type": "markdown",
   "id": "0a991dae",
   "metadata": {},
   "source": [
    "### 1. Acquire, prepare and data from scraping GitHub's API.\n",
    "\n",
    "- Scrape 500 poker themed repositories from GitHub to annalyze the README for programming language\n",
    "- Split into train, validate, test sets.\n",
    "- create an encoded data set for modeling.\n",
    "<br>\n",
    "        \n",
    "### 2. Modeling:\n",
    "\n",
    "- produce a predictive classification model to predict the dominant programming language from a GitHub README file\n",
    "- Run the highest performing model on the test data\n",
    "    \n",
    "### 3. Recommendations:\n",
    "\n",
    "- recommendations for improving model accuracy"
   ]
  },
  {
   "cell_type": "markdown",
   "id": "e924890c",
   "metadata": {},
   "source": [
    "## EXSUM and The Big Picture: \n",
    "<hr style=\"border-top: 10px groove blue; margin-top: 1px; margin-bottom: 1px\">"
   ]
  },
  {
   "cell_type": "markdown",
   "id": "3f55d90a",
   "metadata": {},
   "source": [
    "<h3> Takeaways </h3>\n",
    "<hr style=\"border-top: 5px groove limegreen; margin-top: 1px; margin-bottom: 1px\">\n",
    "<h4> 1. The best perfoming classifier was a Decision Tree Classifier with a max depth value of 9 </h4>\n",
    "    \n",
    "<h4> 2. However the most robust DTC model was max depth 5, with a train/val difference of 13%, vs the higher performing model's 18.7% train/val difference.</h4>\n",
    "    \n",
    "<h4>3. The final DTC model performed with a prediction accuracy of 40% on test data </h4>\n",
    " This is higher than initial performance on validate data. While this is a generally good indicator, more refinement is needed on this model before I can recommend it for deployment as a predictive."
   ]
  },
  {
   "cell_type": "markdown",
   "id": "01935b6d",
   "metadata": {},
   "source": [
    "## 1. Acquire/Prep/Clean/Split \n",
    "<hr style=\"border-top: 10px groove blue; margin-top: 1px; margin-bottom: 1px\">"
   ]
  },
  {
   "cell_type": "code",
   "execution_count": 1,
   "metadata": {},
   "outputs": [
    {
     "name": "stdout",
     "output_type": "stream",
     "text": [
      "<class 'pandas.core.frame.DataFrame'>\n",
      "RangeIndex: 500 entries, 0 to 499\n",
      "Data columns (total 3 columns):\n",
      " #   Column           Non-Null Count  Dtype \n",
      "---  ------           --------------  ----- \n",
      " 0   repo             500 non-null    object\n",
      " 1   language         481 non-null    object\n",
      " 2   readme_contents  500 non-null    object\n",
      "dtypes: object(3)\n",
      "memory usage: 11.8+ KB\n"
     ]
    }
   ],
   "source": [
    "import util\n",
    "df = util.get_NLP_df()\n",
    "df.info()"
   ]
  },
  {
   "cell_type": "code",
   "execution_count": 2,
   "metadata": {},
   "outputs": [
    {
     "name": "stdout",
     "output_type": "stream",
     "text": [
      "<class 'pandas.core.frame.DataFrame'>\n",
      "Int64Index: 440 entries, 0 to 439\n",
      "Data columns (total 7 columns):\n",
      " #   Column           Non-Null Count  Dtype \n",
      "---  ------           --------------  ----- \n",
      " 0   index            440 non-null    int64 \n",
      " 1   repo             440 non-null    object\n",
      " 2   language         440 non-null    object\n",
      " 3   readme_contents  440 non-null    object\n",
      " 4   content          440 non-null    object\n",
      " 5   stemmed_content  440 non-null    object\n",
      " 6   lemmed_content   440 non-null    object\n",
      "dtypes: int64(1), object(6)\n",
      "memory usage: 27.5+ KB\n"
     ]
    }
   ],
   "source": [
    "df = util.get_labeled_df()\n",
    "df.info()"
   ]
  },
  {
   "cell_type": "code",
   "execution_count": 3,
   "metadata": {},
   "outputs": [
    {
     "name": "stdout",
     "output_type": "stream",
     "text": [
      "<class 'pandas.core.frame.DataFrame'>\n",
      "Int64Index: 418 entries, 0 to 439\n",
      "Data columns (total 7 columns):\n",
      " #   Column           Non-Null Count  Dtype \n",
      "---  ------           --------------  ----- \n",
      " 0   index            418 non-null    int64 \n",
      " 1   repo             418 non-null    object\n",
      " 2   language         418 non-null    object\n",
      " 3   readme_contents  418 non-null    object\n",
      " 4   content          418 non-null    object\n",
      " 5   stemmed_content  418 non-null    object\n",
      " 6   lemmed_content   418 non-null    object\n",
      "dtypes: int64(1), object(6)\n",
      "memory usage: 26.1+ KB\n"
     ]
    }
   ],
   "source": [
    "df = util.remove_under_represented_values()\n",
    "df.info()"
   ]
  },
  {
   "cell_type": "markdown",
   "id": "3ef80994",
   "metadata": {},
   "source": [
    "### Notes on Data Acquisition:\n",
    "\n",
    "    1. Initially acquired 500 READMEs\n",
    "    2. After removing duplicates the number was 440\n",
    "    3. After removing under represented values to accomodate the train/test split, the total number of values was reduced to 418."
   ]
  },
  {
   "cell_type": "markdown",
   "id": "8b911f53",
   "metadata": {},
   "source": [
    "<h1>2. Modeling</h1>\n",
    "<hr style=\"border-top: 10px groove blue; margin-top: 1px; margin-bottom: 1px\">"
   ]
  },
  {
   "cell_type": "markdown",
   "id": "7003fa28",
   "metadata": {},
   "source": [
    "1. Decision Tree Model\n",
    "2. Random Forest Model\n",
    "3. Logistic Regression Model"
   ]
  },
  {
   "cell_type": "code",
   "execution_count": 4,
   "metadata": {},
   "outputs": [
    {
     "name": "stdout",
     "output_type": "stream",
     "text": [
      "233 101 84\n"
     ]
    }
   ],
   "source": [
    "train, validate, test = util.split_and_vectorize(df)"
   ]
  },
  {
   "cell_type": "code",
   "execution_count": 5,
   "metadata": {},
   "outputs": [],
   "source": [
    "X_train, y_train, X_validate, y_validate, X_test, y_test = util.build_X_and_y(train, validate, test)"
   ]
  },
  {
   "cell_type": "markdown",
   "id": "29db6242",
   "metadata": {},
   "source": [
    "## 1. Decision  Tree Model"
   ]
  },
  {
   "cell_type": "code",
   "execution_count": 6,
   "metadata": {},
   "outputs": [
    {
     "data": {
      "text/html": [
       "<div><div id=238bb52a-91b8-49f1-a585-8b4a7b540c40 style=\"display:none; background-color:#9D6CFF; color:white; width:200px; height:30px; padding-left:5px; border-radius:4px; flex-direction:row; justify-content:space-around; align-items:center;\" onmouseover=\"this.style.backgroundColor='#BA9BF8'\" onmouseout=\"this.style.backgroundColor='#9D6CFF'\" onclick=\"window.commands?.execute('create-mitosheet-from-dataframe-output');\">See Full Dataframe in Mito</div> <script> if (window.commands?.hasCommand('create-mitosheet-from-dataframe-output')) document.getElementById('238bb52a-91b8-49f1-a585-8b4a7b540c40').style.display = 'flex' </script> <table border=\"1\" class=\"dataframe\">\n",
       "  <thead>\n",
       "    <tr style=\"text-align: right;\">\n",
       "      <th></th>\n",
       "      <th>max_depth</th>\n",
       "      <th>training_accuracy</th>\n",
       "      <th>validate_accuracy</th>\n",
       "      <th>difference</th>\n",
       "    </tr>\n",
       "  </thead>\n",
       "  <tbody>\n",
       "    <tr>\n",
       "      <th>9</th>\n",
       "      <td>10</td>\n",
       "      <td>0.635193</td>\n",
       "      <td>0.435644</td>\n",
       "      <td>0.199550</td>\n",
       "    </tr>\n",
       "    <tr>\n",
       "      <th>8</th>\n",
       "      <td>9</td>\n",
       "      <td>0.613734</td>\n",
       "      <td>0.425743</td>\n",
       "      <td>0.187991</td>\n",
       "    </tr>\n",
       "    <tr>\n",
       "      <th>6</th>\n",
       "      <td>7</td>\n",
       "      <td>0.579399</td>\n",
       "      <td>0.405941</td>\n",
       "      <td>0.173459</td>\n",
       "    </tr>\n",
       "  </tbody>\n",
       "</table></div>"
      ],
      "text/plain": [
       "   max_depth  training_accuracy  validate_accuracy  difference\n",
       "9         10           0.635193           0.435644    0.199550\n",
       "8          9           0.613734           0.425743    0.187991\n",
       "6          7           0.579399           0.405941    0.173459"
      ]
     },
     "execution_count": 6,
     "metadata": {},
     "output_type": "execute_result"
    }
   ],
   "source": [
    "df = util.DTC_model_and_df(X_train, y_train, X_validate, y_validate)\n",
    "df.head(3)"
   ]
  },
  {
   "cell_type": "code",
   "execution_count": 7,
   "metadata": {},
   "outputs": [
    {
     "data": {
      "text/plain": [
       "<Figure size 864x648 with 0 Axes>"
      ]
     },
     "metadata": {},
     "output_type": "display_data"
    },
    {
     "data": {
      "image/png": "[encoded data removed]",
      "text/plain": [
       "<Figure size 432x288 with 1 Axes>"
      ]
     },
     "metadata": {},
     "output_type": "display_data"
    }
   ],
   "source": [
    "util.visualize_DTC(df)"
   ]
  },
  {
   "cell_type": "markdown",
   "id": "09484f93",
   "metadata": {},
   "source": [
    "<div class=\"alert alert-block alert-success\"> \n",
    " <b>Note</b>: I selected model #9, max depth of 10, because it had the lowest train/val difference of the top 3 performing DTC classifiers\n",
    "</div>"
   ]
  },
  {
   "cell_type": "markdown",
   "id": "96996e43",
   "metadata": {},
   "source": [
    "## 2. Random Forest Classifier "
   ]
  },
  {
   "cell_type": "code",
   "execution_count": 8,
   "metadata": {},
   "outputs": [
    {
     "data": {
      "text/html": [
       "<div><div id=8f7a7593-898f-43bf-a759-a9dd7b26c794 style=\"display:none; background-color:#9D6CFF; color:white; width:200px; height:30px; padding-left:5px; border-radius:4px; flex-direction:row; justify-content:space-around; align-items:center;\" onmouseover=\"this.style.backgroundColor='#BA9BF8'\" onmouseout=\"this.style.backgroundColor='#9D6CFF'\" onclick=\"window.commands?.execute('create-mitosheet-from-dataframe-output');\">See Full Dataframe in Mito</div> <script> if (window.commands?.hasCommand('create-mitosheet-from-dataframe-output')) document.getElementById('8f7a7593-898f-43bf-a759-a9dd7b26c794').style.display = 'flex' </script> <table border=\"1\" class=\"dataframe\">\n",
       "  <thead>\n",
       "    <tr style=\"text-align: right;\">\n",
       "      <th></th>\n",
       "      <th>max_depth</th>\n",
       "      <th>min_samples_leaf</th>\n",
       "      <th>training_accuracy</th>\n",
       "      <th>validate_accuracy</th>\n",
       "      <th>difference</th>\n",
       "    </tr>\n",
       "  </thead>\n",
       "  <tbody>\n",
       "    <tr>\n",
       "      <th>210</th>\n",
       "      <td>15</td>\n",
       "      <td>1</td>\n",
       "      <td>0.776824</td>\n",
       "      <td>0.396040</td>\n",
       "      <td>0.380784</td>\n",
       "    </tr>\n",
       "    <tr>\n",
       "      <th>181</th>\n",
       "      <td>13</td>\n",
       "      <td>2</td>\n",
       "      <td>0.643777</td>\n",
       "      <td>0.386139</td>\n",
       "      <td>0.257638</td>\n",
       "    </tr>\n",
       "    <tr>\n",
       "      <th>196</th>\n",
       "      <td>14</td>\n",
       "      <td>2</td>\n",
       "      <td>0.652361</td>\n",
       "      <td>0.386139</td>\n",
       "      <td>0.266222</td>\n",
       "    </tr>\n",
       "  </tbody>\n",
       "</table></div>"
      ],
      "text/plain": [
       "     max_depth  min_samples_leaf  training_accuracy  validate_accuracy  \\\n",
       "210         15                 1           0.776824           0.396040   \n",
       "181         13                 2           0.643777           0.386139   \n",
       "196         14                 2           0.652361           0.386139   \n",
       "\n",
       "     difference  \n",
       "210    0.380784  \n",
       "181    0.257638  \n",
       "196    0.266222  "
      ]
     },
     "execution_count": 8,
     "metadata": {},
     "output_type": "execute_result"
    }
   ],
   "source": [
    "df = util.RFC_model_and_df(X_train, y_train, X_validate, y_validate)\n",
    "df.head(3)"
   ]
  },
  {
   "cell_type": "code",
   "execution_count": 9,
   "metadata": {},
   "outputs": [
    {
     "data": {
      "text/plain": [
       "<Figure size 1080x720 with 0 Axes>"
      ]
     },
     "metadata": {},
     "output_type": "display_data"
    },
    {
     "data": {
      "image/png": "[encoded data removed]",
      "text/plain": [
       "<Figure size 432x288 with 1 Axes>"
      ]
     },
     "metadata": {},
     "output_type": "display_data"
    }
   ],
   "source": [
    "util.visualze_RFC(df)"
   ]
  },
  {
   "cell_type": "markdown",
   "id": "f21be7fc",
   "metadata": {},
   "source": [
    "<div class=\"alert alert-block alert-warning\"> \n",
    "    <b>Random Forest Classifier Takeaways:</b>\n",
    "1. the best performing model had the following features:\n",
    "    <br>\n",
    "    a. max depth of 15\n",
    "    <br>\n",
    "    b. min_samples_leaf of 2\n",
    "    <br>\n",
    "    c. predictive classification accuracy of <b>39.6%</b> on validate (out of sample) data.\n",
    "</div>"
   ]
  },
  {
   "cell_type": "markdown",
   "id": "5b1baece",
   "metadata": {},
   "source": [
    "## 3. Logistic Regression Classifier "
   ]
  },
  {
   "cell_type": "code",
   "execution_count": 10,
   "metadata": {},
   "outputs": [
    {
     "data": {
      "text/html": [
       "<div><div id=197518fc-4768-40aa-964a-77a7618298a4 style=\"display:none; background-color:#9D6CFF; color:white; width:200px; height:30px; padding-left:5px; border-radius:4px; flex-direction:row; justify-content:space-around; align-items:center;\" onmouseover=\"this.style.backgroundColor='#BA9BF8'\" onmouseout=\"this.style.backgroundColor='#9D6CFF'\" onclick=\"window.commands?.execute('create-mitosheet-from-dataframe-output');\">See Full Dataframe in Mito</div> <script> if (window.commands?.hasCommand('create-mitosheet-from-dataframe-output')) document.getElementById('197518fc-4768-40aa-964a-77a7618298a4').style.display = 'flex' </script> <table border=\"1\" class=\"dataframe\">\n",
       "  <thead>\n",
       "    <tr style=\"text-align: right;\">\n",
       "      <th></th>\n",
       "      <th>c_values</th>\n",
       "      <th>training_accuracy</th>\n",
       "      <th>validate_accuracy</th>\n",
       "      <th>train_val_diff</th>\n",
       "    </tr>\n",
       "  </thead>\n",
       "  <tbody>\n",
       "    <tr>\n",
       "      <th>0</th>\n",
       "      <td>1</td>\n",
       "      <td>0.575107</td>\n",
       "      <td>0.376238</td>\n",
       "      <td>0.19887</td>\n",
       "    </tr>\n",
       "  </tbody>\n",
       "</table></div>"
      ],
      "text/plain": [
       "   c_values  training_accuracy  validate_accuracy  train_val_diff\n",
       "0         1           0.575107           0.376238         0.19887"
      ]
     },
     "execution_count": 10,
     "metadata": {},
     "output_type": "execute_result"
    }
   ],
   "source": [
    "util.LRC_model_and_df(X_train, y_train, X_validate, y_validate)"
   ]
  },
  {
   "cell_type": "markdown",
   "id": "e4ca726c",
   "metadata": {},
   "source": [
    "<div class=\"alert alert-block alert-warning\"> \n",
    "    <b>Logistic Regression Classifier Takeaways:</b>\n",
    "    <br>\n",
    "1. the best performing model had the following features:\n",
    "    <br>\n",
    "    a. c_value of 1\n",
    "    <br>\n",
    "    b. predictive classification accuracy of <b>37.6%</b> on validate (out of sample) data.\n",
    "</div>"
   ]
  },
  {
   "cell_type": "markdown",
   "id": "0d611171",
   "metadata": {},
   "source": [
    "# 3. Key Findings and Recommendations\n",
    "<hr style=\"border-top: 10px groove blue; margin-top: 1px; margin-bottom: 1px\">"
   ]
  },
  {
   "cell_type": "markdown",
   "id": "43f8ea4e",
   "metadata": {},
   "source": [
    "<h3> Takeaways </h3>\n",
    "<hr style=\"border-top: 5px groove limegreen; margin-top: 1px; margin-bottom: 1px\">\n",
    "<h4> 1. The best perfoming classifier was a Decision Tree Classifier with a max depth value of 10 </h4>\n",
    "    \n",
    "<h4>2. The final DTC model performed with a prediction accuracy of 40% on test data </h4>\n",
    " This is higher than initial performance on validate data. While this is a generally good indicator, more refinement is needed on this model before I can recommend it for deployment as a predictive."
   ]
  },
  {
   "cell_type": "markdown",
   "id": "ce428152",
   "metadata": {},
   "source": [
    "<h2> Recommendations </h2>\n",
    "<br>\n",
    "<hr style=\"border-top: 5px groove limegreen; margin-top: 1px; margin-bottom: 1px\">\n",
    "\n",
    "<b> 1. Moving Forward: recommendations to improve the model</b>\n",
    "    The best performing model achieved an accruacy of ~40%. Future models will benefit from the addtion of bigram and trigram analysis in the README corpus, and also from removing words that are common to all repos - this would reduce the noise in the data set.\n"
   ]
  }
 ],
 "metadata": {
  "kernelspec": {
   "display_name": "Python 3.9.7 ('base')",
   "language": "python",
   "name": "python3"
  },
  "language_info": {
   "codemirror_mode": {
    "name": "ipython",
    "version": 3
   },
   "file_extension": ".py",
   "mimetype": "text/x-python",
   "name": "python",
   "nbconvert_exporter": "python",
   "pygments_lexer": "ipython3",
   "version": "3.9.7"
  },
  "orig_nbformat": 4,
  "vscode": {
   "interpreter": {
    "hash": "38cca0c38332a56087b24af0bc80247f4fced29cb4f7f437d91dc159adec9c4e"
   }
  }
 },
 "nbformat": 4,
 "nbformat_minor": 2
}

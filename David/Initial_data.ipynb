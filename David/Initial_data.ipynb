{
 "cells": [
  {
   "cell_type": "code",
   "execution_count": 8,
   "id": "5f8485fd",
   "metadata": {},
   "outputs": [],
   "source": [
    "import requests\n",
    "from requests import get\n",
    "from bs4 import BeautifulSoup\n",
    "from env import github_token, github_username\n",
    "import acquire\n",
    "import app\n",
    "import os\n",
    "\n"
   ]
  },
  {
   "cell_type": "code",
   "execution_count": 2,
   "id": "e0f48e49",
   "metadata": {},
   "outputs": [
    {
     "name": "stdout",
     "output_type": "stream",
     "text": [
      "No Error\n"
     ]
    }
   ],
   "source": [
    "url_to_call = 'https://github.com/search?p=1&q=Poker&type=Repositories'\n",
    "response = requests.get(url_to_call, headers = {\"Authorization\": f\"token {github_token}\", \"User-Agent\": github_username})\n",
    "response_code = response.status_code\n",
    "if response_code != 400:\n",
    "    print('No Error')\n",
    "\n"
   ]
  },
  {
   "cell_type": "code",
   "execution_count": 3,
   "id": "f9c20a27",
   "metadata": {},
   "outputs": [],
   "source": [
    "html_content = response.content\n",
    "soup = BeautifulSoup(html_content, 'html.parser')"
   ]
  },
  {
   "cell_type": "code",
   "execution_count": 4,
   "id": "59b13d9a",
   "metadata": {},
   "outputs": [
    {
     "data": {
      "text/plain": [
       "[<a class=\"v-align-middle\" data-hydro-click='{\"event_type\":\"search_result.click\",\"payload\":{\"page_number\":1,\"per_page\":10,\"query\":\"Poker\",\"result_position\":1,\"click_id\":55018634,\"result\":{\"id\":55018634,\"global_relay_id\":\"MDEwOlJlcG9zaXRvcnk1NTAxODYzNA==\",\"model_name\":\"Repository\",\"url\":\"https://github.com/dickreuter/Poker\"},\"originating_url\":\"https://github.com/search?p=1&amp;q=Poker&amp;type=Repositories\",\"user_id\":null}}' data-hydro-click-hmac=\"6d8bbedf46a3f75fddcee2b3de9adcfcb0386625fdac0e47d2c2d66c9e89945e\" href=\"/dickreuter/Poker\">dickreuter/<em>Poker</em></a>,\n",
       " <a class=\"v-align-middle\" data-hydro-click='{\"event_type\":\"search_result.click\",\"payload\":{\"page_number\":1,\"per_page\":10,\"query\":\"Poker\",\"result_position\":2,\"click_id\":11211886,\"result\":{\"id\":11211886,\"global_relay_id\":\"MDEwOlJlcG9zaXRvcnkxMTIxMTg4Ng==\",\"model_name\":\"Repository\",\"url\":\"https://github.com/pret/pokered\"},\"originating_url\":\"https://github.com/search?p=1&amp;q=Poker&amp;type=Repositories\",\"user_id\":null}}' data-hydro-click-hmac=\"e3c65764d3833b2cad6065a3650044d74ddbbd49d700465f4f73cdcc2168a0ed\" href=\"/pret/pokered\">pret/<em>pokered</em></a>,\n",
       " <a class=\"v-align-middle\" data-hydro-click='{\"event_type\":\"search_result.click\",\"payload\":{\"page_number\":1,\"per_page\":10,\"query\":\"Poker\",\"result_position\":3,\"click_id\":60441516,\"result\":{\"id\":60441516,\"global_relay_id\":\"MDEwOlJlcG9zaXRvcnk2MDQ0MTUxNg==\",\"model_name\":\"Repository\",\"url\":\"https://github.com/ishikota/PyPokerEngine\"},\"originating_url\":\"https://github.com/search?p=1&amp;q=Poker&amp;type=Repositories\",\"user_id\":null}}' data-hydro-click-hmac=\"40c3721fd55255dc4176c0586159b2ea16f557af90eda9c8168d06fdbe2440ce\" href=\"/ishikota/PyPokerEngine\">ishikota/Py<em>Poker</em>Engine</a>,\n",
       " <a class=\"v-align-middle\" data-hydro-click='{\"event_type\":\"search_result.click\",\"payload\":{\"page_number\":1,\"per_page\":10,\"query\":\"Poker\",\"result_position\":4,\"click_id\":9687103,\"result\":{\"id\":9687103,\"global_relay_id\":\"MDEwOlJlcG9zaXRvcnk5Njg3MTAz\",\"model_name\":\"Repository\",\"url\":\"https://github.com/andrewprock/pokerstove\"},\"originating_url\":\"https://github.com/search?p=1&amp;q=Poker&amp;type=Repositories\",\"user_id\":null}}' data-hydro-click-hmac=\"0dc909e334a0f019845016e9736763a3a8b71515e23510cf31f2102df53825c4\" href=\"/andrewprock/pokerstove\">andrewprock/<em>pokerstove</em></a>,\n",
       " <a class=\"v-align-middle\" data-hydro-click='{\"event_type\":\"search_result.click\",\"payload\":{\"page_number\":1,\"per_page\":10,\"query\":\"Poker\",\"result_position\":5,\"click_id\":24036336,\"result\":{\"id\":24036336,\"global_relay_id\":\"MDEwOlJlcG9zaXRvcnkyNDAzNjMzNg==\",\"model_name\":\"Repository\",\"url\":\"https://github.com/pokerregion/poker\"},\"originating_url\":\"https://github.com/search?p=1&amp;q=Poker&amp;type=Repositories\",\"user_id\":null}}' data-hydro-click-hmac=\"7b992555d7f82b14c0746223db49cfd78b2563143cbbc8726cc3b9194c2b4ddf\" href=\"/pokerregion/poker\">pokerregion/<em>poker</em></a>,\n",
       " <a class=\"v-align-middle\" data-hydro-click='{\"event_type\":\"search_result.click\",\"payload\":{\"page_number\":1,\"per_page\":10,\"query\":\"Poker\",\"result_position\":6,\"click_id\":14155066,\"result\":{\"id\":14155066,\"global_relay_id\":\"MDEwOlJlcG9zaXRvcnkxNDE1NTA2Ng==\",\"model_name\":\"Repository\",\"url\":\"https://github.com/geobalas/Poker\"},\"originating_url\":\"https://github.com/search?p=1&amp;q=Poker&amp;type=Repositories\",\"user_id\":null}}' data-hydro-click-hmac=\"04395c67b3d280d1e54b83c6f7e5389d8a946c2790a9b3a1a577692ba5dfb1d7\" href=\"/geobalas/Poker\">geobalas/<em>Poker</em></a>,\n",
       " <a class=\"v-align-middle\" data-hydro-click='{\"event_type\":\"search_result.click\",\"payload\":{\"page_number\":1,\"per_page\":10,\"query\":\"Poker\",\"result_position\":7,\"click_id\":50256891,\"result\":{\"id\":50256891,\"global_relay_id\":\"MDEwOlJlcG9zaXRvcnk1MDI1Njg5MQ==\",\"model_name\":\"Repository\",\"url\":\"https://github.com/pret/pokeruby\"},\"originating_url\":\"https://github.com/search?p=1&amp;q=Poker&amp;type=Repositories\",\"user_id\":null}}' data-hydro-click-hmac=\"38e12d6230fd64976f28dd00b0dfe01facbd1a01a2f1d1fba3d4f26503dd1153\" href=\"/pret/pokeruby\">pret/<em>pokeruby</em></a>,\n",
       " <a class=\"v-align-middle\" data-hydro-click='{\"event_type\":\"search_result.click\",\"payload\":{\"page_number\":1,\"per_page\":10,\"query\":\"Poker\",\"result_position\":8,\"click_id\":233256635,\"result\":{\"id\":233256635,\"global_relay_id\":\"MDEwOlJlcG9zaXRvcnkyMzMyNTY2MzU=\",\"model_name\":\"Repository\",\"url\":\"https://github.com/fedden/poker_ai\"},\"originating_url\":\"https://github.com/search?p=1&amp;q=Poker&amp;type=Repositories\",\"user_id\":null}}' data-hydro-click-hmac=\"220b39d59dba96c9dd79c7c4e4dea99c91e6873cf17010331ac14250f602071d\" href=\"/fedden/poker_ai\">fedden/<em>poker</em>_ai</a>,\n",
       " <a class=\"v-align-middle\" data-hydro-click='{\"event_type\":\"search_result.click\",\"payload\":{\"page_number\":1,\"per_page\":10,\"query\":\"Poker\",\"result_position\":9,\"click_id\":4288453,\"result\":{\"id\":4288453,\"global_relay_id\":\"MDEwOlJlcG9zaXRvcnk0Mjg4NDUz\",\"model_name\":\"Repository\",\"url\":\"https://github.com/pokerth/pokerth\"},\"originating_url\":\"https://github.com/search?p=1&amp;q=Poker&amp;type=Repositories\",\"user_id\":null}}' data-hydro-click-hmac=\"d4bd48e371f06604f280ec6ba39586e6895d10b200d211a222acd792d73f2d7e\" href=\"/pokerth/pokerth\">pokerth/<em>pokerth</em></a>,\n",
       " <a class=\"v-align-middle\" data-hydro-click='{\"event_type\":\"search_result.click\",\"payload\":{\"page_number\":1,\"per_page\":10,\"query\":\"Poker\",\"result_position\":10,\"click_id\":34187618,\"result\":{\"id\":34187618,\"global_relay_id\":\"MDEwOlJlcG9zaXRvcnkzNDE4NzYxOA==\",\"model_name\":\"Repository\",\"url\":\"https://github.com/CharlieHess/slack-poker-bot\"},\"originating_url\":\"https://github.com/search?p=1&amp;q=Poker&amp;type=Repositories\",\"user_id\":null}}' data-hydro-click-hmac=\"c647942a34c9c0dcd70eb6594ca9d0ea019d65e19d253aefc460af871e5f6ef7\" href=\"/CharlieHess/slack-poker-bot\">CharlieHess/slack-<em>poker</em>-bot</a>]"
      ]
     },
     "execution_count": 4,
     "metadata": {},
     "output_type": "execute_result"
    }
   ],
   "source": [
    "\n",
    "soup.find_all('a',class_='v-align-middle')"
   ]
  },
  {
   "cell_type": "code",
   "execution_count": 5,
   "id": "a96d7b46",
   "metadata": {},
   "outputs": [
    {
     "data": {
      "text/plain": [
       "'dickreuter/Poker'"
      ]
     },
     "execution_count": 5,
     "metadata": {},
     "output_type": "execute_result"
    }
   ],
   "source": [
    "soup.find_all('a',class_='v-align-middle')[0].text"
   ]
  },
  {
   "cell_type": "code",
   "execution_count": 6,
   "id": "094057a0",
   "metadata": {},
   "outputs": [
    {
     "data": {
      "text/plain": [
       "['dickreuter/Poker',\n",
       " 'pret/pokered',\n",
       " 'ishikota/PyPokerEngine',\n",
       " 'andrewprock/pokerstove',\n",
       " 'pokerregion/poker',\n",
       " 'geobalas/Poker',\n",
       " 'pret/pokeruby',\n",
       " 'fedden/poker_ai',\n",
       " 'pokerth/pokerth',\n",
       " 'CharlieHess/slack-poker-bot']"
      ]
     },
     "execution_count": 6,
     "metadata": {},
     "output_type": "execute_result"
    }
   ],
   "source": [
    "repos=[a.text for a in soup.find_all('a',class_='v-align-middle')]\n",
    "repos"
   ]
  },
  {
   "cell_type": "code",
   "execution_count": 9,
   "id": "bbc1f0e6",
   "metadata": {},
   "outputs": [
    {
     "ename": "AttributeError",
     "evalue": "module 'acquire' has no attribute 'get_repos'",
     "output_type": "error",
     "traceback": [
      "\u001b[0;31m---------------------------------------------------------------------------\u001b[0m",
      "\u001b[0;31mAttributeError\u001b[0m                            Traceback (most recent call last)",
      "\u001b[0;32m/var/folders/vb/2f5pphz943qdprdg5zvhqsbm0000gp/T/ipykernel_39318/4185799653.py\u001b[0m in \u001b[0;36m<module>\u001b[0;34m\u001b[0m\n\u001b[0;32m----> 1\u001b[0;31m \u001b[0msaved_repos\u001b[0m \u001b[0;34m=\u001b[0m \u001b[0macquire\u001b[0m\u001b[0;34m.\u001b[0m\u001b[0mget_repos\u001b[0m\u001b[0;34m(\u001b[0m\u001b[0mn\u001b[0m\u001b[0;34m)\u001b[0m\u001b[0;34m\u001b[0m\u001b[0;34m\u001b[0m\u001b[0m\n\u001b[0m",
      "\u001b[0;31mAttributeError\u001b[0m: module 'acquire' has no attribute 'get_repos'"
     ]
    }
   ],
   "source": [
    "saved_repos = acquire.get_repos(n)"
   ]
  },
  {
   "cell_type": "code",
   "execution_count": null,
   "id": "d3c221d7",
   "metadata": {},
   "outputs": [],
   "source": []
  }
 ],
 "metadata": {
  "kernelspec": {
   "display_name": "Python 3 (ipykernel)",
   "language": "python",
   "name": "python3"
  },
  "language_info": {
   "codemirror_mode": {
    "name": "ipython",
    "version": 3
   },
   "file_extension": ".py",
   "mimetype": "text/x-python",
   "name": "python",
   "nbconvert_exporter": "python",
   "pygments_lexer": "ipython3",
   "version": "3.9.7"
  }
 },
 "nbformat": 4,
 "nbformat_minor": 5
}

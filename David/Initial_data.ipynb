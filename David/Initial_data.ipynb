{
 "cells": [
  {
   "cell_type": "code",
   "execution_count": null,
   "id": "89fe4ff4",
   "metadata": {},
   "outputs": [
    {
     "name": "stdout",
     "output_type": "stream",
     "text": [
      "Fetching page 16 of 99 https://github.com/search?p=16&q=poker&type=Repositories"
     ]
    }
   ],
   "source": [
    "import requests\n",
    "from requests import get\n",
    "from bs4 import BeautifulSoup\n",
    "from env import github_token, github_username\n",
    "import acquire\n",
    "import app\n",
    "import os\n",
    "\n"
   ]
  },
  {
   "cell_type": "code",
   "execution_count": null,
   "id": "58787106",
   "metadata": {},
   "outputs": [],
   "source": [
    "url_to_call = 'https://github.com/search?p=1&q=Poker&type=Repositories'\n",
    "response = requests.get(url_to_call, headers = {\"Authorization\": f\"token {github_token}\", \"User-Agent\": github_username})\n",
    "response_code = response.status_code\n",
    "if response_code != 400:\n",
    "    print('No Error')\n",
    "\n"
   ]
  },
  {
   "cell_type": "code",
   "execution_count": null,
   "id": "1da9d063",
   "metadata": {},
   "outputs": [],
   "source": [
    "html_content = response.content\n",
    "soup = BeautifulSoup(html_content, 'html.parser')"
   ]
  },
  {
   "cell_type": "code",
   "execution_count": null,
   "id": "d3912c71",
   "metadata": {},
   "outputs": [],
   "source": [
    "\n",
    "soup.find_all('a',class_='v-align-middle')"
   ]
  },
  {
   "cell_type": "code",
   "execution_count": null,
   "id": "d2255f51",
   "metadata": {},
   "outputs": [],
   "source": [
    "soup.find_all('a',class_='v-align-middle')[0].text"
   ]
  },
  {
   "cell_type": "code",
   "execution_count": null,
   "id": "fdd8c7a5",
   "metadata": {},
   "outputs": [],
   "source": [
    "repos=[a.text for a in soup.find_all('a',class_='v-align-middle')]\n",
    "repos"
   ]
  },
  {
   "cell_type": "code",
   "execution_count": null,
   "id": "19bd4be9",
   "metadata": {},
   "outputs": [],
   "source": [
    "saved_repos = acquire.get_repos(51)"
   ]
  },
  {
   "cell_type": "code",
   "execution_count": null,
   "id": "169a78c7",
   "metadata": {},
   "outputs": [],
   "source": []
  }
 ],
 "metadata": {
  "kernelspec": {
   "display_name": "Python 3 (ipykernel)",
   "language": "python",
   "name": "python3"
  },
  "language_info": {
   "codemirror_mode": {
    "name": "ipython",
    "version": 3
   },
   "file_extension": ".py",
   "mimetype": "text/x-python",
   "name": "python",
   "nbconvert_exporter": "python",
   "pygments_lexer": "ipython3",
   "version": "3.9.7"
  }
 },
 "nbformat": 4,
 "nbformat_minor": 5
}
